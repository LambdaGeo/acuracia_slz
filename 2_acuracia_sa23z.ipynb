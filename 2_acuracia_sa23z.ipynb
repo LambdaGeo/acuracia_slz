{
 "cells": [
  {
   "cell_type": "markdown",
   "metadata": {},
   "source": [
    "# Avaliação de desempenho"
   ]
  },
  {
   "cell_type": "markdown",
   "metadata": {
    "vscode": {
     "languageId": "plaintext"
    }
   },
   "source": [
    "## Imports"
   ]
  },
  {
   "cell_type": "code",
   "execution_count": 8,
   "metadata": {},
   "outputs": [],
   "source": [
    "import pandas as pd\n",
    "import numpy as np\n",
    "import json\n"
   ]
  },
  {
   "cell_type": "markdown",
   "metadata": {},
   "source": [
    "## Parâmetros e configurações"
   ]
  },
  {
   "cell_type": "code",
   "execution_count": 76,
   "metadata": {},
   "outputs": [],
   "source": [
    "level = 'l2'\n",
    "path_acc = 'dados/sa23z_acc_mapbiomas_80_2022.csv'\n",
    "path_class_settings = 'dados/config_classes.json'\n",
    "path_strata = 'dados/strata.csv'"
   ]
  },
  {
   "cell_type": "code",
   "execution_count": 77,
   "metadata": {},
   "outputs": [],
   "source": [
    "def saveHTML(df_style):\n",
    "    file = open ('tmp/saida.html','w')\n",
    "    file.write(df_style.to_html())\n",
    "    file.close()"
   ]
  },
  {
   "cell_type": "markdown",
   "metadata": {},
   "source": [
    "as classes ignoradas originalmente no repositorio [0, 31, 32, 30, 25, 23, 5, 29]"
   ]
  },
  {
   "cell_type": "code",
   "execution_count": 78,
   "metadata": {},
   "outputs": [],
   "source": [
    "IGNORED_CLASSES = [0,6,9,25,32, 50]\n",
    "#IGNORED_CLASSES = [0]\n",
    "ALL_CLASSES = {\n",
    "    0: {\n",
    "        \"l1_val\": 0,\n",
    "        \"l1\": \"6. Não Observado\",\n",
    "        \"l2_val\": 0,\n",
    "        \"l2\": \"6. Não Observado\",\n",
    "        \"l3_val\": 0,\n",
    "        \"l3\": \"6. Não Observado\"\n",
    "    },\n",
    "    3: {\n",
    "        \"l1_val\": 1,\n",
    "        \"l1\": \"1. Floresta\",\n",
    "        \"l2_val\": 3,\n",
    "        \"l2\": \"1.1. Formação Florestal\",\n",
    "        \"l3_val\": 3,\n",
    "        \"l3\": \"1.1. Formação Florestal\"\n",
    "    },\n",
    "    4: {\n",
    "        \"l1_val\": 1,\n",
    "        \"l1\": \"1. Floresta\",\n",
    "        \"l2_val\": 4,\n",
    "        \"l2\": \"1.2. Formação Savânica\",\n",
    "        \"l3_val\": 4,\n",
    "        \"l3\": \"1.2. Formação Savânica\"\n",
    "    },\n",
    "    5: {\n",
    "        \"l1_val\": 1,\n",
    "        \"l1\": \"1. Floresta\",\n",
    "        \"l2_val\": 5,\n",
    "        \"l2\": \"1.3. Mangue\",\n",
    "        \"l3_val\": 5,\n",
    "        \"l3\": \"1.3. Mangue\"\n",
    "    },\n",
    "    6: {\"l1_val\": 1, \"l1\": \"1. Floresta\", \"l2_val\": 6, \"l2\": \"1.4. Floresta Alagável (beta)\", \"l3_val\": 6, \"l3\": \"1.4. Floresta Alagável (beta)\"},\n",
    "    9: {\n",
    "        \"l1_val\": 14,\n",
    "        \"l1\": \"3. Agropecuária\",\n",
    "        \"l2_val\": 9,\n",
    "        \"l2\": \"3.3. Floresta Plantada\",\n",
    "        \"l3_val\": 9,\n",
    "        \"l3\": \"3.3. Floresta Plantada\"\n",
    "    },\n",
    "    11: {\n",
    "        \"l1_val\": 10,\n",
    "        \"l1\": \"2. Formação Natural não Florestal\",\n",
    "        \"l2_val\": 11,\n",
    "        \"l2\": \"2.1. Campo Alagado e Área Pantanosa\",\n",
    "        \"l3_val\": 11,\n",
    "        \"l3\": \"2.1. Campo Alagado e Área Pantanosa\"\n",
    "    },\n",
    "    12: {\n",
    "        \"l1_val\": 10,\n",
    "        \"l1\": \"2. Formação Natural não Florestal\",\n",
    "        \"l2_val\": 12,\n",
    "        \"l2\": \"2.2. Formação Campestre (Campo)\",\n",
    "        \"l3_val\": 12,\n",
    "        \"l3\": \"2.2. Formação Campestre (Campo)\"\n",
    "    },\n",
    "    13: {\n",
    "        \"l1_val\": 10,\n",
    "        \"l1\": \"2. Formação Natural não Florestal\",\n",
    "        \"l2_val\": 13,\n",
    "        \"l2\": \"2.6. Outra Formação não Florestal\",\n",
    "        \"l3_val\": 13,\n",
    "        \"l3\": \"2.6. Outra Formação não Florestal\"\n",
    "    },\n",
    "    15: {\n",
    "        \"l1_val\": 14,\n",
    "        \"l1\": \"3. Agropecuária\",\n",
    "        \"l2_val\": 15,\n",
    "        \"l2\": \"3.1. Pastagem\",\n",
    "        \"l3_val\": 15,\n",
    "        \"l3\": \"3.1. Pastagem\"\n",
    "    },\n",
    "    19: {\n",
    "        \"l1_val\": 14,\n",
    "        \"l1\": \"3. Agropecuária\",\n",
    "        \"l2_val\": 18,\n",
    "        \"l2\": \"3.2. Agricultura\",\n",
    "        \"l3_val\": 19,\n",
    "        \"l3\": \"3.2.1. Lavoura Temporária\"\n",
    "    },\n",
    "   \n",
    "    20: { \n",
    "        \"l1_val\": 14,\n",
    "        \"l1\": \"3. Agropecuária\",\n",
    "        \"l2_val\": 18,\n",
    "        \"l2\": \"3.2. Agricultura\",\n",
    "        \"l3_val\": 19,\n",
    "        \"l3\": \"3.2.1. Lavoura Temporária\"\n",
    "    },\n",
    "    21: {\n",
    "        \"l1_val\": 14,\n",
    "        \"l1\": \"3. Agropecuária\",\n",
    "        \"l2_val\": 21,\n",
    "        \"l2\": \"3.4. Mosaico de Usos\",\n",
    "        \"l3_val\": 21,\n",
    "        \"l3\": \"3.4. Mosaico de Usos\"\n",
    "    },\n",
    "    23: {\n",
    "        \"l1_val\": 22,\n",
    "        \"l1\": \"4. Área não Vegetada\",\n",
    "        \"l2_val\": 23,\n",
    "        \"l2\": \"4.1. Praia e Duna\",\n",
    "        \"l3_val\": 23,\n",
    "        \"l3\": \"4.1. Praia e Duna\"\n",
    "    },\n",
    "    24: {\n",
    "        \"l1_val\": 22,\n",
    "        \"l1\": \"4. Área não Vegetada\",\n",
    "        \"l2_val\": 24,\n",
    "        \"l2\": \"4.2. Infraestrutura Urbana\",\n",
    "        \"l3_val\": 24,\n",
    "        \"l3\": \"4.2. Infraestrutura Urbana\"\n",
    "    },\n",
    "    25: {\n",
    "        \"l1_val\": 22,\n",
    "        \"l1\": \"4. Área não Vegetada\",\n",
    "        \"l2_val\": 25,\n",
    "        \"l2\": \"4.4. Outra Área não Vegetada\",\n",
    "        \"l3_val\": 25,\n",
    "        \"l3\": \"4.4. Outra Área não Vegetada\"\n",
    "    },\n",
    "    29: {\n",
    "        \"l1_val\": 10,\n",
    "        \"l1\": \"2. Formação Natural não Florestal\",\n",
    "        \"l2_val\": 29,\n",
    "        \"l2\": \"2.4. Afloramento Rochoso\",\n",
    "        \"l3_val\": 29,\n",
    "        \"l3\": \"2.4. Afloramento Rochoso\"\n",
    "    },\n",
    "    30: {\n",
    "        \"l1_val\": 22,\n",
    "        \"l1\": \"4. Área não Vegetada\",\n",
    "        \"l2_val\": 30,\n",
    "        \"l2\": \"4.3. Mineração\",\n",
    "        \"l3_val\": 30,\n",
    "        \"l3\": \"4.3. Mineração\"\n",
    "    },\n",
    "    31: {\n",
    "        \"l1_val\": 26,\n",
    "        \"l1\": \"5. Corpo D'água\",\n",
    "        \"l2_val\": 63,\n",
    "        \"l2\": \"5.2. Corpos D'Água Artificiais\",\n",
    "        \"l3_val\": 31,\n",
    "        \"l3\": \"5.2. Aquicultura\"\n",
    "    },\n",
    "    32: {\n",
    "        \"l1_val\": 10,\n",
    "        \"l1\": \"2. Formação Natural não Florestal\",\n",
    "        \"l2_val\": 32,\n",
    "        \"l2\": \"2.3. Apicum\",\n",
    "        \"l3_val\": 32,\n",
    "        \"l3\": \"2.3. Apicum\"\n",
    "    },\n",
    "    33: {\n",
    "        \"l1_val\": 26,\n",
    "        \"l1\": \"5. Corpo D'água\",\n",
    "        \"l2_val\": 33,\n",
    "        \"l2\": \"5.1. Rio, Lago e Oceano\",\n",
    "        \"l3_val\": 33,\n",
    "        \"l3\": \"5.1. Rio, Lago e Oceano\"\n",
    "    },\n",
    "    36: {\n",
    "        \"l1_val\": 14,\n",
    "        \"l1\": \"3. Agropecuária\",\n",
    "        \"l2_val\": 18,\n",
    "        \"l2\": \"3.2. Agricultura\",\n",
    "        \"l3_val\": 36,\n",
    "        \"l3\": \"3.2.2. Lavoura Perene\"\n",
    "    },\n",
    "    39: {\n",
    "        \"l1_val\": 14,\n",
    "        \"l1\": \"3. Agropecuária\",\n",
    "        \"l2_val\": 18,\n",
    "        \"l2\": \"3.2. Agricultura\",\n",
    "        \"l3_val\": 19,\n",
    "        \"l3\": \"3.2.1. Lavoura Temporária\",\n",
    "        #\"l4_val\": 39,\n",
    "        #\"l4\": \"3.2.2.1. Soja\"\n",
    "    },\n",
    "    40: {\n",
    "        \"l1_val\": 14,\n",
    "        \"l1\": \"3. Agropecuária\",\n",
    "        \"l2_val\": 18,\n",
    "        \"l2\": \"3.2. Agricultura\",\n",
    "        \"l3_val\": 19,\n",
    "        \"l3\": \"3.2.1. Lavoura Temporária\",\n",
    "        #\"l4_val\": 40,\n",
    "        #\"l4\": \"3.2.2.3. Arroz\"\n",
    "    },\n",
    "    41: {\n",
    "        \"l1_val\": 14,\n",
    "        \"l1\": \"3. Agropecuária\",\n",
    "        \"l2_val\": 18,\n",
    "        \"l2\": \"3.2. Agricultura\",\n",
    "        \"l3_val\": 19,\n",
    "        \"l3\": \"3.2.1. Lavoura Temporária\",\n",
    "        #\"l4_val\": 41,\n",
    "        #\"l4\": \"3.2.1.3. Outras Lavouras Temporárias\"\n",
    "    },\n",
    "    46: {\n",
    "        \"l1_val\": 14,\n",
    "        \"l1\": \"3. Agropecuária\",\n",
    "        \"l2_val\": 18,\n",
    "        \"l2\": \"3.2. Agricultura\",\n",
    "        \"l3_val\": 19,\n",
    "        \"l3\": \"3.2.1. Lavoura Temporária\",\n",
    "        #\"l4_val\": 46,\n",
    "        #\"l4\": \"3.2.1.1. Café\"\n",
    "    },\n",
    "    47: {\n",
    "        \"l1_val\": 14,\n",
    "        \"l1\": \"3. Agropecuária\",\n",
    "        \"l2_val\": 18,\n",
    "        \"l2\": \"3.2. Agricultura\",\n",
    "        \"l3_val\": 19,\n",
    "        \"l3\": \"3.2.1. Lavoura Temporária\",\n",
    "        #\"l4_val\": 47,\n",
    "        #\"l4\": \"3.2.1.2. Citrus\"\n",
    "    },\n",
    "    48: {\n",
    "        \"l1_val\": 14,\n",
    "        \"l1\": \"3. Agropecuária\",\n",
    "        \"l2_val\": 18,\n",
    "        \"l2\": \"3.2. Agricultura\",\n",
    "        \"l3_val\": 19,\n",
    "        \"l3\": \"3.2.1. Lavoura Temporária\",\n",
    "        #\"l4_val\": 48,\n",
    "        #\"l4\": \" 3.2.2.3. Outras Lavoura Perene\"\n",
    "    },\n",
    "    49: {\n",
    "        \"l1_val\": 1,\n",
    "        \"l1\": \"1. Floresta\",\n",
    "        \"l2_val\": 2,\n",
    "        \"l2\": \"1.4. Restinga Florestal\",\n",
    "        \"l3_val\": 49,\n",
    "        \"l3\": \"1.4. Restinga Florestal\"\n",
    "    },\n",
    "    50: {\n",
    "        \"l1_val\": 10,\n",
    "        \"l1\": \"2. Formação Natural não Florestal\",\n",
    "        \"l2_val\": 50,\n",
    "        \"l2\": \"2.5. Restinga Herbácea/Arbustiva\",\n",
    "        \"l3_val\": 50,\n",
    "        \"l3\": \"2.5. Restinga Herbácea/Arbustiva\"\n",
    "    },\n",
    "    62: {\n",
    "        \"l1_val\": 14,\n",
    "        \"l1\": \"3. Agropecuária\",\n",
    "        \"l2_val\": 18,\n",
    "        \"l2\": \"3.2. Agricultura\",\n",
    "        \"l3_val\": 19,\n",
    "        \"l3\": \"3.2.1. Lavoura Temporária\",\n",
    "        #\"l4_val\": 62,\n",
    "        #\"l4\": \"3.2.1.4. Algodão (beta)\"\n",
    "    },\n",
    "    63: {\n",
    "        \"l1_val\": 26,\n",
    "        \"l1\": \"5. Corpo D'água\",\n",
    "        \"l2_val\": 63,\n",
    "        \"l2\": \"5.2. Corpos D'Água Artificiais\",\n",
    "        \"l3_val\": 63,\n",
    "        \"l3\": \"5.2. Corpos D'Água Artificiais\"\n",
    "    },\n",
    "}"
   ]
  },
  {
   "cell_type": "markdown",
   "metadata": {},
   "source": [
    "## Entrada de dados"
   ]
  },
  {
   "cell_type": "markdown",
   "metadata": {},
   "source": [
    "Arquivo com os dados de classificação e os dados de referencia de 2022, gerado no google earth engine:\n",
    "\n",
    "https://code.earthengine.google.com/365963f4785378c21da4b24fa43061fb\n",
    "\n",
    "so adicionado como limite o grupode de cartas SA-23-Z"
   ]
  },
  {
   "cell_type": "code",
   "execution_count": 79,
   "metadata": {},
   "outputs": [
    {
     "data": {
      "text/html": [
       "<div>\n",
       "<style scoped>\n",
       "    .dataframe tbody tr th:only-of-type {\n",
       "        vertical-align: middle;\n",
       "    }\n",
       "\n",
       "    .dataframe tbody tr th {\n",
       "        vertical-align: top;\n",
       "    }\n",
       "\n",
       "    .dataframe thead th {\n",
       "        text-align: right;\n",
       "    }\n",
       "</style>\n",
       "<table border=\"1\" class=\"dataframe\">\n",
       "  <thead>\n",
       "    <tr style=\"text-align: right;\">\n",
       "      <th></th>\n",
       "      <th>system:index</th>\n",
       "      <th>AMOSTRAS</th>\n",
       "      <th>AMOSTRA_AM</th>\n",
       "      <th>BioNB</th>\n",
       "      <th>CARTA_2</th>\n",
       "      <th>CLASS_2022</th>\n",
       "      <th>DECLIVIDAD</th>\n",
       "      <th>LAT</th>\n",
       "      <th>LON</th>\n",
       "      <th>NEW_PROB</th>\n",
       "      <th>NEW_WEIGHT</th>\n",
       "      <th>PESO_VOT</th>\n",
       "      <th>PROB_AMOS2</th>\n",
       "      <th>StateNB</th>\n",
       "      <th>TARGETID</th>\n",
       "      <th>VAL_PESO</th>\n",
       "      <th>classification</th>\n",
       "      <th>reference</th>\n",
       "      <th>year</th>\n",
       "      <th>.geo</th>\n",
       "    </tr>\n",
       "  </thead>\n",
       "  <tbody>\n",
       "    <tr>\n",
       "      <th>0</th>\n",
       "      <td>0000000000000000508d_0</td>\n",
       "      <td>NaN</td>\n",
       "      <td>0</td>\n",
       "      <td>1</td>\n",
       "      <td>SA-23-Z</td>\n",
       "      <td>APICUM</td>\n",
       "      <td>D2</td>\n",
       "      <td>-2.368226</td>\n",
       "      <td>-43.544883</td>\n",
       "      <td>0.000011</td>\n",
       "      <td>55301.697925</td>\n",
       "      <td>0.000014</td>\n",
       "      <td>0.000014</td>\n",
       "      <td>21.0</td>\n",
       "      <td>12037</td>\n",
       "      <td>1.0</td>\n",
       "      <td>3</td>\n",
       "      <td>32</td>\n",
       "      <td>2022</td>\n",
       "      <td>{\"type\":\"MultiPoint\",\"coordinates\":[]}</td>\n",
       "    </tr>\n",
       "    <tr>\n",
       "      <th>1</th>\n",
       "      <td>00000000000000004b0e_0</td>\n",
       "      <td>NaN</td>\n",
       "      <td>0</td>\n",
       "      <td>1</td>\n",
       "      <td>SA-23-Z</td>\n",
       "      <td>CAMPO ALAGADO E ÁREA PANTANOSA</td>\n",
       "      <td>D1</td>\n",
       "      <td>-3.951507</td>\n",
       "      <td>-44.961886</td>\n",
       "      <td>0.000012</td>\n",
       "      <td>60305.967634</td>\n",
       "      <td>0.000014</td>\n",
       "      <td>0.000014</td>\n",
       "      <td>21.0</td>\n",
       "      <td>16624</td>\n",
       "      <td>1.0</td>\n",
       "      <td>11</td>\n",
       "      <td>11</td>\n",
       "      <td>2022</td>\n",
       "      <td>{\"type\":\"MultiPoint\",\"coordinates\":[]}</td>\n",
       "    </tr>\n",
       "    <tr>\n",
       "      <th>2</th>\n",
       "      <td>00000000000000004b0f_0</td>\n",
       "      <td>NaN</td>\n",
       "      <td>0</td>\n",
       "      <td>1</td>\n",
       "      <td>SA-23-Z</td>\n",
       "      <td>CAMPO ALAGADO E ÁREA PANTANOSA</td>\n",
       "      <td>D1</td>\n",
       "      <td>-3.691714</td>\n",
       "      <td>-44.849776</td>\n",
       "      <td>0.000012</td>\n",
       "      <td>60305.967634</td>\n",
       "      <td>0.000014</td>\n",
       "      <td>0.000014</td>\n",
       "      <td>21.0</td>\n",
       "      <td>16625</td>\n",
       "      <td>1.0</td>\n",
       "      <td>6</td>\n",
       "      <td>11</td>\n",
       "      <td>2022</td>\n",
       "      <td>{\"type\":\"MultiPoint\",\"coordinates\":[]}</td>\n",
       "    </tr>\n",
       "    <tr>\n",
       "      <th>3</th>\n",
       "      <td>00000000000000004b1b_0</td>\n",
       "      <td>NaN</td>\n",
       "      <td>0</td>\n",
       "      <td>1</td>\n",
       "      <td>SA-23-Z</td>\n",
       "      <td>CAMPO ALAGADO E ÁREA PANTANOSA</td>\n",
       "      <td>D1</td>\n",
       "      <td>-2.823672</td>\n",
       "      <td>-44.723653</td>\n",
       "      <td>0.000012</td>\n",
       "      <td>60305.967634</td>\n",
       "      <td>0.000014</td>\n",
       "      <td>0.000014</td>\n",
       "      <td>21.0</td>\n",
       "      <td>16656</td>\n",
       "      <td>1.0</td>\n",
       "      <td>11</td>\n",
       "      <td>11</td>\n",
       "      <td>2022</td>\n",
       "      <td>{\"type\":\"MultiPoint\",\"coordinates\":[]}</td>\n",
       "    </tr>\n",
       "    <tr>\n",
       "      <th>4</th>\n",
       "      <td>00000000000000004b26_0</td>\n",
       "      <td>Treinamento</td>\n",
       "      <td>1</td>\n",
       "      <td>1</td>\n",
       "      <td>SA-23-Z</td>\n",
       "      <td>CAMPO ALAGADO E ÁREA PANTANOSA</td>\n",
       "      <td>D1</td>\n",
       "      <td>-3.720550</td>\n",
       "      <td>-44.673527</td>\n",
       "      <td>0.000012</td>\n",
       "      <td>60305.967634</td>\n",
       "      <td>0.000014</td>\n",
       "      <td>0.000014</td>\n",
       "      <td>21.0</td>\n",
       "      <td>16694</td>\n",
       "      <td>1.0</td>\n",
       "      <td>6</td>\n",
       "      <td>11</td>\n",
       "      <td>2022</td>\n",
       "      <td>{\"type\":\"MultiPoint\",\"coordinates\":[]}</td>\n",
       "    </tr>\n",
       "  </tbody>\n",
       "</table>\n",
       "</div>"
      ],
      "text/plain": [
       "             system:index     AMOSTRAS  AMOSTRA_AM  BioNB  CARTA_2  \\\n",
       "0  0000000000000000508d_0          NaN           0      1  SA-23-Z   \n",
       "1  00000000000000004b0e_0          NaN           0      1  SA-23-Z   \n",
       "2  00000000000000004b0f_0          NaN           0      1  SA-23-Z   \n",
       "3  00000000000000004b1b_0          NaN           0      1  SA-23-Z   \n",
       "4  00000000000000004b26_0  Treinamento           1      1  SA-23-Z   \n",
       "\n",
       "                       CLASS_2022 DECLIVIDAD       LAT        LON  NEW_PROB  \\\n",
       "0                          APICUM         D2 -2.368226 -43.544883  0.000011   \n",
       "1  CAMPO ALAGADO E ÁREA PANTANOSA         D1 -3.951507 -44.961886  0.000012   \n",
       "2  CAMPO ALAGADO E ÁREA PANTANOSA         D1 -3.691714 -44.849776  0.000012   \n",
       "3  CAMPO ALAGADO E ÁREA PANTANOSA         D1 -2.823672 -44.723653  0.000012   \n",
       "4  CAMPO ALAGADO E ÁREA PANTANOSA         D1 -3.720550 -44.673527  0.000012   \n",
       "\n",
       "     NEW_WEIGHT  PESO_VOT  PROB_AMOS2  StateNB  TARGETID  VAL_PESO  \\\n",
       "0  55301.697925  0.000014    0.000014     21.0     12037       1.0   \n",
       "1  60305.967634  0.000014    0.000014     21.0     16624       1.0   \n",
       "2  60305.967634  0.000014    0.000014     21.0     16625       1.0   \n",
       "3  60305.967634  0.000014    0.000014     21.0     16656       1.0   \n",
       "4  60305.967634  0.000014    0.000014     21.0     16694       1.0   \n",
       "\n",
       "   classification  reference  year                                    .geo  \n",
       "0               3         32  2022  {\"type\":\"MultiPoint\",\"coordinates\":[]}  \n",
       "1              11         11  2022  {\"type\":\"MultiPoint\",\"coordinates\":[]}  \n",
       "2               6         11  2022  {\"type\":\"MultiPoint\",\"coordinates\":[]}  \n",
       "3              11         11  2022  {\"type\":\"MultiPoint\",\"coordinates\":[]}  \n",
       "4               6         11  2022  {\"type\":\"MultiPoint\",\"coordinates\":[]}  "
      ]
     },
     "execution_count": 79,
     "metadata": {},
     "output_type": "execute_result"
    }
   ],
   "source": [
    "df_acc = pd.read_csv(path_acc)\n",
    "df_acc.head()"
   ]
  },
  {
   "cell_type": "markdown",
   "metadata": {},
   "source": [
    "apenas as amostras SA23-Z"
   ]
  },
  {
   "cell_type": "code",
   "execution_count": 80,
   "metadata": {},
   "outputs": [
    {
     "data": {
      "text/plain": [
       "(712, 20)"
      ]
     },
     "execution_count": 80,
     "metadata": {},
     "output_type": "execute_result"
    }
   ],
   "source": [
    "df_acc.shape"
   ]
  },
  {
   "cell_type": "markdown",
   "metadata": {},
   "source": [
    "Configuracao com as classes, comentei para usar identico ao do repositorio"
   ]
  },
  {
   "cell_type": "code",
   "execution_count": 199,
   "metadata": {},
   "outputs": [],
   "source": [
    "#with open(path_class_settings, 'r') as arquivo:\n",
    "    #config_classes = json.load(arquivo)\n",
    "#config_classes['IGNORED_CLASSES']"
   ]
  },
  {
   "cell_type": "markdown",
   "metadata": {},
   "source": [
    "Para não ignorar essas classes:"
   ]
  },
  {
   "cell_type": "code",
   "execution_count": 200,
   "metadata": {},
   "outputs": [],
   "source": [
    "#config_classes['IGNORED_CLASSES'] = [0]\n",
    "#config_classes['IGNORED_CLASSES']"
   ]
  },
  {
   "cell_type": "markdown",
   "metadata": {},
   "source": [
    "Aqui, não irei usar o arquivo points_strata.csv, pois os dados do target_id estao errados na coleção das amostras"
   ]
  },
  {
   "cell_type": "markdown",
   "metadata": {},
   "source": [
    "pegarei apenas o dadoq que tem a populacao por estrato"
   ]
  },
  {
   "cell_type": "code",
   "execution_count": 81,
   "metadata": {},
   "outputs": [
    {
     "data": {
      "text/html": [
       "<div>\n",
       "<style scoped>\n",
       "    .dataframe tbody tr th:only-of-type {\n",
       "        vertical-align: middle;\n",
       "    }\n",
       "\n",
       "    .dataframe tbody tr th {\n",
       "        vertical-align: top;\n",
       "    }\n",
       "\n",
       "    .dataframe thead th {\n",
       "        text-align: right;\n",
       "    }\n",
       "</style>\n",
       "<table border=\"1\" class=\"dataframe\">\n",
       "  <thead>\n",
       "    <tr style=\"text-align: right;\">\n",
       "      <th></th>\n",
       "      <th>strata_id</th>\n",
       "      <th>pop</th>\n",
       "    </tr>\n",
       "  </thead>\n",
       "  <tbody>\n",
       "    <tr>\n",
       "      <th>0</th>\n",
       "      <td>SH-21-Z_D1</td>\n",
       "      <td>22049360.0</td>\n",
       "    </tr>\n",
       "    <tr>\n",
       "      <th>1</th>\n",
       "      <td>SI-22-V_D1</td>\n",
       "      <td>19367713.0</td>\n",
       "    </tr>\n",
       "    <tr>\n",
       "      <th>2</th>\n",
       "      <td>SF-24-V_D1</td>\n",
       "      <td>4483278.0</td>\n",
       "    </tr>\n",
       "    <tr>\n",
       "      <th>3</th>\n",
       "      <td>SF-23-Z_D1</td>\n",
       "      <td>3193040.0</td>\n",
       "    </tr>\n",
       "    <tr>\n",
       "      <th>4</th>\n",
       "      <td>SC-24-Z_D1</td>\n",
       "      <td>18863275.0</td>\n",
       "    </tr>\n",
       "  </tbody>\n",
       "</table>\n",
       "</div>"
      ],
      "text/plain": [
       "    strata_id         pop\n",
       "0  SH-21-Z_D1  22049360.0\n",
       "1  SI-22-V_D1  19367713.0\n",
       "2  SF-24-V_D1   4483278.0\n",
       "3  SF-23-Z_D1   3193040.0\n",
       "4  SC-24-Z_D1  18863275.0"
      ]
     },
     "execution_count": 81,
     "metadata": {},
     "output_type": "execute_result"
    }
   ],
   "source": [
    "df_strata = pd.read_csv(path_strata)\n",
    "df_strata.head()"
   ]
  },
  {
   "cell_type": "code",
   "execution_count": 82,
   "metadata": {},
   "outputs": [
    {
     "data": {
      "text/plain": [
       "(762, 2)"
      ]
     },
     "execution_count": 82,
     "metadata": {},
     "output_type": "execute_result"
    }
   ],
   "source": [
    "df_strata.shape ## todas os estratos"
   ]
  },
  {
   "cell_type": "markdown",
   "metadata": {},
   "source": [
    "## Tratamento de dados"
   ]
  },
  {
   "cell_type": "markdown",
   "metadata": {},
   "source": [
    "### Gerando a coluna strata_id"
   ]
  },
  {
   "cell_type": "markdown",
   "metadata": {},
   "source": [
    "como os estrato id estao errados nos dados que tive acesso no mapbiomas, vou criar o estrato id com base no dado do estrato e da declividade"
   ]
  },
  {
   "cell_type": "code",
   "execution_count": 83,
   "metadata": {},
   "outputs": [],
   "source": [
    "df_acc['strata_id'] = df_acc[\"CARTA_2\"] + \"_\" + df_acc[\"DECLIVIDAD\"]"
   ]
  },
  {
   "cell_type": "markdown",
   "metadata": {},
   "source": [
    "verificando os estratos"
   ]
  },
  {
   "cell_type": "code",
   "execution_count": 84,
   "metadata": {},
   "outputs": [
    {
     "data": {
      "text/plain": [
       "array(['SA-23-Z_D2', 'SA-23-Z_D1', 'SA-23-Z_D3', 'SA-23-Z_D4',\n",
       "       'SA-23-Z_D6', 'SA-23-Z_D5'], dtype=object)"
      ]
     },
     "execution_count": 84,
     "metadata": {},
     "output_type": "execute_result"
    }
   ],
   "source": [
    "df_acc[\"strata_id\"].unique()"
   ]
  },
  {
   "cell_type": "markdown",
   "metadata": {},
   "source": [
    "### Pegando os dados dado da populacao"
   ]
  },
  {
   "cell_type": "code",
   "execution_count": 85,
   "metadata": {},
   "outputs": [
    {
     "data": {
      "text/html": [
       "<div>\n",
       "<style scoped>\n",
       "    .dataframe tbody tr th:only-of-type {\n",
       "        vertical-align: middle;\n",
       "    }\n",
       "\n",
       "    .dataframe tbody tr th {\n",
       "        vertical-align: top;\n",
       "    }\n",
       "\n",
       "    .dataframe thead th {\n",
       "        text-align: right;\n",
       "    }\n",
       "</style>\n",
       "<table border=\"1\" class=\"dataframe\">\n",
       "  <thead>\n",
       "    <tr style=\"text-align: right;\">\n",
       "      <th></th>\n",
       "      <th>system:index</th>\n",
       "      <th>AMOSTRAS</th>\n",
       "      <th>AMOSTRA_AM</th>\n",
       "      <th>BioNB</th>\n",
       "      <th>CARTA_2</th>\n",
       "      <th>CLASS_2022</th>\n",
       "      <th>DECLIVIDAD</th>\n",
       "      <th>LAT</th>\n",
       "      <th>LON</th>\n",
       "      <th>NEW_PROB</th>\n",
       "      <th>...</th>\n",
       "      <th>PROB_AMOS2</th>\n",
       "      <th>StateNB</th>\n",
       "      <th>TARGETID</th>\n",
       "      <th>VAL_PESO</th>\n",
       "      <th>classification</th>\n",
       "      <th>reference</th>\n",
       "      <th>year</th>\n",
       "      <th>.geo</th>\n",
       "      <th>strata_id</th>\n",
       "      <th>pop</th>\n",
       "    </tr>\n",
       "  </thead>\n",
       "  <tbody>\n",
       "    <tr>\n",
       "      <th>0</th>\n",
       "      <td>0000000000000000508d_0</td>\n",
       "      <td>NaN</td>\n",
       "      <td>0</td>\n",
       "      <td>1</td>\n",
       "      <td>SA-23-Z</td>\n",
       "      <td>APICUM</td>\n",
       "      <td>D2</td>\n",
       "      <td>-2.368226</td>\n",
       "      <td>-43.544883</td>\n",
       "      <td>0.000011</td>\n",
       "      <td>...</td>\n",
       "      <td>0.000014</td>\n",
       "      <td>21.0</td>\n",
       "      <td>12037</td>\n",
       "      <td>1.0</td>\n",
       "      <td>3</td>\n",
       "      <td>32</td>\n",
       "      <td>2022</td>\n",
       "      <td>{\"type\":\"MultiPoint\",\"coordinates\":[]}</td>\n",
       "      <td>SA-23-Z_D2</td>\n",
       "      <td>27861902.0</td>\n",
       "    </tr>\n",
       "    <tr>\n",
       "      <th>1</th>\n",
       "      <td>00000000000000004b0e_0</td>\n",
       "      <td>NaN</td>\n",
       "      <td>0</td>\n",
       "      <td>1</td>\n",
       "      <td>SA-23-Z</td>\n",
       "      <td>CAMPO ALAGADO E ÁREA PANTANOSA</td>\n",
       "      <td>D1</td>\n",
       "      <td>-3.951507</td>\n",
       "      <td>-44.961886</td>\n",
       "      <td>0.000012</td>\n",
       "      <td>...</td>\n",
       "      <td>0.000014</td>\n",
       "      <td>21.0</td>\n",
       "      <td>16624</td>\n",
       "      <td>1.0</td>\n",
       "      <td>11</td>\n",
       "      <td>11</td>\n",
       "      <td>2022</td>\n",
       "      <td>{\"type\":\"MultiPoint\",\"coordinates\":[]}</td>\n",
       "      <td>SA-23-Z_D1</td>\n",
       "      <td>25366123.0</td>\n",
       "    </tr>\n",
       "    <tr>\n",
       "      <th>2</th>\n",
       "      <td>00000000000000004b0f_0</td>\n",
       "      <td>NaN</td>\n",
       "      <td>0</td>\n",
       "      <td>1</td>\n",
       "      <td>SA-23-Z</td>\n",
       "      <td>CAMPO ALAGADO E ÁREA PANTANOSA</td>\n",
       "      <td>D1</td>\n",
       "      <td>-3.691714</td>\n",
       "      <td>-44.849776</td>\n",
       "      <td>0.000012</td>\n",
       "      <td>...</td>\n",
       "      <td>0.000014</td>\n",
       "      <td>21.0</td>\n",
       "      <td>16625</td>\n",
       "      <td>1.0</td>\n",
       "      <td>6</td>\n",
       "      <td>11</td>\n",
       "      <td>2022</td>\n",
       "      <td>{\"type\":\"MultiPoint\",\"coordinates\":[]}</td>\n",
       "      <td>SA-23-Z_D1</td>\n",
       "      <td>25366123.0</td>\n",
       "    </tr>\n",
       "    <tr>\n",
       "      <th>3</th>\n",
       "      <td>00000000000000004b1b_0</td>\n",
       "      <td>NaN</td>\n",
       "      <td>0</td>\n",
       "      <td>1</td>\n",
       "      <td>SA-23-Z</td>\n",
       "      <td>CAMPO ALAGADO E ÁREA PANTANOSA</td>\n",
       "      <td>D1</td>\n",
       "      <td>-2.823672</td>\n",
       "      <td>-44.723653</td>\n",
       "      <td>0.000012</td>\n",
       "      <td>...</td>\n",
       "      <td>0.000014</td>\n",
       "      <td>21.0</td>\n",
       "      <td>16656</td>\n",
       "      <td>1.0</td>\n",
       "      <td>11</td>\n",
       "      <td>11</td>\n",
       "      <td>2022</td>\n",
       "      <td>{\"type\":\"MultiPoint\",\"coordinates\":[]}</td>\n",
       "      <td>SA-23-Z_D1</td>\n",
       "      <td>25366123.0</td>\n",
       "    </tr>\n",
       "    <tr>\n",
       "      <th>4</th>\n",
       "      <td>00000000000000004b26_0</td>\n",
       "      <td>Treinamento</td>\n",
       "      <td>1</td>\n",
       "      <td>1</td>\n",
       "      <td>SA-23-Z</td>\n",
       "      <td>CAMPO ALAGADO E ÁREA PANTANOSA</td>\n",
       "      <td>D1</td>\n",
       "      <td>-3.720550</td>\n",
       "      <td>-44.673527</td>\n",
       "      <td>0.000012</td>\n",
       "      <td>...</td>\n",
       "      <td>0.000014</td>\n",
       "      <td>21.0</td>\n",
       "      <td>16694</td>\n",
       "      <td>1.0</td>\n",
       "      <td>6</td>\n",
       "      <td>11</td>\n",
       "      <td>2022</td>\n",
       "      <td>{\"type\":\"MultiPoint\",\"coordinates\":[]}</td>\n",
       "      <td>SA-23-Z_D1</td>\n",
       "      <td>25366123.0</td>\n",
       "    </tr>\n",
       "  </tbody>\n",
       "</table>\n",
       "<p>5 rows × 22 columns</p>\n",
       "</div>"
      ],
      "text/plain": [
       "             system:index     AMOSTRAS  AMOSTRA_AM  BioNB  CARTA_2  \\\n",
       "0  0000000000000000508d_0          NaN           0      1  SA-23-Z   \n",
       "1  00000000000000004b0e_0          NaN           0      1  SA-23-Z   \n",
       "2  00000000000000004b0f_0          NaN           0      1  SA-23-Z   \n",
       "3  00000000000000004b1b_0          NaN           0      1  SA-23-Z   \n",
       "4  00000000000000004b26_0  Treinamento           1      1  SA-23-Z   \n",
       "\n",
       "                       CLASS_2022 DECLIVIDAD       LAT        LON  NEW_PROB  \\\n",
       "0                          APICUM         D2 -2.368226 -43.544883  0.000011   \n",
       "1  CAMPO ALAGADO E ÁREA PANTANOSA         D1 -3.951507 -44.961886  0.000012   \n",
       "2  CAMPO ALAGADO E ÁREA PANTANOSA         D1 -3.691714 -44.849776  0.000012   \n",
       "3  CAMPO ALAGADO E ÁREA PANTANOSA         D1 -2.823672 -44.723653  0.000012   \n",
       "4  CAMPO ALAGADO E ÁREA PANTANOSA         D1 -3.720550 -44.673527  0.000012   \n",
       "\n",
       "   ...  PROB_AMOS2  StateNB  TARGETID  VAL_PESO  classification  reference  \\\n",
       "0  ...    0.000014     21.0     12037       1.0               3         32   \n",
       "1  ...    0.000014     21.0     16624       1.0              11         11   \n",
       "2  ...    0.000014     21.0     16625       1.0               6         11   \n",
       "3  ...    0.000014     21.0     16656       1.0              11         11   \n",
       "4  ...    0.000014     21.0     16694       1.0               6         11   \n",
       "\n",
       "   year                                    .geo   strata_id         pop  \n",
       "0  2022  {\"type\":\"MultiPoint\",\"coordinates\":[]}  SA-23-Z_D2  27861902.0  \n",
       "1  2022  {\"type\":\"MultiPoint\",\"coordinates\":[]}  SA-23-Z_D1  25366123.0  \n",
       "2  2022  {\"type\":\"MultiPoint\",\"coordinates\":[]}  SA-23-Z_D1  25366123.0  \n",
       "3  2022  {\"type\":\"MultiPoint\",\"coordinates\":[]}  SA-23-Z_D1  25366123.0  \n",
       "4  2022  {\"type\":\"MultiPoint\",\"coordinates\":[]}  SA-23-Z_D1  25366123.0  \n",
       "\n",
       "[5 rows x 22 columns]"
      ]
     },
     "execution_count": 85,
     "metadata": {},
     "output_type": "execute_result"
    }
   ],
   "source": [
    "df_acc = pd.merge(df_acc, df_strata, how='inner', on=\"strata_id\")\n",
    "df_acc.head()"
   ]
  },
  {
   "cell_type": "code",
   "execution_count": 86,
   "metadata": {},
   "outputs": [
    {
     "data": {
      "text/plain": [
       "0    27861902.0\n",
       "1    25366123.0\n",
       "2    25366123.0\n",
       "3    25366123.0\n",
       "4    25366123.0\n",
       "Name: pop, dtype: float64"
      ]
     },
     "execution_count": 86,
     "metadata": {},
     "output_type": "execute_result"
    }
   ],
   "source": [
    "df_acc['pop'].head()"
   ]
  },
  {
   "cell_type": "markdown",
   "metadata": {},
   "source": [
    "### Pegando a quantidade de amostras por estrato"
   ]
  },
  {
   "cell_type": "markdown",
   "metadata": {},
   "source": [
    "contar a quantidade de amostras por estrato"
   ]
  },
  {
   "cell_type": "code",
   "execution_count": 87,
   "metadata": {},
   "outputs": [
    {
     "data": {
      "text/plain": [
       "<Axes: ylabel='strata_id'>"
      ]
     },
     "execution_count": 87,
     "metadata": {},
     "output_type": "execute_result"
    },
    {
     "data": {
      "image/png": "[encoded data removed]",
      "text/plain": [
       "<Figure size 640x480 with 1 Axes>"
      ]
     },
     "metadata": {},
     "output_type": "display_data"
    }
   ],
   "source": [
    "df_acc['strata_id'].value_counts(normalize=True).plot(kind='barh')"
   ]
  },
  {
   "cell_type": "code",
   "execution_count": 88,
   "metadata": {},
   "outputs": [
    {
     "data": {
      "text/html": [
       "<div>\n",
       "<style scoped>\n",
       "    .dataframe tbody tr th:only-of-type {\n",
       "        vertical-align: middle;\n",
       "    }\n",
       "\n",
       "    .dataframe tbody tr th {\n",
       "        vertical-align: top;\n",
       "    }\n",
       "\n",
       "    .dataframe thead th {\n",
       "        text-align: right;\n",
       "    }\n",
       "</style>\n",
       "<table border=\"1\" class=\"dataframe\">\n",
       "  <thead>\n",
       "    <tr style=\"text-align: right;\">\n",
       "      <th></th>\n",
       "      <th>strata_id</th>\n",
       "      <th>n_samp</th>\n",
       "    </tr>\n",
       "  </thead>\n",
       "  <tbody>\n",
       "    <tr>\n",
       "      <th>0</th>\n",
       "      <td>SA-23-Z_D2</td>\n",
       "      <td>305</td>\n",
       "    </tr>\n",
       "    <tr>\n",
       "      <th>1</th>\n",
       "      <td>SA-23-Z_D1</td>\n",
       "      <td>303</td>\n",
       "    </tr>\n",
       "    <tr>\n",
       "      <th>2</th>\n",
       "      <td>SA-23-Z_D3</td>\n",
       "      <td>89</td>\n",
       "    </tr>\n",
       "    <tr>\n",
       "      <th>3</th>\n",
       "      <td>SA-23-Z_D4</td>\n",
       "      <td>13</td>\n",
       "    </tr>\n",
       "    <tr>\n",
       "      <th>4</th>\n",
       "      <td>SA-23-Z_D6</td>\n",
       "      <td>1</td>\n",
       "    </tr>\n",
       "    <tr>\n",
       "      <th>5</th>\n",
       "      <td>SA-23-Z_D5</td>\n",
       "      <td>1</td>\n",
       "    </tr>\n",
       "  </tbody>\n",
       "</table>\n",
       "</div>"
      ],
      "text/plain": [
       "    strata_id  n_samp\n",
       "0  SA-23-Z_D2     305\n",
       "1  SA-23-Z_D1     303\n",
       "2  SA-23-Z_D3      89\n",
       "3  SA-23-Z_D4      13\n",
       "4  SA-23-Z_D6       1\n",
       "5  SA-23-Z_D5       1"
      ]
     },
     "execution_count": 88,
     "metadata": {},
     "output_type": "execute_result"
    }
   ],
   "source": [
    "df_qt_samples = df_acc['strata_id'].value_counts().reset_index(name='n_samp')\n",
    "df_qt_samples"
   ]
  },
  {
   "cell_type": "code",
   "execution_count": 89,
   "metadata": {},
   "outputs": [
    {
     "data": {
      "text/plain": [
       "strata_id    SA-23-Z_D2SA-23-Z_D1SA-23-Z_D3SA-23-Z_D4SA-23-...\n",
       "n_samp                                                     712\n",
       "dtype: object"
      ]
     },
     "execution_count": 89,
     "metadata": {},
     "output_type": "execute_result"
    }
   ],
   "source": [
    "df_qt_samples.sum()"
   ]
  },
  {
   "cell_type": "markdown",
   "metadata": {},
   "source": [
    "depois plotar um mapa os pontos por estrato"
   ]
  },
  {
   "cell_type": "code",
   "execution_count": 90,
   "metadata": {},
   "outputs": [
    {
     "data": {
      "text/html": [
       "<div>\n",
       "<style scoped>\n",
       "    .dataframe tbody tr th:only-of-type {\n",
       "        vertical-align: middle;\n",
       "    }\n",
       "\n",
       "    .dataframe tbody tr th {\n",
       "        vertical-align: top;\n",
       "    }\n",
       "\n",
       "    .dataframe thead th {\n",
       "        text-align: right;\n",
       "    }\n",
       "</style>\n",
       "<table border=\"1\" class=\"dataframe\">\n",
       "  <thead>\n",
       "    <tr style=\"text-align: right;\">\n",
       "      <th></th>\n",
       "      <th>system:index</th>\n",
       "      <th>AMOSTRAS</th>\n",
       "      <th>AMOSTRA_AM</th>\n",
       "      <th>BioNB</th>\n",
       "      <th>CARTA_2</th>\n",
       "      <th>CLASS_2022</th>\n",
       "      <th>DECLIVIDAD</th>\n",
       "      <th>LAT</th>\n",
       "      <th>LON</th>\n",
       "      <th>NEW_PROB</th>\n",
       "      <th>...</th>\n",
       "      <th>StateNB</th>\n",
       "      <th>TARGETID</th>\n",
       "      <th>VAL_PESO</th>\n",
       "      <th>classification</th>\n",
       "      <th>reference</th>\n",
       "      <th>year</th>\n",
       "      <th>.geo</th>\n",
       "      <th>strata_id</th>\n",
       "      <th>pop</th>\n",
       "      <th>n_samp</th>\n",
       "    </tr>\n",
       "  </thead>\n",
       "  <tbody>\n",
       "    <tr>\n",
       "      <th>0</th>\n",
       "      <td>0000000000000000508d_0</td>\n",
       "      <td>NaN</td>\n",
       "      <td>0</td>\n",
       "      <td>1</td>\n",
       "      <td>SA-23-Z</td>\n",
       "      <td>APICUM</td>\n",
       "      <td>D2</td>\n",
       "      <td>-2.368226</td>\n",
       "      <td>-43.544883</td>\n",
       "      <td>0.000011</td>\n",
       "      <td>...</td>\n",
       "      <td>21.0</td>\n",
       "      <td>12037</td>\n",
       "      <td>1.0</td>\n",
       "      <td>3</td>\n",
       "      <td>32</td>\n",
       "      <td>2022</td>\n",
       "      <td>{\"type\":\"MultiPoint\",\"coordinates\":[]}</td>\n",
       "      <td>SA-23-Z_D2</td>\n",
       "      <td>27861902.0</td>\n",
       "      <td>305</td>\n",
       "    </tr>\n",
       "    <tr>\n",
       "      <th>1</th>\n",
       "      <td>00000000000000004b0e_0</td>\n",
       "      <td>NaN</td>\n",
       "      <td>0</td>\n",
       "      <td>1</td>\n",
       "      <td>SA-23-Z</td>\n",
       "      <td>CAMPO ALAGADO E ÁREA PANTANOSA</td>\n",
       "      <td>D1</td>\n",
       "      <td>-3.951507</td>\n",
       "      <td>-44.961886</td>\n",
       "      <td>0.000012</td>\n",
       "      <td>...</td>\n",
       "      <td>21.0</td>\n",
       "      <td>16624</td>\n",
       "      <td>1.0</td>\n",
       "      <td>11</td>\n",
       "      <td>11</td>\n",
       "      <td>2022</td>\n",
       "      <td>{\"type\":\"MultiPoint\",\"coordinates\":[]}</td>\n",
       "      <td>SA-23-Z_D1</td>\n",
       "      <td>25366123.0</td>\n",
       "      <td>303</td>\n",
       "    </tr>\n",
       "    <tr>\n",
       "      <th>2</th>\n",
       "      <td>00000000000000004b0f_0</td>\n",
       "      <td>NaN</td>\n",
       "      <td>0</td>\n",
       "      <td>1</td>\n",
       "      <td>SA-23-Z</td>\n",
       "      <td>CAMPO ALAGADO E ÁREA PANTANOSA</td>\n",
       "      <td>D1</td>\n",
       "      <td>-3.691714</td>\n",
       "      <td>-44.849776</td>\n",
       "      <td>0.000012</td>\n",
       "      <td>...</td>\n",
       "      <td>21.0</td>\n",
       "      <td>16625</td>\n",
       "      <td>1.0</td>\n",
       "      <td>6</td>\n",
       "      <td>11</td>\n",
       "      <td>2022</td>\n",
       "      <td>{\"type\":\"MultiPoint\",\"coordinates\":[]}</td>\n",
       "      <td>SA-23-Z_D1</td>\n",
       "      <td>25366123.0</td>\n",
       "      <td>303</td>\n",
       "    </tr>\n",
       "    <tr>\n",
       "      <th>3</th>\n",
       "      <td>00000000000000004b1b_0</td>\n",
       "      <td>NaN</td>\n",
       "      <td>0</td>\n",
       "      <td>1</td>\n",
       "      <td>SA-23-Z</td>\n",
       "      <td>CAMPO ALAGADO E ÁREA PANTANOSA</td>\n",
       "      <td>D1</td>\n",
       "      <td>-2.823672</td>\n",
       "      <td>-44.723653</td>\n",
       "      <td>0.000012</td>\n",
       "      <td>...</td>\n",
       "      <td>21.0</td>\n",
       "      <td>16656</td>\n",
       "      <td>1.0</td>\n",
       "      <td>11</td>\n",
       "      <td>11</td>\n",
       "      <td>2022</td>\n",
       "      <td>{\"type\":\"MultiPoint\",\"coordinates\":[]}</td>\n",
       "      <td>SA-23-Z_D1</td>\n",
       "      <td>25366123.0</td>\n",
       "      <td>303</td>\n",
       "    </tr>\n",
       "    <tr>\n",
       "      <th>4</th>\n",
       "      <td>00000000000000004b26_0</td>\n",
       "      <td>Treinamento</td>\n",
       "      <td>1</td>\n",
       "      <td>1</td>\n",
       "      <td>SA-23-Z</td>\n",
       "      <td>CAMPO ALAGADO E ÁREA PANTANOSA</td>\n",
       "      <td>D1</td>\n",
       "      <td>-3.720550</td>\n",
       "      <td>-44.673527</td>\n",
       "      <td>0.000012</td>\n",
       "      <td>...</td>\n",
       "      <td>21.0</td>\n",
       "      <td>16694</td>\n",
       "      <td>1.0</td>\n",
       "      <td>6</td>\n",
       "      <td>11</td>\n",
       "      <td>2022</td>\n",
       "      <td>{\"type\":\"MultiPoint\",\"coordinates\":[]}</td>\n",
       "      <td>SA-23-Z_D1</td>\n",
       "      <td>25366123.0</td>\n",
       "      <td>303</td>\n",
       "    </tr>\n",
       "  </tbody>\n",
       "</table>\n",
       "<p>5 rows × 23 columns</p>\n",
       "</div>"
      ],
      "text/plain": [
       "             system:index     AMOSTRAS  AMOSTRA_AM  BioNB  CARTA_2  \\\n",
       "0  0000000000000000508d_0          NaN           0      1  SA-23-Z   \n",
       "1  00000000000000004b0e_0          NaN           0      1  SA-23-Z   \n",
       "2  00000000000000004b0f_0          NaN           0      1  SA-23-Z   \n",
       "3  00000000000000004b1b_0          NaN           0      1  SA-23-Z   \n",
       "4  00000000000000004b26_0  Treinamento           1      1  SA-23-Z   \n",
       "\n",
       "                       CLASS_2022 DECLIVIDAD       LAT        LON  NEW_PROB  \\\n",
       "0                          APICUM         D2 -2.368226 -43.544883  0.000011   \n",
       "1  CAMPO ALAGADO E ÁREA PANTANOSA         D1 -3.951507 -44.961886  0.000012   \n",
       "2  CAMPO ALAGADO E ÁREA PANTANOSA         D1 -3.691714 -44.849776  0.000012   \n",
       "3  CAMPO ALAGADO E ÁREA PANTANOSA         D1 -2.823672 -44.723653  0.000012   \n",
       "4  CAMPO ALAGADO E ÁREA PANTANOSA         D1 -3.720550 -44.673527  0.000012   \n",
       "\n",
       "   ...  StateNB  TARGETID  VAL_PESO  classification  reference  year  \\\n",
       "0  ...     21.0     12037       1.0               3         32  2022   \n",
       "1  ...     21.0     16624       1.0              11         11  2022   \n",
       "2  ...     21.0     16625       1.0               6         11  2022   \n",
       "3  ...     21.0     16656       1.0              11         11  2022   \n",
       "4  ...     21.0     16694       1.0               6         11  2022   \n",
       "\n",
       "                                     .geo   strata_id         pop n_samp  \n",
       "0  {\"type\":\"MultiPoint\",\"coordinates\":[]}  SA-23-Z_D2  27861902.0    305  \n",
       "1  {\"type\":\"MultiPoint\",\"coordinates\":[]}  SA-23-Z_D1  25366123.0    303  \n",
       "2  {\"type\":\"MultiPoint\",\"coordinates\":[]}  SA-23-Z_D1  25366123.0    303  \n",
       "3  {\"type\":\"MultiPoint\",\"coordinates\":[]}  SA-23-Z_D1  25366123.0    303  \n",
       "4  {\"type\":\"MultiPoint\",\"coordinates\":[]}  SA-23-Z_D1  25366123.0    303  \n",
       "\n",
       "[5 rows x 23 columns]"
      ]
     },
     "execution_count": 90,
     "metadata": {},
     "output_type": "execute_result"
    }
   ],
   "source": [
    "df_acc = pd.merge(df_acc, df_qt_samples, on='strata_id')\n",
    "df_acc.head()"
   ]
  },
  {
   "cell_type": "markdown",
   "metadata": {},
   "source": [
    "verificar se esta ok numero de amostras e populacao"
   ]
  },
  {
   "cell_type": "code",
   "execution_count": 91,
   "metadata": {},
   "outputs": [
    {
     "data": {
      "text/plain": [
       "Index(['system:index', 'AMOSTRAS', 'AMOSTRA_AM', 'BioNB', 'CARTA_2',\n",
       "       'CLASS_2022', 'DECLIVIDAD', 'LAT', 'LON', 'NEW_PROB', 'NEW_WEIGHT',\n",
       "       'PESO_VOT', 'PROB_AMOS2', 'StateNB', 'TARGETID', 'VAL_PESO',\n",
       "       'classification', 'reference', 'year', '.geo', 'strata_id', 'pop',\n",
       "       'n_samp'],\n",
       "      dtype='object')"
      ]
     },
     "execution_count": 91,
     "metadata": {},
     "output_type": "execute_result"
    }
   ],
   "source": [
    "df_acc.columns"
   ]
  },
  {
   "cell_type": "code",
   "execution_count": 92,
   "metadata": {},
   "outputs": [
    {
     "data": {
      "text/html": [
       "<div>\n",
       "<style scoped>\n",
       "    .dataframe tbody tr th:only-of-type {\n",
       "        vertical-align: middle;\n",
       "    }\n",
       "\n",
       "    .dataframe tbody tr th {\n",
       "        vertical-align: top;\n",
       "    }\n",
       "\n",
       "    .dataframe thead th {\n",
       "        text-align: right;\n",
       "    }\n",
       "</style>\n",
       "<table border=\"1\" class=\"dataframe\">\n",
       "  <thead>\n",
       "    <tr style=\"text-align: right;\">\n",
       "      <th></th>\n",
       "      <th>n_samp</th>\n",
       "      <th>pop</th>\n",
       "      <th>PROB_AMOS2</th>\n",
       "    </tr>\n",
       "    <tr>\n",
       "      <th>strata_id</th>\n",
       "      <th></th>\n",
       "      <th></th>\n",
       "      <th></th>\n",
       "    </tr>\n",
       "  </thead>\n",
       "  <tbody>\n",
       "    <tr>\n",
       "      <th>SA-23-Z_D1</th>\n",
       "      <td>303</td>\n",
       "      <td>25366123.0</td>\n",
       "      <td>0.000014</td>\n",
       "    </tr>\n",
       "    <tr>\n",
       "      <th>SA-23-Z_D2</th>\n",
       "      <td>305</td>\n",
       "      <td>27861902.0</td>\n",
       "      <td>0.000014</td>\n",
       "    </tr>\n",
       "    <tr>\n",
       "      <th>SA-23-Z_D3</th>\n",
       "      <td>89</td>\n",
       "      <td>7842002.0</td>\n",
       "      <td>0.000014</td>\n",
       "    </tr>\n",
       "    <tr>\n",
       "      <th>SA-23-Z_D4</th>\n",
       "      <td>13</td>\n",
       "      <td>1111132.0</td>\n",
       "      <td>0.000014</td>\n",
       "    </tr>\n",
       "    <tr>\n",
       "      <th>SA-23-Z_D5</th>\n",
       "      <td>1</td>\n",
       "      <td>4130.0</td>\n",
       "      <td>0.000242</td>\n",
       "    </tr>\n",
       "    <tr>\n",
       "      <th>SA-23-Z_D6</th>\n",
       "      <td>1</td>\n",
       "      <td>2744.0</td>\n",
       "      <td>0.000364</td>\n",
       "    </tr>\n",
       "  </tbody>\n",
       "</table>\n",
       "</div>"
      ],
      "text/plain": [
       "            n_samp         pop  PROB_AMOS2\n",
       "strata_id                                 \n",
       "SA-23-Z_D1     303  25366123.0    0.000014\n",
       "SA-23-Z_D2     305  27861902.0    0.000014\n",
       "SA-23-Z_D3      89   7842002.0    0.000014\n",
       "SA-23-Z_D4      13   1111132.0    0.000014\n",
       "SA-23-Z_D5       1      4130.0    0.000242\n",
       "SA-23-Z_D6       1      2744.0    0.000364"
      ]
     },
     "execution_count": 92,
     "metadata": {},
     "output_type": "execute_result"
    }
   ],
   "source": [
    "df_contagem = df_acc.groupby(\"strata_id\")[['n_samp','pop', 'PROB_AMOS2']].first()\n",
    "df_contagem"
   ]
  },
  {
   "cell_type": "markdown",
   "metadata": {},
   "source": [
    "checando a probabilidade"
   ]
  },
  {
   "cell_type": "code",
   "execution_count": 93,
   "metadata": {},
   "outputs": [
    {
     "data": {
      "text/html": [
       "<div>\n",
       "<style scoped>\n",
       "    .dataframe tbody tr th:only-of-type {\n",
       "        vertical-align: middle;\n",
       "    }\n",
       "\n",
       "    .dataframe tbody tr th {\n",
       "        vertical-align: top;\n",
       "    }\n",
       "\n",
       "    .dataframe thead th {\n",
       "        text-align: right;\n",
       "    }\n",
       "</style>\n",
       "<table border=\"1\" class=\"dataframe\">\n",
       "  <thead>\n",
       "    <tr style=\"text-align: right;\">\n",
       "      <th></th>\n",
       "      <th>n_samp</th>\n",
       "      <th>pop</th>\n",
       "      <th>PROB_AMOS2</th>\n",
       "      <th>prob_calc</th>\n",
       "    </tr>\n",
       "    <tr>\n",
       "      <th>strata_id</th>\n",
       "      <th></th>\n",
       "      <th></th>\n",
       "      <th></th>\n",
       "      <th></th>\n",
       "    </tr>\n",
       "  </thead>\n",
       "  <tbody>\n",
       "    <tr>\n",
       "      <th>SA-23-Z_D1</th>\n",
       "      <td>303</td>\n",
       "      <td>25366123.0</td>\n",
       "      <td>0.000014</td>\n",
       "      <td>0.000012</td>\n",
       "    </tr>\n",
       "    <tr>\n",
       "      <th>SA-23-Z_D2</th>\n",
       "      <td>305</td>\n",
       "      <td>27861902.0</td>\n",
       "      <td>0.000014</td>\n",
       "      <td>0.000011</td>\n",
       "    </tr>\n",
       "    <tr>\n",
       "      <th>SA-23-Z_D3</th>\n",
       "      <td>89</td>\n",
       "      <td>7842002.0</td>\n",
       "      <td>0.000014</td>\n",
       "      <td>0.000011</td>\n",
       "    </tr>\n",
       "    <tr>\n",
       "      <th>SA-23-Z_D4</th>\n",
       "      <td>13</td>\n",
       "      <td>1111132.0</td>\n",
       "      <td>0.000014</td>\n",
       "      <td>0.000012</td>\n",
       "    </tr>\n",
       "    <tr>\n",
       "      <th>SA-23-Z_D5</th>\n",
       "      <td>1</td>\n",
       "      <td>4130.0</td>\n",
       "      <td>0.000242</td>\n",
       "      <td>0.000242</td>\n",
       "    </tr>\n",
       "    <tr>\n",
       "      <th>SA-23-Z_D6</th>\n",
       "      <td>1</td>\n",
       "      <td>2744.0</td>\n",
       "      <td>0.000364</td>\n",
       "      <td>0.000364</td>\n",
       "    </tr>\n",
       "  </tbody>\n",
       "</table>\n",
       "</div>"
      ],
      "text/plain": [
       "            n_samp         pop  PROB_AMOS2  prob_calc\n",
       "strata_id                                            \n",
       "SA-23-Z_D1     303  25366123.0    0.000014   0.000012\n",
       "SA-23-Z_D2     305  27861902.0    0.000014   0.000011\n",
       "SA-23-Z_D3      89   7842002.0    0.000014   0.000011\n",
       "SA-23-Z_D4      13   1111132.0    0.000014   0.000012\n",
       "SA-23-Z_D5       1      4130.0    0.000242   0.000242\n",
       "SA-23-Z_D6       1      2744.0    0.000364   0.000364"
      ]
     },
     "execution_count": 93,
     "metadata": {},
     "output_type": "execute_result"
    }
   ],
   "source": [
    "df_contagem[\"prob_calc\"] = df_contagem['n_samp'] / df_contagem['pop']\n",
    "df_contagem"
   ]
  },
  {
   "cell_type": "code",
   "execution_count": 94,
   "metadata": {},
   "outputs": [
    {
     "data": {
      "text/plain": [
       "n_samp        7.120000e+02\n",
       "pop           6.218803e+07\n",
       "PROB_AMOS2    6.632598e-04\n",
       "prob_calc     6.525031e-04\n",
       "dtype: float64"
      ]
     },
     "execution_count": 94,
     "metadata": {},
     "output_type": "execute_result"
    }
   ],
   "source": [
    "df_contagem.sum()"
   ]
  },
  {
   "cell_type": "markdown",
   "metadata": {},
   "source": [
    "### Atualiza o nome dos biomas, para texto"
   ]
  },
  {
   "cell_type": "code",
   "execution_count": 95,
   "metadata": {},
   "outputs": [
    {
     "name": "stderr",
     "output_type": "stream",
     "text": [
      "/tmp/ipykernel_342941/3599183855.py:1: FutureWarning: Setting an item of incompatible dtype is deprecated and will raise an error in a future version of pandas. Value 'Amazônia' has dtype incompatible with int64, please explicitly cast to a compatible dtype first.\n",
      "  df_acc.loc[ (df_acc['BioNB']==1),'BioNB'] = 'Amazônia'\n"
     ]
    }
   ],
   "source": [
    "df_acc.loc[ (df_acc['BioNB']==1),'BioNB'] = 'Amazônia'\n",
    "df_acc.loc[ (df_acc['BioNB']==2),'BioNB'] = 'Mata Atlântica'\n",
    "df_acc.loc[ (df_acc['BioNB']==3),'BioNB'] = 'Pantanal'\n",
    "df_acc.loc[ (df_acc['BioNB']==4),'BioNB'] = 'Cerrado'\n",
    "df_acc.loc[ (df_acc['BioNB']==5),'BioNB'] = 'Caatinga'\n",
    "df_acc.loc[ (df_acc['BioNB']==6),'BioNB'] = 'Pampa'"
   ]
  },
  {
   "cell_type": "code",
   "execution_count": 96,
   "metadata": {},
   "outputs": [
    {
     "data": {
      "text/plain": [
       "array(['Amazônia', 'Cerrado'], dtype=object)"
      ]
     },
     "execution_count": 96,
     "metadata": {},
     "output_type": "execute_result"
    }
   ],
   "source": [
    "df_acc['BioNB'].unique()"
   ]
  },
  {
   "cell_type": "markdown",
   "metadata": {},
   "source": [
    "### Atualizando os codigos das classes de acordo com o nivel, e outros ajustes"
   ]
  },
  {
   "cell_type": "markdown",
   "metadata": {},
   "source": [
    "#### Converte codigos das classe"
   ]
  },
  {
   "cell_type": "code",
   "execution_count": 97,
   "metadata": {},
   "outputs": [
    {
     "data": {
      "text/plain": [
       "classification\n",
       "3     290\n",
       "4     104\n",
       "5      32\n",
       "6      29\n",
       "9       3\n",
       "11     61\n",
       "12     10\n",
       "15     92\n",
       "21     18\n",
       "23     14\n",
       "24     10\n",
       "25      5\n",
       "32      5\n",
       "33     26\n",
       "39     12\n",
       "41      1\n",
       "Name: count, dtype: int64"
      ]
     },
     "execution_count": 97,
     "metadata": {},
     "output_type": "execute_result"
    }
   ],
   "source": [
    "df_acc['classification'].value_counts().sort_index()"
   ]
  },
  {
   "cell_type": "code",
   "execution_count": 98,
   "metadata": {},
   "outputs": [
    {
     "data": {
      "text/plain": [
       "array([ 3,  4,  5,  6,  9, 11, 12, 15, 21, 23, 24, 25, 32, 33, 39, 41])"
      ]
     },
     "execution_count": 98,
     "metadata": {},
     "output_type": "execute_result"
    }
   ],
   "source": [
    "classif_1 = df_acc['classification'].unique()\n",
    "classif_1.sort()\n",
    "classif_1"
   ]
  },
  {
   "cell_type": "code",
   "execution_count": 99,
   "metadata": {},
   "outputs": [
    {
     "data": {
      "text/plain": [
       "reference\n",
       "3     300\n",
       "4     117\n",
       "5      17\n",
       "9       4\n",
       "11     59\n",
       "12     22\n",
       "15    115\n",
       "19     14\n",
       "23     18\n",
       "24     10\n",
       "25      1\n",
       "32      3\n",
       "33     20\n",
       "50     12\n",
       "Name: count, dtype: int64"
      ]
     },
     "execution_count": 99,
     "metadata": {},
     "output_type": "execute_result"
    }
   ],
   "source": [
    "df_acc['reference'].value_counts().sort_index()"
   ]
  },
  {
   "cell_type": "code",
   "execution_count": 100,
   "metadata": {},
   "outputs": [
    {
     "data": {
      "text/plain": [
       "array([ 3,  4,  5,  9, 11, 12, 15, 19, 23, 24, 25, 32, 33, 50])"
      ]
     },
     "execution_count": 100,
     "metadata": {},
     "output_type": "execute_result"
    }
   ],
   "source": [
    "reference_1 = df_acc['reference'].unique()\n",
    "reference_1.sort()\n",
    "reference_1"
   ]
  },
  {
   "cell_type": "markdown",
   "metadata": {},
   "source": [
    "Observando a classificacao e a reference, observamos algumas classes que aparece em uma e nao na outra, porém a funcao de convert_class corrige algumas, provavelmente pq mudaram se os codigos de algumas destas. pesquisar melhor\n",
    "\n",
    "\n",
    "classificacao\n",
    "\n",
    "6 - Floresta Alagável (nivel 2)\n",
    "\n",
    "21 - mosaico de usos (nivel 2)\n",
    "\n",
    "39 - Soja (nivel 3)\n",
    "\n",
    "41 - Outras Lavouras Temporárias (nivel 3)\n",
    "\n",
    "reference\n",
    "\n",
    "19 - Lavoura Temporária (nivel 3)\n",
    "\n",
    "50 - Restinga Herbácea"
   ]
  },
  {
   "cell_type": "code",
   "execution_count": 101,
   "metadata": {},
   "outputs": [],
   "source": [
    "def convert_class(df):\n",
    "\n",
    "    #Global\n",
    "\n",
    "    df.loc[ (df['classification'] == 20) | (df['classification'] == 39) | (df['classification'] == 40) | (df['classification'] == 41) | (df['classification'] == 62), 'classification'] = 19 #Convert areas mapped as 20,39,40,41 to 19\n",
    "    df.loc[ (df['classification'] == 46) | (df['classification'] == 47) | (df['classification'] == 48), 'classification'] = 36 #Convert areas mapped as 46,47,48 to 36\n",
    "    df.loc[ (df['classification'] == 51) | (df['classification'] == 52) | (df['classification'] == 53), 'classification'] = 24 #Convert areas mapped as 20,39,41 to 24\n",
    "    df.loc[ (df['classification'] == 49), 'classification'] = 3 #Convert areas mapped as 54,55,56 to 33\n",
    "    df.loc[ (df['classification'] == 50), 'classification'] = 13 #Convert areas mapped as 54,55,56 to 33\n",
    "    df.loc[ (df['classification'] == 54) | (df['classification'] == 55) | (df['classification'] == 56), 'classification'] = 33 #Convert areas mapped as 54,55,56 to 33\n",
    "    df.loc[ (df['classification'] == 21) & (df['reference'].isin([15,19,20,36])), 'reference'] = 21 #Convert reference from 15,19,20,36 to reference 21 for areas mapped as 21\n",
    "    df.loc[ (df['classification'] == 63), 'classification'] = 33    \n",
    "\n",
    "    #Pampa \n",
    "\n",
    "    df.loc[ (df['BioNB']== 'Pampa') & (df['reference'] == 15),'reference'] = 19 #In Pampa, convert reference class 15 to 19 (Crop).\n",
    "    df.loc[ (df['BioNB']=='Pampa') & (df['classification'] == 25) & (df['reference'] == 23), 'reference'] = 25 #In Pampa, convert reference 25 to 23 in areas mapped as 25\n",
    "    df.loc[ (df['BioNB']== 'Pampa') & (df['classification'] == 12) & (df['reference'] == 13),'reference'] = 12 #In Pampa, convert reference 13 to 12 in areas mapped as 12\n",
    "    df.loc[ (df['BioNB']== 'Pampa') & (df['classification'] == 13),'classification'] = 12 #In Pampa, convert reference 13 to 12 in areas mapped as 12\n",
    "\n",
    "    #Mata Atântica\n",
    "\n",
    "    df.loc[ (df['BioNB']== 'Mata Atlântica') & (df['classification'] == 11) & (df['reference'] == 13),'reference'] = 11\n",
    "\n",
    "    #Pantanal\n",
    "\n",
    "    df.loc[ (df['BioNB']== 'Pantanal') & (df['classification'] == 11) & (df['reference'] == 12),'reference'] = 11 #In Pantanal, convert reference 12 to 11 in areas mapped as 11\n",
    "    df.loc[ (df['BioNB']== 'Pantanal') & (df['classification'] == 11) & (df['reference'] == 33),'reference'] = 11 #In Pantanal, convert reference 33 to 11 in areas mapped as 11\n",
    "    df.loc[ (df['BioNB']== 'Pantanal') & (df['classification'] == 12) & (df['reference'] == 33),'reference'] = 12 #In Pantanal, convert reference 33 to 12 in areas mapped as 12\n",
    "    df.loc[ (df['BioNB']== 'Pantanal') & (df['classification'] == 12) & (df['reference'] == 11),'reference'] = 12 #NEW!#In Pantanal, convert reference 33 to 12 in areas mapped as 12\n",
    "    df.loc[ (df['BioNB']== 'Pantanal') & (df['classification'] == 33) & (df['reference'] == 11),'classification'] = 11 #In Pantanal, convert reference 33 to 11 in areas mapped as 11\n",
    "    df.loc[ (df['BioNB']== 'Pantanal') & (df['classification'] == 33) & (df['reference'] == 12),'classification'] = 12 #In Pantanal, convert reference 33 to 12 in areas mapped as 12\n",
    "\n",
    "    #Amazônia\n",
    "\n",
    "    df.loc[ (df['BioNB']=='Amazônia') & (df['classification'] == 12) & (df['reference'] == 13), 'reference'] = 12 #In Amazon, convert reference 13 to 12 in areas mapped as 12\n",
    "    df.loc[ (df['BioNB']=='Amazônia') & (df['classification'] == 4) & (df['reference'] == 13), 'reference'] = 4 #In Amazon, convert reference 13 to 4 in areas mapped as 4\n",
    "\n",
    "    #Cerrado\n",
    "\n",
    "    df.loc[ (df['BioNB']=='Cerrado') & (df['reference'] == 11),'reference'] = 12\n",
    "    df.loc[ (df['BioNB']=='Cerrado') & (df['classification'] == 11),'classification'] = 12 \n",
    "    df.loc[ (df['BioNB']=='Cerrado') & (df['classification'] == 12)  & (df['reference'] == 13), 'reference'] = 12 #In Cerrado, convert reference 13 to 12 in areas mapped as 12\n",
    "    df.loc[ (df['BioNB']=='Cerrado') & (df['classification'] == 25) & (df['reference'] == 23), 'reference'] = 25 #In Cerrado, convert reference 25 to 23 in areas mapped as 25\n",
    "\n",
    "    return df"
   ]
  },
  {
   "cell_type": "code",
   "execution_count": 102,
   "metadata": {},
   "outputs": [],
   "source": [
    "df_acc = convert_class(df_acc)"
   ]
  },
  {
   "cell_type": "markdown",
   "metadata": {},
   "source": [
    "#### Verificando se mudou alguma classe"
   ]
  },
  {
   "cell_type": "code",
   "execution_count": 103,
   "metadata": {},
   "outputs": [
    {
     "data": {
      "text/plain": [
       "classification\n",
       "3     290\n",
       "4     104\n",
       "5      32\n",
       "6      29\n",
       "9       3\n",
       "11     59\n",
       "12     12\n",
       "15     92\n",
       "19     13\n",
       "21     18\n",
       "23     14\n",
       "24     10\n",
       "25      5\n",
       "32      5\n",
       "33     26\n",
       "Name: count, dtype: int64"
      ]
     },
     "execution_count": 103,
     "metadata": {},
     "output_type": "execute_result"
    }
   ],
   "source": [
    "df_acc['classification'].value_counts().sort_index()"
   ]
  },
  {
   "cell_type": "code",
   "execution_count": 104,
   "metadata": {},
   "outputs": [
    {
     "data": {
      "text/plain": [
       "array([ 3,  4,  5,  6,  9, 11, 12, 15, 19, 21, 23, 24, 25, 32, 33])"
      ]
     },
     "execution_count": 104,
     "metadata": {},
     "output_type": "execute_result"
    }
   ],
   "source": [
    "classif_2 = df_acc['classification'].unique()\n",
    "classif_2.sort()\n",
    "classif_2"
   ]
  },
  {
   "cell_type": "code",
   "execution_count": 105,
   "metadata": {},
   "outputs": [
    {
     "name": "stdout",
     "output_type": "stream",
     "text": [
      "[ 3  4  5  6  9 11 12 15 21 23 24 25 32 33 39 41]\n",
      "[ 3  4  5  6  9 11 12 15 19 21 23 24 25 32 33]\n"
     ]
    }
   ],
   "source": [
    "print (classif_1)\n",
    "print (classif_2)"
   ]
  },
  {
   "cell_type": "code",
   "execution_count": 106,
   "metadata": {},
   "outputs": [
    {
     "data": {
      "text/plain": [
       "array([39, 41])"
      ]
     },
     "execution_count": 106,
     "metadata": {},
     "output_type": "execute_result"
    }
   ],
   "source": [
    "np.setdiff1d (classif_1 , classif_2)"
   ]
  },
  {
   "cell_type": "markdown",
   "metadata": {},
   "source": [
    "as classes 39 e 41 viram 19, afetaria o nivel 3, pois soja e Outras Lavouras Temporárias viram lavoura temporaria no nivel 2"
   ]
  },
  {
   "cell_type": "code",
   "execution_count": 107,
   "metadata": {},
   "outputs": [
    {
     "data": {
      "text/plain": [
       "array([19])"
      ]
     },
     "execution_count": 107,
     "metadata": {},
     "output_type": "execute_result"
    }
   ],
   "source": [
    "np.setdiff1d (classif_2 , classif_1)"
   ]
  },
  {
   "cell_type": "code",
   "execution_count": 108,
   "metadata": {},
   "outputs": [
    {
     "data": {
      "text/plain": [
       "reference\n",
       "3     300\n",
       "4     117\n",
       "5      17\n",
       "9       4\n",
       "11     55\n",
       "12     26\n",
       "15    106\n",
       "19     13\n",
       "21     10\n",
       "23     14\n",
       "24     10\n",
       "25      5\n",
       "32      3\n",
       "33     20\n",
       "50     12\n",
       "Name: count, dtype: int64"
      ]
     },
     "execution_count": 108,
     "metadata": {},
     "output_type": "execute_result"
    }
   ],
   "source": [
    "df_acc['reference'].value_counts().sort_index()"
   ]
  },
  {
   "cell_type": "code",
   "execution_count": 109,
   "metadata": {},
   "outputs": [
    {
     "data": {
      "text/plain": [
       "array([ 3,  4,  5,  9, 11, 12, 15, 19, 21, 23, 24, 25, 32, 33, 50])"
      ]
     },
     "execution_count": 109,
     "metadata": {},
     "output_type": "execute_result"
    }
   ],
   "source": [
    "reference_2 = df_acc['reference'].unique()\n",
    "reference_2.sort()\n",
    "reference_2\n"
   ]
  },
  {
   "cell_type": "code",
   "execution_count": 110,
   "metadata": {},
   "outputs": [
    {
     "name": "stdout",
     "output_type": "stream",
     "text": [
      "[ 3  4  5  9 11 12 15 19 23 24 25 32 33 50]\n",
      "[ 3  4  5  9 11 12 15 19 21 23 24 25 32 33 50]\n"
     ]
    }
   ],
   "source": [
    "print (reference_1)\n",
    "print (reference_2)"
   ]
  },
  {
   "cell_type": "code",
   "execution_count": 111,
   "metadata": {},
   "outputs": [
    {
     "data": {
      "text/plain": [
       "array([], dtype=int64)"
      ]
     },
     "execution_count": 111,
     "metadata": {},
     "output_type": "execute_result"
    }
   ],
   "source": [
    "np.setdiff1d (reference_1 , reference_2)"
   ]
  },
  {
   "cell_type": "code",
   "execution_count": 112,
   "metadata": {},
   "outputs": [
    {
     "data": {
      "text/plain": [
       "array([21])"
      ]
     },
     "execution_count": 112,
     "metadata": {},
     "output_type": "execute_result"
    }
   ],
   "source": [
    "np.setdiff1d (reference_2 , reference_1)"
   ]
  },
  {
   "cell_type": "markdown",
   "metadata": {},
   "source": [
    "Observando a classificacao e a reference, observamos algumas classes que aparece em uma e nao na outra:\n",
    "\n",
    "- 50 - Restinga Herbácea aparece apenas na referencia\n",
    "- 6 - Floresta Alagável aparece apenas na classificacao"
   ]
  },
  {
   "cell_type": "markdown",
   "metadata": {},
   "source": [
    "#### Atualizando os codigo por nível"
   ]
  },
  {
   "cell_type": "markdown",
   "metadata": {},
   "source": [
    "mudei o codigo original, agora eu pego todas as classes, nao apenas as que aparece em ambos"
   ]
  },
  {
   "cell_type": "markdown",
   "metadata": {},
   "source": [
    "codigo do repositorio"
   ]
  },
  {
   "cell_type": "code",
   "execution_count": 113,
   "metadata": {},
   "outputs": [],
   "source": [
    "def get_classes(df, level='l3'):\n",
    "\n",
    "    class_values = {}\n",
    "    class_names = {}\n",
    "\n",
    "    clas_classes = pd.Index(df['classification'].unique())\n",
    "    ref_classes = pd.Index(df['reference'].unique())\n",
    "\n",
    "    # não sei se deveria pegar so os que estao em comum, mas para nao mexer muito, vou deixar\n",
    "    acc_classes =clas_classes.intersection(ref_classes)\n",
    "    #acc_classes =clas_classes.union(ref_classes)\n",
    "\n",
    "    val_remap = {}\n",
    "\n",
    "    for value in ALL_CLASSES.keys():\n",
    "        if (value not in IGNORED_CLASSES and (value in acc_classes)):\n",
    "            \n",
    "            val_key = \"%s_val\" % (level)\n",
    "            new_val = ALL_CLASSES[value][val_key]\n",
    "            class_name = ALL_CLASSES[value][level]\n",
    "\n",
    "            val_remap[value] = new_val\n",
    "            class_values[new_val] = True\n",
    "            class_names[class_name] = True\n",
    "\n",
    "    df = df[df['classification'].isin(val_remap.keys())]\n",
    "    df = df[df['reference'].isin(val_remap.keys())]\n",
    "\n",
    "    df['classification'] = df['classification'].map(val_remap)\n",
    "    df['reference'] = df['reference'].map(val_remap)\n",
    "\n",
    "    class_values = list(class_values.keys())\n",
    "    class_names = list(class_names.keys())\n",
    "\n",
    "    return df, class_values, class_names"
   ]
  },
  {
   "cell_type": "code",
   "execution_count": 114,
   "metadata": {},
   "outputs": [
    {
     "data": {
      "text/html": [
       "<div>\n",
       "<style scoped>\n",
       "    .dataframe tbody tr th:only-of-type {\n",
       "        vertical-align: middle;\n",
       "    }\n",
       "\n",
       "    .dataframe tbody tr th {\n",
       "        vertical-align: top;\n",
       "    }\n",
       "\n",
       "    .dataframe thead th {\n",
       "        text-align: right;\n",
       "    }\n",
       "</style>\n",
       "<table border=\"1\" class=\"dataframe\">\n",
       "  <thead>\n",
       "    <tr style=\"text-align: right;\">\n",
       "      <th></th>\n",
       "      <th>system:index</th>\n",
       "      <th>AMOSTRAS</th>\n",
       "      <th>AMOSTRA_AM</th>\n",
       "      <th>BioNB</th>\n",
       "      <th>CARTA_2</th>\n",
       "      <th>CLASS_2022</th>\n",
       "      <th>DECLIVIDAD</th>\n",
       "      <th>LAT</th>\n",
       "      <th>LON</th>\n",
       "      <th>NEW_PROB</th>\n",
       "      <th>...</th>\n",
       "      <th>StateNB</th>\n",
       "      <th>TARGETID</th>\n",
       "      <th>VAL_PESO</th>\n",
       "      <th>classification</th>\n",
       "      <th>reference</th>\n",
       "      <th>year</th>\n",
       "      <th>.geo</th>\n",
       "      <th>strata_id</th>\n",
       "      <th>pop</th>\n",
       "      <th>n_samp</th>\n",
       "    </tr>\n",
       "  </thead>\n",
       "  <tbody>\n",
       "    <tr>\n",
       "      <th>1</th>\n",
       "      <td>00000000000000004b0e_0</td>\n",
       "      <td>NaN</td>\n",
       "      <td>0</td>\n",
       "      <td>Amazônia</td>\n",
       "      <td>SA-23-Z</td>\n",
       "      <td>CAMPO ALAGADO E ÁREA PANTANOSA</td>\n",
       "      <td>D1</td>\n",
       "      <td>-3.951507</td>\n",
       "      <td>-44.961886</td>\n",
       "      <td>0.000012</td>\n",
       "      <td>...</td>\n",
       "      <td>21.0</td>\n",
       "      <td>16624</td>\n",
       "      <td>1.0</td>\n",
       "      <td>11</td>\n",
       "      <td>11</td>\n",
       "      <td>2022</td>\n",
       "      <td>{\"type\":\"MultiPoint\",\"coordinates\":[]}</td>\n",
       "      <td>SA-23-Z_D1</td>\n",
       "      <td>25366123.0</td>\n",
       "      <td>303</td>\n",
       "    </tr>\n",
       "    <tr>\n",
       "      <th>3</th>\n",
       "      <td>00000000000000004b1b_0</td>\n",
       "      <td>NaN</td>\n",
       "      <td>0</td>\n",
       "      <td>Amazônia</td>\n",
       "      <td>SA-23-Z</td>\n",
       "      <td>CAMPO ALAGADO E ÁREA PANTANOSA</td>\n",
       "      <td>D1</td>\n",
       "      <td>-2.823672</td>\n",
       "      <td>-44.723653</td>\n",
       "      <td>0.000012</td>\n",
       "      <td>...</td>\n",
       "      <td>21.0</td>\n",
       "      <td>16656</td>\n",
       "      <td>1.0</td>\n",
       "      <td>11</td>\n",
       "      <td>11</td>\n",
       "      <td>2022</td>\n",
       "      <td>{\"type\":\"MultiPoint\",\"coordinates\":[]}</td>\n",
       "      <td>SA-23-Z_D1</td>\n",
       "      <td>25366123.0</td>\n",
       "      <td>303</td>\n",
       "    </tr>\n",
       "    <tr>\n",
       "      <th>5</th>\n",
       "      <td>00000000000000004b2f_0</td>\n",
       "      <td>NaN</td>\n",
       "      <td>0</td>\n",
       "      <td>Amazônia</td>\n",
       "      <td>SA-23-Z</td>\n",
       "      <td>CAMPO ALAGADO E ÁREA PANTANOSA</td>\n",
       "      <td>D1</td>\n",
       "      <td>-3.127662</td>\n",
       "      <td>-44.787253</td>\n",
       "      <td>0.000012</td>\n",
       "      <td>...</td>\n",
       "      <td>21.0</td>\n",
       "      <td>16709</td>\n",
       "      <td>1.0</td>\n",
       "      <td>11</td>\n",
       "      <td>11</td>\n",
       "      <td>2022</td>\n",
       "      <td>{\"type\":\"MultiPoint\",\"coordinates\":[]}</td>\n",
       "      <td>SA-23-Z_D1</td>\n",
       "      <td>25366123.0</td>\n",
       "      <td>303</td>\n",
       "    </tr>\n",
       "    <tr>\n",
       "      <th>6</th>\n",
       "      <td>00000000000000004b34_0</td>\n",
       "      <td>Treinamento</td>\n",
       "      <td>1</td>\n",
       "      <td>Amazônia</td>\n",
       "      <td>SA-23-Z</td>\n",
       "      <td>CAMPO ALAGADO E ÁREA PANTANOSA</td>\n",
       "      <td>D1</td>\n",
       "      <td>-2.696471</td>\n",
       "      <td>-44.734432</td>\n",
       "      <td>0.000012</td>\n",
       "      <td>...</td>\n",
       "      <td>21.0</td>\n",
       "      <td>16717</td>\n",
       "      <td>1.0</td>\n",
       "      <td>11</td>\n",
       "      <td>11</td>\n",
       "      <td>2022</td>\n",
       "      <td>{\"type\":\"MultiPoint\",\"coordinates\":[]}</td>\n",
       "      <td>SA-23-Z_D1</td>\n",
       "      <td>25366123.0</td>\n",
       "      <td>303</td>\n",
       "    </tr>\n",
       "    <tr>\n",
       "      <th>7</th>\n",
       "      <td>00000000000000004b36_0</td>\n",
       "      <td>Treinamento</td>\n",
       "      <td>1</td>\n",
       "      <td>Amazônia</td>\n",
       "      <td>SA-23-Z</td>\n",
       "      <td>CAMPO ALAGADO E ÁREA PANTANOSA</td>\n",
       "      <td>D1</td>\n",
       "      <td>-3.555350</td>\n",
       "      <td>-44.806927</td>\n",
       "      <td>0.000012</td>\n",
       "      <td>...</td>\n",
       "      <td>21.0</td>\n",
       "      <td>16720</td>\n",
       "      <td>1.0</td>\n",
       "      <td>11</td>\n",
       "      <td>11</td>\n",
       "      <td>2022</td>\n",
       "      <td>{\"type\":\"MultiPoint\",\"coordinates\":[]}</td>\n",
       "      <td>SA-23-Z_D1</td>\n",
       "      <td>25366123.0</td>\n",
       "      <td>303</td>\n",
       "    </tr>\n",
       "  </tbody>\n",
       "</table>\n",
       "<p>5 rows × 23 columns</p>\n",
       "</div>"
      ],
      "text/plain": [
       "             system:index     AMOSTRAS  AMOSTRA_AM     BioNB  CARTA_2  \\\n",
       "1  00000000000000004b0e_0          NaN           0  Amazônia  SA-23-Z   \n",
       "3  00000000000000004b1b_0          NaN           0  Amazônia  SA-23-Z   \n",
       "5  00000000000000004b2f_0          NaN           0  Amazônia  SA-23-Z   \n",
       "6  00000000000000004b34_0  Treinamento           1  Amazônia  SA-23-Z   \n",
       "7  00000000000000004b36_0  Treinamento           1  Amazônia  SA-23-Z   \n",
       "\n",
       "                       CLASS_2022 DECLIVIDAD       LAT        LON  NEW_PROB  \\\n",
       "1  CAMPO ALAGADO E ÁREA PANTANOSA         D1 -3.951507 -44.961886  0.000012   \n",
       "3  CAMPO ALAGADO E ÁREA PANTANOSA         D1 -2.823672 -44.723653  0.000012   \n",
       "5  CAMPO ALAGADO E ÁREA PANTANOSA         D1 -3.127662 -44.787253  0.000012   \n",
       "6  CAMPO ALAGADO E ÁREA PANTANOSA         D1 -2.696471 -44.734432  0.000012   \n",
       "7  CAMPO ALAGADO E ÁREA PANTANOSA         D1 -3.555350 -44.806927  0.000012   \n",
       "\n",
       "   ...  StateNB  TARGETID  VAL_PESO  classification  reference  year  \\\n",
       "1  ...     21.0     16624       1.0              11         11  2022   \n",
       "3  ...     21.0     16656       1.0              11         11  2022   \n",
       "5  ...     21.0     16709       1.0              11         11  2022   \n",
       "6  ...     21.0     16717       1.0              11         11  2022   \n",
       "7  ...     21.0     16720       1.0              11         11  2022   \n",
       "\n",
       "                                     .geo   strata_id         pop n_samp  \n",
       "1  {\"type\":\"MultiPoint\",\"coordinates\":[]}  SA-23-Z_D1  25366123.0    303  \n",
       "3  {\"type\":\"MultiPoint\",\"coordinates\":[]}  SA-23-Z_D1  25366123.0    303  \n",
       "5  {\"type\":\"MultiPoint\",\"coordinates\":[]}  SA-23-Z_D1  25366123.0    303  \n",
       "6  {\"type\":\"MultiPoint\",\"coordinates\":[]}  SA-23-Z_D1  25366123.0    303  \n",
       "7  {\"type\":\"MultiPoint\",\"coordinates\":[]}  SA-23-Z_D1  25366123.0    303  \n",
       "\n",
       "[5 rows x 23 columns]"
      ]
     },
     "execution_count": 114,
     "metadata": {},
     "output_type": "execute_result"
    }
   ],
   "source": [
    "##df_acc, class_values, class_names = get_classes(df_acc, config_classes, level)\n",
    "df_acc, class_values, class_names = get_classes(df_acc, level)\n",
    "df_acc.head()"
   ]
  },
  {
   "cell_type": "code",
   "execution_count": 115,
   "metadata": {},
   "outputs": [
    {
     "data": {
      "text/plain": [
       "(655, 23)"
      ]
     },
     "execution_count": 115,
     "metadata": {},
     "output_type": "execute_result"
    }
   ],
   "source": [
    "df_acc.shape"
   ]
  },
  {
   "cell_type": "code",
   "execution_count": 116,
   "metadata": {},
   "outputs": [
    {
     "data": {
      "text/plain": [
       "11"
      ]
     },
     "execution_count": 116,
     "metadata": {},
     "output_type": "execute_result"
    }
   ],
   "source": [
    "len(class_names)"
   ]
  },
  {
   "cell_type": "markdown",
   "metadata": {},
   "source": [
    "#### Verificando se as classes mudaram"
   ]
  },
  {
   "cell_type": "code",
   "execution_count": 117,
   "metadata": {},
   "outputs": [
    {
     "name": "stdout",
     "output_type": "stream",
     "text": [
      "[ 3  4  5  9 11 12 15 19 21 23 24 25 32 33 50]\n",
      "[ 3  4  5 11 12 15 18 21 23 24 33]\n",
      "-----\n",
      "[ 3  4  5  6  9 11 12 15 19 21 23 24 25 32 33]\n",
      "[ 3  4  5 11 12 15 18 21 23 24 33]\n"
     ]
    }
   ],
   "source": [
    "reference_3 = df_acc['reference'].unique()\n",
    "reference_3.sort()\n",
    "reference_3\n",
    "\n",
    "classif_3 = df_acc['classification'].unique()\n",
    "classif_3.sort()\n",
    "classif_3\n",
    "\n",
    "print (reference_2)\n",
    "print (reference_3)\n",
    "print ('-----')\n",
    "print (classif_2)\n",
    "print (classif_3)"
   ]
  },
  {
   "cell_type": "markdown",
   "metadata": {},
   "source": [
    "#### Pegando os dados das classes"
   ]
  },
  {
   "cell_type": "code",
   "execution_count": 118,
   "metadata": {},
   "outputs": [
    {
     "data": {
      "text/html": [
       "<div>\n",
       "<style scoped>\n",
       "    .dataframe tbody tr th:only-of-type {\n",
       "        vertical-align: middle;\n",
       "    }\n",
       "\n",
       "    .dataframe tbody tr th {\n",
       "        vertical-align: top;\n",
       "    }\n",
       "\n",
       "    .dataframe thead th {\n",
       "        text-align: right;\n",
       "    }\n",
       "</style>\n",
       "<table border=\"1\" class=\"dataframe\">\n",
       "  <thead>\n",
       "    <tr style=\"text-align: right;\">\n",
       "      <th></th>\n",
       "      <th>Class_Names</th>\n",
       "    </tr>\n",
       "    <tr>\n",
       "      <th>Class_Values</th>\n",
       "      <th></th>\n",
       "    </tr>\n",
       "  </thead>\n",
       "  <tbody>\n",
       "    <tr>\n",
       "      <th>3</th>\n",
       "      <td>1.1. Formação Florestal</td>\n",
       "    </tr>\n",
       "    <tr>\n",
       "      <th>4</th>\n",
       "      <td>1.2. Formação Savânica</td>\n",
       "    </tr>\n",
       "    <tr>\n",
       "      <th>5</th>\n",
       "      <td>1.3. Mangue</td>\n",
       "    </tr>\n",
       "    <tr>\n",
       "      <th>11</th>\n",
       "      <td>2.1. Campo Alagado e Área Pantanosa</td>\n",
       "    </tr>\n",
       "    <tr>\n",
       "      <th>12</th>\n",
       "      <td>2.2. Formação Campestre (Campo)</td>\n",
       "    </tr>\n",
       "    <tr>\n",
       "      <th>15</th>\n",
       "      <td>3.1. Pastagem</td>\n",
       "    </tr>\n",
       "    <tr>\n",
       "      <th>18</th>\n",
       "      <td>3.2. Agricultura</td>\n",
       "    </tr>\n",
       "    <tr>\n",
       "      <th>21</th>\n",
       "      <td>3.4. Mosaico de Usos</td>\n",
       "    </tr>\n",
       "    <tr>\n",
       "      <th>23</th>\n",
       "      <td>4.1. Praia e Duna</td>\n",
       "    </tr>\n",
       "    <tr>\n",
       "      <th>24</th>\n",
       "      <td>4.2. Infraestrutura Urbana</td>\n",
       "    </tr>\n",
       "    <tr>\n",
       "      <th>33</th>\n",
       "      <td>5.1. Rio, Lago e Oceano</td>\n",
       "    </tr>\n",
       "  </tbody>\n",
       "</table>\n",
       "</div>"
      ],
      "text/plain": [
       "                                      Class_Names\n",
       "Class_Values                                     \n",
       "3                         1.1. Formação Florestal\n",
       "4                          1.2. Formação Savânica\n",
       "5                                     1.3. Mangue\n",
       "11            2.1. Campo Alagado e Área Pantanosa\n",
       "12                2.2. Formação Campestre (Campo)\n",
       "15                                  3.1. Pastagem\n",
       "18                               3.2. Agricultura\n",
       "21                           3.4. Mosaico de Usos\n",
       "23                              4.1. Praia e Duna\n",
       "24                     4.2. Infraestrutura Urbana\n",
       "33                        5.1. Rio, Lago e Oceano"
      ]
     },
     "execution_count": 118,
     "metadata": {},
     "output_type": "execute_result"
    }
   ],
   "source": [
    "df_by_class = pd.DataFrame ( {\n",
    "    'Class_Names' : class_names,\n",
    "    'Class_Values' : class_values\n",
    "}).set_index('Class_Values')\n",
    "df_by_class"
   ]
  },
  {
   "cell_type": "code",
   "execution_count": 119,
   "metadata": {},
   "outputs": [
    {
     "data": {
      "text/html": [
       "<div>\n",
       "<style scoped>\n",
       "    .dataframe tbody tr th:only-of-type {\n",
       "        vertical-align: middle;\n",
       "    }\n",
       "\n",
       "    .dataframe tbody tr th {\n",
       "        vertical-align: top;\n",
       "    }\n",
       "\n",
       "    .dataframe thead th {\n",
       "        text-align: right;\n",
       "    }\n",
       "</style>\n",
       "<table border=\"1\" class=\"dataframe\">\n",
       "  <thead>\n",
       "    <tr style=\"text-align: right;\">\n",
       "      <th></th>\n",
       "      <th>Class_Names</th>\n",
       "      <th>qt_class</th>\n",
       "    </tr>\n",
       "    <tr>\n",
       "      <th>Class_Values</th>\n",
       "      <th></th>\n",
       "      <th></th>\n",
       "    </tr>\n",
       "  </thead>\n",
       "  <tbody>\n",
       "    <tr>\n",
       "      <th>3</th>\n",
       "      <td>1.1. Formação Florestal</td>\n",
       "      <td>289</td>\n",
       "    </tr>\n",
       "    <tr>\n",
       "      <th>4</th>\n",
       "      <td>1.2. Formação Savânica</td>\n",
       "      <td>93</td>\n",
       "    </tr>\n",
       "    <tr>\n",
       "      <th>5</th>\n",
       "      <td>1.3. Mangue</td>\n",
       "      <td>32</td>\n",
       "    </tr>\n",
       "    <tr>\n",
       "      <th>11</th>\n",
       "      <td>2.1. Campo Alagado e Área Pantanosa</td>\n",
       "      <td>59</td>\n",
       "    </tr>\n",
       "    <tr>\n",
       "      <th>12</th>\n",
       "      <td>2.2. Formação Campestre (Campo)</td>\n",
       "      <td>10</td>\n",
       "    </tr>\n",
       "    <tr>\n",
       "      <th>15</th>\n",
       "      <td>3.1. Pastagem</td>\n",
       "      <td>92</td>\n",
       "    </tr>\n",
       "    <tr>\n",
       "      <th>18</th>\n",
       "      <td>3.2. Agricultura</td>\n",
       "      <td>13</td>\n",
       "    </tr>\n",
       "    <tr>\n",
       "      <th>21</th>\n",
       "      <td>3.4. Mosaico de Usos</td>\n",
       "      <td>18</td>\n",
       "    </tr>\n",
       "    <tr>\n",
       "      <th>23</th>\n",
       "      <td>4.1. Praia e Duna</td>\n",
       "      <td>14</td>\n",
       "    </tr>\n",
       "    <tr>\n",
       "      <th>24</th>\n",
       "      <td>4.2. Infraestrutura Urbana</td>\n",
       "      <td>9</td>\n",
       "    </tr>\n",
       "    <tr>\n",
       "      <th>33</th>\n",
       "      <td>5.1. Rio, Lago e Oceano</td>\n",
       "      <td>26</td>\n",
       "    </tr>\n",
       "  </tbody>\n",
       "</table>\n",
       "</div>"
      ],
      "text/plain": [
       "                                      Class_Names  qt_class\n",
       "Class_Values                                               \n",
       "3                         1.1. Formação Florestal       289\n",
       "4                          1.2. Formação Savânica        93\n",
       "5                                     1.3. Mangue        32\n",
       "11            2.1. Campo Alagado e Área Pantanosa        59\n",
       "12                2.2. Formação Campestre (Campo)        10\n",
       "15                                  3.1. Pastagem        92\n",
       "18                               3.2. Agricultura        13\n",
       "21                           3.4. Mosaico de Usos        18\n",
       "23                              4.1. Praia e Duna        14\n",
       "24                     4.2. Infraestrutura Urbana         9\n",
       "33                        5.1. Rio, Lago e Oceano        26"
      ]
     },
     "execution_count": 119,
     "metadata": {},
     "output_type": "execute_result"
    }
   ],
   "source": [
    "df_by_class['qt_class'] = df_acc['classification'].value_counts()\n",
    "df_by_class"
   ]
  },
  {
   "cell_type": "code",
   "execution_count": 120,
   "metadata": {},
   "outputs": [],
   "source": [
    "df_by_class['qt_reference'] = df_acc['reference'].value_counts()"
   ]
  },
  {
   "cell_type": "code",
   "execution_count": 121,
   "metadata": {},
   "outputs": [
    {
     "data": {
      "text/html": [
       "<div>\n",
       "<style scoped>\n",
       "    .dataframe tbody tr th:only-of-type {\n",
       "        vertical-align: middle;\n",
       "    }\n",
       "\n",
       "    .dataframe tbody tr th {\n",
       "        vertical-align: top;\n",
       "    }\n",
       "\n",
       "    .dataframe thead th {\n",
       "        text-align: right;\n",
       "    }\n",
       "</style>\n",
       "<table border=\"1\" class=\"dataframe\">\n",
       "  <thead>\n",
       "    <tr style=\"text-align: right;\">\n",
       "      <th></th>\n",
       "      <th>Class_Names</th>\n",
       "      <th>qt_class</th>\n",
       "      <th>qt_reference</th>\n",
       "    </tr>\n",
       "    <tr>\n",
       "      <th>Class_Values</th>\n",
       "      <th></th>\n",
       "      <th></th>\n",
       "      <th></th>\n",
       "    </tr>\n",
       "  </thead>\n",
       "  <tbody>\n",
       "    <tr>\n",
       "      <th>3</th>\n",
       "      <td>1.1. Formação Florestal</td>\n",
       "      <td>289</td>\n",
       "      <td>282</td>\n",
       "    </tr>\n",
       "    <tr>\n",
       "      <th>4</th>\n",
       "      <td>1.2. Formação Savânica</td>\n",
       "      <td>93</td>\n",
       "      <td>117</td>\n",
       "    </tr>\n",
       "    <tr>\n",
       "      <th>5</th>\n",
       "      <td>1.3. Mangue</td>\n",
       "      <td>32</td>\n",
       "      <td>15</td>\n",
       "    </tr>\n",
       "    <tr>\n",
       "      <th>11</th>\n",
       "      <td>2.1. Campo Alagado e Área Pantanosa</td>\n",
       "      <td>59</td>\n",
       "      <td>47</td>\n",
       "    </tr>\n",
       "    <tr>\n",
       "      <th>12</th>\n",
       "      <td>2.2. Formação Campestre (Campo)</td>\n",
       "      <td>10</td>\n",
       "      <td>25</td>\n",
       "    </tr>\n",
       "    <tr>\n",
       "      <th>15</th>\n",
       "      <td>3.1. Pastagem</td>\n",
       "      <td>92</td>\n",
       "      <td>102</td>\n",
       "    </tr>\n",
       "    <tr>\n",
       "      <th>18</th>\n",
       "      <td>3.2. Agricultura</td>\n",
       "      <td>13</td>\n",
       "      <td>13</td>\n",
       "    </tr>\n",
       "    <tr>\n",
       "      <th>21</th>\n",
       "      <td>3.4. Mosaico de Usos</td>\n",
       "      <td>18</td>\n",
       "      <td>10</td>\n",
       "    </tr>\n",
       "    <tr>\n",
       "      <th>23</th>\n",
       "      <td>4.1. Praia e Duna</td>\n",
       "      <td>14</td>\n",
       "      <td>14</td>\n",
       "    </tr>\n",
       "    <tr>\n",
       "      <th>24</th>\n",
       "      <td>4.2. Infraestrutura Urbana</td>\n",
       "      <td>9</td>\n",
       "      <td>10</td>\n",
       "    </tr>\n",
       "    <tr>\n",
       "      <th>33</th>\n",
       "      <td>5.1. Rio, Lago e Oceano</td>\n",
       "      <td>26</td>\n",
       "      <td>20</td>\n",
       "    </tr>\n",
       "  </tbody>\n",
       "</table>\n",
       "</div>"
      ],
      "text/plain": [
       "                                      Class_Names  qt_class  qt_reference\n",
       "Class_Values                                                             \n",
       "3                         1.1. Formação Florestal       289           282\n",
       "4                          1.2. Formação Savânica        93           117\n",
       "5                                     1.3. Mangue        32            15\n",
       "11            2.1. Campo Alagado e Área Pantanosa        59            47\n",
       "12                2.2. Formação Campestre (Campo)        10            25\n",
       "15                                  3.1. Pastagem        92           102\n",
       "18                               3.2. Agricultura        13            13\n",
       "21                           3.4. Mosaico de Usos        18            10\n",
       "23                              4.1. Praia e Duna        14            14\n",
       "24                     4.2. Infraestrutura Urbana         9            10\n",
       "33                        5.1. Rio, Lago e Oceano        26            20"
      ]
     },
     "execution_count": 121,
     "metadata": {},
     "output_type": "execute_result"
    }
   ],
   "source": [
    "df_by_class"
   ]
  },
  {
   "attachments": {
    "image.png": {
     "image/png": "[encoded data removed]"
    }
   },
   "cell_type": "markdown",
   "metadata": {},
   "source": [
    "resultado, quando modifiquei o get class, so perdi os dados da floresta alagavel e restinga\n",
    "\n",
    "![image.png](attachment:image.png)"
   ]
  },
  {
   "cell_type": "code",
   "execution_count": 122,
   "metadata": {},
   "outputs": [
    {
     "data": {
      "text/plain": [
       "671"
      ]
     },
     "execution_count": 122,
     "metadata": {},
     "output_type": "execute_result"
    }
   ],
   "source": [
    "712 - (12+29)"
   ]
  },
  {
   "cell_type": "markdown",
   "metadata": {},
   "source": [
    "aqui, vou substituir os nas por zero, ja que é zero a quantidade de classificados"
   ]
  },
  {
   "cell_type": "code",
   "execution_count": 123,
   "metadata": {},
   "outputs": [
    {
     "data": {
      "text/html": [
       "<div>\n",
       "<style scoped>\n",
       "    .dataframe tbody tr th:only-of-type {\n",
       "        vertical-align: middle;\n",
       "    }\n",
       "\n",
       "    .dataframe tbody tr th {\n",
       "        vertical-align: top;\n",
       "    }\n",
       "\n",
       "    .dataframe thead th {\n",
       "        text-align: right;\n",
       "    }\n",
       "</style>\n",
       "<table border=\"1\" class=\"dataframe\">\n",
       "  <thead>\n",
       "    <tr style=\"text-align: right;\">\n",
       "      <th></th>\n",
       "      <th>Class_Names</th>\n",
       "      <th>qt_class</th>\n",
       "      <th>qt_reference</th>\n",
       "    </tr>\n",
       "    <tr>\n",
       "      <th>Class_Values</th>\n",
       "      <th></th>\n",
       "      <th></th>\n",
       "      <th></th>\n",
       "    </tr>\n",
       "  </thead>\n",
       "  <tbody>\n",
       "    <tr>\n",
       "      <th>3</th>\n",
       "      <td>1.1. Formação Florestal</td>\n",
       "      <td>289</td>\n",
       "      <td>282</td>\n",
       "    </tr>\n",
       "    <tr>\n",
       "      <th>4</th>\n",
       "      <td>1.2. Formação Savânica</td>\n",
       "      <td>93</td>\n",
       "      <td>117</td>\n",
       "    </tr>\n",
       "    <tr>\n",
       "      <th>5</th>\n",
       "      <td>1.3. Mangue</td>\n",
       "      <td>32</td>\n",
       "      <td>15</td>\n",
       "    </tr>\n",
       "    <tr>\n",
       "      <th>11</th>\n",
       "      <td>2.1. Campo Alagado e Área Pantanosa</td>\n",
       "      <td>59</td>\n",
       "      <td>47</td>\n",
       "    </tr>\n",
       "    <tr>\n",
       "      <th>12</th>\n",
       "      <td>2.2. Formação Campestre (Campo)</td>\n",
       "      <td>10</td>\n",
       "      <td>25</td>\n",
       "    </tr>\n",
       "    <tr>\n",
       "      <th>15</th>\n",
       "      <td>3.1. Pastagem</td>\n",
       "      <td>92</td>\n",
       "      <td>102</td>\n",
       "    </tr>\n",
       "    <tr>\n",
       "      <th>18</th>\n",
       "      <td>3.2. Agricultura</td>\n",
       "      <td>13</td>\n",
       "      <td>13</td>\n",
       "    </tr>\n",
       "    <tr>\n",
       "      <th>21</th>\n",
       "      <td>3.4. Mosaico de Usos</td>\n",
       "      <td>18</td>\n",
       "      <td>10</td>\n",
       "    </tr>\n",
       "    <tr>\n",
       "      <th>23</th>\n",
       "      <td>4.1. Praia e Duna</td>\n",
       "      <td>14</td>\n",
       "      <td>14</td>\n",
       "    </tr>\n",
       "    <tr>\n",
       "      <th>24</th>\n",
       "      <td>4.2. Infraestrutura Urbana</td>\n",
       "      <td>9</td>\n",
       "      <td>10</td>\n",
       "    </tr>\n",
       "    <tr>\n",
       "      <th>33</th>\n",
       "      <td>5.1. Rio, Lago e Oceano</td>\n",
       "      <td>26</td>\n",
       "      <td>20</td>\n",
       "    </tr>\n",
       "  </tbody>\n",
       "</table>\n",
       "</div>"
      ],
      "text/plain": [
       "                                      Class_Names  qt_class  qt_reference\n",
       "Class_Values                                                             \n",
       "3                         1.1. Formação Florestal       289           282\n",
       "4                          1.2. Formação Savânica        93           117\n",
       "5                                     1.3. Mangue        32            15\n",
       "11            2.1. Campo Alagado e Área Pantanosa        59            47\n",
       "12                2.2. Formação Campestre (Campo)        10            25\n",
       "15                                  3.1. Pastagem        92           102\n",
       "18                               3.2. Agricultura        13            13\n",
       "21                           3.4. Mosaico de Usos        18            10\n",
       "23                              4.1. Praia e Duna        14            14\n",
       "24                     4.2. Infraestrutura Urbana         9            10\n",
       "33                        5.1. Rio, Lago e Oceano        26            20"
      ]
     },
     "execution_count": 123,
     "metadata": {},
     "output_type": "execute_result"
    }
   ],
   "source": [
    "df_by_class.fillna(0, inplace=True)\n",
    "df_by_class"
   ]
  },
  {
   "cell_type": "code",
   "execution_count": 124,
   "metadata": {},
   "outputs": [
    {
     "data": {
      "text/html": [
       "<div>\n",
       "<style scoped>\n",
       "    .dataframe tbody tr th:only-of-type {\n",
       "        vertical-align: middle;\n",
       "    }\n",
       "\n",
       "    .dataframe tbody tr th {\n",
       "        vertical-align: top;\n",
       "    }\n",
       "\n",
       "    .dataframe thead th {\n",
       "        text-align: right;\n",
       "    }\n",
       "</style>\n",
       "<table border=\"1\" class=\"dataframe\">\n",
       "  <thead>\n",
       "    <tr style=\"text-align: right;\">\n",
       "      <th></th>\n",
       "      <th>Class_Names</th>\n",
       "      <th>qt_class</th>\n",
       "      <th>qt_reference</th>\n",
       "    </tr>\n",
       "    <tr>\n",
       "      <th>Class_Values</th>\n",
       "      <th></th>\n",
       "      <th></th>\n",
       "      <th></th>\n",
       "    </tr>\n",
       "  </thead>\n",
       "  <tbody>\n",
       "    <tr>\n",
       "      <th>3</th>\n",
       "      <td>1.1. Formação Florestal</td>\n",
       "      <td>289</td>\n",
       "      <td>282</td>\n",
       "    </tr>\n",
       "    <tr>\n",
       "      <th>4</th>\n",
       "      <td>1.2. Formação Savânica</td>\n",
       "      <td>93</td>\n",
       "      <td>117</td>\n",
       "    </tr>\n",
       "    <tr>\n",
       "      <th>15</th>\n",
       "      <td>3.1. Pastagem</td>\n",
       "      <td>92</td>\n",
       "      <td>102</td>\n",
       "    </tr>\n",
       "    <tr>\n",
       "      <th>11</th>\n",
       "      <td>2.1. Campo Alagado e Área Pantanosa</td>\n",
       "      <td>59</td>\n",
       "      <td>47</td>\n",
       "    </tr>\n",
       "    <tr>\n",
       "      <th>5</th>\n",
       "      <td>1.3. Mangue</td>\n",
       "      <td>32</td>\n",
       "      <td>15</td>\n",
       "    </tr>\n",
       "    <tr>\n",
       "      <th>33</th>\n",
       "      <td>5.1. Rio, Lago e Oceano</td>\n",
       "      <td>26</td>\n",
       "      <td>20</td>\n",
       "    </tr>\n",
       "    <tr>\n",
       "      <th>21</th>\n",
       "      <td>3.4. Mosaico de Usos</td>\n",
       "      <td>18</td>\n",
       "      <td>10</td>\n",
       "    </tr>\n",
       "    <tr>\n",
       "      <th>23</th>\n",
       "      <td>4.1. Praia e Duna</td>\n",
       "      <td>14</td>\n",
       "      <td>14</td>\n",
       "    </tr>\n",
       "    <tr>\n",
       "      <th>18</th>\n",
       "      <td>3.2. Agricultura</td>\n",
       "      <td>13</td>\n",
       "      <td>13</td>\n",
       "    </tr>\n",
       "    <tr>\n",
       "      <th>12</th>\n",
       "      <td>2.2. Formação Campestre (Campo)</td>\n",
       "      <td>10</td>\n",
       "      <td>25</td>\n",
       "    </tr>\n",
       "    <tr>\n",
       "      <th>24</th>\n",
       "      <td>4.2. Infraestrutura Urbana</td>\n",
       "      <td>9</td>\n",
       "      <td>10</td>\n",
       "    </tr>\n",
       "  </tbody>\n",
       "</table>\n",
       "</div>"
      ],
      "text/plain": [
       "                                      Class_Names  qt_class  qt_reference\n",
       "Class_Values                                                             \n",
       "3                         1.1. Formação Florestal       289           282\n",
       "4                          1.2. Formação Savânica        93           117\n",
       "15                                  3.1. Pastagem        92           102\n",
       "11            2.1. Campo Alagado e Área Pantanosa        59            47\n",
       "5                                     1.3. Mangue        32            15\n",
       "33                        5.1. Rio, Lago e Oceano        26            20\n",
       "21                           3.4. Mosaico de Usos        18            10\n",
       "23                              4.1. Praia e Duna        14            14\n",
       "18                               3.2. Agricultura        13            13\n",
       "12                2.2. Formação Campestre (Campo)        10            25\n",
       "24                     4.2. Infraestrutura Urbana         9            10"
      ]
     },
     "execution_count": 124,
     "metadata": {},
     "output_type": "execute_result"
    }
   ],
   "source": [
    "df_by_class.sort_values('qt_class', ascending=False)"
   ]
  },
  {
   "cell_type": "code",
   "execution_count": 125,
   "metadata": {},
   "outputs": [
    {
     "data": {
      "text/plain": [
       "qt_class        655\n",
       "qt_reference    655\n",
       "dtype: int64"
      ]
     },
     "execution_count": 125,
     "metadata": {},
     "output_type": "execute_result"
    }
   ],
   "source": [
    "df_by_class[['qt_class','qt_reference']].sum(axis=0)"
   ]
  },
  {
   "cell_type": "markdown",
   "metadata": {},
   "source": [
    "#### Formatacao"
   ]
  },
  {
   "cell_type": "code",
   "execution_count": 126,
   "metadata": {},
   "outputs": [],
   "source": [
    "df_by_class_formatar = df_by_class.copy(deep=True)"
   ]
  },
  {
   "cell_type": "code",
   "execution_count": 127,
   "metadata": {},
   "outputs": [],
   "source": [
    "df_by_class_formatar.columns = ['Classe', 'Quantidade Classificada', 'Quantidade de Referência']\n",
    "df_by_class_formatar.index.name = 'id'"
   ]
  },
  {
   "cell_type": "code",
   "execution_count": 128,
   "metadata": {},
   "outputs": [
    {
     "data": {
      "text/html": [
       "<div>\n",
       "<style scoped>\n",
       "    .dataframe tbody tr th:only-of-type {\n",
       "        vertical-align: middle;\n",
       "    }\n",
       "\n",
       "    .dataframe tbody tr th {\n",
       "        vertical-align: top;\n",
       "    }\n",
       "\n",
       "    .dataframe thead th {\n",
       "        text-align: right;\n",
       "    }\n",
       "</style>\n",
       "<table border=\"1\" class=\"dataframe\">\n",
       "  <thead>\n",
       "    <tr style=\"text-align: right;\">\n",
       "      <th></th>\n",
       "      <th>Classe</th>\n",
       "      <th>Quantidade Classificada</th>\n",
       "      <th>Quantidade de Referência</th>\n",
       "    </tr>\n",
       "    <tr>\n",
       "      <th>id</th>\n",
       "      <th></th>\n",
       "      <th></th>\n",
       "      <th></th>\n",
       "    </tr>\n",
       "  </thead>\n",
       "  <tbody>\n",
       "    <tr>\n",
       "      <th>3</th>\n",
       "      <td>1.1. Formação Florestal</td>\n",
       "      <td>289</td>\n",
       "      <td>282</td>\n",
       "    </tr>\n",
       "    <tr>\n",
       "      <th>4</th>\n",
       "      <td>1.2. Formação Savânica</td>\n",
       "      <td>93</td>\n",
       "      <td>117</td>\n",
       "    </tr>\n",
       "    <tr>\n",
       "      <th>5</th>\n",
       "      <td>1.3. Mangue</td>\n",
       "      <td>32</td>\n",
       "      <td>15</td>\n",
       "    </tr>\n",
       "    <tr>\n",
       "      <th>11</th>\n",
       "      <td>2.1. Campo Alagado e Área Pantanosa</td>\n",
       "      <td>59</td>\n",
       "      <td>47</td>\n",
       "    </tr>\n",
       "    <tr>\n",
       "      <th>12</th>\n",
       "      <td>2.2. Formação Campestre (Campo)</td>\n",
       "      <td>10</td>\n",
       "      <td>25</td>\n",
       "    </tr>\n",
       "    <tr>\n",
       "      <th>15</th>\n",
       "      <td>3.1. Pastagem</td>\n",
       "      <td>92</td>\n",
       "      <td>102</td>\n",
       "    </tr>\n",
       "    <tr>\n",
       "      <th>18</th>\n",
       "      <td>3.2. Agricultura</td>\n",
       "      <td>13</td>\n",
       "      <td>13</td>\n",
       "    </tr>\n",
       "    <tr>\n",
       "      <th>21</th>\n",
       "      <td>3.4. Mosaico de Usos</td>\n",
       "      <td>18</td>\n",
       "      <td>10</td>\n",
       "    </tr>\n",
       "    <tr>\n",
       "      <th>23</th>\n",
       "      <td>4.1. Praia e Duna</td>\n",
       "      <td>14</td>\n",
       "      <td>14</td>\n",
       "    </tr>\n",
       "    <tr>\n",
       "      <th>24</th>\n",
       "      <td>4.2. Infraestrutura Urbana</td>\n",
       "      <td>9</td>\n",
       "      <td>10</td>\n",
       "    </tr>\n",
       "    <tr>\n",
       "      <th>33</th>\n",
       "      <td>5.1. Rio, Lago e Oceano</td>\n",
       "      <td>26</td>\n",
       "      <td>20</td>\n",
       "    </tr>\n",
       "  </tbody>\n",
       "</table>\n",
       "</div>"
      ],
      "text/plain": [
       "                                 Classe  Quantidade Classificada  \\\n",
       "id                                                                 \n",
       "3               1.1. Formação Florestal                      289   \n",
       "4                1.2. Formação Savânica                       93   \n",
       "5                           1.3. Mangue                       32   \n",
       "11  2.1. Campo Alagado e Área Pantanosa                       59   \n",
       "12      2.2. Formação Campestre (Campo)                       10   \n",
       "15                        3.1. Pastagem                       92   \n",
       "18                     3.2. Agricultura                       13   \n",
       "21                 3.4. Mosaico de Usos                       18   \n",
       "23                    4.1. Praia e Duna                       14   \n",
       "24           4.2. Infraestrutura Urbana                        9   \n",
       "33              5.1. Rio, Lago e Oceano                       26   \n",
       "\n",
       "    Quantidade de Referência  \n",
       "id                            \n",
       "3                        282  \n",
       "4                        117  \n",
       "5                         15  \n",
       "11                        47  \n",
       "12                        25  \n",
       "15                       102  \n",
       "18                        13  \n",
       "21                        10  \n",
       "23                        14  \n",
       "24                        10  \n",
       "33                        20  "
      ]
     },
     "execution_count": 128,
     "metadata": {},
     "output_type": "execute_result"
    }
   ],
   "source": [
    "df_by_class_formatar"
   ]
  },
  {
   "cell_type": "code",
   "execution_count": 129,
   "metadata": {},
   "outputs": [
    {
     "data": {
      "text/plain": [
       "np.float64(0.583206106870229)"
      ]
     },
     "execution_count": 129,
     "metadata": {},
     "output_type": "execute_result"
    }
   ],
   "source": [
    "df_by_class_formatar.loc[[3,4]]['Quantidade Classificada'].sum() / df_by_class_formatar['Quantidade Classificada'].sum()"
   ]
  },
  {
   "cell_type": "code",
   "execution_count": 130,
   "metadata": {},
   "outputs": [
    {
     "data": {
      "text/plain": [
       "<Axes: ylabel='id'>"
      ]
     },
     "execution_count": 130,
     "metadata": {},
     "output_type": "execute_result"
    },
    {
     "data": {
      "image/png": "[encoded data removed]",
      "text/plain": [
       "<Figure size 640x480 with 1 Axes>"
      ]
     },
     "metadata": {},
     "output_type": "display_data"
    }
   ],
   "source": [
    "df_by_class_formatar.plot(kind='barh')"
   ]
  },
  {
   "cell_type": "code",
   "execution_count": 131,
   "metadata": {},
   "outputs": [
    {
     "data": {
      "text/html": [
       "<style type=\"text/css\">\n",
       "</style>\n",
       "<table id=\"T_ab5ea\">\n",
       "  <thead>\n",
       "    <tr>\n",
       "      <th class=\"blank level0\" >&nbsp;</th>\n",
       "      <th id=\"T_ab5ea_level0_col0\" class=\"col_heading level0 col0\" >Classe</th>\n",
       "      <th id=\"T_ab5ea_level0_col1\" class=\"col_heading level0 col1\" >Quantidade Classificada</th>\n",
       "      <th id=\"T_ab5ea_level0_col2\" class=\"col_heading level0 col2\" >Quantidade de Referência</th>\n",
       "    </tr>\n",
       "    <tr>\n",
       "      <th class=\"index_name level0\" >id</th>\n",
       "      <th class=\"blank col0\" >&nbsp;</th>\n",
       "      <th class=\"blank col1\" >&nbsp;</th>\n",
       "      <th class=\"blank col2\" >&nbsp;</th>\n",
       "    </tr>\n",
       "  </thead>\n",
       "  <tbody>\n",
       "    <tr>\n",
       "      <th id=\"T_ab5ea_level0_row0\" class=\"row_heading level0 row0\" >3</th>\n",
       "      <td id=\"T_ab5ea_row0_col0\" class=\"data row0 col0\" >1.1. Formação Florestal</td>\n",
       "      <td id=\"T_ab5ea_row0_col1\" class=\"data row0 col1\" >289</td>\n",
       "      <td id=\"T_ab5ea_row0_col2\" class=\"data row0 col2\" >282</td>\n",
       "    </tr>\n",
       "    <tr>\n",
       "      <th id=\"T_ab5ea_level0_row1\" class=\"row_heading level0 row1\" >4</th>\n",
       "      <td id=\"T_ab5ea_row1_col0\" class=\"data row1 col0\" >1.2. Formação Savânica</td>\n",
       "      <td id=\"T_ab5ea_row1_col1\" class=\"data row1 col1\" >93</td>\n",
       "      <td id=\"T_ab5ea_row1_col2\" class=\"data row1 col2\" >117</td>\n",
       "    </tr>\n",
       "    <tr>\n",
       "      <th id=\"T_ab5ea_level0_row2\" class=\"row_heading level0 row2\" >5</th>\n",
       "      <td id=\"T_ab5ea_row2_col0\" class=\"data row2 col0\" >1.3. Mangue</td>\n",
       "      <td id=\"T_ab5ea_row2_col1\" class=\"data row2 col1\" >32</td>\n",
       "      <td id=\"T_ab5ea_row2_col2\" class=\"data row2 col2\" >15</td>\n",
       "    </tr>\n",
       "    <tr>\n",
       "      <th id=\"T_ab5ea_level0_row3\" class=\"row_heading level0 row3\" >11</th>\n",
       "      <td id=\"T_ab5ea_row3_col0\" class=\"data row3 col0\" >2.1. Campo Alagado e Área Pantanosa</td>\n",
       "      <td id=\"T_ab5ea_row3_col1\" class=\"data row3 col1\" >59</td>\n",
       "      <td id=\"T_ab5ea_row3_col2\" class=\"data row3 col2\" >47</td>\n",
       "    </tr>\n",
       "    <tr>\n",
       "      <th id=\"T_ab5ea_level0_row4\" class=\"row_heading level0 row4\" >12</th>\n",
       "      <td id=\"T_ab5ea_row4_col0\" class=\"data row4 col0\" >2.2. Formação Campestre (Campo)</td>\n",
       "      <td id=\"T_ab5ea_row4_col1\" class=\"data row4 col1\" >10</td>\n",
       "      <td id=\"T_ab5ea_row4_col2\" class=\"data row4 col2\" >25</td>\n",
       "    </tr>\n",
       "    <tr>\n",
       "      <th id=\"T_ab5ea_level0_row5\" class=\"row_heading level0 row5\" >15</th>\n",
       "      <td id=\"T_ab5ea_row5_col0\" class=\"data row5 col0\" >3.1. Pastagem</td>\n",
       "      <td id=\"T_ab5ea_row5_col1\" class=\"data row5 col1\" >92</td>\n",
       "      <td id=\"T_ab5ea_row5_col2\" class=\"data row5 col2\" >102</td>\n",
       "    </tr>\n",
       "    <tr>\n",
       "      <th id=\"T_ab5ea_level0_row6\" class=\"row_heading level0 row6\" >18</th>\n",
       "      <td id=\"T_ab5ea_row6_col0\" class=\"data row6 col0\" >3.2. Agricultura</td>\n",
       "      <td id=\"T_ab5ea_row6_col1\" class=\"data row6 col1\" >13</td>\n",
       "      <td id=\"T_ab5ea_row6_col2\" class=\"data row6 col2\" >13</td>\n",
       "    </tr>\n",
       "    <tr>\n",
       "      <th id=\"T_ab5ea_level0_row7\" class=\"row_heading level0 row7\" >21</th>\n",
       "      <td id=\"T_ab5ea_row7_col0\" class=\"data row7 col0\" >3.4. Mosaico de Usos</td>\n",
       "      <td id=\"T_ab5ea_row7_col1\" class=\"data row7 col1\" >18</td>\n",
       "      <td id=\"T_ab5ea_row7_col2\" class=\"data row7 col2\" >10</td>\n",
       "    </tr>\n",
       "    <tr>\n",
       "      <th id=\"T_ab5ea_level0_row8\" class=\"row_heading level0 row8\" >23</th>\n",
       "      <td id=\"T_ab5ea_row8_col0\" class=\"data row8 col0\" >4.1. Praia e Duna</td>\n",
       "      <td id=\"T_ab5ea_row8_col1\" class=\"data row8 col1\" >14</td>\n",
       "      <td id=\"T_ab5ea_row8_col2\" class=\"data row8 col2\" >14</td>\n",
       "    </tr>\n",
       "    <tr>\n",
       "      <th id=\"T_ab5ea_level0_row9\" class=\"row_heading level0 row9\" >24</th>\n",
       "      <td id=\"T_ab5ea_row9_col0\" class=\"data row9 col0\" >4.2. Infraestrutura Urbana</td>\n",
       "      <td id=\"T_ab5ea_row9_col1\" class=\"data row9 col1\" >9</td>\n",
       "      <td id=\"T_ab5ea_row9_col2\" class=\"data row9 col2\" >10</td>\n",
       "    </tr>\n",
       "    <tr>\n",
       "      <th id=\"T_ab5ea_level0_row10\" class=\"row_heading level0 row10\" >33</th>\n",
       "      <td id=\"T_ab5ea_row10_col0\" class=\"data row10 col0\" >5.1. Rio, Lago e Oceano</td>\n",
       "      <td id=\"T_ab5ea_row10_col1\" class=\"data row10 col1\" >26</td>\n",
       "      <td id=\"T_ab5ea_row10_col2\" class=\"data row10 col2\" >20</td>\n",
       "    </tr>\n",
       "  </tbody>\n",
       "</table>\n"
      ],
      "text/plain": [
       "<pandas.io.formats.style.Styler at 0x7f4de6c85150>"
      ]
     },
     "execution_count": 131,
     "metadata": {},
     "output_type": "execute_result"
    }
   ],
   "source": [
    "#s_by_class = df_by_class_formatar.sort_values('Quantidade Classificada', ascending=False).style\n",
    "s_by_class = df_by_class_formatar.style\n",
    "s_by_class"
   ]
  },
  {
   "cell_type": "code",
   "execution_count": 132,
   "metadata": {},
   "outputs": [
    {
     "data": {
      "text/html": [
       "<style type=\"text/css\">\n",
       "</style>\n",
       "<table id=\"T_ab5ea\">\n",
       "  <thead>\n",
       "    <tr>\n",
       "      <th class=\"blank level0\" >&nbsp;</th>\n",
       "      <th id=\"T_ab5ea_level0_col0\" class=\"col_heading level0 col0\" >Classe</th>\n",
       "      <th id=\"T_ab5ea_level0_col1\" class=\"col_heading level0 col1\" >Quantidade Classificada</th>\n",
       "      <th id=\"T_ab5ea_level0_col2\" class=\"col_heading level0 col2\" >Quantidade de Referência</th>\n",
       "    </tr>\n",
       "    <tr>\n",
       "      <th class=\"index_name level0\" >id</th>\n",
       "      <th class=\"blank col0\" >&nbsp;</th>\n",
       "      <th class=\"blank col1\" >&nbsp;</th>\n",
       "      <th class=\"blank col2\" >&nbsp;</th>\n",
       "    </tr>\n",
       "  </thead>\n",
       "  <tbody>\n",
       "    <tr>\n",
       "      <th id=\"T_ab5ea_level0_row0\" class=\"row_heading level0 row0\" >3</th>\n",
       "      <td id=\"T_ab5ea_row0_col0\" class=\"data row0 col0\" >1.1. Formação Florestal</td>\n",
       "      <td id=\"T_ab5ea_row0_col1\" class=\"data row0 col1\" >289</td>\n",
       "      <td id=\"T_ab5ea_row0_col2\" class=\"data row0 col2\" >282</td>\n",
       "    </tr>\n",
       "    <tr>\n",
       "      <th id=\"T_ab5ea_level0_row1\" class=\"row_heading level0 row1\" >4</th>\n",
       "      <td id=\"T_ab5ea_row1_col0\" class=\"data row1 col0\" >1.2. Formação Savânica</td>\n",
       "      <td id=\"T_ab5ea_row1_col1\" class=\"data row1 col1\" >93</td>\n",
       "      <td id=\"T_ab5ea_row1_col2\" class=\"data row1 col2\" >117</td>\n",
       "    </tr>\n",
       "    <tr>\n",
       "      <th id=\"T_ab5ea_level0_row2\" class=\"row_heading level0 row2\" >5</th>\n",
       "      <td id=\"T_ab5ea_row2_col0\" class=\"data row2 col0\" >1.3. Mangue</td>\n",
       "      <td id=\"T_ab5ea_row2_col1\" class=\"data row2 col1\" >32</td>\n",
       "      <td id=\"T_ab5ea_row2_col2\" class=\"data row2 col2\" >15</td>\n",
       "    </tr>\n",
       "    <tr>\n",
       "      <th id=\"T_ab5ea_level0_row3\" class=\"row_heading level0 row3\" >11</th>\n",
       "      <td id=\"T_ab5ea_row3_col0\" class=\"data row3 col0\" >2.1. Campo Alagado e Área Pantanosa</td>\n",
       "      <td id=\"T_ab5ea_row3_col1\" class=\"data row3 col1\" >59</td>\n",
       "      <td id=\"T_ab5ea_row3_col2\" class=\"data row3 col2\" >47</td>\n",
       "    </tr>\n",
       "    <tr>\n",
       "      <th id=\"T_ab5ea_level0_row4\" class=\"row_heading level0 row4\" >12</th>\n",
       "      <td id=\"T_ab5ea_row4_col0\" class=\"data row4 col0\" >2.2. Formação Campestre (Campo)</td>\n",
       "      <td id=\"T_ab5ea_row4_col1\" class=\"data row4 col1\" >10</td>\n",
       "      <td id=\"T_ab5ea_row4_col2\" class=\"data row4 col2\" >25</td>\n",
       "    </tr>\n",
       "    <tr>\n",
       "      <th id=\"T_ab5ea_level0_row5\" class=\"row_heading level0 row5\" >15</th>\n",
       "      <td id=\"T_ab5ea_row5_col0\" class=\"data row5 col0\" >3.1. Pastagem</td>\n",
       "      <td id=\"T_ab5ea_row5_col1\" class=\"data row5 col1\" >92</td>\n",
       "      <td id=\"T_ab5ea_row5_col2\" class=\"data row5 col2\" >102</td>\n",
       "    </tr>\n",
       "    <tr>\n",
       "      <th id=\"T_ab5ea_level0_row6\" class=\"row_heading level0 row6\" >18</th>\n",
       "      <td id=\"T_ab5ea_row6_col0\" class=\"data row6 col0\" >3.2. Agricultura</td>\n",
       "      <td id=\"T_ab5ea_row6_col1\" class=\"data row6 col1\" >13</td>\n",
       "      <td id=\"T_ab5ea_row6_col2\" class=\"data row6 col2\" >13</td>\n",
       "    </tr>\n",
       "    <tr>\n",
       "      <th id=\"T_ab5ea_level0_row7\" class=\"row_heading level0 row7\" >21</th>\n",
       "      <td id=\"T_ab5ea_row7_col0\" class=\"data row7 col0\" >3.4. Mosaico de Usos</td>\n",
       "      <td id=\"T_ab5ea_row7_col1\" class=\"data row7 col1\" >18</td>\n",
       "      <td id=\"T_ab5ea_row7_col2\" class=\"data row7 col2\" >10</td>\n",
       "    </tr>\n",
       "    <tr>\n",
       "      <th id=\"T_ab5ea_level0_row8\" class=\"row_heading level0 row8\" >23</th>\n",
       "      <td id=\"T_ab5ea_row8_col0\" class=\"data row8 col0\" >4.1. Praia e Duna</td>\n",
       "      <td id=\"T_ab5ea_row8_col1\" class=\"data row8 col1\" >14</td>\n",
       "      <td id=\"T_ab5ea_row8_col2\" class=\"data row8 col2\" >14</td>\n",
       "    </tr>\n",
       "    <tr>\n",
       "      <th id=\"T_ab5ea_level0_row9\" class=\"row_heading level0 row9\" >24</th>\n",
       "      <td id=\"T_ab5ea_row9_col0\" class=\"data row9 col0\" >4.2. Infraestrutura Urbana</td>\n",
       "      <td id=\"T_ab5ea_row9_col1\" class=\"data row9 col1\" >9</td>\n",
       "      <td id=\"T_ab5ea_row9_col2\" class=\"data row9 col2\" >10</td>\n",
       "    </tr>\n",
       "    <tr>\n",
       "      <th id=\"T_ab5ea_level0_row10\" class=\"row_heading level0 row10\" >33</th>\n",
       "      <td id=\"T_ab5ea_row10_col0\" class=\"data row10 col0\" >5.1. Rio, Lago e Oceano</td>\n",
       "      <td id=\"T_ab5ea_row10_col1\" class=\"data row10 col1\" >26</td>\n",
       "      <td id=\"T_ab5ea_row10_col2\" class=\"data row10 col2\" >20</td>\n",
       "    </tr>\n",
       "  </tbody>\n",
       "</table>\n"
      ],
      "text/plain": [
       "<pandas.io.formats.style.Styler at 0x7f4de6c85150>"
      ]
     },
     "execution_count": 132,
     "metadata": {},
     "output_type": "execute_result"
    }
   ],
   "source": [
    "s_by_class.format ({\n",
    "    'Quantidade Classificada' : '{:.0f}',\n",
    "    'Quantidade de Referência' : '{:.0f}'\n",
    "})"
   ]
  },
  {
   "cell_type": "code",
   "execution_count": 133,
   "metadata": {},
   "outputs": [
    {
     "ename": "FileNotFoundError",
     "evalue": "[Errno 2] No such file or directory: 'tmp/saida.html'",
     "output_type": "error",
     "traceback": [
      "\u001b[0;31m---------------------------------------------------------------------------\u001b[0m",
      "\u001b[0;31mFileNotFoundError\u001b[0m                         Traceback (most recent call last)",
      "Cell \u001b[0;32mIn[133], line 1\u001b[0m\n\u001b[0;32m----> 1\u001b[0m file \u001b[38;5;241m=\u001b[39m \u001b[38;5;28;43mopen\u001b[39;49m\u001b[43m \u001b[49m\u001b[43m(\u001b[49m\u001b[38;5;124;43m'\u001b[39;49m\u001b[38;5;124;43mtmp/saida.html\u001b[39;49m\u001b[38;5;124;43m'\u001b[39;49m\u001b[43m,\u001b[49m\u001b[38;5;124;43m'\u001b[39;49m\u001b[38;5;124;43mw\u001b[39;49m\u001b[38;5;124;43m'\u001b[39;49m\u001b[43m)\u001b[49m\n\u001b[1;32m      2\u001b[0m file\u001b[38;5;241m.\u001b[39mwrite(s_by_class\u001b[38;5;241m.\u001b[39mto_html())\n\u001b[1;32m      3\u001b[0m file\u001b[38;5;241m.\u001b[39mclose()\n",
      "File \u001b[0;32m~/dev/acuracia_slz/.venv/lib/python3.10/site-packages/IPython/core/interactiveshell.py:324\u001b[0m, in \u001b[0;36m_modified_open\u001b[0;34m(file, *args, **kwargs)\u001b[0m\n\u001b[1;32m    317\u001b[0m \u001b[38;5;28;01mif\u001b[39;00m file \u001b[38;5;129;01min\u001b[39;00m {\u001b[38;5;241m0\u001b[39m, \u001b[38;5;241m1\u001b[39m, \u001b[38;5;241m2\u001b[39m}:\n\u001b[1;32m    318\u001b[0m     \u001b[38;5;28;01mraise\u001b[39;00m \u001b[38;5;167;01mValueError\u001b[39;00m(\n\u001b[1;32m    319\u001b[0m         \u001b[38;5;124mf\u001b[39m\u001b[38;5;124m\"\u001b[39m\u001b[38;5;124mIPython won\u001b[39m\u001b[38;5;124m'\u001b[39m\u001b[38;5;124mt let you open fd=\u001b[39m\u001b[38;5;132;01m{\u001b[39;00mfile\u001b[38;5;132;01m}\u001b[39;00m\u001b[38;5;124m by default \u001b[39m\u001b[38;5;124m\"\u001b[39m\n\u001b[1;32m    320\u001b[0m         \u001b[38;5;124m\"\u001b[39m\u001b[38;5;124mas it is likely to crash IPython. If you know what you are doing, \u001b[39m\u001b[38;5;124m\"\u001b[39m\n\u001b[1;32m    321\u001b[0m         \u001b[38;5;124m\"\u001b[39m\u001b[38;5;124myou can use builtins\u001b[39m\u001b[38;5;124m'\u001b[39m\u001b[38;5;124m open.\u001b[39m\u001b[38;5;124m\"\u001b[39m\n\u001b[1;32m    322\u001b[0m     )\n\u001b[0;32m--> 324\u001b[0m \u001b[38;5;28;01mreturn\u001b[39;00m \u001b[43mio_open\u001b[49m\u001b[43m(\u001b[49m\u001b[43mfile\u001b[49m\u001b[43m,\u001b[49m\u001b[43m \u001b[49m\u001b[38;5;241;43m*\u001b[39;49m\u001b[43margs\u001b[49m\u001b[43m,\u001b[49m\u001b[43m \u001b[49m\u001b[38;5;241;43m*\u001b[39;49m\u001b[38;5;241;43m*\u001b[39;49m\u001b[43mkwargs\u001b[49m\u001b[43m)\u001b[49m\n",
      "\u001b[0;31mFileNotFoundError\u001b[0m: [Errno 2] No such file or directory: 'tmp/saida.html'"
     ]
    }
   ],
   "source": [
    "file = open ('tmp/saida.html','w')\n",
    "file.write(s_by_class.to_html())\n",
    "file.close()"
   ]
  },
  {
   "cell_type": "markdown",
   "metadata": {},
   "source": [
    "## Analise da acuracia"
   ]
  },
  {
   "cell_type": "markdown",
   "metadata": {},
   "source": [
    "### Preparação das variáveis usadas para calcular"
   ]
  },
  {
   "cell_type": "code",
   "execution_count": 134,
   "metadata": {},
   "outputs": [],
   "source": [
    "from sklearn.metrics import confusion_matrix"
   ]
  },
  {
   "cell_type": "code",
   "execution_count": 135,
   "metadata": {},
   "outputs": [],
   "source": [
    "y_true = df_acc[['reference']].to_numpy().flatten()\n",
    "y_pred = df_acc[['classification']].to_numpy().flatten()"
   ]
  },
  {
   "cell_type": "markdown",
   "metadata": {},
   "source": [
    "verificar se existe classes em uma e nao na outra"
   ]
  },
  {
   "cell_type": "code",
   "execution_count": 136,
   "metadata": {},
   "outputs": [
    {
     "data": {
      "text/plain": [
       "set()"
      ]
     },
     "execution_count": 136,
     "metadata": {},
     "output_type": "execute_result"
    }
   ],
   "source": [
    "set(y_pred) - set (y_true)"
   ]
  },
  {
   "cell_type": "code",
   "execution_count": 137,
   "metadata": {},
   "outputs": [
    {
     "data": {
      "text/plain": [
       "set()"
      ]
     },
     "execution_count": 137,
     "metadata": {},
     "output_type": "execute_result"
    }
   ],
   "source": [
    "set(y_true) - set (y_pred)"
   ]
  },
  {
   "cell_type": "code",
   "execution_count": 138,
   "metadata": {},
   "outputs": [
    {
     "name": "stdout",
     "output_type": "stream",
     "text": [
      "[[225  34   1   0   3  23   1   0   0   0   2]\n",
      " [ 12  69   0   0   4   8   0   0   0   0   0]\n",
      " [ 18   0  14   0   0   0   0   0   0   0   0]\n",
      " [  8   0   0  38   7   6   0   0   0   0   0]\n",
      " [  0   6   0   0   1   2   0   0   0   0   1]\n",
      " [ 16   4   0   3   6  61   0   0   0   2   0]\n",
      " [  0   0   0   0   0   1  12   0   0   0   0]\n",
      " [  1   4   0   0   3   0   0  10   0   0   0]\n",
      " [  0   0   0   0   0   0   0   0  14   0   0]\n",
      " [  0   0   0   0   0   1   0   0   0   8   0]\n",
      " [  2   0   0   6   1   0   0   0   0   0  17]]\n"
     ]
    }
   ],
   "source": [
    "matrix_sem_peso = confusion_matrix(y_true, y_pred).T\n",
    "print (matrix_sem_peso)"
   ]
  },
  {
   "cell_type": "code",
   "execution_count": 152,
   "metadata": {},
   "outputs": [
    {
     "data": {
      "text/plain": [
       "np.int64(655)"
      ]
     },
     "execution_count": 152,
     "metadata": {},
     "output_type": "execute_result"
    }
   ],
   "source": [
    "matrix_sem_peso.sum()"
   ]
  },
  {
   "cell_type": "code",
   "execution_count": 153,
   "metadata": {},
   "outputs": [
    {
     "data": {
      "text/plain": [
       "np.int64(469)"
      ]
     },
     "execution_count": 153,
     "metadata": {},
     "output_type": "execute_result"
    }
   ],
   "source": [
    "matrix_sem_peso.diagonal().sum() "
   ]
  },
  {
   "cell_type": "code",
   "execution_count": 154,
   "metadata": {},
   "outputs": [
    {
     "data": {
      "text/plain": [
       "np.int64(186)"
      ]
     },
     "execution_count": 154,
     "metadata": {},
     "output_type": "execute_result"
    }
   ],
   "source": [
    "matrix_sem_peso.sum() - matrix_sem_peso.diagonal().sum() "
   ]
  },
  {
   "cell_type": "code",
   "execution_count": 139,
   "metadata": {},
   "outputs": [
    {
     "data": {
      "text/plain": [
       "np.float64(0.716030534351145)"
      ]
     },
     "execution_count": 139,
     "metadata": {},
     "output_type": "execute_result"
    }
   ],
   "source": [
    "matrix_sem_peso.diagonal().sum() / matrix_sem_peso.sum()"
   ]
  },
  {
   "cell_type": "code",
   "execution_count": 140,
   "metadata": {},
   "outputs": [
    {
     "data": {
      "text/plain": [
       "np.int64(655)"
      ]
     },
     "execution_count": 140,
     "metadata": {},
     "output_type": "execute_result"
    }
   ],
   "source": [
    "total = matrix_sem_peso.sum()\n",
    "total"
   ]
  },
  {
   "cell_type": "code",
   "execution_count": 141,
   "metadata": {},
   "outputs": [
    {
     "data": {
      "text/plain": [
       "[np.int64(3),\n",
       " np.int64(4),\n",
       " np.int64(5),\n",
       " np.int64(11),\n",
       " np.int64(12),\n",
       " np.int64(15),\n",
       " np.int64(18),\n",
       " np.int64(21),\n",
       " np.int64(23),\n",
       " np.int64(24),\n",
       " np.int64(33)]"
      ]
     },
     "execution_count": 141,
     "metadata": {},
     "output_type": "execute_result"
    }
   ],
   "source": [
    "classes_index = list (set(y_true).union(set (y_pred)))\n",
    "classes_index"
   ]
  },
  {
   "cell_type": "code",
   "execution_count": 142,
   "metadata": {},
   "outputs": [],
   "source": [
    "df_matriz_confusao_qt = pd.DataFrame(matrix_sem_peso, index=classes_index, columns=classes_index)"
   ]
  },
  {
   "cell_type": "markdown",
   "metadata": {},
   "source": [
    "#### Formatacao para artigo"
   ]
  },
  {
   "cell_type": "code",
   "execution_count": 143,
   "metadata": {},
   "outputs": [
    {
     "data": {
      "text/html": [
       "<div>\n",
       "<style scoped>\n",
       "    .dataframe tbody tr th:only-of-type {\n",
       "        vertical-align: middle;\n",
       "    }\n",
       "\n",
       "    .dataframe tbody tr th {\n",
       "        vertical-align: top;\n",
       "    }\n",
       "\n",
       "    .dataframe thead th {\n",
       "        text-align: right;\n",
       "    }\n",
       "</style>\n",
       "<table border=\"1\" class=\"dataframe\">\n",
       "  <thead>\n",
       "    <tr style=\"text-align: right;\">\n",
       "      <th></th>\n",
       "      <th>3</th>\n",
       "      <th>4</th>\n",
       "      <th>5</th>\n",
       "      <th>11</th>\n",
       "      <th>12</th>\n",
       "      <th>15</th>\n",
       "      <th>18</th>\n",
       "      <th>21</th>\n",
       "      <th>23</th>\n",
       "      <th>24</th>\n",
       "      <th>33</th>\n",
       "      <th>Tot</th>\n",
       "    </tr>\n",
       "  </thead>\n",
       "  <tbody>\n",
       "    <tr>\n",
       "      <th>3</th>\n",
       "      <td>225</td>\n",
       "      <td>34</td>\n",
       "      <td>1</td>\n",
       "      <td>0</td>\n",
       "      <td>3</td>\n",
       "      <td>23</td>\n",
       "      <td>1</td>\n",
       "      <td>0</td>\n",
       "      <td>0</td>\n",
       "      <td>0</td>\n",
       "      <td>2</td>\n",
       "      <td>289</td>\n",
       "    </tr>\n",
       "    <tr>\n",
       "      <th>4</th>\n",
       "      <td>12</td>\n",
       "      <td>69</td>\n",
       "      <td>0</td>\n",
       "      <td>0</td>\n",
       "      <td>4</td>\n",
       "      <td>8</td>\n",
       "      <td>0</td>\n",
       "      <td>0</td>\n",
       "      <td>0</td>\n",
       "      <td>0</td>\n",
       "      <td>0</td>\n",
       "      <td>93</td>\n",
       "    </tr>\n",
       "    <tr>\n",
       "      <th>5</th>\n",
       "      <td>18</td>\n",
       "      <td>0</td>\n",
       "      <td>14</td>\n",
       "      <td>0</td>\n",
       "      <td>0</td>\n",
       "      <td>0</td>\n",
       "      <td>0</td>\n",
       "      <td>0</td>\n",
       "      <td>0</td>\n",
       "      <td>0</td>\n",
       "      <td>0</td>\n",
       "      <td>32</td>\n",
       "    </tr>\n",
       "    <tr>\n",
       "      <th>11</th>\n",
       "      <td>8</td>\n",
       "      <td>0</td>\n",
       "      <td>0</td>\n",
       "      <td>38</td>\n",
       "      <td>7</td>\n",
       "      <td>6</td>\n",
       "      <td>0</td>\n",
       "      <td>0</td>\n",
       "      <td>0</td>\n",
       "      <td>0</td>\n",
       "      <td>0</td>\n",
       "      <td>59</td>\n",
       "    </tr>\n",
       "    <tr>\n",
       "      <th>12</th>\n",
       "      <td>0</td>\n",
       "      <td>6</td>\n",
       "      <td>0</td>\n",
       "      <td>0</td>\n",
       "      <td>1</td>\n",
       "      <td>2</td>\n",
       "      <td>0</td>\n",
       "      <td>0</td>\n",
       "      <td>0</td>\n",
       "      <td>0</td>\n",
       "      <td>1</td>\n",
       "      <td>10</td>\n",
       "    </tr>\n",
       "    <tr>\n",
       "      <th>15</th>\n",
       "      <td>16</td>\n",
       "      <td>4</td>\n",
       "      <td>0</td>\n",
       "      <td>3</td>\n",
       "      <td>6</td>\n",
       "      <td>61</td>\n",
       "      <td>0</td>\n",
       "      <td>0</td>\n",
       "      <td>0</td>\n",
       "      <td>2</td>\n",
       "      <td>0</td>\n",
       "      <td>92</td>\n",
       "    </tr>\n",
       "    <tr>\n",
       "      <th>18</th>\n",
       "      <td>0</td>\n",
       "      <td>0</td>\n",
       "      <td>0</td>\n",
       "      <td>0</td>\n",
       "      <td>0</td>\n",
       "      <td>1</td>\n",
       "      <td>12</td>\n",
       "      <td>0</td>\n",
       "      <td>0</td>\n",
       "      <td>0</td>\n",
       "      <td>0</td>\n",
       "      <td>13</td>\n",
       "    </tr>\n",
       "    <tr>\n",
       "      <th>21</th>\n",
       "      <td>1</td>\n",
       "      <td>4</td>\n",
       "      <td>0</td>\n",
       "      <td>0</td>\n",
       "      <td>3</td>\n",
       "      <td>0</td>\n",
       "      <td>0</td>\n",
       "      <td>10</td>\n",
       "      <td>0</td>\n",
       "      <td>0</td>\n",
       "      <td>0</td>\n",
       "      <td>18</td>\n",
       "    </tr>\n",
       "    <tr>\n",
       "      <th>23</th>\n",
       "      <td>0</td>\n",
       "      <td>0</td>\n",
       "      <td>0</td>\n",
       "      <td>0</td>\n",
       "      <td>0</td>\n",
       "      <td>0</td>\n",
       "      <td>0</td>\n",
       "      <td>0</td>\n",
       "      <td>14</td>\n",
       "      <td>0</td>\n",
       "      <td>0</td>\n",
       "      <td>14</td>\n",
       "    </tr>\n",
       "    <tr>\n",
       "      <th>24</th>\n",
       "      <td>0</td>\n",
       "      <td>0</td>\n",
       "      <td>0</td>\n",
       "      <td>0</td>\n",
       "      <td>0</td>\n",
       "      <td>1</td>\n",
       "      <td>0</td>\n",
       "      <td>0</td>\n",
       "      <td>0</td>\n",
       "      <td>8</td>\n",
       "      <td>0</td>\n",
       "      <td>9</td>\n",
       "    </tr>\n",
       "    <tr>\n",
       "      <th>33</th>\n",
       "      <td>2</td>\n",
       "      <td>0</td>\n",
       "      <td>0</td>\n",
       "      <td>6</td>\n",
       "      <td>1</td>\n",
       "      <td>0</td>\n",
       "      <td>0</td>\n",
       "      <td>0</td>\n",
       "      <td>0</td>\n",
       "      <td>0</td>\n",
       "      <td>17</td>\n",
       "      <td>26</td>\n",
       "    </tr>\n",
       "  </tbody>\n",
       "</table>\n",
       "</div>"
      ],
      "text/plain": [
       "      3   4   5  11  12  15  18  21  23  24  33  Tot\n",
       "3   225  34   1   0   3  23   1   0   0   0   2  289\n",
       "4    12  69   0   0   4   8   0   0   0   0   0   93\n",
       "5    18   0  14   0   0   0   0   0   0   0   0   32\n",
       "11    8   0   0  38   7   6   0   0   0   0   0   59\n",
       "12    0   6   0   0   1   2   0   0   0   0   1   10\n",
       "15   16   4   0   3   6  61   0   0   0   2   0   92\n",
       "18    0   0   0   0   0   1  12   0   0   0   0   13\n",
       "21    1   4   0   0   3   0   0  10   0   0   0   18\n",
       "23    0   0   0   0   0   0   0   0  14   0   0   14\n",
       "24    0   0   0   0   0   1   0   0   0   8   0    9\n",
       "33    2   0   0   6   1   0   0   0   0   0  17   26"
      ]
     },
     "execution_count": 143,
     "metadata": {},
     "output_type": "execute_result"
    }
   ],
   "source": [
    "df_matriz_confusao_qt['Tot'] = df_matriz_confusao_qt.sum(axis=1)\n",
    "df_matriz_confusao_qt"
   ]
  },
  {
   "cell_type": "code",
   "execution_count": 144,
   "metadata": {},
   "outputs": [],
   "source": [
    "df_matriz_confusao_qt.loc['Tot'] = df_matriz_confusao_qt.sum(axis=0)"
   ]
  },
  {
   "cell_type": "code",
   "execution_count": 145,
   "metadata": {},
   "outputs": [
    {
     "data": {
      "text/html": [
       "<div>\n",
       "<style scoped>\n",
       "    .dataframe tbody tr th:only-of-type {\n",
       "        vertical-align: middle;\n",
       "    }\n",
       "\n",
       "    .dataframe tbody tr th {\n",
       "        vertical-align: top;\n",
       "    }\n",
       "\n",
       "    .dataframe thead th {\n",
       "        text-align: right;\n",
       "    }\n",
       "</style>\n",
       "<table border=\"1\" class=\"dataframe\">\n",
       "  <thead>\n",
       "    <tr style=\"text-align: right;\">\n",
       "      <th></th>\n",
       "      <th>3</th>\n",
       "      <th>4</th>\n",
       "      <th>5</th>\n",
       "      <th>11</th>\n",
       "      <th>12</th>\n",
       "      <th>15</th>\n",
       "      <th>18</th>\n",
       "      <th>21</th>\n",
       "      <th>23</th>\n",
       "      <th>24</th>\n",
       "      <th>33</th>\n",
       "      <th>Tot</th>\n",
       "    </tr>\n",
       "  </thead>\n",
       "  <tbody>\n",
       "    <tr>\n",
       "      <th>3</th>\n",
       "      <td>225</td>\n",
       "      <td>34</td>\n",
       "      <td>1</td>\n",
       "      <td>0</td>\n",
       "      <td>3</td>\n",
       "      <td>23</td>\n",
       "      <td>1</td>\n",
       "      <td>0</td>\n",
       "      <td>0</td>\n",
       "      <td>0</td>\n",
       "      <td>2</td>\n",
       "      <td>289</td>\n",
       "    </tr>\n",
       "    <tr>\n",
       "      <th>4</th>\n",
       "      <td>12</td>\n",
       "      <td>69</td>\n",
       "      <td>0</td>\n",
       "      <td>0</td>\n",
       "      <td>4</td>\n",
       "      <td>8</td>\n",
       "      <td>0</td>\n",
       "      <td>0</td>\n",
       "      <td>0</td>\n",
       "      <td>0</td>\n",
       "      <td>0</td>\n",
       "      <td>93</td>\n",
       "    </tr>\n",
       "    <tr>\n",
       "      <th>5</th>\n",
       "      <td>18</td>\n",
       "      <td>0</td>\n",
       "      <td>14</td>\n",
       "      <td>0</td>\n",
       "      <td>0</td>\n",
       "      <td>0</td>\n",
       "      <td>0</td>\n",
       "      <td>0</td>\n",
       "      <td>0</td>\n",
       "      <td>0</td>\n",
       "      <td>0</td>\n",
       "      <td>32</td>\n",
       "    </tr>\n",
       "    <tr>\n",
       "      <th>11</th>\n",
       "      <td>8</td>\n",
       "      <td>0</td>\n",
       "      <td>0</td>\n",
       "      <td>38</td>\n",
       "      <td>7</td>\n",
       "      <td>6</td>\n",
       "      <td>0</td>\n",
       "      <td>0</td>\n",
       "      <td>0</td>\n",
       "      <td>0</td>\n",
       "      <td>0</td>\n",
       "      <td>59</td>\n",
       "    </tr>\n",
       "    <tr>\n",
       "      <th>12</th>\n",
       "      <td>0</td>\n",
       "      <td>6</td>\n",
       "      <td>0</td>\n",
       "      <td>0</td>\n",
       "      <td>1</td>\n",
       "      <td>2</td>\n",
       "      <td>0</td>\n",
       "      <td>0</td>\n",
       "      <td>0</td>\n",
       "      <td>0</td>\n",
       "      <td>1</td>\n",
       "      <td>10</td>\n",
       "    </tr>\n",
       "    <tr>\n",
       "      <th>15</th>\n",
       "      <td>16</td>\n",
       "      <td>4</td>\n",
       "      <td>0</td>\n",
       "      <td>3</td>\n",
       "      <td>6</td>\n",
       "      <td>61</td>\n",
       "      <td>0</td>\n",
       "      <td>0</td>\n",
       "      <td>0</td>\n",
       "      <td>2</td>\n",
       "      <td>0</td>\n",
       "      <td>92</td>\n",
       "    </tr>\n",
       "    <tr>\n",
       "      <th>18</th>\n",
       "      <td>0</td>\n",
       "      <td>0</td>\n",
       "      <td>0</td>\n",
       "      <td>0</td>\n",
       "      <td>0</td>\n",
       "      <td>1</td>\n",
       "      <td>12</td>\n",
       "      <td>0</td>\n",
       "      <td>0</td>\n",
       "      <td>0</td>\n",
       "      <td>0</td>\n",
       "      <td>13</td>\n",
       "    </tr>\n",
       "    <tr>\n",
       "      <th>21</th>\n",
       "      <td>1</td>\n",
       "      <td>4</td>\n",
       "      <td>0</td>\n",
       "      <td>0</td>\n",
       "      <td>3</td>\n",
       "      <td>0</td>\n",
       "      <td>0</td>\n",
       "      <td>10</td>\n",
       "      <td>0</td>\n",
       "      <td>0</td>\n",
       "      <td>0</td>\n",
       "      <td>18</td>\n",
       "    </tr>\n",
       "    <tr>\n",
       "      <th>23</th>\n",
       "      <td>0</td>\n",
       "      <td>0</td>\n",
       "      <td>0</td>\n",
       "      <td>0</td>\n",
       "      <td>0</td>\n",
       "      <td>0</td>\n",
       "      <td>0</td>\n",
       "      <td>0</td>\n",
       "      <td>14</td>\n",
       "      <td>0</td>\n",
       "      <td>0</td>\n",
       "      <td>14</td>\n",
       "    </tr>\n",
       "    <tr>\n",
       "      <th>24</th>\n",
       "      <td>0</td>\n",
       "      <td>0</td>\n",
       "      <td>0</td>\n",
       "      <td>0</td>\n",
       "      <td>0</td>\n",
       "      <td>1</td>\n",
       "      <td>0</td>\n",
       "      <td>0</td>\n",
       "      <td>0</td>\n",
       "      <td>8</td>\n",
       "      <td>0</td>\n",
       "      <td>9</td>\n",
       "    </tr>\n",
       "    <tr>\n",
       "      <th>33</th>\n",
       "      <td>2</td>\n",
       "      <td>0</td>\n",
       "      <td>0</td>\n",
       "      <td>6</td>\n",
       "      <td>1</td>\n",
       "      <td>0</td>\n",
       "      <td>0</td>\n",
       "      <td>0</td>\n",
       "      <td>0</td>\n",
       "      <td>0</td>\n",
       "      <td>17</td>\n",
       "      <td>26</td>\n",
       "    </tr>\n",
       "    <tr>\n",
       "      <th>Tot</th>\n",
       "      <td>282</td>\n",
       "      <td>117</td>\n",
       "      <td>15</td>\n",
       "      <td>47</td>\n",
       "      <td>25</td>\n",
       "      <td>102</td>\n",
       "      <td>13</td>\n",
       "      <td>10</td>\n",
       "      <td>14</td>\n",
       "      <td>10</td>\n",
       "      <td>20</td>\n",
       "      <td>655</td>\n",
       "    </tr>\n",
       "  </tbody>\n",
       "</table>\n",
       "</div>"
      ],
      "text/plain": [
       "       3    4   5  11  12   15  18  21  23  24  33  Tot\n",
       "3    225   34   1   0   3   23   1   0   0   0   2  289\n",
       "4     12   69   0   0   4    8   0   0   0   0   0   93\n",
       "5     18    0  14   0   0    0   0   0   0   0   0   32\n",
       "11     8    0   0  38   7    6   0   0   0   0   0   59\n",
       "12     0    6   0   0   1    2   0   0   0   0   1   10\n",
       "15    16    4   0   3   6   61   0   0   0   2   0   92\n",
       "18     0    0   0   0   0    1  12   0   0   0   0   13\n",
       "21     1    4   0   0   3    0   0  10   0   0   0   18\n",
       "23     0    0   0   0   0    0   0   0  14   0   0   14\n",
       "24     0    0   0   0   0    1   0   0   0   8   0    9\n",
       "33     2    0   0   6   1    0   0   0   0   0  17   26\n",
       "Tot  282  117  15  47  25  102  13  10  14  10  20  655"
      ]
     },
     "execution_count": 145,
     "metadata": {},
     "output_type": "execute_result"
    }
   ],
   "source": [
    "df_matriz_confusao_qt"
   ]
  },
  {
   "cell_type": "code",
   "execution_count": 146,
   "metadata": {},
   "outputs": [
    {
     "data": {
      "text/html": [
       "<style type=\"text/css\">\n",
       "</style>\n",
       "<table id=\"T_bcac7\">\n",
       "  <thead>\n",
       "    <tr>\n",
       "      <th class=\"blank level0\" >&nbsp;</th>\n",
       "      <th id=\"T_bcac7_level0_col0\" class=\"col_heading level0 col0\" >3</th>\n",
       "      <th id=\"T_bcac7_level0_col1\" class=\"col_heading level0 col1\" >4</th>\n",
       "      <th id=\"T_bcac7_level0_col2\" class=\"col_heading level0 col2\" >5</th>\n",
       "      <th id=\"T_bcac7_level0_col3\" class=\"col_heading level0 col3\" >11</th>\n",
       "      <th id=\"T_bcac7_level0_col4\" class=\"col_heading level0 col4\" >12</th>\n",
       "      <th id=\"T_bcac7_level0_col5\" class=\"col_heading level0 col5\" >15</th>\n",
       "      <th id=\"T_bcac7_level0_col6\" class=\"col_heading level0 col6\" >18</th>\n",
       "      <th id=\"T_bcac7_level0_col7\" class=\"col_heading level0 col7\" >21</th>\n",
       "      <th id=\"T_bcac7_level0_col8\" class=\"col_heading level0 col8\" >23</th>\n",
       "      <th id=\"T_bcac7_level0_col9\" class=\"col_heading level0 col9\" >24</th>\n",
       "      <th id=\"T_bcac7_level0_col10\" class=\"col_heading level0 col10\" >33</th>\n",
       "      <th id=\"T_bcac7_level0_col11\" class=\"col_heading level0 col11\" >Tot</th>\n",
       "    </tr>\n",
       "  </thead>\n",
       "  <tbody>\n",
       "    <tr>\n",
       "      <th id=\"T_bcac7_level0_row0\" class=\"row_heading level0 row0\" >3</th>\n",
       "      <td id=\"T_bcac7_row0_col0\" class=\"data row0 col0\" >225</td>\n",
       "      <td id=\"T_bcac7_row0_col1\" class=\"data row0 col1\" >34</td>\n",
       "      <td id=\"T_bcac7_row0_col2\" class=\"data row0 col2\" >1</td>\n",
       "      <td id=\"T_bcac7_row0_col3\" class=\"data row0 col3\" >0</td>\n",
       "      <td id=\"T_bcac7_row0_col4\" class=\"data row0 col4\" >3</td>\n",
       "      <td id=\"T_bcac7_row0_col5\" class=\"data row0 col5\" >23</td>\n",
       "      <td id=\"T_bcac7_row0_col6\" class=\"data row0 col6\" >1</td>\n",
       "      <td id=\"T_bcac7_row0_col7\" class=\"data row0 col7\" >0</td>\n",
       "      <td id=\"T_bcac7_row0_col8\" class=\"data row0 col8\" >0</td>\n",
       "      <td id=\"T_bcac7_row0_col9\" class=\"data row0 col9\" >0</td>\n",
       "      <td id=\"T_bcac7_row0_col10\" class=\"data row0 col10\" >2</td>\n",
       "      <td id=\"T_bcac7_row0_col11\" class=\"data row0 col11\" >289</td>\n",
       "    </tr>\n",
       "    <tr>\n",
       "      <th id=\"T_bcac7_level0_row1\" class=\"row_heading level0 row1\" >4</th>\n",
       "      <td id=\"T_bcac7_row1_col0\" class=\"data row1 col0\" >12</td>\n",
       "      <td id=\"T_bcac7_row1_col1\" class=\"data row1 col1\" >69</td>\n",
       "      <td id=\"T_bcac7_row1_col2\" class=\"data row1 col2\" >0</td>\n",
       "      <td id=\"T_bcac7_row1_col3\" class=\"data row1 col3\" >0</td>\n",
       "      <td id=\"T_bcac7_row1_col4\" class=\"data row1 col4\" >4</td>\n",
       "      <td id=\"T_bcac7_row1_col5\" class=\"data row1 col5\" >8</td>\n",
       "      <td id=\"T_bcac7_row1_col6\" class=\"data row1 col6\" >0</td>\n",
       "      <td id=\"T_bcac7_row1_col7\" class=\"data row1 col7\" >0</td>\n",
       "      <td id=\"T_bcac7_row1_col8\" class=\"data row1 col8\" >0</td>\n",
       "      <td id=\"T_bcac7_row1_col9\" class=\"data row1 col9\" >0</td>\n",
       "      <td id=\"T_bcac7_row1_col10\" class=\"data row1 col10\" >0</td>\n",
       "      <td id=\"T_bcac7_row1_col11\" class=\"data row1 col11\" >93</td>\n",
       "    </tr>\n",
       "    <tr>\n",
       "      <th id=\"T_bcac7_level0_row2\" class=\"row_heading level0 row2\" >5</th>\n",
       "      <td id=\"T_bcac7_row2_col0\" class=\"data row2 col0\" >18</td>\n",
       "      <td id=\"T_bcac7_row2_col1\" class=\"data row2 col1\" >0</td>\n",
       "      <td id=\"T_bcac7_row2_col2\" class=\"data row2 col2\" >14</td>\n",
       "      <td id=\"T_bcac7_row2_col3\" class=\"data row2 col3\" >0</td>\n",
       "      <td id=\"T_bcac7_row2_col4\" class=\"data row2 col4\" >0</td>\n",
       "      <td id=\"T_bcac7_row2_col5\" class=\"data row2 col5\" >0</td>\n",
       "      <td id=\"T_bcac7_row2_col6\" class=\"data row2 col6\" >0</td>\n",
       "      <td id=\"T_bcac7_row2_col7\" class=\"data row2 col7\" >0</td>\n",
       "      <td id=\"T_bcac7_row2_col8\" class=\"data row2 col8\" >0</td>\n",
       "      <td id=\"T_bcac7_row2_col9\" class=\"data row2 col9\" >0</td>\n",
       "      <td id=\"T_bcac7_row2_col10\" class=\"data row2 col10\" >0</td>\n",
       "      <td id=\"T_bcac7_row2_col11\" class=\"data row2 col11\" >32</td>\n",
       "    </tr>\n",
       "    <tr>\n",
       "      <th id=\"T_bcac7_level0_row3\" class=\"row_heading level0 row3\" >11</th>\n",
       "      <td id=\"T_bcac7_row3_col0\" class=\"data row3 col0\" >8</td>\n",
       "      <td id=\"T_bcac7_row3_col1\" class=\"data row3 col1\" >0</td>\n",
       "      <td id=\"T_bcac7_row3_col2\" class=\"data row3 col2\" >0</td>\n",
       "      <td id=\"T_bcac7_row3_col3\" class=\"data row3 col3\" >38</td>\n",
       "      <td id=\"T_bcac7_row3_col4\" class=\"data row3 col4\" >7</td>\n",
       "      <td id=\"T_bcac7_row3_col5\" class=\"data row3 col5\" >6</td>\n",
       "      <td id=\"T_bcac7_row3_col6\" class=\"data row3 col6\" >0</td>\n",
       "      <td id=\"T_bcac7_row3_col7\" class=\"data row3 col7\" >0</td>\n",
       "      <td id=\"T_bcac7_row3_col8\" class=\"data row3 col8\" >0</td>\n",
       "      <td id=\"T_bcac7_row3_col9\" class=\"data row3 col9\" >0</td>\n",
       "      <td id=\"T_bcac7_row3_col10\" class=\"data row3 col10\" >0</td>\n",
       "      <td id=\"T_bcac7_row3_col11\" class=\"data row3 col11\" >59</td>\n",
       "    </tr>\n",
       "    <tr>\n",
       "      <th id=\"T_bcac7_level0_row4\" class=\"row_heading level0 row4\" >12</th>\n",
       "      <td id=\"T_bcac7_row4_col0\" class=\"data row4 col0\" >0</td>\n",
       "      <td id=\"T_bcac7_row4_col1\" class=\"data row4 col1\" >6</td>\n",
       "      <td id=\"T_bcac7_row4_col2\" class=\"data row4 col2\" >0</td>\n",
       "      <td id=\"T_bcac7_row4_col3\" class=\"data row4 col3\" >0</td>\n",
       "      <td id=\"T_bcac7_row4_col4\" class=\"data row4 col4\" >1</td>\n",
       "      <td id=\"T_bcac7_row4_col5\" class=\"data row4 col5\" >2</td>\n",
       "      <td id=\"T_bcac7_row4_col6\" class=\"data row4 col6\" >0</td>\n",
       "      <td id=\"T_bcac7_row4_col7\" class=\"data row4 col7\" >0</td>\n",
       "      <td id=\"T_bcac7_row4_col8\" class=\"data row4 col8\" >0</td>\n",
       "      <td id=\"T_bcac7_row4_col9\" class=\"data row4 col9\" >0</td>\n",
       "      <td id=\"T_bcac7_row4_col10\" class=\"data row4 col10\" >1</td>\n",
       "      <td id=\"T_bcac7_row4_col11\" class=\"data row4 col11\" >10</td>\n",
       "    </tr>\n",
       "    <tr>\n",
       "      <th id=\"T_bcac7_level0_row5\" class=\"row_heading level0 row5\" >15</th>\n",
       "      <td id=\"T_bcac7_row5_col0\" class=\"data row5 col0\" >16</td>\n",
       "      <td id=\"T_bcac7_row5_col1\" class=\"data row5 col1\" >4</td>\n",
       "      <td id=\"T_bcac7_row5_col2\" class=\"data row5 col2\" >0</td>\n",
       "      <td id=\"T_bcac7_row5_col3\" class=\"data row5 col3\" >3</td>\n",
       "      <td id=\"T_bcac7_row5_col4\" class=\"data row5 col4\" >6</td>\n",
       "      <td id=\"T_bcac7_row5_col5\" class=\"data row5 col5\" >61</td>\n",
       "      <td id=\"T_bcac7_row5_col6\" class=\"data row5 col6\" >0</td>\n",
       "      <td id=\"T_bcac7_row5_col7\" class=\"data row5 col7\" >0</td>\n",
       "      <td id=\"T_bcac7_row5_col8\" class=\"data row5 col8\" >0</td>\n",
       "      <td id=\"T_bcac7_row5_col9\" class=\"data row5 col9\" >2</td>\n",
       "      <td id=\"T_bcac7_row5_col10\" class=\"data row5 col10\" >0</td>\n",
       "      <td id=\"T_bcac7_row5_col11\" class=\"data row5 col11\" >92</td>\n",
       "    </tr>\n",
       "    <tr>\n",
       "      <th id=\"T_bcac7_level0_row6\" class=\"row_heading level0 row6\" >18</th>\n",
       "      <td id=\"T_bcac7_row6_col0\" class=\"data row6 col0\" >0</td>\n",
       "      <td id=\"T_bcac7_row6_col1\" class=\"data row6 col1\" >0</td>\n",
       "      <td id=\"T_bcac7_row6_col2\" class=\"data row6 col2\" >0</td>\n",
       "      <td id=\"T_bcac7_row6_col3\" class=\"data row6 col3\" >0</td>\n",
       "      <td id=\"T_bcac7_row6_col4\" class=\"data row6 col4\" >0</td>\n",
       "      <td id=\"T_bcac7_row6_col5\" class=\"data row6 col5\" >1</td>\n",
       "      <td id=\"T_bcac7_row6_col6\" class=\"data row6 col6\" >12</td>\n",
       "      <td id=\"T_bcac7_row6_col7\" class=\"data row6 col7\" >0</td>\n",
       "      <td id=\"T_bcac7_row6_col8\" class=\"data row6 col8\" >0</td>\n",
       "      <td id=\"T_bcac7_row6_col9\" class=\"data row6 col9\" >0</td>\n",
       "      <td id=\"T_bcac7_row6_col10\" class=\"data row6 col10\" >0</td>\n",
       "      <td id=\"T_bcac7_row6_col11\" class=\"data row6 col11\" >13</td>\n",
       "    </tr>\n",
       "    <tr>\n",
       "      <th id=\"T_bcac7_level0_row7\" class=\"row_heading level0 row7\" >21</th>\n",
       "      <td id=\"T_bcac7_row7_col0\" class=\"data row7 col0\" >1</td>\n",
       "      <td id=\"T_bcac7_row7_col1\" class=\"data row7 col1\" >4</td>\n",
       "      <td id=\"T_bcac7_row7_col2\" class=\"data row7 col2\" >0</td>\n",
       "      <td id=\"T_bcac7_row7_col3\" class=\"data row7 col3\" >0</td>\n",
       "      <td id=\"T_bcac7_row7_col4\" class=\"data row7 col4\" >3</td>\n",
       "      <td id=\"T_bcac7_row7_col5\" class=\"data row7 col5\" >0</td>\n",
       "      <td id=\"T_bcac7_row7_col6\" class=\"data row7 col6\" >0</td>\n",
       "      <td id=\"T_bcac7_row7_col7\" class=\"data row7 col7\" >10</td>\n",
       "      <td id=\"T_bcac7_row7_col8\" class=\"data row7 col8\" >0</td>\n",
       "      <td id=\"T_bcac7_row7_col9\" class=\"data row7 col9\" >0</td>\n",
       "      <td id=\"T_bcac7_row7_col10\" class=\"data row7 col10\" >0</td>\n",
       "      <td id=\"T_bcac7_row7_col11\" class=\"data row7 col11\" >18</td>\n",
       "    </tr>\n",
       "    <tr>\n",
       "      <th id=\"T_bcac7_level0_row8\" class=\"row_heading level0 row8\" >23</th>\n",
       "      <td id=\"T_bcac7_row8_col0\" class=\"data row8 col0\" >0</td>\n",
       "      <td id=\"T_bcac7_row8_col1\" class=\"data row8 col1\" >0</td>\n",
       "      <td id=\"T_bcac7_row8_col2\" class=\"data row8 col2\" >0</td>\n",
       "      <td id=\"T_bcac7_row8_col3\" class=\"data row8 col3\" >0</td>\n",
       "      <td id=\"T_bcac7_row8_col4\" class=\"data row8 col4\" >0</td>\n",
       "      <td id=\"T_bcac7_row8_col5\" class=\"data row8 col5\" >0</td>\n",
       "      <td id=\"T_bcac7_row8_col6\" class=\"data row8 col6\" >0</td>\n",
       "      <td id=\"T_bcac7_row8_col7\" class=\"data row8 col7\" >0</td>\n",
       "      <td id=\"T_bcac7_row8_col8\" class=\"data row8 col8\" >14</td>\n",
       "      <td id=\"T_bcac7_row8_col9\" class=\"data row8 col9\" >0</td>\n",
       "      <td id=\"T_bcac7_row8_col10\" class=\"data row8 col10\" >0</td>\n",
       "      <td id=\"T_bcac7_row8_col11\" class=\"data row8 col11\" >14</td>\n",
       "    </tr>\n",
       "    <tr>\n",
       "      <th id=\"T_bcac7_level0_row9\" class=\"row_heading level0 row9\" >24</th>\n",
       "      <td id=\"T_bcac7_row9_col0\" class=\"data row9 col0\" >0</td>\n",
       "      <td id=\"T_bcac7_row9_col1\" class=\"data row9 col1\" >0</td>\n",
       "      <td id=\"T_bcac7_row9_col2\" class=\"data row9 col2\" >0</td>\n",
       "      <td id=\"T_bcac7_row9_col3\" class=\"data row9 col3\" >0</td>\n",
       "      <td id=\"T_bcac7_row9_col4\" class=\"data row9 col4\" >0</td>\n",
       "      <td id=\"T_bcac7_row9_col5\" class=\"data row9 col5\" >1</td>\n",
       "      <td id=\"T_bcac7_row9_col6\" class=\"data row9 col6\" >0</td>\n",
       "      <td id=\"T_bcac7_row9_col7\" class=\"data row9 col7\" >0</td>\n",
       "      <td id=\"T_bcac7_row9_col8\" class=\"data row9 col8\" >0</td>\n",
       "      <td id=\"T_bcac7_row9_col9\" class=\"data row9 col9\" >8</td>\n",
       "      <td id=\"T_bcac7_row9_col10\" class=\"data row9 col10\" >0</td>\n",
       "      <td id=\"T_bcac7_row9_col11\" class=\"data row9 col11\" >9</td>\n",
       "    </tr>\n",
       "    <tr>\n",
       "      <th id=\"T_bcac7_level0_row10\" class=\"row_heading level0 row10\" >33</th>\n",
       "      <td id=\"T_bcac7_row10_col0\" class=\"data row10 col0\" >2</td>\n",
       "      <td id=\"T_bcac7_row10_col1\" class=\"data row10 col1\" >0</td>\n",
       "      <td id=\"T_bcac7_row10_col2\" class=\"data row10 col2\" >0</td>\n",
       "      <td id=\"T_bcac7_row10_col3\" class=\"data row10 col3\" >6</td>\n",
       "      <td id=\"T_bcac7_row10_col4\" class=\"data row10 col4\" >1</td>\n",
       "      <td id=\"T_bcac7_row10_col5\" class=\"data row10 col5\" >0</td>\n",
       "      <td id=\"T_bcac7_row10_col6\" class=\"data row10 col6\" >0</td>\n",
       "      <td id=\"T_bcac7_row10_col7\" class=\"data row10 col7\" >0</td>\n",
       "      <td id=\"T_bcac7_row10_col8\" class=\"data row10 col8\" >0</td>\n",
       "      <td id=\"T_bcac7_row10_col9\" class=\"data row10 col9\" >0</td>\n",
       "      <td id=\"T_bcac7_row10_col10\" class=\"data row10 col10\" >17</td>\n",
       "      <td id=\"T_bcac7_row10_col11\" class=\"data row10 col11\" >26</td>\n",
       "    </tr>\n",
       "    <tr>\n",
       "      <th id=\"T_bcac7_level0_row11\" class=\"row_heading level0 row11\" >Tot</th>\n",
       "      <td id=\"T_bcac7_row11_col0\" class=\"data row11 col0\" >282</td>\n",
       "      <td id=\"T_bcac7_row11_col1\" class=\"data row11 col1\" >117</td>\n",
       "      <td id=\"T_bcac7_row11_col2\" class=\"data row11 col2\" >15</td>\n",
       "      <td id=\"T_bcac7_row11_col3\" class=\"data row11 col3\" >47</td>\n",
       "      <td id=\"T_bcac7_row11_col4\" class=\"data row11 col4\" >25</td>\n",
       "      <td id=\"T_bcac7_row11_col5\" class=\"data row11 col5\" >102</td>\n",
       "      <td id=\"T_bcac7_row11_col6\" class=\"data row11 col6\" >13</td>\n",
       "      <td id=\"T_bcac7_row11_col7\" class=\"data row11 col7\" >10</td>\n",
       "      <td id=\"T_bcac7_row11_col8\" class=\"data row11 col8\" >14</td>\n",
       "      <td id=\"T_bcac7_row11_col9\" class=\"data row11 col9\" >10</td>\n",
       "      <td id=\"T_bcac7_row11_col10\" class=\"data row11 col10\" >20</td>\n",
       "      <td id=\"T_bcac7_row11_col11\" class=\"data row11 col11\" >655</td>\n",
       "    </tr>\n",
       "  </tbody>\n",
       "</table>\n"
      ],
      "text/plain": [
       "<pandas.io.formats.style.Styler at 0x7f4de6c84df0>"
      ]
     },
     "execution_count": 146,
     "metadata": {},
     "output_type": "execute_result"
    }
   ],
   "source": [
    "style_matriz_peso_qt = df_matriz_confusao_qt.style\n",
    "style_matriz_peso_qt"
   ]
  },
  {
   "cell_type": "code",
   "execution_count": 147,
   "metadata": {},
   "outputs": [
    {
     "data": {
      "text/html": [
       "<style type=\"text/css\">\n",
       "#T_bcac7_row0_col0, #T_bcac7_row1_col1, #T_bcac7_row2_col2, #T_bcac7_row3_col3, #T_bcac7_row4_col4, #T_bcac7_row5_col5, #T_bcac7_row6_col6, #T_bcac7_row7_col7, #T_bcac7_row8_col8, #T_bcac7_row9_col9, #T_bcac7_row10_col10, #T_bcac7_row11_col11 {\n",
       "  background-color: gray;\n",
       "}\n",
       "</style>\n",
       "<table id=\"T_bcac7\">\n",
       "  <thead>\n",
       "    <tr>\n",
       "      <th class=\"blank level0\" >&nbsp;</th>\n",
       "      <th id=\"T_bcac7_level0_col0\" class=\"col_heading level0 col0\" >3</th>\n",
       "      <th id=\"T_bcac7_level0_col1\" class=\"col_heading level0 col1\" >4</th>\n",
       "      <th id=\"T_bcac7_level0_col2\" class=\"col_heading level0 col2\" >5</th>\n",
       "      <th id=\"T_bcac7_level0_col3\" class=\"col_heading level0 col3\" >11</th>\n",
       "      <th id=\"T_bcac7_level0_col4\" class=\"col_heading level0 col4\" >12</th>\n",
       "      <th id=\"T_bcac7_level0_col5\" class=\"col_heading level0 col5\" >15</th>\n",
       "      <th id=\"T_bcac7_level0_col6\" class=\"col_heading level0 col6\" >18</th>\n",
       "      <th id=\"T_bcac7_level0_col7\" class=\"col_heading level0 col7\" >21</th>\n",
       "      <th id=\"T_bcac7_level0_col8\" class=\"col_heading level0 col8\" >23</th>\n",
       "      <th id=\"T_bcac7_level0_col9\" class=\"col_heading level0 col9\" >24</th>\n",
       "      <th id=\"T_bcac7_level0_col10\" class=\"col_heading level0 col10\" >33</th>\n",
       "      <th id=\"T_bcac7_level0_col11\" class=\"col_heading level0 col11\" >Tot</th>\n",
       "    </tr>\n",
       "  </thead>\n",
       "  <tbody>\n",
       "    <tr>\n",
       "      <th id=\"T_bcac7_level0_row0\" class=\"row_heading level0 row0\" >3</th>\n",
       "      <td id=\"T_bcac7_row0_col0\" class=\"data row0 col0\" >225</td>\n",
       "      <td id=\"T_bcac7_row0_col1\" class=\"data row0 col1\" >34</td>\n",
       "      <td id=\"T_bcac7_row0_col2\" class=\"data row0 col2\" >1</td>\n",
       "      <td id=\"T_bcac7_row0_col3\" class=\"data row0 col3\" >0</td>\n",
       "      <td id=\"T_bcac7_row0_col4\" class=\"data row0 col4\" >3</td>\n",
       "      <td id=\"T_bcac7_row0_col5\" class=\"data row0 col5\" >23</td>\n",
       "      <td id=\"T_bcac7_row0_col6\" class=\"data row0 col6\" >1</td>\n",
       "      <td id=\"T_bcac7_row0_col7\" class=\"data row0 col7\" >0</td>\n",
       "      <td id=\"T_bcac7_row0_col8\" class=\"data row0 col8\" >0</td>\n",
       "      <td id=\"T_bcac7_row0_col9\" class=\"data row0 col9\" >0</td>\n",
       "      <td id=\"T_bcac7_row0_col10\" class=\"data row0 col10\" >2</td>\n",
       "      <td id=\"T_bcac7_row0_col11\" class=\"data row0 col11\" >289</td>\n",
       "    </tr>\n",
       "    <tr>\n",
       "      <th id=\"T_bcac7_level0_row1\" class=\"row_heading level0 row1\" >4</th>\n",
       "      <td id=\"T_bcac7_row1_col0\" class=\"data row1 col0\" >12</td>\n",
       "      <td id=\"T_bcac7_row1_col1\" class=\"data row1 col1\" >69</td>\n",
       "      <td id=\"T_bcac7_row1_col2\" class=\"data row1 col2\" >0</td>\n",
       "      <td id=\"T_bcac7_row1_col3\" class=\"data row1 col3\" >0</td>\n",
       "      <td id=\"T_bcac7_row1_col4\" class=\"data row1 col4\" >4</td>\n",
       "      <td id=\"T_bcac7_row1_col5\" class=\"data row1 col5\" >8</td>\n",
       "      <td id=\"T_bcac7_row1_col6\" class=\"data row1 col6\" >0</td>\n",
       "      <td id=\"T_bcac7_row1_col7\" class=\"data row1 col7\" >0</td>\n",
       "      <td id=\"T_bcac7_row1_col8\" class=\"data row1 col8\" >0</td>\n",
       "      <td id=\"T_bcac7_row1_col9\" class=\"data row1 col9\" >0</td>\n",
       "      <td id=\"T_bcac7_row1_col10\" class=\"data row1 col10\" >0</td>\n",
       "      <td id=\"T_bcac7_row1_col11\" class=\"data row1 col11\" >93</td>\n",
       "    </tr>\n",
       "    <tr>\n",
       "      <th id=\"T_bcac7_level0_row2\" class=\"row_heading level0 row2\" >5</th>\n",
       "      <td id=\"T_bcac7_row2_col0\" class=\"data row2 col0\" >18</td>\n",
       "      <td id=\"T_bcac7_row2_col1\" class=\"data row2 col1\" >0</td>\n",
       "      <td id=\"T_bcac7_row2_col2\" class=\"data row2 col2\" >14</td>\n",
       "      <td id=\"T_bcac7_row2_col3\" class=\"data row2 col3\" >0</td>\n",
       "      <td id=\"T_bcac7_row2_col4\" class=\"data row2 col4\" >0</td>\n",
       "      <td id=\"T_bcac7_row2_col5\" class=\"data row2 col5\" >0</td>\n",
       "      <td id=\"T_bcac7_row2_col6\" class=\"data row2 col6\" >0</td>\n",
       "      <td id=\"T_bcac7_row2_col7\" class=\"data row2 col7\" >0</td>\n",
       "      <td id=\"T_bcac7_row2_col8\" class=\"data row2 col8\" >0</td>\n",
       "      <td id=\"T_bcac7_row2_col9\" class=\"data row2 col9\" >0</td>\n",
       "      <td id=\"T_bcac7_row2_col10\" class=\"data row2 col10\" >0</td>\n",
       "      <td id=\"T_bcac7_row2_col11\" class=\"data row2 col11\" >32</td>\n",
       "    </tr>\n",
       "    <tr>\n",
       "      <th id=\"T_bcac7_level0_row3\" class=\"row_heading level0 row3\" >11</th>\n",
       "      <td id=\"T_bcac7_row3_col0\" class=\"data row3 col0\" >8</td>\n",
       "      <td id=\"T_bcac7_row3_col1\" class=\"data row3 col1\" >0</td>\n",
       "      <td id=\"T_bcac7_row3_col2\" class=\"data row3 col2\" >0</td>\n",
       "      <td id=\"T_bcac7_row3_col3\" class=\"data row3 col3\" >38</td>\n",
       "      <td id=\"T_bcac7_row3_col4\" class=\"data row3 col4\" >7</td>\n",
       "      <td id=\"T_bcac7_row3_col5\" class=\"data row3 col5\" >6</td>\n",
       "      <td id=\"T_bcac7_row3_col6\" class=\"data row3 col6\" >0</td>\n",
       "      <td id=\"T_bcac7_row3_col7\" class=\"data row3 col7\" >0</td>\n",
       "      <td id=\"T_bcac7_row3_col8\" class=\"data row3 col8\" >0</td>\n",
       "      <td id=\"T_bcac7_row3_col9\" class=\"data row3 col9\" >0</td>\n",
       "      <td id=\"T_bcac7_row3_col10\" class=\"data row3 col10\" >0</td>\n",
       "      <td id=\"T_bcac7_row3_col11\" class=\"data row3 col11\" >59</td>\n",
       "    </tr>\n",
       "    <tr>\n",
       "      <th id=\"T_bcac7_level0_row4\" class=\"row_heading level0 row4\" >12</th>\n",
       "      <td id=\"T_bcac7_row4_col0\" class=\"data row4 col0\" >0</td>\n",
       "      <td id=\"T_bcac7_row4_col1\" class=\"data row4 col1\" >6</td>\n",
       "      <td id=\"T_bcac7_row4_col2\" class=\"data row4 col2\" >0</td>\n",
       "      <td id=\"T_bcac7_row4_col3\" class=\"data row4 col3\" >0</td>\n",
       "      <td id=\"T_bcac7_row4_col4\" class=\"data row4 col4\" >1</td>\n",
       "      <td id=\"T_bcac7_row4_col5\" class=\"data row4 col5\" >2</td>\n",
       "      <td id=\"T_bcac7_row4_col6\" class=\"data row4 col6\" >0</td>\n",
       "      <td id=\"T_bcac7_row4_col7\" class=\"data row4 col7\" >0</td>\n",
       "      <td id=\"T_bcac7_row4_col8\" class=\"data row4 col8\" >0</td>\n",
       "      <td id=\"T_bcac7_row4_col9\" class=\"data row4 col9\" >0</td>\n",
       "      <td id=\"T_bcac7_row4_col10\" class=\"data row4 col10\" >1</td>\n",
       "      <td id=\"T_bcac7_row4_col11\" class=\"data row4 col11\" >10</td>\n",
       "    </tr>\n",
       "    <tr>\n",
       "      <th id=\"T_bcac7_level0_row5\" class=\"row_heading level0 row5\" >15</th>\n",
       "      <td id=\"T_bcac7_row5_col0\" class=\"data row5 col0\" >16</td>\n",
       "      <td id=\"T_bcac7_row5_col1\" class=\"data row5 col1\" >4</td>\n",
       "      <td id=\"T_bcac7_row5_col2\" class=\"data row5 col2\" >0</td>\n",
       "      <td id=\"T_bcac7_row5_col3\" class=\"data row5 col3\" >3</td>\n",
       "      <td id=\"T_bcac7_row5_col4\" class=\"data row5 col4\" >6</td>\n",
       "      <td id=\"T_bcac7_row5_col5\" class=\"data row5 col5\" >61</td>\n",
       "      <td id=\"T_bcac7_row5_col6\" class=\"data row5 col6\" >0</td>\n",
       "      <td id=\"T_bcac7_row5_col7\" class=\"data row5 col7\" >0</td>\n",
       "      <td id=\"T_bcac7_row5_col8\" class=\"data row5 col8\" >0</td>\n",
       "      <td id=\"T_bcac7_row5_col9\" class=\"data row5 col9\" >2</td>\n",
       "      <td id=\"T_bcac7_row5_col10\" class=\"data row5 col10\" >0</td>\n",
       "      <td id=\"T_bcac7_row5_col11\" class=\"data row5 col11\" >92</td>\n",
       "    </tr>\n",
       "    <tr>\n",
       "      <th id=\"T_bcac7_level0_row6\" class=\"row_heading level0 row6\" >18</th>\n",
       "      <td id=\"T_bcac7_row6_col0\" class=\"data row6 col0\" >0</td>\n",
       "      <td id=\"T_bcac7_row6_col1\" class=\"data row6 col1\" >0</td>\n",
       "      <td id=\"T_bcac7_row6_col2\" class=\"data row6 col2\" >0</td>\n",
       "      <td id=\"T_bcac7_row6_col3\" class=\"data row6 col3\" >0</td>\n",
       "      <td id=\"T_bcac7_row6_col4\" class=\"data row6 col4\" >0</td>\n",
       "      <td id=\"T_bcac7_row6_col5\" class=\"data row6 col5\" >1</td>\n",
       "      <td id=\"T_bcac7_row6_col6\" class=\"data row6 col6\" >12</td>\n",
       "      <td id=\"T_bcac7_row6_col7\" class=\"data row6 col7\" >0</td>\n",
       "      <td id=\"T_bcac7_row6_col8\" class=\"data row6 col8\" >0</td>\n",
       "      <td id=\"T_bcac7_row6_col9\" class=\"data row6 col9\" >0</td>\n",
       "      <td id=\"T_bcac7_row6_col10\" class=\"data row6 col10\" >0</td>\n",
       "      <td id=\"T_bcac7_row6_col11\" class=\"data row6 col11\" >13</td>\n",
       "    </tr>\n",
       "    <tr>\n",
       "      <th id=\"T_bcac7_level0_row7\" class=\"row_heading level0 row7\" >21</th>\n",
       "      <td id=\"T_bcac7_row7_col0\" class=\"data row7 col0\" >1</td>\n",
       "      <td id=\"T_bcac7_row7_col1\" class=\"data row7 col1\" >4</td>\n",
       "      <td id=\"T_bcac7_row7_col2\" class=\"data row7 col2\" >0</td>\n",
       "      <td id=\"T_bcac7_row7_col3\" class=\"data row7 col3\" >0</td>\n",
       "      <td id=\"T_bcac7_row7_col4\" class=\"data row7 col4\" >3</td>\n",
       "      <td id=\"T_bcac7_row7_col5\" class=\"data row7 col5\" >0</td>\n",
       "      <td id=\"T_bcac7_row7_col6\" class=\"data row7 col6\" >0</td>\n",
       "      <td id=\"T_bcac7_row7_col7\" class=\"data row7 col7\" >10</td>\n",
       "      <td id=\"T_bcac7_row7_col8\" class=\"data row7 col8\" >0</td>\n",
       "      <td id=\"T_bcac7_row7_col9\" class=\"data row7 col9\" >0</td>\n",
       "      <td id=\"T_bcac7_row7_col10\" class=\"data row7 col10\" >0</td>\n",
       "      <td id=\"T_bcac7_row7_col11\" class=\"data row7 col11\" >18</td>\n",
       "    </tr>\n",
       "    <tr>\n",
       "      <th id=\"T_bcac7_level0_row8\" class=\"row_heading level0 row8\" >23</th>\n",
       "      <td id=\"T_bcac7_row8_col0\" class=\"data row8 col0\" >0</td>\n",
       "      <td id=\"T_bcac7_row8_col1\" class=\"data row8 col1\" >0</td>\n",
       "      <td id=\"T_bcac7_row8_col2\" class=\"data row8 col2\" >0</td>\n",
       "      <td id=\"T_bcac7_row8_col3\" class=\"data row8 col3\" >0</td>\n",
       "      <td id=\"T_bcac7_row8_col4\" class=\"data row8 col4\" >0</td>\n",
       "      <td id=\"T_bcac7_row8_col5\" class=\"data row8 col5\" >0</td>\n",
       "      <td id=\"T_bcac7_row8_col6\" class=\"data row8 col6\" >0</td>\n",
       "      <td id=\"T_bcac7_row8_col7\" class=\"data row8 col7\" >0</td>\n",
       "      <td id=\"T_bcac7_row8_col8\" class=\"data row8 col8\" >14</td>\n",
       "      <td id=\"T_bcac7_row8_col9\" class=\"data row8 col9\" >0</td>\n",
       "      <td id=\"T_bcac7_row8_col10\" class=\"data row8 col10\" >0</td>\n",
       "      <td id=\"T_bcac7_row8_col11\" class=\"data row8 col11\" >14</td>\n",
       "    </tr>\n",
       "    <tr>\n",
       "      <th id=\"T_bcac7_level0_row9\" class=\"row_heading level0 row9\" >24</th>\n",
       "      <td id=\"T_bcac7_row9_col0\" class=\"data row9 col0\" >0</td>\n",
       "      <td id=\"T_bcac7_row9_col1\" class=\"data row9 col1\" >0</td>\n",
       "      <td id=\"T_bcac7_row9_col2\" class=\"data row9 col2\" >0</td>\n",
       "      <td id=\"T_bcac7_row9_col3\" class=\"data row9 col3\" >0</td>\n",
       "      <td id=\"T_bcac7_row9_col4\" class=\"data row9 col4\" >0</td>\n",
       "      <td id=\"T_bcac7_row9_col5\" class=\"data row9 col5\" >1</td>\n",
       "      <td id=\"T_bcac7_row9_col6\" class=\"data row9 col6\" >0</td>\n",
       "      <td id=\"T_bcac7_row9_col7\" class=\"data row9 col7\" >0</td>\n",
       "      <td id=\"T_bcac7_row9_col8\" class=\"data row9 col8\" >0</td>\n",
       "      <td id=\"T_bcac7_row9_col9\" class=\"data row9 col9\" >8</td>\n",
       "      <td id=\"T_bcac7_row9_col10\" class=\"data row9 col10\" >0</td>\n",
       "      <td id=\"T_bcac7_row9_col11\" class=\"data row9 col11\" >9</td>\n",
       "    </tr>\n",
       "    <tr>\n",
       "      <th id=\"T_bcac7_level0_row10\" class=\"row_heading level0 row10\" >33</th>\n",
       "      <td id=\"T_bcac7_row10_col0\" class=\"data row10 col0\" >2</td>\n",
       "      <td id=\"T_bcac7_row10_col1\" class=\"data row10 col1\" >0</td>\n",
       "      <td id=\"T_bcac7_row10_col2\" class=\"data row10 col2\" >0</td>\n",
       "      <td id=\"T_bcac7_row10_col3\" class=\"data row10 col3\" >6</td>\n",
       "      <td id=\"T_bcac7_row10_col4\" class=\"data row10 col4\" >1</td>\n",
       "      <td id=\"T_bcac7_row10_col5\" class=\"data row10 col5\" >0</td>\n",
       "      <td id=\"T_bcac7_row10_col6\" class=\"data row10 col6\" >0</td>\n",
       "      <td id=\"T_bcac7_row10_col7\" class=\"data row10 col7\" >0</td>\n",
       "      <td id=\"T_bcac7_row10_col8\" class=\"data row10 col8\" >0</td>\n",
       "      <td id=\"T_bcac7_row10_col9\" class=\"data row10 col9\" >0</td>\n",
       "      <td id=\"T_bcac7_row10_col10\" class=\"data row10 col10\" >17</td>\n",
       "      <td id=\"T_bcac7_row10_col11\" class=\"data row10 col11\" >26</td>\n",
       "    </tr>\n",
       "    <tr>\n",
       "      <th id=\"T_bcac7_level0_row11\" class=\"row_heading level0 row11\" >Tot</th>\n",
       "      <td id=\"T_bcac7_row11_col0\" class=\"data row11 col0\" >282</td>\n",
       "      <td id=\"T_bcac7_row11_col1\" class=\"data row11 col1\" >117</td>\n",
       "      <td id=\"T_bcac7_row11_col2\" class=\"data row11 col2\" >15</td>\n",
       "      <td id=\"T_bcac7_row11_col3\" class=\"data row11 col3\" >47</td>\n",
       "      <td id=\"T_bcac7_row11_col4\" class=\"data row11 col4\" >25</td>\n",
       "      <td id=\"T_bcac7_row11_col5\" class=\"data row11 col5\" >102</td>\n",
       "      <td id=\"T_bcac7_row11_col6\" class=\"data row11 col6\" >13</td>\n",
       "      <td id=\"T_bcac7_row11_col7\" class=\"data row11 col7\" >10</td>\n",
       "      <td id=\"T_bcac7_row11_col8\" class=\"data row11 col8\" >14</td>\n",
       "      <td id=\"T_bcac7_row11_col9\" class=\"data row11 col9\" >10</td>\n",
       "      <td id=\"T_bcac7_row11_col10\" class=\"data row11 col10\" >20</td>\n",
       "      <td id=\"T_bcac7_row11_col11\" class=\"data row11 col11\" >655</td>\n",
       "    </tr>\n",
       "  </tbody>\n",
       "</table>\n"
      ],
      "text/plain": [
       "<pandas.io.formats.style.Styler at 0x7f4de6c84df0>"
      ]
     },
     "execution_count": 147,
     "metadata": {},
     "output_type": "execute_result"
    }
   ],
   "source": [
    "style_matriz_peso_qt.apply(lambda x: ['background-color: gray' if x.name == col else '' for col in x.index], axis=1)"
   ]
  },
  {
   "cell_type": "code",
   "execution_count": 148,
   "metadata": {},
   "outputs": [
    {
     "ename": "FileNotFoundError",
     "evalue": "[Errno 2] No such file or directory: 'tmp/saida.html'",
     "output_type": "error",
     "traceback": [
      "\u001b[0;31m---------------------------------------------------------------------------\u001b[0m",
      "\u001b[0;31mFileNotFoundError\u001b[0m                         Traceback (most recent call last)",
      "Cell \u001b[0;32mIn[148], line 1\u001b[0m\n\u001b[0;32m----> 1\u001b[0m file \u001b[38;5;241m=\u001b[39m \u001b[38;5;28;43mopen\u001b[39;49m\u001b[43m \u001b[49m\u001b[43m(\u001b[49m\u001b[38;5;124;43m'\u001b[39;49m\u001b[38;5;124;43mtmp/saida.html\u001b[39;49m\u001b[38;5;124;43m'\u001b[39;49m\u001b[43m,\u001b[49m\u001b[38;5;124;43m'\u001b[39;49m\u001b[38;5;124;43mw\u001b[39;49m\u001b[38;5;124;43m'\u001b[39;49m\u001b[43m)\u001b[49m\n\u001b[1;32m      2\u001b[0m file\u001b[38;5;241m.\u001b[39mwrite(style_matriz_peso_qt\u001b[38;5;241m.\u001b[39mto_html())\n",
      "File \u001b[0;32m~/dev/acuracia_slz/.venv/lib/python3.10/site-packages/IPython/core/interactiveshell.py:324\u001b[0m, in \u001b[0;36m_modified_open\u001b[0;34m(file, *args, **kwargs)\u001b[0m\n\u001b[1;32m    317\u001b[0m \u001b[38;5;28;01mif\u001b[39;00m file \u001b[38;5;129;01min\u001b[39;00m {\u001b[38;5;241m0\u001b[39m, \u001b[38;5;241m1\u001b[39m, \u001b[38;5;241m2\u001b[39m}:\n\u001b[1;32m    318\u001b[0m     \u001b[38;5;28;01mraise\u001b[39;00m \u001b[38;5;167;01mValueError\u001b[39;00m(\n\u001b[1;32m    319\u001b[0m         \u001b[38;5;124mf\u001b[39m\u001b[38;5;124m\"\u001b[39m\u001b[38;5;124mIPython won\u001b[39m\u001b[38;5;124m'\u001b[39m\u001b[38;5;124mt let you open fd=\u001b[39m\u001b[38;5;132;01m{\u001b[39;00mfile\u001b[38;5;132;01m}\u001b[39;00m\u001b[38;5;124m by default \u001b[39m\u001b[38;5;124m\"\u001b[39m\n\u001b[1;32m    320\u001b[0m         \u001b[38;5;124m\"\u001b[39m\u001b[38;5;124mas it is likely to crash IPython. If you know what you are doing, \u001b[39m\u001b[38;5;124m\"\u001b[39m\n\u001b[1;32m    321\u001b[0m         \u001b[38;5;124m\"\u001b[39m\u001b[38;5;124myou can use builtins\u001b[39m\u001b[38;5;124m'\u001b[39m\u001b[38;5;124m open.\u001b[39m\u001b[38;5;124m\"\u001b[39m\n\u001b[1;32m    322\u001b[0m     )\n\u001b[0;32m--> 324\u001b[0m \u001b[38;5;28;01mreturn\u001b[39;00m \u001b[43mio_open\u001b[49m\u001b[43m(\u001b[49m\u001b[43mfile\u001b[49m\u001b[43m,\u001b[49m\u001b[43m \u001b[49m\u001b[38;5;241;43m*\u001b[39;49m\u001b[43margs\u001b[49m\u001b[43m,\u001b[49m\u001b[43m \u001b[49m\u001b[38;5;241;43m*\u001b[39;49m\u001b[38;5;241;43m*\u001b[39;49m\u001b[43mkwargs\u001b[49m\u001b[43m)\u001b[49m\n",
      "\u001b[0;31mFileNotFoundError\u001b[0m: [Errno 2] No such file or directory: 'tmp/saida.html'"
     ]
    }
   ],
   "source": [
    "file = open ('tmp/saida.html','w')\n",
    "file.write(style_matriz_peso_qt.to_html())"
   ]
  },
  {
   "cell_type": "markdown",
   "metadata": {},
   "source": [
    "### Matriz Sem Área"
   ]
  },
  {
   "cell_type": "code",
   "execution_count": 149,
   "metadata": {},
   "outputs": [
    {
     "data": {
      "text/plain": [
       "655"
      ]
     },
     "execution_count": 149,
     "metadata": {},
     "output_type": "execute_result"
    }
   ],
   "source": [
    "total, _ = df_acc.shape\n",
    "total"
   ]
  },
  {
   "cell_type": "code",
   "execution_count": 150,
   "metadata": {},
   "outputs": [
    {
     "data": {
      "text/html": [
       "<div>\n",
       "<style scoped>\n",
       "    .dataframe tbody tr th:only-of-type {\n",
       "        vertical-align: middle;\n",
       "    }\n",
       "\n",
       "    .dataframe tbody tr th {\n",
       "        vertical-align: top;\n",
       "    }\n",
       "\n",
       "    .dataframe thead th {\n",
       "        text-align: right;\n",
       "    }\n",
       "</style>\n",
       "<table border=\"1\" class=\"dataframe\">\n",
       "  <thead>\n",
       "    <tr style=\"text-align: right;\">\n",
       "      <th></th>\n",
       "      <th>1.1. Formação Florestal</th>\n",
       "      <th>1.2. Formação Savânica</th>\n",
       "      <th>1.3. Mangue</th>\n",
       "      <th>2.1. Campo Alagado e Área Pantanosa</th>\n",
       "      <th>2.2. Formação Campestre (Campo)</th>\n",
       "      <th>3.1. Pastagem</th>\n",
       "      <th>3.2. Agricultura</th>\n",
       "      <th>3.4. Mosaico de Usos</th>\n",
       "      <th>4.1. Praia e Duna</th>\n",
       "      <th>4.2. Infraestrutura Urbana</th>\n",
       "      <th>5.1. Rio, Lago e Oceano</th>\n",
       "    </tr>\n",
       "  </thead>\n",
       "  <tbody>\n",
       "    <tr>\n",
       "      <th>1.1. Formação Florestal</th>\n",
       "      <td>225</td>\n",
       "      <td>34</td>\n",
       "      <td>1</td>\n",
       "      <td>0</td>\n",
       "      <td>3</td>\n",
       "      <td>23</td>\n",
       "      <td>1</td>\n",
       "      <td>0</td>\n",
       "      <td>0</td>\n",
       "      <td>0</td>\n",
       "      <td>2</td>\n",
       "    </tr>\n",
       "    <tr>\n",
       "      <th>1.2. Formação Savânica</th>\n",
       "      <td>12</td>\n",
       "      <td>69</td>\n",
       "      <td>0</td>\n",
       "      <td>0</td>\n",
       "      <td>4</td>\n",
       "      <td>8</td>\n",
       "      <td>0</td>\n",
       "      <td>0</td>\n",
       "      <td>0</td>\n",
       "      <td>0</td>\n",
       "      <td>0</td>\n",
       "    </tr>\n",
       "    <tr>\n",
       "      <th>1.3. Mangue</th>\n",
       "      <td>18</td>\n",
       "      <td>0</td>\n",
       "      <td>14</td>\n",
       "      <td>0</td>\n",
       "      <td>0</td>\n",
       "      <td>0</td>\n",
       "      <td>0</td>\n",
       "      <td>0</td>\n",
       "      <td>0</td>\n",
       "      <td>0</td>\n",
       "      <td>0</td>\n",
       "    </tr>\n",
       "    <tr>\n",
       "      <th>2.1. Campo Alagado e Área Pantanosa</th>\n",
       "      <td>8</td>\n",
       "      <td>0</td>\n",
       "      <td>0</td>\n",
       "      <td>38</td>\n",
       "      <td>7</td>\n",
       "      <td>6</td>\n",
       "      <td>0</td>\n",
       "      <td>0</td>\n",
       "      <td>0</td>\n",
       "      <td>0</td>\n",
       "      <td>0</td>\n",
       "    </tr>\n",
       "    <tr>\n",
       "      <th>2.2. Formação Campestre (Campo)</th>\n",
       "      <td>0</td>\n",
       "      <td>6</td>\n",
       "      <td>0</td>\n",
       "      <td>0</td>\n",
       "      <td>1</td>\n",
       "      <td>2</td>\n",
       "      <td>0</td>\n",
       "      <td>0</td>\n",
       "      <td>0</td>\n",
       "      <td>0</td>\n",
       "      <td>1</td>\n",
       "    </tr>\n",
       "    <tr>\n",
       "      <th>3.1. Pastagem</th>\n",
       "      <td>16</td>\n",
       "      <td>4</td>\n",
       "      <td>0</td>\n",
       "      <td>3</td>\n",
       "      <td>6</td>\n",
       "      <td>61</td>\n",
       "      <td>0</td>\n",
       "      <td>0</td>\n",
       "      <td>0</td>\n",
       "      <td>2</td>\n",
       "      <td>0</td>\n",
       "    </tr>\n",
       "    <tr>\n",
       "      <th>3.2. Agricultura</th>\n",
       "      <td>0</td>\n",
       "      <td>0</td>\n",
       "      <td>0</td>\n",
       "      <td>0</td>\n",
       "      <td>0</td>\n",
       "      <td>1</td>\n",
       "      <td>12</td>\n",
       "      <td>0</td>\n",
       "      <td>0</td>\n",
       "      <td>0</td>\n",
       "      <td>0</td>\n",
       "    </tr>\n",
       "    <tr>\n",
       "      <th>3.4. Mosaico de Usos</th>\n",
       "      <td>1</td>\n",
       "      <td>4</td>\n",
       "      <td>0</td>\n",
       "      <td>0</td>\n",
       "      <td>3</td>\n",
       "      <td>0</td>\n",
       "      <td>0</td>\n",
       "      <td>10</td>\n",
       "      <td>0</td>\n",
       "      <td>0</td>\n",
       "      <td>0</td>\n",
       "    </tr>\n",
       "    <tr>\n",
       "      <th>4.1. Praia e Duna</th>\n",
       "      <td>0</td>\n",
       "      <td>0</td>\n",
       "      <td>0</td>\n",
       "      <td>0</td>\n",
       "      <td>0</td>\n",
       "      <td>0</td>\n",
       "      <td>0</td>\n",
       "      <td>0</td>\n",
       "      <td>14</td>\n",
       "      <td>0</td>\n",
       "      <td>0</td>\n",
       "    </tr>\n",
       "    <tr>\n",
       "      <th>4.2. Infraestrutura Urbana</th>\n",
       "      <td>0</td>\n",
       "      <td>0</td>\n",
       "      <td>0</td>\n",
       "      <td>0</td>\n",
       "      <td>0</td>\n",
       "      <td>1</td>\n",
       "      <td>0</td>\n",
       "      <td>0</td>\n",
       "      <td>0</td>\n",
       "      <td>8</td>\n",
       "      <td>0</td>\n",
       "    </tr>\n",
       "    <tr>\n",
       "      <th>5.1. Rio, Lago e Oceano</th>\n",
       "      <td>2</td>\n",
       "      <td>0</td>\n",
       "      <td>0</td>\n",
       "      <td>6</td>\n",
       "      <td>1</td>\n",
       "      <td>0</td>\n",
       "      <td>0</td>\n",
       "      <td>0</td>\n",
       "      <td>0</td>\n",
       "      <td>0</td>\n",
       "      <td>17</td>\n",
       "    </tr>\n",
       "  </tbody>\n",
       "</table>\n",
       "</div>"
      ],
      "text/plain": [
       "                                     1.1. Formação Florestal  \\\n",
       "1.1. Formação Florestal                                  225   \n",
       "1.2. Formação Savânica                                    12   \n",
       "1.3. Mangue                                               18   \n",
       "2.1. Campo Alagado e Área Pantanosa                        8   \n",
       "2.2. Formação Campestre (Campo)                            0   \n",
       "3.1. Pastagem                                             16   \n",
       "3.2. Agricultura                                           0   \n",
       "3.4. Mosaico de Usos                                       1   \n",
       "4.1. Praia e Duna                                          0   \n",
       "4.2. Infraestrutura Urbana                                 0   \n",
       "5.1. Rio, Lago e Oceano                                    2   \n",
       "\n",
       "                                     1.2. Formação Savânica  1.3. Mangue  \\\n",
       "1.1. Formação Florestal                                  34            1   \n",
       "1.2. Formação Savânica                                   69            0   \n",
       "1.3. Mangue                                               0           14   \n",
       "2.1. Campo Alagado e Área Pantanosa                       0            0   \n",
       "2.2. Formação Campestre (Campo)                           6            0   \n",
       "3.1. Pastagem                                             4            0   \n",
       "3.2. Agricultura                                          0            0   \n",
       "3.4. Mosaico de Usos                                      4            0   \n",
       "4.1. Praia e Duna                                         0            0   \n",
       "4.2. Infraestrutura Urbana                                0            0   \n",
       "5.1. Rio, Lago e Oceano                                   0            0   \n",
       "\n",
       "                                     2.1. Campo Alagado e Área Pantanosa  \\\n",
       "1.1. Formação Florestal                                                0   \n",
       "1.2. Formação Savânica                                                 0   \n",
       "1.3. Mangue                                                            0   \n",
       "2.1. Campo Alagado e Área Pantanosa                                   38   \n",
       "2.2. Formação Campestre (Campo)                                        0   \n",
       "3.1. Pastagem                                                          3   \n",
       "3.2. Agricultura                                                       0   \n",
       "3.4. Mosaico de Usos                                                   0   \n",
       "4.1. Praia e Duna                                                      0   \n",
       "4.2. Infraestrutura Urbana                                             0   \n",
       "5.1. Rio, Lago e Oceano                                                6   \n",
       "\n",
       "                                     2.2. Formação Campestre (Campo)  \\\n",
       "1.1. Formação Florestal                                            3   \n",
       "1.2. Formação Savânica                                             4   \n",
       "1.3. Mangue                                                        0   \n",
       "2.1. Campo Alagado e Área Pantanosa                                7   \n",
       "2.2. Formação Campestre (Campo)                                    1   \n",
       "3.1. Pastagem                                                      6   \n",
       "3.2. Agricultura                                                   0   \n",
       "3.4. Mosaico de Usos                                               3   \n",
       "4.1. Praia e Duna                                                  0   \n",
       "4.2. Infraestrutura Urbana                                         0   \n",
       "5.1. Rio, Lago e Oceano                                            1   \n",
       "\n",
       "                                     3.1. Pastagem  3.2. Agricultura  \\\n",
       "1.1. Formação Florestal                         23                 1   \n",
       "1.2. Formação Savânica                           8                 0   \n",
       "1.3. Mangue                                      0                 0   \n",
       "2.1. Campo Alagado e Área Pantanosa              6                 0   \n",
       "2.2. Formação Campestre (Campo)                  2                 0   \n",
       "3.1. Pastagem                                   61                 0   \n",
       "3.2. Agricultura                                 1                12   \n",
       "3.4. Mosaico de Usos                             0                 0   \n",
       "4.1. Praia e Duna                                0                 0   \n",
       "4.2. Infraestrutura Urbana                       1                 0   \n",
       "5.1. Rio, Lago e Oceano                          0                 0   \n",
       "\n",
       "                                     3.4. Mosaico de Usos  4.1. Praia e Duna  \\\n",
       "1.1. Formação Florestal                                 0                  0   \n",
       "1.2. Formação Savânica                                  0                  0   \n",
       "1.3. Mangue                                             0                  0   \n",
       "2.1. Campo Alagado e Área Pantanosa                     0                  0   \n",
       "2.2. Formação Campestre (Campo)                         0                  0   \n",
       "3.1. Pastagem                                           0                  0   \n",
       "3.2. Agricultura                                        0                  0   \n",
       "3.4. Mosaico de Usos                                   10                  0   \n",
       "4.1. Praia e Duna                                       0                 14   \n",
       "4.2. Infraestrutura Urbana                              0                  0   \n",
       "5.1. Rio, Lago e Oceano                                 0                  0   \n",
       "\n",
       "                                     4.2. Infraestrutura Urbana  \\\n",
       "1.1. Formação Florestal                                       0   \n",
       "1.2. Formação Savânica                                        0   \n",
       "1.3. Mangue                                                   0   \n",
       "2.1. Campo Alagado e Área Pantanosa                           0   \n",
       "2.2. Formação Campestre (Campo)                               0   \n",
       "3.1. Pastagem                                                 2   \n",
       "3.2. Agricultura                                              0   \n",
       "3.4. Mosaico de Usos                                          0   \n",
       "4.1. Praia e Duna                                             0   \n",
       "4.2. Infraestrutura Urbana                                    8   \n",
       "5.1. Rio, Lago e Oceano                                       0   \n",
       "\n",
       "                                     5.1. Rio, Lago e Oceano  \n",
       "1.1. Formação Florestal                                    2  \n",
       "1.2. Formação Savânica                                     0  \n",
       "1.3. Mangue                                                0  \n",
       "2.1. Campo Alagado e Área Pantanosa                        0  \n",
       "2.2. Formação Campestre (Campo)                            1  \n",
       "3.1. Pastagem                                              0  \n",
       "3.2. Agricultura                                           0  \n",
       "3.4. Mosaico de Usos                                       0  \n",
       "4.1. Praia e Duna                                          0  \n",
       "4.2. Infraestrutura Urbana                                 0  \n",
       "5.1. Rio, Lago e Oceano                                   17  "
      ]
     },
     "execution_count": 150,
     "metadata": {},
     "output_type": "execute_result"
    }
   ],
   "source": [
    "pd.DataFrame ((confusion_matrix(y_true, y_pred).T) ,  columns=class_names, index=class_names)"
   ]
  },
  {
   "cell_type": "code",
   "execution_count": 151,
   "metadata": {},
   "outputs": [
    {
     "data": {
      "text/html": [
       "<div>\n",
       "<style scoped>\n",
       "    .dataframe tbody tr th:only-of-type {\n",
       "        vertical-align: middle;\n",
       "    }\n",
       "\n",
       "    .dataframe tbody tr th {\n",
       "        vertical-align: top;\n",
       "    }\n",
       "\n",
       "    .dataframe thead th {\n",
       "        text-align: right;\n",
       "    }\n",
       "</style>\n",
       "<table border=\"1\" class=\"dataframe\">\n",
       "  <thead>\n",
       "    <tr style=\"text-align: right;\">\n",
       "      <th></th>\n",
       "      <th>1.1. Formação Florestal</th>\n",
       "      <th>1.2. Formação Savânica</th>\n",
       "      <th>1.3. Mangue</th>\n",
       "      <th>2.1. Campo Alagado e Área Pantanosa</th>\n",
       "      <th>2.2. Formação Campestre (Campo)</th>\n",
       "      <th>3.1. Pastagem</th>\n",
       "      <th>3.2. Agricultura</th>\n",
       "      <th>3.4. Mosaico de Usos</th>\n",
       "      <th>4.1. Praia e Duna</th>\n",
       "      <th>4.2. Infraestrutura Urbana</th>\n",
       "      <th>5.1. Rio, Lago e Oceano</th>\n",
       "    </tr>\n",
       "  </thead>\n",
       "  <tbody>\n",
       "    <tr>\n",
       "      <th>1.1. Formação Florestal</th>\n",
       "      <td>0.343511</td>\n",
       "      <td>0.051908</td>\n",
       "      <td>0.001527</td>\n",
       "      <td>0.000000</td>\n",
       "      <td>0.004580</td>\n",
       "      <td>0.035115</td>\n",
       "      <td>0.001527</td>\n",
       "      <td>0.000000</td>\n",
       "      <td>0.000000</td>\n",
       "      <td>0.000000</td>\n",
       "      <td>0.003053</td>\n",
       "    </tr>\n",
       "    <tr>\n",
       "      <th>1.2. Formação Savânica</th>\n",
       "      <td>0.018321</td>\n",
       "      <td>0.105344</td>\n",
       "      <td>0.000000</td>\n",
       "      <td>0.000000</td>\n",
       "      <td>0.006107</td>\n",
       "      <td>0.012214</td>\n",
       "      <td>0.000000</td>\n",
       "      <td>0.000000</td>\n",
       "      <td>0.000000</td>\n",
       "      <td>0.000000</td>\n",
       "      <td>0.000000</td>\n",
       "    </tr>\n",
       "    <tr>\n",
       "      <th>1.3. Mangue</th>\n",
       "      <td>0.027481</td>\n",
       "      <td>0.000000</td>\n",
       "      <td>0.021374</td>\n",
       "      <td>0.000000</td>\n",
       "      <td>0.000000</td>\n",
       "      <td>0.000000</td>\n",
       "      <td>0.000000</td>\n",
       "      <td>0.000000</td>\n",
       "      <td>0.000000</td>\n",
       "      <td>0.000000</td>\n",
       "      <td>0.000000</td>\n",
       "    </tr>\n",
       "    <tr>\n",
       "      <th>2.1. Campo Alagado e Área Pantanosa</th>\n",
       "      <td>0.012214</td>\n",
       "      <td>0.000000</td>\n",
       "      <td>0.000000</td>\n",
       "      <td>0.058015</td>\n",
       "      <td>0.010687</td>\n",
       "      <td>0.009160</td>\n",
       "      <td>0.000000</td>\n",
       "      <td>0.000000</td>\n",
       "      <td>0.000000</td>\n",
       "      <td>0.000000</td>\n",
       "      <td>0.000000</td>\n",
       "    </tr>\n",
       "    <tr>\n",
       "      <th>2.2. Formação Campestre (Campo)</th>\n",
       "      <td>0.000000</td>\n",
       "      <td>0.009160</td>\n",
       "      <td>0.000000</td>\n",
       "      <td>0.000000</td>\n",
       "      <td>0.001527</td>\n",
       "      <td>0.003053</td>\n",
       "      <td>0.000000</td>\n",
       "      <td>0.000000</td>\n",
       "      <td>0.000000</td>\n",
       "      <td>0.000000</td>\n",
       "      <td>0.001527</td>\n",
       "    </tr>\n",
       "    <tr>\n",
       "      <th>3.1. Pastagem</th>\n",
       "      <td>0.024427</td>\n",
       "      <td>0.006107</td>\n",
       "      <td>0.000000</td>\n",
       "      <td>0.004580</td>\n",
       "      <td>0.009160</td>\n",
       "      <td>0.093130</td>\n",
       "      <td>0.000000</td>\n",
       "      <td>0.000000</td>\n",
       "      <td>0.000000</td>\n",
       "      <td>0.003053</td>\n",
       "      <td>0.000000</td>\n",
       "    </tr>\n",
       "    <tr>\n",
       "      <th>3.2. Agricultura</th>\n",
       "      <td>0.000000</td>\n",
       "      <td>0.000000</td>\n",
       "      <td>0.000000</td>\n",
       "      <td>0.000000</td>\n",
       "      <td>0.000000</td>\n",
       "      <td>0.001527</td>\n",
       "      <td>0.018321</td>\n",
       "      <td>0.000000</td>\n",
       "      <td>0.000000</td>\n",
       "      <td>0.000000</td>\n",
       "      <td>0.000000</td>\n",
       "    </tr>\n",
       "    <tr>\n",
       "      <th>3.4. Mosaico de Usos</th>\n",
       "      <td>0.001527</td>\n",
       "      <td>0.006107</td>\n",
       "      <td>0.000000</td>\n",
       "      <td>0.000000</td>\n",
       "      <td>0.004580</td>\n",
       "      <td>0.000000</td>\n",
       "      <td>0.000000</td>\n",
       "      <td>0.015267</td>\n",
       "      <td>0.000000</td>\n",
       "      <td>0.000000</td>\n",
       "      <td>0.000000</td>\n",
       "    </tr>\n",
       "    <tr>\n",
       "      <th>4.1. Praia e Duna</th>\n",
       "      <td>0.000000</td>\n",
       "      <td>0.000000</td>\n",
       "      <td>0.000000</td>\n",
       "      <td>0.000000</td>\n",
       "      <td>0.000000</td>\n",
       "      <td>0.000000</td>\n",
       "      <td>0.000000</td>\n",
       "      <td>0.000000</td>\n",
       "      <td>0.021374</td>\n",
       "      <td>0.000000</td>\n",
       "      <td>0.000000</td>\n",
       "    </tr>\n",
       "    <tr>\n",
       "      <th>4.2. Infraestrutura Urbana</th>\n",
       "      <td>0.000000</td>\n",
       "      <td>0.000000</td>\n",
       "      <td>0.000000</td>\n",
       "      <td>0.000000</td>\n",
       "      <td>0.000000</td>\n",
       "      <td>0.001527</td>\n",
       "      <td>0.000000</td>\n",
       "      <td>0.000000</td>\n",
       "      <td>0.000000</td>\n",
       "      <td>0.012214</td>\n",
       "      <td>0.000000</td>\n",
       "    </tr>\n",
       "    <tr>\n",
       "      <th>5.1. Rio, Lago e Oceano</th>\n",
       "      <td>0.003053</td>\n",
       "      <td>0.000000</td>\n",
       "      <td>0.000000</td>\n",
       "      <td>0.009160</td>\n",
       "      <td>0.001527</td>\n",
       "      <td>0.000000</td>\n",
       "      <td>0.000000</td>\n",
       "      <td>0.000000</td>\n",
       "      <td>0.000000</td>\n",
       "      <td>0.000000</td>\n",
       "      <td>0.025954</td>\n",
       "    </tr>\n",
       "  </tbody>\n",
       "</table>\n",
       "</div>"
      ],
      "text/plain": [
       "                                     1.1. Formação Florestal  \\\n",
       "1.1. Formação Florestal                             0.343511   \n",
       "1.2. Formação Savânica                              0.018321   \n",
       "1.3. Mangue                                         0.027481   \n",
       "2.1. Campo Alagado e Área Pantanosa                 0.012214   \n",
       "2.2. Formação Campestre (Campo)                     0.000000   \n",
       "3.1. Pastagem                                       0.024427   \n",
       "3.2. Agricultura                                    0.000000   \n",
       "3.4. Mosaico de Usos                                0.001527   \n",
       "4.1. Praia e Duna                                   0.000000   \n",
       "4.2. Infraestrutura Urbana                          0.000000   \n",
       "5.1. Rio, Lago e Oceano                             0.003053   \n",
       "\n",
       "                                     1.2. Formação Savânica  1.3. Mangue  \\\n",
       "1.1. Formação Florestal                            0.051908     0.001527   \n",
       "1.2. Formação Savânica                             0.105344     0.000000   \n",
       "1.3. Mangue                                        0.000000     0.021374   \n",
       "2.1. Campo Alagado e Área Pantanosa                0.000000     0.000000   \n",
       "2.2. Formação Campestre (Campo)                    0.009160     0.000000   \n",
       "3.1. Pastagem                                      0.006107     0.000000   \n",
       "3.2. Agricultura                                   0.000000     0.000000   \n",
       "3.4. Mosaico de Usos                               0.006107     0.000000   \n",
       "4.1. Praia e Duna                                  0.000000     0.000000   \n",
       "4.2. Infraestrutura Urbana                         0.000000     0.000000   \n",
       "5.1. Rio, Lago e Oceano                            0.000000     0.000000   \n",
       "\n",
       "                                     2.1. Campo Alagado e Área Pantanosa  \\\n",
       "1.1. Formação Florestal                                         0.000000   \n",
       "1.2. Formação Savânica                                          0.000000   \n",
       "1.3. Mangue                                                     0.000000   \n",
       "2.1. Campo Alagado e Área Pantanosa                             0.058015   \n",
       "2.2. Formação Campestre (Campo)                                 0.000000   \n",
       "3.1. Pastagem                                                   0.004580   \n",
       "3.2. Agricultura                                                0.000000   \n",
       "3.4. Mosaico de Usos                                            0.000000   \n",
       "4.1. Praia e Duna                                               0.000000   \n",
       "4.2. Infraestrutura Urbana                                      0.000000   \n",
       "5.1. Rio, Lago e Oceano                                         0.009160   \n",
       "\n",
       "                                     2.2. Formação Campestre (Campo)  \\\n",
       "1.1. Formação Florestal                                     0.004580   \n",
       "1.2. Formação Savânica                                      0.006107   \n",
       "1.3. Mangue                                                 0.000000   \n",
       "2.1. Campo Alagado e Área Pantanosa                         0.010687   \n",
       "2.2. Formação Campestre (Campo)                             0.001527   \n",
       "3.1. Pastagem                                               0.009160   \n",
       "3.2. Agricultura                                            0.000000   \n",
       "3.4. Mosaico de Usos                                        0.004580   \n",
       "4.1. Praia e Duna                                           0.000000   \n",
       "4.2. Infraestrutura Urbana                                  0.000000   \n",
       "5.1. Rio, Lago e Oceano                                     0.001527   \n",
       "\n",
       "                                     3.1. Pastagem  3.2. Agricultura  \\\n",
       "1.1. Formação Florestal                   0.035115          0.001527   \n",
       "1.2. Formação Savânica                    0.012214          0.000000   \n",
       "1.3. Mangue                               0.000000          0.000000   \n",
       "2.1. Campo Alagado e Área Pantanosa       0.009160          0.000000   \n",
       "2.2. Formação Campestre (Campo)           0.003053          0.000000   \n",
       "3.1. Pastagem                             0.093130          0.000000   \n",
       "3.2. Agricultura                          0.001527          0.018321   \n",
       "3.4. Mosaico de Usos                      0.000000          0.000000   \n",
       "4.1. Praia e Duna                         0.000000          0.000000   \n",
       "4.2. Infraestrutura Urbana                0.001527          0.000000   \n",
       "5.1. Rio, Lago e Oceano                   0.000000          0.000000   \n",
       "\n",
       "                                     3.4. Mosaico de Usos  4.1. Praia e Duna  \\\n",
       "1.1. Formação Florestal                          0.000000           0.000000   \n",
       "1.2. Formação Savânica                           0.000000           0.000000   \n",
       "1.3. Mangue                                      0.000000           0.000000   \n",
       "2.1. Campo Alagado e Área Pantanosa              0.000000           0.000000   \n",
       "2.2. Formação Campestre (Campo)                  0.000000           0.000000   \n",
       "3.1. Pastagem                                    0.000000           0.000000   \n",
       "3.2. Agricultura                                 0.000000           0.000000   \n",
       "3.4. Mosaico de Usos                             0.015267           0.000000   \n",
       "4.1. Praia e Duna                                0.000000           0.021374   \n",
       "4.2. Infraestrutura Urbana                       0.000000           0.000000   \n",
       "5.1. Rio, Lago e Oceano                          0.000000           0.000000   \n",
       "\n",
       "                                     4.2. Infraestrutura Urbana  \\\n",
       "1.1. Formação Florestal                                0.000000   \n",
       "1.2. Formação Savânica                                 0.000000   \n",
       "1.3. Mangue                                            0.000000   \n",
       "2.1. Campo Alagado e Área Pantanosa                    0.000000   \n",
       "2.2. Formação Campestre (Campo)                        0.000000   \n",
       "3.1. Pastagem                                          0.003053   \n",
       "3.2. Agricultura                                       0.000000   \n",
       "3.4. Mosaico de Usos                                   0.000000   \n",
       "4.1. Praia e Duna                                      0.000000   \n",
       "4.2. Infraestrutura Urbana                             0.012214   \n",
       "5.1. Rio, Lago e Oceano                                0.000000   \n",
       "\n",
       "                                     5.1. Rio, Lago e Oceano  \n",
       "1.1. Formação Florestal                             0.003053  \n",
       "1.2. Formação Savânica                              0.000000  \n",
       "1.3. Mangue                                         0.000000  \n",
       "2.1. Campo Alagado e Área Pantanosa                 0.000000  \n",
       "2.2. Formação Campestre (Campo)                     0.001527  \n",
       "3.1. Pastagem                                       0.000000  \n",
       "3.2. Agricultura                                    0.000000  \n",
       "3.4. Mosaico de Usos                                0.000000  \n",
       "4.1. Praia e Duna                                   0.000000  \n",
       "4.2. Infraestrutura Urbana                          0.000000  \n",
       "5.1. Rio, Lago e Oceano                             0.025954  "
      ]
     },
     "execution_count": 151,
     "metadata": {},
     "output_type": "execute_result"
    }
   ],
   "source": [
    "df_matriz = pd.DataFrame ((confusion_matrix(y_true, y_pred).T) / total,  columns=class_names, index=class_names)\n",
    "df_matriz"
   ]
  },
  {
   "cell_type": "markdown",
   "metadata": {},
   "source": [
    "### Calculo da acuracia"
   ]
  },
  {
   "cell_type": "code",
   "execution_count": 155,
   "metadata": {},
   "outputs": [],
   "source": [
    "from sklearn.metrics import accuracy_score, precision_score, recall_score, f1_score, confusion_matrix, roc_auc_score"
   ]
  },
  {
   "cell_type": "code",
   "execution_count": 156,
   "metadata": {},
   "outputs": [
    {
     "data": {
      "text/plain": [
       "np.float64(1.0)"
      ]
     },
     "execution_count": 156,
     "metadata": {},
     "output_type": "execute_result"
    }
   ],
   "source": [
    "total = df_matriz.sum().sum()\n",
    "total"
   ]
  },
  {
   "cell_type": "code",
   "execution_count": 157,
   "metadata": {},
   "outputs": [
    {
     "data": {
      "text/plain": [
       "array([0.34351145, 0.10534351, 0.02137405, 0.05801527, 0.00152672,\n",
       "       0.09312977, 0.01832061, 0.01526718, 0.02137405, 0.01221374,\n",
       "       0.0259542 ])"
      ]
     },
     "execution_count": 157,
     "metadata": {},
     "output_type": "execute_result"
    }
   ],
   "source": [
    "concordancia = np.diag(df_matriz.values)\n",
    "concordancia"
   ]
  },
  {
   "cell_type": "code",
   "execution_count": 158,
   "metadata": {},
   "outputs": [
    {
     "data": {
      "text/plain": [
       "1.1. Formação Florestal                0.441221\n",
       "1.2. Formação Savânica                 0.141985\n",
       "1.3. Mangue                            0.048855\n",
       "2.1. Campo Alagado e Área Pantanosa    0.090076\n",
       "2.2. Formação Campestre (Campo)        0.015267\n",
       "3.1. Pastagem                          0.140458\n",
       "3.2. Agricultura                       0.019847\n",
       "3.4. Mosaico de Usos                   0.027481\n",
       "4.1. Praia e Duna                      0.021374\n",
       "4.2. Infraestrutura Urbana             0.013740\n",
       "5.1. Rio, Lago e Oceano                0.039695\n",
       "dtype: float64"
      ]
     },
     "execution_count": 158,
     "metadata": {},
     "output_type": "execute_result"
    }
   ],
   "source": [
    "total_class= df_matriz.sum(axis=1)\n",
    "total_class"
   ]
  },
  {
   "cell_type": "code",
   "execution_count": 159,
   "metadata": {},
   "outputs": [
    {
     "data": {
      "text/plain": [
       "1.1. Formação Florestal                0.430534\n",
       "1.2. Formação Savânica                 0.178626\n",
       "1.3. Mangue                            0.022901\n",
       "2.1. Campo Alagado e Área Pantanosa    0.071756\n",
       "2.2. Formação Campestre (Campo)        0.038168\n",
       "3.1. Pastagem                          0.155725\n",
       "3.2. Agricultura                       0.019847\n",
       "3.4. Mosaico de Usos                   0.015267\n",
       "4.1. Praia e Duna                      0.021374\n",
       "4.2. Infraestrutura Urbana             0.015267\n",
       "5.1. Rio, Lago e Oceano                0.030534\n",
       "dtype: float64"
      ]
     },
     "execution_count": 159,
     "metadata": {},
     "output_type": "execute_result"
    }
   ],
   "source": [
    "total_ref = df_matriz.sum(axis=0)\n",
    "total_ref"
   ]
  },
  {
   "cell_type": "code",
   "execution_count": 160,
   "metadata": {},
   "outputs": [
    {
     "data": {
      "text/plain": [
       "np.float64(0.716030534351145)"
      ]
     },
     "execution_count": 160,
     "metadata": {},
     "output_type": "execute_result"
    }
   ],
   "source": [
    "total_concordancia  = concordancia.sum()\n",
    "total_concordancia"
   ]
  },
  {
   "cell_type": "markdown",
   "metadata": {},
   "source": [
    "#### Acuracia Global"
   ]
  },
  {
   "cell_type": "code",
   "execution_count": 161,
   "metadata": {},
   "outputs": [
    {
     "data": {
      "text/plain": [
       "np.float64(0.716030534351145)"
      ]
     },
     "execution_count": 161,
     "metadata": {},
     "output_type": "execute_result"
    }
   ],
   "source": [
    "AG = total_concordancia\n",
    "AG"
   ]
  },
  {
   "cell_type": "markdown",
   "metadata": {},
   "source": [
    "#### Erro Global"
   ]
  },
  {
   "cell_type": "code",
   "execution_count": 162,
   "metadata": {},
   "outputs": [
    {
     "data": {
      "text/plain": [
       "np.float64(0.28396946564885495)"
      ]
     },
     "execution_count": 162,
     "metadata": {},
     "output_type": "execute_result"
    }
   ],
   "source": [
    "EG = 1 - AG\n",
    "EG"
   ]
  },
  {
   "cell_type": "markdown",
   "metadata": {},
   "source": [
    "#### Acuracia do consumidor e erros de comissao"
   ]
  },
  {
   "cell_type": "code",
   "execution_count": 163,
   "metadata": {},
   "outputs": [
    {
     "data": {
      "text/plain": [
       "4.1. Praia e Duna                      1.000000\n",
       "3.2. Agricultura                       0.923077\n",
       "4.2. Infraestrutura Urbana             0.888889\n",
       "1.1. Formação Florestal                0.778547\n",
       "1.2. Formação Savânica                 0.741935\n",
       "3.1. Pastagem                          0.663043\n",
       "5.1. Rio, Lago e Oceano                0.653846\n",
       "2.1. Campo Alagado e Área Pantanosa    0.644068\n",
       "3.4. Mosaico de Usos                   0.555556\n",
       "1.3. Mangue                            0.437500\n",
       "2.2. Formação Campestre (Campo)        0.100000\n",
       "dtype: float64"
      ]
     },
     "execution_count": 163,
     "metadata": {},
     "output_type": "execute_result"
    }
   ],
   "source": [
    "AC = concordancia / total_class\n",
    "AC.sort_values(ascending=False)"
   ]
  },
  {
   "cell_type": "markdown",
   "metadata": {},
   "source": [
    "aqui estou fazendo o equivalente ao micro"
   ]
  },
  {
   "cell_type": "code",
   "execution_count": 164,
   "metadata": {},
   "outputs": [
    {
     "data": {
      "text/plain": [
       "np.float64(0.7160305343511452)"
      ]
     },
     "execution_count": 164,
     "metadata": {},
     "output_type": "execute_result"
    }
   ],
   "source": [
    "concordancia.sum() / total_class.sum()"
   ]
  },
  {
   "cell_type": "markdown",
   "metadata": {},
   "source": [
    "Micro: Calcula a métrica globalmente.\n",
    "Macro: Calcula a métrica para cada classe e depois tira a média.\n",
    "Weighted: Calcula a métrica para cada classe e tira a média ponderada pelo suporte de cada classe."
   ]
  },
  {
   "cell_type": "code",
   "execution_count": 165,
   "metadata": {},
   "outputs": [
    {
     "data": {
      "text/plain": [
       "np.float64(0.716030534351145)"
      ]
     },
     "execution_count": 165,
     "metadata": {},
     "output_type": "execute_result"
    }
   ],
   "source": [
    "precision_score(y_true, y_pred, average='micro')"
   ]
  },
  {
   "cell_type": "code",
   "execution_count": 166,
   "metadata": {},
   "outputs": [
    {
     "data": {
      "text/plain": [
       "2.2. Formação Campestre (Campo)        0.900000\n",
       "1.3. Mangue                            0.562500\n",
       "3.4. Mosaico de Usos                   0.444444\n",
       "2.1. Campo Alagado e Área Pantanosa    0.355932\n",
       "5.1. Rio, Lago e Oceano                0.346154\n",
       "3.1. Pastagem                          0.336957\n",
       "1.2. Formação Savânica                 0.258065\n",
       "1.1. Formação Florestal                0.221453\n",
       "4.2. Infraestrutura Urbana             0.111111\n",
       "3.2. Agricultura                       0.076923\n",
       "4.1. Praia e Duna                      0.000000\n",
       "dtype: float64"
      ]
     },
     "execution_count": 166,
     "metadata": {},
     "output_type": "execute_result"
    }
   ],
   "source": [
    "EC = 1 - AC\n",
    "EC.sort_values(ascending=False)"
   ]
  },
  {
   "cell_type": "code",
   "execution_count": 167,
   "metadata": {},
   "outputs": [
    {
     "data": {
      "text/plain": [
       "np.float64(0.28396946564885484)"
      ]
     },
     "execution_count": 167,
     "metadata": {},
     "output_type": "execute_result"
    }
   ],
   "source": [
    "1 - concordancia.sum() / total_class.sum()"
   ]
  },
  {
   "cell_type": "markdown",
   "metadata": {},
   "source": [
    "#### Acuracia do produtor e erros de omissao"
   ]
  },
  {
   "cell_type": "code",
   "execution_count": 168,
   "metadata": {},
   "outputs": [
    {
     "data": {
      "text/plain": [
       "4.1. Praia e Duna                      1.000000\n",
       "3.4. Mosaico de Usos                   1.000000\n",
       "1.3. Mangue                            0.933333\n",
       "3.2. Agricultura                       0.923077\n",
       "5.1. Rio, Lago e Oceano                0.850000\n",
       "2.1. Campo Alagado e Área Pantanosa    0.808511\n",
       "4.2. Infraestrutura Urbana             0.800000\n",
       "1.1. Formação Florestal                0.797872\n",
       "3.1. Pastagem                          0.598039\n",
       "1.2. Formação Savânica                 0.589744\n",
       "2.2. Formação Campestre (Campo)        0.040000\n",
       "dtype: float64"
      ]
     },
     "execution_count": 168,
     "metadata": {},
     "output_type": "execute_result"
    }
   ],
   "source": [
    "AP = concordancia / total_ref\n",
    "AP.sort_values(ascending=False)"
   ]
  },
  {
   "cell_type": "code",
   "execution_count": 169,
   "metadata": {},
   "outputs": [
    {
     "data": {
      "text/plain": [
       "np.float64(0.716030534351145)"
      ]
     },
     "execution_count": 169,
     "metadata": {},
     "output_type": "execute_result"
    }
   ],
   "source": [
    "concordancia.sum() / total_ref.sum()"
   ]
  },
  {
   "cell_type": "code",
   "execution_count": 170,
   "metadata": {},
   "outputs": [
    {
     "data": {
      "text/plain": [
       "np.float64(0.716030534351145)"
      ]
     },
     "execution_count": 170,
     "metadata": {},
     "output_type": "execute_result"
    }
   ],
   "source": [
    "recall_score(y_true, y_pred, average='micro')"
   ]
  },
  {
   "cell_type": "code",
   "execution_count": 171,
   "metadata": {},
   "outputs": [
    {
     "data": {
      "text/plain": [
       "1.1. Formação Florestal                0.202128\n",
       "1.2. Formação Savânica                 0.410256\n",
       "1.3. Mangue                            0.066667\n",
       "2.1. Campo Alagado e Área Pantanosa    0.191489\n",
       "2.2. Formação Campestre (Campo)        0.960000\n",
       "3.1. Pastagem                          0.401961\n",
       "3.2. Agricultura                       0.076923\n",
       "3.4. Mosaico de Usos                   0.000000\n",
       "4.1. Praia e Duna                      0.000000\n",
       "4.2. Infraestrutura Urbana             0.200000\n",
       "5.1. Rio, Lago e Oceano                0.150000\n",
       "dtype: float64"
      ]
     },
     "execution_count": 171,
     "metadata": {},
     "output_type": "execute_result"
    }
   ],
   "source": [
    "EO = 1 - AP\n",
    "EO"
   ]
  },
  {
   "cell_type": "code",
   "execution_count": 172,
   "metadata": {},
   "outputs": [
    {
     "data": {
      "text/html": [
       "<div>\n",
       "<style scoped>\n",
       "    .dataframe tbody tr th:only-of-type {\n",
       "        vertical-align: middle;\n",
       "    }\n",
       "\n",
       "    .dataframe tbody tr th {\n",
       "        vertical-align: top;\n",
       "    }\n",
       "\n",
       "    .dataframe thead th {\n",
       "        text-align: right;\n",
       "    }\n",
       "</style>\n",
       "<table border=\"1\" class=\"dataframe\">\n",
       "  <thead>\n",
       "    <tr style=\"text-align: right;\">\n",
       "      <th></th>\n",
       "      <th>Class_Names</th>\n",
       "      <th>qt_class</th>\n",
       "      <th>qt_reference</th>\n",
       "    </tr>\n",
       "    <tr>\n",
       "      <th>Class_Values</th>\n",
       "      <th></th>\n",
       "      <th></th>\n",
       "      <th></th>\n",
       "    </tr>\n",
       "  </thead>\n",
       "  <tbody>\n",
       "    <tr>\n",
       "      <th>3</th>\n",
       "      <td>1.1. Formação Florestal</td>\n",
       "      <td>289</td>\n",
       "      <td>282</td>\n",
       "    </tr>\n",
       "    <tr>\n",
       "      <th>4</th>\n",
       "      <td>1.2. Formação Savânica</td>\n",
       "      <td>93</td>\n",
       "      <td>117</td>\n",
       "    </tr>\n",
       "    <tr>\n",
       "      <th>5</th>\n",
       "      <td>1.3. Mangue</td>\n",
       "      <td>32</td>\n",
       "      <td>15</td>\n",
       "    </tr>\n",
       "    <tr>\n",
       "      <th>11</th>\n",
       "      <td>2.1. Campo Alagado e Área Pantanosa</td>\n",
       "      <td>59</td>\n",
       "      <td>47</td>\n",
       "    </tr>\n",
       "    <tr>\n",
       "      <th>12</th>\n",
       "      <td>2.2. Formação Campestre (Campo)</td>\n",
       "      <td>10</td>\n",
       "      <td>25</td>\n",
       "    </tr>\n",
       "    <tr>\n",
       "      <th>15</th>\n",
       "      <td>3.1. Pastagem</td>\n",
       "      <td>92</td>\n",
       "      <td>102</td>\n",
       "    </tr>\n",
       "    <tr>\n",
       "      <th>18</th>\n",
       "      <td>3.2. Agricultura</td>\n",
       "      <td>13</td>\n",
       "      <td>13</td>\n",
       "    </tr>\n",
       "    <tr>\n",
       "      <th>21</th>\n",
       "      <td>3.4. Mosaico de Usos</td>\n",
       "      <td>18</td>\n",
       "      <td>10</td>\n",
       "    </tr>\n",
       "    <tr>\n",
       "      <th>23</th>\n",
       "      <td>4.1. Praia e Duna</td>\n",
       "      <td>14</td>\n",
       "      <td>14</td>\n",
       "    </tr>\n",
       "    <tr>\n",
       "      <th>24</th>\n",
       "      <td>4.2. Infraestrutura Urbana</td>\n",
       "      <td>9</td>\n",
       "      <td>10</td>\n",
       "    </tr>\n",
       "    <tr>\n",
       "      <th>33</th>\n",
       "      <td>5.1. Rio, Lago e Oceano</td>\n",
       "      <td>26</td>\n",
       "      <td>20</td>\n",
       "    </tr>\n",
       "  </tbody>\n",
       "</table>\n",
       "</div>"
      ],
      "text/plain": [
       "                                      Class_Names  qt_class  qt_reference\n",
       "Class_Values                                                             \n",
       "3                         1.1. Formação Florestal       289           282\n",
       "4                          1.2. Formação Savânica        93           117\n",
       "5                                     1.3. Mangue        32            15\n",
       "11            2.1. Campo Alagado e Área Pantanosa        59            47\n",
       "12                2.2. Formação Campestre (Campo)        10            25\n",
       "15                                  3.1. Pastagem        92           102\n",
       "18                               3.2. Agricultura        13            13\n",
       "21                           3.4. Mosaico de Usos        18            10\n",
       "23                              4.1. Praia e Duna        14            14\n",
       "24                     4.2. Infraestrutura Urbana         9            10\n",
       "33                        5.1. Rio, Lago e Oceano        26            20"
      ]
     },
     "execution_count": 172,
     "metadata": {},
     "output_type": "execute_result"
    }
   ],
   "source": [
    "df_by_class"
   ]
  },
  {
   "cell_type": "code",
   "execution_count": 173,
   "metadata": {},
   "outputs": [
    {
     "data": {
      "text/html": [
       "<div>\n",
       "<style scoped>\n",
       "    .dataframe tbody tr th:only-of-type {\n",
       "        vertical-align: middle;\n",
       "    }\n",
       "\n",
       "    .dataframe tbody tr th {\n",
       "        vertical-align: top;\n",
       "    }\n",
       "\n",
       "    .dataframe thead th {\n",
       "        text-align: right;\n",
       "    }\n",
       "</style>\n",
       "<table border=\"1\" class=\"dataframe\">\n",
       "  <thead>\n",
       "    <tr style=\"text-align: right;\">\n",
       "      <th></th>\n",
       "      <th>qt_class</th>\n",
       "      <th>qt_reference</th>\n",
       "    </tr>\n",
       "    <tr>\n",
       "      <th>Class_Names</th>\n",
       "      <th></th>\n",
       "      <th></th>\n",
       "    </tr>\n",
       "  </thead>\n",
       "  <tbody>\n",
       "    <tr>\n",
       "      <th>1.1. Formação Florestal</th>\n",
       "      <td>289</td>\n",
       "      <td>282</td>\n",
       "    </tr>\n",
       "    <tr>\n",
       "      <th>1.2. Formação Savânica</th>\n",
       "      <td>93</td>\n",
       "      <td>117</td>\n",
       "    </tr>\n",
       "    <tr>\n",
       "      <th>1.3. Mangue</th>\n",
       "      <td>32</td>\n",
       "      <td>15</td>\n",
       "    </tr>\n",
       "    <tr>\n",
       "      <th>2.1. Campo Alagado e Área Pantanosa</th>\n",
       "      <td>59</td>\n",
       "      <td>47</td>\n",
       "    </tr>\n",
       "    <tr>\n",
       "      <th>2.2. Formação Campestre (Campo)</th>\n",
       "      <td>10</td>\n",
       "      <td>25</td>\n",
       "    </tr>\n",
       "    <tr>\n",
       "      <th>3.1. Pastagem</th>\n",
       "      <td>92</td>\n",
       "      <td>102</td>\n",
       "    </tr>\n",
       "    <tr>\n",
       "      <th>3.2. Agricultura</th>\n",
       "      <td>13</td>\n",
       "      <td>13</td>\n",
       "    </tr>\n",
       "    <tr>\n",
       "      <th>3.4. Mosaico de Usos</th>\n",
       "      <td>18</td>\n",
       "      <td>10</td>\n",
       "    </tr>\n",
       "    <tr>\n",
       "      <th>4.1. Praia e Duna</th>\n",
       "      <td>14</td>\n",
       "      <td>14</td>\n",
       "    </tr>\n",
       "    <tr>\n",
       "      <th>4.2. Infraestrutura Urbana</th>\n",
       "      <td>9</td>\n",
       "      <td>10</td>\n",
       "    </tr>\n",
       "    <tr>\n",
       "      <th>5.1. Rio, Lago e Oceano</th>\n",
       "      <td>26</td>\n",
       "      <td>20</td>\n",
       "    </tr>\n",
       "  </tbody>\n",
       "</table>\n",
       "</div>"
      ],
      "text/plain": [
       "                                     qt_class  qt_reference\n",
       "Class_Names                                                \n",
       "1.1. Formação Florestal                   289           282\n",
       "1.2. Formação Savânica                     93           117\n",
       "1.3. Mangue                                32            15\n",
       "2.1. Campo Alagado e Área Pantanosa        59            47\n",
       "2.2. Formação Campestre (Campo)            10            25\n",
       "3.1. Pastagem                              92           102\n",
       "3.2. Agricultura                           13            13\n",
       "3.4. Mosaico de Usos                       18            10\n",
       "4.1. Praia e Duna                          14            14\n",
       "4.2. Infraestrutura Urbana                  9            10\n",
       "5.1. Rio, Lago e Oceano                    26            20"
      ]
     },
     "execution_count": 173,
     "metadata": {},
     "output_type": "execute_result"
    }
   ],
   "source": [
    "df_class_acuracias = df_by_class.set_index('Class_Names')\n",
    "df_class_acuracias"
   ]
  },
  {
   "cell_type": "code",
   "execution_count": 174,
   "metadata": {},
   "outputs": [
    {
     "data": {
      "text/html": [
       "<div>\n",
       "<style scoped>\n",
       "    .dataframe tbody tr th:only-of-type {\n",
       "        vertical-align: middle;\n",
       "    }\n",
       "\n",
       "    .dataframe tbody tr th {\n",
       "        vertical-align: top;\n",
       "    }\n",
       "\n",
       "    .dataframe thead th {\n",
       "        text-align: right;\n",
       "    }\n",
       "</style>\n",
       "<table border=\"1\" class=\"dataframe\">\n",
       "  <thead>\n",
       "    <tr style=\"text-align: right;\">\n",
       "      <th></th>\n",
       "      <th>Classificado</th>\n",
       "      <th>Referência</th>\n",
       "    </tr>\n",
       "    <tr>\n",
       "      <th>Class_Names</th>\n",
       "      <th></th>\n",
       "      <th></th>\n",
       "    </tr>\n",
       "  </thead>\n",
       "  <tbody>\n",
       "    <tr>\n",
       "      <th>1.1. Formação Florestal</th>\n",
       "      <td>289</td>\n",
       "      <td>282</td>\n",
       "    </tr>\n",
       "    <tr>\n",
       "      <th>1.2. Formação Savânica</th>\n",
       "      <td>93</td>\n",
       "      <td>117</td>\n",
       "    </tr>\n",
       "    <tr>\n",
       "      <th>1.3. Mangue</th>\n",
       "      <td>32</td>\n",
       "      <td>15</td>\n",
       "    </tr>\n",
       "    <tr>\n",
       "      <th>2.1. Campo Alagado e Área Pantanosa</th>\n",
       "      <td>59</td>\n",
       "      <td>47</td>\n",
       "    </tr>\n",
       "    <tr>\n",
       "      <th>2.2. Formação Campestre (Campo)</th>\n",
       "      <td>10</td>\n",
       "      <td>25</td>\n",
       "    </tr>\n",
       "    <tr>\n",
       "      <th>3.1. Pastagem</th>\n",
       "      <td>92</td>\n",
       "      <td>102</td>\n",
       "    </tr>\n",
       "    <tr>\n",
       "      <th>3.2. Agricultura</th>\n",
       "      <td>13</td>\n",
       "      <td>13</td>\n",
       "    </tr>\n",
       "    <tr>\n",
       "      <th>3.4. Mosaico de Usos</th>\n",
       "      <td>18</td>\n",
       "      <td>10</td>\n",
       "    </tr>\n",
       "    <tr>\n",
       "      <th>4.1. Praia e Duna</th>\n",
       "      <td>14</td>\n",
       "      <td>14</td>\n",
       "    </tr>\n",
       "    <tr>\n",
       "      <th>4.2. Infraestrutura Urbana</th>\n",
       "      <td>9</td>\n",
       "      <td>10</td>\n",
       "    </tr>\n",
       "    <tr>\n",
       "      <th>5.1. Rio, Lago e Oceano</th>\n",
       "      <td>26</td>\n",
       "      <td>20</td>\n",
       "    </tr>\n",
       "  </tbody>\n",
       "</table>\n",
       "</div>"
      ],
      "text/plain": [
       "                                     Classificado  Referência\n",
       "Class_Names                                                  \n",
       "1.1. Formação Florestal                       289         282\n",
       "1.2. Formação Savânica                         93         117\n",
       "1.3. Mangue                                    32          15\n",
       "2.1. Campo Alagado e Área Pantanosa            59          47\n",
       "2.2. Formação Campestre (Campo)                10          25\n",
       "3.1. Pastagem                                  92         102\n",
       "3.2. Agricultura                               13          13\n",
       "3.4. Mosaico de Usos                           18          10\n",
       "4.1. Praia e Duna                              14          14\n",
       "4.2. Infraestrutura Urbana                      9          10\n",
       "5.1. Rio, Lago e Oceano                        26          20"
      ]
     },
     "execution_count": 174,
     "metadata": {},
     "output_type": "execute_result"
    }
   ],
   "source": [
    "df_class_acuracias.columns = [\"Classificado\", \"Referência\"]\n",
    "df_class_acuracias"
   ]
  },
  {
   "cell_type": "code",
   "execution_count": 175,
   "metadata": {},
   "outputs": [
    {
     "data": {
      "text/html": [
       "<div>\n",
       "<style scoped>\n",
       "    .dataframe tbody tr th:only-of-type {\n",
       "        vertical-align: middle;\n",
       "    }\n",
       "\n",
       "    .dataframe tbody tr th {\n",
       "        vertical-align: top;\n",
       "    }\n",
       "\n",
       "    .dataframe thead th {\n",
       "        text-align: right;\n",
       "    }\n",
       "</style>\n",
       "<table border=\"1\" class=\"dataframe\">\n",
       "  <thead>\n",
       "    <tr style=\"text-align: right;\">\n",
       "      <th></th>\n",
       "      <th>Classificado</th>\n",
       "      <th>Referência</th>\n",
       "      <th>Acurácia do Consumidor</th>\n",
       "      <th>Acurácia do Produtor</th>\n",
       "    </tr>\n",
       "    <tr>\n",
       "      <th>Class_Names</th>\n",
       "      <th></th>\n",
       "      <th></th>\n",
       "      <th></th>\n",
       "      <th></th>\n",
       "    </tr>\n",
       "  </thead>\n",
       "  <tbody>\n",
       "    <tr>\n",
       "      <th>1.1. Formação Florestal</th>\n",
       "      <td>289</td>\n",
       "      <td>282</td>\n",
       "      <td>0.778547</td>\n",
       "      <td>0.797872</td>\n",
       "    </tr>\n",
       "    <tr>\n",
       "      <th>1.2. Formação Savânica</th>\n",
       "      <td>93</td>\n",
       "      <td>117</td>\n",
       "      <td>0.741935</td>\n",
       "      <td>0.589744</td>\n",
       "    </tr>\n",
       "    <tr>\n",
       "      <th>1.3. Mangue</th>\n",
       "      <td>32</td>\n",
       "      <td>15</td>\n",
       "      <td>0.437500</td>\n",
       "      <td>0.933333</td>\n",
       "    </tr>\n",
       "    <tr>\n",
       "      <th>2.1. Campo Alagado e Área Pantanosa</th>\n",
       "      <td>59</td>\n",
       "      <td>47</td>\n",
       "      <td>0.644068</td>\n",
       "      <td>0.808511</td>\n",
       "    </tr>\n",
       "    <tr>\n",
       "      <th>2.2. Formação Campestre (Campo)</th>\n",
       "      <td>10</td>\n",
       "      <td>25</td>\n",
       "      <td>0.100000</td>\n",
       "      <td>0.040000</td>\n",
       "    </tr>\n",
       "    <tr>\n",
       "      <th>3.1. Pastagem</th>\n",
       "      <td>92</td>\n",
       "      <td>102</td>\n",
       "      <td>0.663043</td>\n",
       "      <td>0.598039</td>\n",
       "    </tr>\n",
       "    <tr>\n",
       "      <th>3.2. Agricultura</th>\n",
       "      <td>13</td>\n",
       "      <td>13</td>\n",
       "      <td>0.923077</td>\n",
       "      <td>0.923077</td>\n",
       "    </tr>\n",
       "    <tr>\n",
       "      <th>3.4. Mosaico de Usos</th>\n",
       "      <td>18</td>\n",
       "      <td>10</td>\n",
       "      <td>0.555556</td>\n",
       "      <td>1.000000</td>\n",
       "    </tr>\n",
       "    <tr>\n",
       "      <th>4.1. Praia e Duna</th>\n",
       "      <td>14</td>\n",
       "      <td>14</td>\n",
       "      <td>1.000000</td>\n",
       "      <td>1.000000</td>\n",
       "    </tr>\n",
       "    <tr>\n",
       "      <th>4.2. Infraestrutura Urbana</th>\n",
       "      <td>9</td>\n",
       "      <td>10</td>\n",
       "      <td>0.888889</td>\n",
       "      <td>0.800000</td>\n",
       "    </tr>\n",
       "    <tr>\n",
       "      <th>5.1. Rio, Lago e Oceano</th>\n",
       "      <td>26</td>\n",
       "      <td>20</td>\n",
       "      <td>0.653846</td>\n",
       "      <td>0.850000</td>\n",
       "    </tr>\n",
       "  </tbody>\n",
       "</table>\n",
       "</div>"
      ],
      "text/plain": [
       "                                     Classificado  Referência  \\\n",
       "Class_Names                                                     \n",
       "1.1. Formação Florestal                       289         282   \n",
       "1.2. Formação Savânica                         93         117   \n",
       "1.3. Mangue                                    32          15   \n",
       "2.1. Campo Alagado e Área Pantanosa            59          47   \n",
       "2.2. Formação Campestre (Campo)                10          25   \n",
       "3.1. Pastagem                                  92         102   \n",
       "3.2. Agricultura                               13          13   \n",
       "3.4. Mosaico de Usos                           18          10   \n",
       "4.1. Praia e Duna                              14          14   \n",
       "4.2. Infraestrutura Urbana                      9          10   \n",
       "5.1. Rio, Lago e Oceano                        26          20   \n",
       "\n",
       "                                     Acurácia do Consumidor  \\\n",
       "Class_Names                                                   \n",
       "1.1. Formação Florestal                            0.778547   \n",
       "1.2. Formação Savânica                             0.741935   \n",
       "1.3. Mangue                                        0.437500   \n",
       "2.1. Campo Alagado e Área Pantanosa                0.644068   \n",
       "2.2. Formação Campestre (Campo)                    0.100000   \n",
       "3.1. Pastagem                                      0.663043   \n",
       "3.2. Agricultura                                   0.923077   \n",
       "3.4. Mosaico de Usos                               0.555556   \n",
       "4.1. Praia e Duna                                  1.000000   \n",
       "4.2. Infraestrutura Urbana                         0.888889   \n",
       "5.1. Rio, Lago e Oceano                            0.653846   \n",
       "\n",
       "                                     Acurácia do Produtor  \n",
       "Class_Names                                                \n",
       "1.1. Formação Florestal                          0.797872  \n",
       "1.2. Formação Savânica                           0.589744  \n",
       "1.3. Mangue                                      0.933333  \n",
       "2.1. Campo Alagado e Área Pantanosa              0.808511  \n",
       "2.2. Formação Campestre (Campo)                  0.040000  \n",
       "3.1. Pastagem                                    0.598039  \n",
       "3.2. Agricultura                                 0.923077  \n",
       "3.4. Mosaico de Usos                             1.000000  \n",
       "4.1. Praia e Duna                                1.000000  \n",
       "4.2. Infraestrutura Urbana                       0.800000  \n",
       "5.1. Rio, Lago e Oceano                          0.850000  "
      ]
     },
     "execution_count": 175,
     "metadata": {},
     "output_type": "execute_result"
    }
   ],
   "source": [
    "df_class_acuracias['Acurácia do Consumidor'] = AC\n",
    "df_class_acuracias['Acurácia do Produtor'] = AP\n",
    "df_class_acuracias"
   ]
  },
  {
   "cell_type": "code",
   "execution_count": 176,
   "metadata": {},
   "outputs": [
    {
     "data": {
      "text/html": [
       "<style type=\"text/css\">\n",
       "</style>\n",
       "<table id=\"T_13f49\">\n",
       "  <thead>\n",
       "    <tr>\n",
       "      <th class=\"blank level0\" >&nbsp;</th>\n",
       "      <th id=\"T_13f49_level0_col0\" class=\"col_heading level0 col0\" >Classificado</th>\n",
       "      <th id=\"T_13f49_level0_col1\" class=\"col_heading level0 col1\" >Referência</th>\n",
       "      <th id=\"T_13f49_level0_col2\" class=\"col_heading level0 col2\" >Acurácia do Consumidor</th>\n",
       "      <th id=\"T_13f49_level0_col3\" class=\"col_heading level0 col3\" >Acurácia do Produtor</th>\n",
       "    </tr>\n",
       "    <tr>\n",
       "      <th class=\"index_name level0\" >Class_Names</th>\n",
       "      <th class=\"blank col0\" >&nbsp;</th>\n",
       "      <th class=\"blank col1\" >&nbsp;</th>\n",
       "      <th class=\"blank col2\" >&nbsp;</th>\n",
       "      <th class=\"blank col3\" >&nbsp;</th>\n",
       "    </tr>\n",
       "  </thead>\n",
       "  <tbody>\n",
       "    <tr>\n",
       "      <th id=\"T_13f49_level0_row0\" class=\"row_heading level0 row0\" >1.1. Formação Florestal</th>\n",
       "      <td id=\"T_13f49_row0_col0\" class=\"data row0 col0\" >289</td>\n",
       "      <td id=\"T_13f49_row0_col1\" class=\"data row0 col1\" >282</td>\n",
       "      <td id=\"T_13f49_row0_col2\" class=\"data row0 col2\" >0.778547</td>\n",
       "      <td id=\"T_13f49_row0_col3\" class=\"data row0 col3\" >0.797872</td>\n",
       "    </tr>\n",
       "    <tr>\n",
       "      <th id=\"T_13f49_level0_row1\" class=\"row_heading level0 row1\" >1.2. Formação Savânica</th>\n",
       "      <td id=\"T_13f49_row1_col0\" class=\"data row1 col0\" >93</td>\n",
       "      <td id=\"T_13f49_row1_col1\" class=\"data row1 col1\" >117</td>\n",
       "      <td id=\"T_13f49_row1_col2\" class=\"data row1 col2\" >0.741935</td>\n",
       "      <td id=\"T_13f49_row1_col3\" class=\"data row1 col3\" >0.589744</td>\n",
       "    </tr>\n",
       "    <tr>\n",
       "      <th id=\"T_13f49_level0_row2\" class=\"row_heading level0 row2\" >1.3. Mangue</th>\n",
       "      <td id=\"T_13f49_row2_col0\" class=\"data row2 col0\" >32</td>\n",
       "      <td id=\"T_13f49_row2_col1\" class=\"data row2 col1\" >15</td>\n",
       "      <td id=\"T_13f49_row2_col2\" class=\"data row2 col2\" >0.437500</td>\n",
       "      <td id=\"T_13f49_row2_col3\" class=\"data row2 col3\" >0.933333</td>\n",
       "    </tr>\n",
       "    <tr>\n",
       "      <th id=\"T_13f49_level0_row3\" class=\"row_heading level0 row3\" >2.1. Campo Alagado e Área Pantanosa</th>\n",
       "      <td id=\"T_13f49_row3_col0\" class=\"data row3 col0\" >59</td>\n",
       "      <td id=\"T_13f49_row3_col1\" class=\"data row3 col1\" >47</td>\n",
       "      <td id=\"T_13f49_row3_col2\" class=\"data row3 col2\" >0.644068</td>\n",
       "      <td id=\"T_13f49_row3_col3\" class=\"data row3 col3\" >0.808511</td>\n",
       "    </tr>\n",
       "    <tr>\n",
       "      <th id=\"T_13f49_level0_row4\" class=\"row_heading level0 row4\" >2.2. Formação Campestre (Campo)</th>\n",
       "      <td id=\"T_13f49_row4_col0\" class=\"data row4 col0\" >10</td>\n",
       "      <td id=\"T_13f49_row4_col1\" class=\"data row4 col1\" >25</td>\n",
       "      <td id=\"T_13f49_row4_col2\" class=\"data row4 col2\" >0.100000</td>\n",
       "      <td id=\"T_13f49_row4_col3\" class=\"data row4 col3\" >0.040000</td>\n",
       "    </tr>\n",
       "    <tr>\n",
       "      <th id=\"T_13f49_level0_row5\" class=\"row_heading level0 row5\" >3.1. Pastagem</th>\n",
       "      <td id=\"T_13f49_row5_col0\" class=\"data row5 col0\" >92</td>\n",
       "      <td id=\"T_13f49_row5_col1\" class=\"data row5 col1\" >102</td>\n",
       "      <td id=\"T_13f49_row5_col2\" class=\"data row5 col2\" >0.663043</td>\n",
       "      <td id=\"T_13f49_row5_col3\" class=\"data row5 col3\" >0.598039</td>\n",
       "    </tr>\n",
       "    <tr>\n",
       "      <th id=\"T_13f49_level0_row6\" class=\"row_heading level0 row6\" >3.2. Agricultura</th>\n",
       "      <td id=\"T_13f49_row6_col0\" class=\"data row6 col0\" >13</td>\n",
       "      <td id=\"T_13f49_row6_col1\" class=\"data row6 col1\" >13</td>\n",
       "      <td id=\"T_13f49_row6_col2\" class=\"data row6 col2\" >0.923077</td>\n",
       "      <td id=\"T_13f49_row6_col3\" class=\"data row6 col3\" >0.923077</td>\n",
       "    </tr>\n",
       "    <tr>\n",
       "      <th id=\"T_13f49_level0_row7\" class=\"row_heading level0 row7\" >3.4. Mosaico de Usos</th>\n",
       "      <td id=\"T_13f49_row7_col0\" class=\"data row7 col0\" >18</td>\n",
       "      <td id=\"T_13f49_row7_col1\" class=\"data row7 col1\" >10</td>\n",
       "      <td id=\"T_13f49_row7_col2\" class=\"data row7 col2\" >0.555556</td>\n",
       "      <td id=\"T_13f49_row7_col3\" class=\"data row7 col3\" >1.000000</td>\n",
       "    </tr>\n",
       "    <tr>\n",
       "      <th id=\"T_13f49_level0_row8\" class=\"row_heading level0 row8\" >4.1. Praia e Duna</th>\n",
       "      <td id=\"T_13f49_row8_col0\" class=\"data row8 col0\" >14</td>\n",
       "      <td id=\"T_13f49_row8_col1\" class=\"data row8 col1\" >14</td>\n",
       "      <td id=\"T_13f49_row8_col2\" class=\"data row8 col2\" >1.000000</td>\n",
       "      <td id=\"T_13f49_row8_col3\" class=\"data row8 col3\" >1.000000</td>\n",
       "    </tr>\n",
       "    <tr>\n",
       "      <th id=\"T_13f49_level0_row9\" class=\"row_heading level0 row9\" >4.2. Infraestrutura Urbana</th>\n",
       "      <td id=\"T_13f49_row9_col0\" class=\"data row9 col0\" >9</td>\n",
       "      <td id=\"T_13f49_row9_col1\" class=\"data row9 col1\" >10</td>\n",
       "      <td id=\"T_13f49_row9_col2\" class=\"data row9 col2\" >0.888889</td>\n",
       "      <td id=\"T_13f49_row9_col3\" class=\"data row9 col3\" >0.800000</td>\n",
       "    </tr>\n",
       "    <tr>\n",
       "      <th id=\"T_13f49_level0_row10\" class=\"row_heading level0 row10\" >5.1. Rio, Lago e Oceano</th>\n",
       "      <td id=\"T_13f49_row10_col0\" class=\"data row10 col0\" >26</td>\n",
       "      <td id=\"T_13f49_row10_col1\" class=\"data row10 col1\" >20</td>\n",
       "      <td id=\"T_13f49_row10_col2\" class=\"data row10 col2\" >0.653846</td>\n",
       "      <td id=\"T_13f49_row10_col3\" class=\"data row10 col3\" >0.850000</td>\n",
       "    </tr>\n",
       "  </tbody>\n",
       "</table>\n"
      ],
      "text/plain": [
       "<pandas.io.formats.style.Styler at 0x7f4de6d175e0>"
      ]
     },
     "execution_count": 176,
     "metadata": {},
     "output_type": "execute_result"
    }
   ],
   "source": [
    "##style_acuracia_classes = pd.DataFrame({ 'Acuracia do Consumidor': AC, 'Erros de Comissão':EC, 'Acuracia do Produtor': AP, 'Erros de Omissão':EO}).style\n",
    "style_acuracia_classes = df_class_acuracias.style\n",
    "style_acuracia_classes"
   ]
  },
  {
   "cell_type": "code",
   "execution_count": 177,
   "metadata": {},
   "outputs": [
    {
     "data": {
      "text/html": [
       "<style type=\"text/css\">\n",
       "</style>\n",
       "<table id=\"T_13f49\">\n",
       "  <thead>\n",
       "    <tr>\n",
       "      <th class=\"blank level0\" >&nbsp;</th>\n",
       "      <th id=\"T_13f49_level0_col0\" class=\"col_heading level0 col0\" >Classificado</th>\n",
       "      <th id=\"T_13f49_level0_col1\" class=\"col_heading level0 col1\" >Referência</th>\n",
       "      <th id=\"T_13f49_level0_col2\" class=\"col_heading level0 col2\" >Acurácia do Consumidor</th>\n",
       "      <th id=\"T_13f49_level0_col3\" class=\"col_heading level0 col3\" >Acurácia do Produtor</th>\n",
       "    </tr>\n",
       "    <tr>\n",
       "      <th class=\"index_name level0\" >Class_Names</th>\n",
       "      <th class=\"blank col0\" >&nbsp;</th>\n",
       "      <th class=\"blank col1\" >&nbsp;</th>\n",
       "      <th class=\"blank col2\" >&nbsp;</th>\n",
       "      <th class=\"blank col3\" >&nbsp;</th>\n",
       "    </tr>\n",
       "  </thead>\n",
       "  <tbody>\n",
       "    <tr>\n",
       "      <th id=\"T_13f49_level0_row0\" class=\"row_heading level0 row0\" >1.1. Formação Florestal</th>\n",
       "      <td id=\"T_13f49_row0_col0\" class=\"data row0 col0\" >289</td>\n",
       "      <td id=\"T_13f49_row0_col1\" class=\"data row0 col1\" >282</td>\n",
       "      <td id=\"T_13f49_row0_col2\" class=\"data row0 col2\" >0.78</td>\n",
       "      <td id=\"T_13f49_row0_col3\" class=\"data row0 col3\" >0.80</td>\n",
       "    </tr>\n",
       "    <tr>\n",
       "      <th id=\"T_13f49_level0_row1\" class=\"row_heading level0 row1\" >1.2. Formação Savânica</th>\n",
       "      <td id=\"T_13f49_row1_col0\" class=\"data row1 col0\" >93</td>\n",
       "      <td id=\"T_13f49_row1_col1\" class=\"data row1 col1\" >117</td>\n",
       "      <td id=\"T_13f49_row1_col2\" class=\"data row1 col2\" >0.74</td>\n",
       "      <td id=\"T_13f49_row1_col3\" class=\"data row1 col3\" >0.59</td>\n",
       "    </tr>\n",
       "    <tr>\n",
       "      <th id=\"T_13f49_level0_row2\" class=\"row_heading level0 row2\" >1.3. Mangue</th>\n",
       "      <td id=\"T_13f49_row2_col0\" class=\"data row2 col0\" >32</td>\n",
       "      <td id=\"T_13f49_row2_col1\" class=\"data row2 col1\" >15</td>\n",
       "      <td id=\"T_13f49_row2_col2\" class=\"data row2 col2\" >0.44</td>\n",
       "      <td id=\"T_13f49_row2_col3\" class=\"data row2 col3\" >0.93</td>\n",
       "    </tr>\n",
       "    <tr>\n",
       "      <th id=\"T_13f49_level0_row3\" class=\"row_heading level0 row3\" >2.1. Campo Alagado e Área Pantanosa</th>\n",
       "      <td id=\"T_13f49_row3_col0\" class=\"data row3 col0\" >59</td>\n",
       "      <td id=\"T_13f49_row3_col1\" class=\"data row3 col1\" >47</td>\n",
       "      <td id=\"T_13f49_row3_col2\" class=\"data row3 col2\" >0.64</td>\n",
       "      <td id=\"T_13f49_row3_col3\" class=\"data row3 col3\" >0.81</td>\n",
       "    </tr>\n",
       "    <tr>\n",
       "      <th id=\"T_13f49_level0_row4\" class=\"row_heading level0 row4\" >2.2. Formação Campestre (Campo)</th>\n",
       "      <td id=\"T_13f49_row4_col0\" class=\"data row4 col0\" >10</td>\n",
       "      <td id=\"T_13f49_row4_col1\" class=\"data row4 col1\" >25</td>\n",
       "      <td id=\"T_13f49_row4_col2\" class=\"data row4 col2\" >0.10</td>\n",
       "      <td id=\"T_13f49_row4_col3\" class=\"data row4 col3\" >0.04</td>\n",
       "    </tr>\n",
       "    <tr>\n",
       "      <th id=\"T_13f49_level0_row5\" class=\"row_heading level0 row5\" >3.1. Pastagem</th>\n",
       "      <td id=\"T_13f49_row5_col0\" class=\"data row5 col0\" >92</td>\n",
       "      <td id=\"T_13f49_row5_col1\" class=\"data row5 col1\" >102</td>\n",
       "      <td id=\"T_13f49_row5_col2\" class=\"data row5 col2\" >0.66</td>\n",
       "      <td id=\"T_13f49_row5_col3\" class=\"data row5 col3\" >0.60</td>\n",
       "    </tr>\n",
       "    <tr>\n",
       "      <th id=\"T_13f49_level0_row6\" class=\"row_heading level0 row6\" >3.2. Agricultura</th>\n",
       "      <td id=\"T_13f49_row6_col0\" class=\"data row6 col0\" >13</td>\n",
       "      <td id=\"T_13f49_row6_col1\" class=\"data row6 col1\" >13</td>\n",
       "      <td id=\"T_13f49_row6_col2\" class=\"data row6 col2\" >0.92</td>\n",
       "      <td id=\"T_13f49_row6_col3\" class=\"data row6 col3\" >0.92</td>\n",
       "    </tr>\n",
       "    <tr>\n",
       "      <th id=\"T_13f49_level0_row7\" class=\"row_heading level0 row7\" >3.4. Mosaico de Usos</th>\n",
       "      <td id=\"T_13f49_row7_col0\" class=\"data row7 col0\" >18</td>\n",
       "      <td id=\"T_13f49_row7_col1\" class=\"data row7 col1\" >10</td>\n",
       "      <td id=\"T_13f49_row7_col2\" class=\"data row7 col2\" >0.56</td>\n",
       "      <td id=\"T_13f49_row7_col3\" class=\"data row7 col3\" >1.00</td>\n",
       "    </tr>\n",
       "    <tr>\n",
       "      <th id=\"T_13f49_level0_row8\" class=\"row_heading level0 row8\" >4.1. Praia e Duna</th>\n",
       "      <td id=\"T_13f49_row8_col0\" class=\"data row8 col0\" >14</td>\n",
       "      <td id=\"T_13f49_row8_col1\" class=\"data row8 col1\" >14</td>\n",
       "      <td id=\"T_13f49_row8_col2\" class=\"data row8 col2\" >1.00</td>\n",
       "      <td id=\"T_13f49_row8_col3\" class=\"data row8 col3\" >1.00</td>\n",
       "    </tr>\n",
       "    <tr>\n",
       "      <th id=\"T_13f49_level0_row9\" class=\"row_heading level0 row9\" >4.2. Infraestrutura Urbana</th>\n",
       "      <td id=\"T_13f49_row9_col0\" class=\"data row9 col0\" >9</td>\n",
       "      <td id=\"T_13f49_row9_col1\" class=\"data row9 col1\" >10</td>\n",
       "      <td id=\"T_13f49_row9_col2\" class=\"data row9 col2\" >0.89</td>\n",
       "      <td id=\"T_13f49_row9_col3\" class=\"data row9 col3\" >0.80</td>\n",
       "    </tr>\n",
       "    <tr>\n",
       "      <th id=\"T_13f49_level0_row10\" class=\"row_heading level0 row10\" >5.1. Rio, Lago e Oceano</th>\n",
       "      <td id=\"T_13f49_row10_col0\" class=\"data row10 col0\" >26</td>\n",
       "      <td id=\"T_13f49_row10_col1\" class=\"data row10 col1\" >20</td>\n",
       "      <td id=\"T_13f49_row10_col2\" class=\"data row10 col2\" >0.65</td>\n",
       "      <td id=\"T_13f49_row10_col3\" class=\"data row10 col3\" >0.85</td>\n",
       "    </tr>\n",
       "  </tbody>\n",
       "</table>\n"
      ],
      "text/plain": [
       "<pandas.io.formats.style.Styler at 0x7f4de6d175e0>"
      ]
     },
     "execution_count": 177,
     "metadata": {},
     "output_type": "execute_result"
    }
   ],
   "source": [
    "style_acuracia_classes.format({\n",
    "    'Acurácia do Consumidor' : '{:.2f}',\n",
    "    'Acurácia do Produtor' : '{:.2f}'\n",
    "})"
   ]
  },
  {
   "cell_type": "code",
   "execution_count": 180,
   "metadata": {},
   "outputs": [],
   "source": [
    "file = open ('tmp/saida.html','w', encoding='utf-8')\n",
    "file.write(style_acuracia_classes.to_html())\n",
    "file.close()"
   ]
  },
  {
   "cell_type": "markdown",
   "metadata": {},
   "source": [
    "#### F1 Score"
   ]
  },
  {
   "cell_type": "code",
   "execution_count": 181,
   "metadata": {},
   "outputs": [
    {
     "data": {
      "text/plain": [
       "np.float64(0.716030534351145)"
      ]
     },
     "execution_count": 181,
     "metadata": {},
     "output_type": "execute_result"
    }
   ],
   "source": [
    "f1_score(y_true, y_pred, average='micro')"
   ]
  },
  {
   "attachments": {
    "image.png": {
     "image/png": "[encoded data removed]"
    }
   },
   "cell_type": "markdown",
   "metadata": {},
   "source": [
    "#### Erro de quantidade (area disagrement)\n",
    "\n",
    "![image.png](attachment:image.png)"
   ]
  },
  {
   "cell_type": "code",
   "execution_count": 182,
   "metadata": {},
   "outputs": [
    {
     "data": {
      "text/plain": [
       "np.float64(0.0763358778625954)"
      ]
     },
     "execution_count": 182,
     "metadata": {},
     "output_type": "execute_result"
    }
   ],
   "source": [
    "QD = (np.abs(total_ref - total_class)).sum() / 2\n",
    "QD"
   ]
  },
  {
   "cell_type": "markdown",
   "metadata": {},
   "source": [
    "logo erro de alocação é "
   ]
  },
  {
   "cell_type": "code",
   "execution_count": 183,
   "metadata": {},
   "outputs": [
    {
     "data": {
      "text/plain": [
       "np.float64(0.20763358778625957)"
      ]
     },
     "execution_count": 183,
     "metadata": {},
     "output_type": "execute_result"
    }
   ],
   "source": [
    "EG - QD"
   ]
  },
  {
   "attachments": {
    "image.png": {
     "image/png": "[encoded data removed]"
    }
   },
   "cell_type": "markdown",
   "metadata": {},
   "source": [
    "vamos aqui usar pela formula\n",
    "\n",
    "![image.png](attachment:image.png)"
   ]
  },
  {
   "cell_type": "code",
   "execution_count": 184,
   "metadata": {},
   "outputs": [
    {
     "data": {
      "text/plain": [
       "1.1. Formação Florestal                0.087023\n",
       "1.2. Formação Savânica                 0.036641\n",
       "1.3. Mangue                            0.001527\n",
       "2.1. Campo Alagado e Área Pantanosa    0.013740\n",
       "2.2. Formação Campestre (Campo)        0.013740\n",
       "3.1. Pastagem                          0.047328\n",
       "3.2. Agricultura                       0.001527\n",
       "3.4. Mosaico de Usos                   0.000000\n",
       "4.1. Praia e Duna                      0.000000\n",
       "4.2. Infraestrutura Urbana             0.001527\n",
       "5.1. Rio, Lago e Oceano                0.004580\n",
       "dtype: float64"
      ]
     },
     "execution_count": 184,
     "metadata": {},
     "output_type": "execute_result"
    }
   ],
   "source": [
    "menor_diferenca = np.minimum((total_class - concordancia), (total_ref - concordancia))\n",
    "menor_diferenca"
   ]
  },
  {
   "cell_type": "code",
   "execution_count": 185,
   "metadata": {},
   "outputs": [
    {
     "data": {
      "text/plain": [
       "np.float64(0.20763358778625957)"
      ]
     },
     "execution_count": 185,
     "metadata": {},
     "output_type": "execute_result"
    }
   ],
   "source": [
    "AD = ((menor_diferenca * 2).sum() / 2) \n",
    "AD"
   ]
  },
  {
   "cell_type": "markdown",
   "metadata": {},
   "source": [
    "### Indice Kappa"
   ]
  },
  {
   "cell_type": "code",
   "execution_count": 186,
   "metadata": {},
   "outputs": [],
   "source": [
    "from sklearn.metrics import cohen_kappa_score"
   ]
  },
  {
   "cell_type": "code",
   "execution_count": 187,
   "metadata": {},
   "outputs": [
    {
     "data": {
      "text/plain": [
       "np.float64(0.622354341545672)"
      ]
     },
     "execution_count": 187,
     "metadata": {},
     "output_type": "execute_result"
    }
   ],
   "source": [
    "kappa = cohen_kappa_score(y_true, y_pred)\n",
    "kappa"
   ]
  },
  {
   "attachments": {
    "image.png": {
     "image/png": "[encoded data removed]"
    }
   },
   "cell_type": "markdown",
   "metadata": {},
   "source": [
    "![image.png](attachment:image.png)"
   ]
  },
  {
   "cell_type": "markdown",
   "metadata": {},
   "source": [
    "### Com estimativa de área"
   ]
  },
  {
   "cell_type": "markdown",
   "metadata": {},
   "source": [
    "#### Preparacao"
   ]
  },
  {
   "cell_type": "markdown",
   "metadata": {},
   "source": [
    "a probabilidade, que é a quantidade de amostras sobre a populacão, e esta salva com ajustes de acordo com o voto em peso_voto"
   ]
  },
  {
   "cell_type": "markdown",
   "metadata": {},
   "source": [
    "ver os valores antes desse ajuste"
   ]
  },
  {
   "cell_type": "code",
   "execution_count": 188,
   "metadata": {},
   "outputs": [
    {
     "data": {
      "text/plain": [
       "count    655.000000\n",
       "mean       0.000008\n",
       "std        0.000008\n",
       "min        0.000005\n",
       "25%        0.000005\n",
       "50%        0.000007\n",
       "75%        0.000007\n",
       "max        0.000182\n",
       "Name: PESO_VOT, dtype: float64"
      ]
     },
     "execution_count": 188,
     "metadata": {},
     "output_type": "execute_result"
    }
   ],
   "source": [
    "df_acc['PESO_VOT'].describe()"
   ]
  },
  {
   "cell_type": "code",
   "execution_count": 189,
   "metadata": {},
   "outputs": [
    {
     "data": {
      "text/plain": [
       "array(['Amazônia', 'Cerrado'], dtype=object)"
      ]
     },
     "execution_count": 189,
     "metadata": {},
     "output_type": "execute_result"
    }
   ],
   "source": [
    "biomes = df_acc['BioNB'].unique()\n",
    "biomes"
   ]
  },
  {
   "cell_type": "markdown",
   "metadata": {},
   "source": [
    "acho que é feito por biomas, pq em alguns biomas eles usam dados da validacao no treinamento"
   ]
  },
  {
   "cell_type": "markdown",
   "metadata": {},
   "source": [
    "aqui eu corrigi o codigo que estava em  https://github.com/mapbiomas-brazil/accuraccy/blob/mapbiomas80/src/estimates_codes/2_accuracy_estimates.py, para de fato excluir as amostras que foram usadas no treinamento. La nao esta excluindo por erro de digitacao, 'treinamento'"
   ]
  },
  {
   "cell_type": "code",
   "execution_count": 190,
   "metadata": {},
   "outputs": [
    {
     "name": "stdout",
     "output_type": "stream",
     "text": [
      "biome Amazônia\n",
      "amostras sem treinamento 213 amostras com treinamento 213\n",
      "biome Cerrado\n",
      "amostras sem treinamento 442 amostras com treinamento 442\n"
     ]
    }
   ],
   "source": [
    "for biome in biomes:\n",
    "        print (\"biome\", biome)\n",
    "        biome_filter = (df_acc['BioNB'] == biome)\n",
    "        n_samples, _ = df_acc[biome_filter & (df_acc['AMOSTRAS'] != 'treinamento')].shape\n",
    "        t_samples, _ = df_acc[biome_filter].shape\n",
    "        print (\"amostras sem treinamento\", n_samples, \"amostras com treinamento\", t_samples)\n",
    "        prob_biome_adjs = n_samples / t_samples\n",
    "        df_acc.loc[biome_filter, 'PESO_VOT'] = df_acc[biome_filter]['PESO_VOT'] * prob_biome_adjs"
   ]
  },
  {
   "cell_type": "code",
   "execution_count": 191,
   "metadata": {},
   "outputs": [],
   "source": [
    "#df_acc = df_acc[df_acc['AMOSTRAS'] != 'Treinamento']"
   ]
  },
  {
   "cell_type": "code",
   "execution_count": 192,
   "metadata": {},
   "outputs": [
    {
     "data": {
      "text/plain": [
       "count    655.000000\n",
       "mean       0.000008\n",
       "std        0.000008\n",
       "min        0.000005\n",
       "25%        0.000005\n",
       "50%        0.000007\n",
       "75%        0.000007\n",
       "max        0.000182\n",
       "Name: PESO_VOT, dtype: float64"
      ]
     },
     "execution_count": 192,
     "metadata": {},
     "output_type": "execute_result"
    }
   ],
   "source": [
    "df_acc['PESO_VOT'].describe()"
   ]
  },
  {
   "cell_type": "code",
   "execution_count": 193,
   "metadata": {},
   "outputs": [],
   "source": [
    "sample_weight = 1 / df_acc[['PESO_VOT']].to_numpy().flatten()\n",
    "population = sample_weight.sum()\n"
   ]
  },
  {
   "cell_type": "code",
   "execution_count": 194,
   "metadata": {},
   "outputs": [
    {
     "data": {
      "text/plain": [
       "655"
      ]
     },
     "execution_count": 194,
     "metadata": {},
     "output_type": "execute_result"
    }
   ],
   "source": [
    "len(sample_weight)"
   ]
  },
  {
   "cell_type": "code",
   "execution_count": 195,
   "metadata": {},
   "outputs": [
    {
     "data": {
      "text/plain": [
       "np.float64(102217835.28671485)"
      ]
     },
     "execution_count": 195,
     "metadata": {},
     "output_type": "execute_result"
    }
   ],
   "source": [
    "population"
   ]
  },
  {
   "cell_type": "code",
   "execution_count": 196,
   "metadata": {},
   "outputs": [],
   "source": [
    "matrix_ponderada = confusion_matrix(y_true, y_pred, sample_weight=sample_weight/population)"
   ]
  },
  {
   "cell_type": "code",
   "execution_count": 197,
   "metadata": {},
   "outputs": [
    {
     "name": "stdout",
     "output_type": "stream",
     "text": [
      "[[3.78116660e-01 4.85892949e-02 5.36892606e-05 0.00000000e+00\n",
      "  2.08602385e-03 3.39858417e-02 6.95119062e-04 0.00000000e+00\n",
      "  0.00000000e+00 0.00000000e+00 2.78092069e-03]\n",
      " [1.73639098e-02 1.02849160e-01 0.00000000e+00 0.00000000e+00\n",
      "  2.78114291e-03 1.11095090e-02 0.00000000e+00 0.00000000e+00\n",
      "  0.00000000e+00 0.00000000e+00 0.00000000e+00]\n",
      " [2.08531662e-02 0.00000000e+00 2.15538020e-02 0.00000000e+00\n",
      "  0.00000000e+00 0.00000000e+00 0.00000000e+00 0.00000000e+00\n",
      "  0.00000000e+00 0.00000000e+00 0.00000000e+00]\n",
      " [8.33813427e-03 0.00000000e+00 0.00000000e+00 4.03209056e-02\n",
      "  1.04276748e-02 9.73344463e-03 0.00000000e+00 0.00000000e+00\n",
      "  0.00000000e+00 0.00000000e+00 0.00000000e+00]\n",
      " [0.00000000e+00 7.64853188e-03 0.00000000e+00 0.00000000e+00\n",
      "  6.95119062e-04 3.47559531e-03 0.00000000e+00 0.00000000e+00\n",
      "  0.00000000e+00 0.00000000e+00 2.07347377e-03]\n",
      " [2.29433734e-02 5.56184138e-03 0.00000000e+00 3.47626197e-03\n",
      "  5.56161916e-03 1.06996936e-01 0.00000000e+00 0.00000000e+00\n",
      "  0.00000000e+00 2.08184049e-03 0.00000000e+00]\n",
      " [0.00000000e+00 0.00000000e+00 0.00000000e+00 0.00000000e+00\n",
      "  0.00000000e+00 6.95341282e-04 1.94580781e-02 0.00000000e+00\n",
      "  0.00000000e+00 0.00000000e+00 0.00000000e+00]\n",
      " [2.08602385e-03 5.56206360e-03 0.00000000e+00 0.00000000e+00\n",
      "  2.78114291e-03 0.00000000e+00 0.00000000e+00 1.32050788e-02\n",
      "  0.00000000e+00 0.00000000e+00 0.00000000e+00]\n",
      " [0.00000000e+00 0.00000000e+00 0.00000000e+00 0.00000000e+00\n",
      "  0.00000000e+00 0.00000000e+00 0.00000000e+00 0.00000000e+00\n",
      "  2.63969376e-02 0.00000000e+00 0.00000000e+00]\n",
      " [0.00000000e+00 0.00000000e+00 0.00000000e+00 0.00000000e+00\n",
      "  0.00000000e+00 1.39023812e-03 0.00000000e+00 0.00000000e+00\n",
      "  0.00000000e+00 1.38931645e-02 0.00000000e+00]\n",
      " [2.08535719e-03 0.00000000e+00 0.00000000e+00 6.95163506e-03\n",
      "  6.95119062e-04 0.00000000e+00 0.00000000e+00 0.00000000e+00\n",
      "  0.00000000e+00 0.00000000e+00 3.26468291e-02]]\n"
     ]
    }
   ],
   "source": [
    "matrix_ponderada = matrix_ponderada.T\n",
    "print (matrix_ponderada)"
   ]
  },
  {
   "cell_type": "code",
   "execution_count": 198,
   "metadata": {},
   "outputs": [],
   "source": [
    "if level == 'l1':\n",
    "    class_names = sorted(class_names)     \n",
    "    class_values = sorted(class_values)"
   ]
  },
  {
   "cell_type": "code",
   "execution_count": 199,
   "metadata": {},
   "outputs": [
    {
     "data": {
      "text/html": [
       "<div>\n",
       "<style scoped>\n",
       "    .dataframe tbody tr th:only-of-type {\n",
       "        vertical-align: middle;\n",
       "    }\n",
       "\n",
       "    .dataframe tbody tr th {\n",
       "        vertical-align: top;\n",
       "    }\n",
       "\n",
       "    .dataframe thead th {\n",
       "        text-align: right;\n",
       "    }\n",
       "</style>\n",
       "<table border=\"1\" class=\"dataframe\">\n",
       "  <thead>\n",
       "    <tr style=\"text-align: right;\">\n",
       "      <th></th>\n",
       "      <th>1.1. Formação Florestal</th>\n",
       "      <th>1.2. Formação Savânica</th>\n",
       "      <th>1.3. Mangue</th>\n",
       "      <th>2.1. Campo Alagado e Área Pantanosa</th>\n",
       "      <th>2.2. Formação Campestre (Campo)</th>\n",
       "      <th>3.1. Pastagem</th>\n",
       "      <th>3.2. Agricultura</th>\n",
       "      <th>3.4. Mosaico de Usos</th>\n",
       "      <th>4.1. Praia e Duna</th>\n",
       "      <th>4.2. Infraestrutura Urbana</th>\n",
       "      <th>5.1. Rio, Lago e Oceano</th>\n",
       "    </tr>\n",
       "  </thead>\n",
       "  <tbody>\n",
       "    <tr>\n",
       "      <th>1.1. Formação Florestal</th>\n",
       "      <td>0.378117</td>\n",
       "      <td>0.048589</td>\n",
       "      <td>0.000054</td>\n",
       "      <td>0.000000</td>\n",
       "      <td>0.002086</td>\n",
       "      <td>0.033986</td>\n",
       "      <td>0.000695</td>\n",
       "      <td>0.000000</td>\n",
       "      <td>0.000000</td>\n",
       "      <td>0.000000</td>\n",
       "      <td>0.002781</td>\n",
       "    </tr>\n",
       "    <tr>\n",
       "      <th>1.2. Formação Savânica</th>\n",
       "      <td>0.017364</td>\n",
       "      <td>0.102849</td>\n",
       "      <td>0.000000</td>\n",
       "      <td>0.000000</td>\n",
       "      <td>0.002781</td>\n",
       "      <td>0.011110</td>\n",
       "      <td>0.000000</td>\n",
       "      <td>0.000000</td>\n",
       "      <td>0.000000</td>\n",
       "      <td>0.000000</td>\n",
       "      <td>0.000000</td>\n",
       "    </tr>\n",
       "    <tr>\n",
       "      <th>1.3. Mangue</th>\n",
       "      <td>0.020853</td>\n",
       "      <td>0.000000</td>\n",
       "      <td>0.021554</td>\n",
       "      <td>0.000000</td>\n",
       "      <td>0.000000</td>\n",
       "      <td>0.000000</td>\n",
       "      <td>0.000000</td>\n",
       "      <td>0.000000</td>\n",
       "      <td>0.000000</td>\n",
       "      <td>0.000000</td>\n",
       "      <td>0.000000</td>\n",
       "    </tr>\n",
       "    <tr>\n",
       "      <th>2.1. Campo Alagado e Área Pantanosa</th>\n",
       "      <td>0.008338</td>\n",
       "      <td>0.000000</td>\n",
       "      <td>0.000000</td>\n",
       "      <td>0.040321</td>\n",
       "      <td>0.010428</td>\n",
       "      <td>0.009733</td>\n",
       "      <td>0.000000</td>\n",
       "      <td>0.000000</td>\n",
       "      <td>0.000000</td>\n",
       "      <td>0.000000</td>\n",
       "      <td>0.000000</td>\n",
       "    </tr>\n",
       "    <tr>\n",
       "      <th>2.2. Formação Campestre (Campo)</th>\n",
       "      <td>0.000000</td>\n",
       "      <td>0.007649</td>\n",
       "      <td>0.000000</td>\n",
       "      <td>0.000000</td>\n",
       "      <td>0.000695</td>\n",
       "      <td>0.003476</td>\n",
       "      <td>0.000000</td>\n",
       "      <td>0.000000</td>\n",
       "      <td>0.000000</td>\n",
       "      <td>0.000000</td>\n",
       "      <td>0.002073</td>\n",
       "    </tr>\n",
       "    <tr>\n",
       "      <th>3.1. Pastagem</th>\n",
       "      <td>0.022943</td>\n",
       "      <td>0.005562</td>\n",
       "      <td>0.000000</td>\n",
       "      <td>0.003476</td>\n",
       "      <td>0.005562</td>\n",
       "      <td>0.106997</td>\n",
       "      <td>0.000000</td>\n",
       "      <td>0.000000</td>\n",
       "      <td>0.000000</td>\n",
       "      <td>0.002082</td>\n",
       "      <td>0.000000</td>\n",
       "    </tr>\n",
       "    <tr>\n",
       "      <th>3.2. Agricultura</th>\n",
       "      <td>0.000000</td>\n",
       "      <td>0.000000</td>\n",
       "      <td>0.000000</td>\n",
       "      <td>0.000000</td>\n",
       "      <td>0.000000</td>\n",
       "      <td>0.000695</td>\n",
       "      <td>0.019458</td>\n",
       "      <td>0.000000</td>\n",
       "      <td>0.000000</td>\n",
       "      <td>0.000000</td>\n",
       "      <td>0.000000</td>\n",
       "    </tr>\n",
       "    <tr>\n",
       "      <th>3.4. Mosaico de Usos</th>\n",
       "      <td>0.002086</td>\n",
       "      <td>0.005562</td>\n",
       "      <td>0.000000</td>\n",
       "      <td>0.000000</td>\n",
       "      <td>0.002781</td>\n",
       "      <td>0.000000</td>\n",
       "      <td>0.000000</td>\n",
       "      <td>0.013205</td>\n",
       "      <td>0.000000</td>\n",
       "      <td>0.000000</td>\n",
       "      <td>0.000000</td>\n",
       "    </tr>\n",
       "    <tr>\n",
       "      <th>4.1. Praia e Duna</th>\n",
       "      <td>0.000000</td>\n",
       "      <td>0.000000</td>\n",
       "      <td>0.000000</td>\n",
       "      <td>0.000000</td>\n",
       "      <td>0.000000</td>\n",
       "      <td>0.000000</td>\n",
       "      <td>0.000000</td>\n",
       "      <td>0.000000</td>\n",
       "      <td>0.026397</td>\n",
       "      <td>0.000000</td>\n",
       "      <td>0.000000</td>\n",
       "    </tr>\n",
       "    <tr>\n",
       "      <th>4.2. Infraestrutura Urbana</th>\n",
       "      <td>0.000000</td>\n",
       "      <td>0.000000</td>\n",
       "      <td>0.000000</td>\n",
       "      <td>0.000000</td>\n",
       "      <td>0.000000</td>\n",
       "      <td>0.001390</td>\n",
       "      <td>0.000000</td>\n",
       "      <td>0.000000</td>\n",
       "      <td>0.000000</td>\n",
       "      <td>0.013893</td>\n",
       "      <td>0.000000</td>\n",
       "    </tr>\n",
       "    <tr>\n",
       "      <th>5.1. Rio, Lago e Oceano</th>\n",
       "      <td>0.002085</td>\n",
       "      <td>0.000000</td>\n",
       "      <td>0.000000</td>\n",
       "      <td>0.006952</td>\n",
       "      <td>0.000695</td>\n",
       "      <td>0.000000</td>\n",
       "      <td>0.000000</td>\n",
       "      <td>0.000000</td>\n",
       "      <td>0.000000</td>\n",
       "      <td>0.000000</td>\n",
       "      <td>0.032647</td>\n",
       "    </tr>\n",
       "  </tbody>\n",
       "</table>\n",
       "</div>"
      ],
      "text/plain": [
       "                                     1.1. Formação Florestal  \\\n",
       "1.1. Formação Florestal                             0.378117   \n",
       "1.2. Formação Savânica                              0.017364   \n",
       "1.3. Mangue                                         0.020853   \n",
       "2.1. Campo Alagado e Área Pantanosa                 0.008338   \n",
       "2.2. Formação Campestre (Campo)                     0.000000   \n",
       "3.1. Pastagem                                       0.022943   \n",
       "3.2. Agricultura                                    0.000000   \n",
       "3.4. Mosaico de Usos                                0.002086   \n",
       "4.1. Praia e Duna                                   0.000000   \n",
       "4.2. Infraestrutura Urbana                          0.000000   \n",
       "5.1. Rio, Lago e Oceano                             0.002085   \n",
       "\n",
       "                                     1.2. Formação Savânica  1.3. Mangue  \\\n",
       "1.1. Formação Florestal                            0.048589     0.000054   \n",
       "1.2. Formação Savânica                             0.102849     0.000000   \n",
       "1.3. Mangue                                        0.000000     0.021554   \n",
       "2.1. Campo Alagado e Área Pantanosa                0.000000     0.000000   \n",
       "2.2. Formação Campestre (Campo)                    0.007649     0.000000   \n",
       "3.1. Pastagem                                      0.005562     0.000000   \n",
       "3.2. Agricultura                                   0.000000     0.000000   \n",
       "3.4. Mosaico de Usos                               0.005562     0.000000   \n",
       "4.1. Praia e Duna                                  0.000000     0.000000   \n",
       "4.2. Infraestrutura Urbana                         0.000000     0.000000   \n",
       "5.1. Rio, Lago e Oceano                            0.000000     0.000000   \n",
       "\n",
       "                                     2.1. Campo Alagado e Área Pantanosa  \\\n",
       "1.1. Formação Florestal                                         0.000000   \n",
       "1.2. Formação Savânica                                          0.000000   \n",
       "1.3. Mangue                                                     0.000000   \n",
       "2.1. Campo Alagado e Área Pantanosa                             0.040321   \n",
       "2.2. Formação Campestre (Campo)                                 0.000000   \n",
       "3.1. Pastagem                                                   0.003476   \n",
       "3.2. Agricultura                                                0.000000   \n",
       "3.4. Mosaico de Usos                                            0.000000   \n",
       "4.1. Praia e Duna                                               0.000000   \n",
       "4.2. Infraestrutura Urbana                                      0.000000   \n",
       "5.1. Rio, Lago e Oceano                                         0.006952   \n",
       "\n",
       "                                     2.2. Formação Campestre (Campo)  \\\n",
       "1.1. Formação Florestal                                     0.002086   \n",
       "1.2. Formação Savânica                                      0.002781   \n",
       "1.3. Mangue                                                 0.000000   \n",
       "2.1. Campo Alagado e Área Pantanosa                         0.010428   \n",
       "2.2. Formação Campestre (Campo)                             0.000695   \n",
       "3.1. Pastagem                                               0.005562   \n",
       "3.2. Agricultura                                            0.000000   \n",
       "3.4. Mosaico de Usos                                        0.002781   \n",
       "4.1. Praia e Duna                                           0.000000   \n",
       "4.2. Infraestrutura Urbana                                  0.000000   \n",
       "5.1. Rio, Lago e Oceano                                     0.000695   \n",
       "\n",
       "                                     3.1. Pastagem  3.2. Agricultura  \\\n",
       "1.1. Formação Florestal                   0.033986          0.000695   \n",
       "1.2. Formação Savânica                    0.011110          0.000000   \n",
       "1.3. Mangue                               0.000000          0.000000   \n",
       "2.1. Campo Alagado e Área Pantanosa       0.009733          0.000000   \n",
       "2.2. Formação Campestre (Campo)           0.003476          0.000000   \n",
       "3.1. Pastagem                             0.106997          0.000000   \n",
       "3.2. Agricultura                          0.000695          0.019458   \n",
       "3.4. Mosaico de Usos                      0.000000          0.000000   \n",
       "4.1. Praia e Duna                         0.000000          0.000000   \n",
       "4.2. Infraestrutura Urbana                0.001390          0.000000   \n",
       "5.1. Rio, Lago e Oceano                   0.000000          0.000000   \n",
       "\n",
       "                                     3.4. Mosaico de Usos  4.1. Praia e Duna  \\\n",
       "1.1. Formação Florestal                          0.000000           0.000000   \n",
       "1.2. Formação Savânica                           0.000000           0.000000   \n",
       "1.3. Mangue                                      0.000000           0.000000   \n",
       "2.1. Campo Alagado e Área Pantanosa              0.000000           0.000000   \n",
       "2.2. Formação Campestre (Campo)                  0.000000           0.000000   \n",
       "3.1. Pastagem                                    0.000000           0.000000   \n",
       "3.2. Agricultura                                 0.000000           0.000000   \n",
       "3.4. Mosaico de Usos                             0.013205           0.000000   \n",
       "4.1. Praia e Duna                                0.000000           0.026397   \n",
       "4.2. Infraestrutura Urbana                       0.000000           0.000000   \n",
       "5.1. Rio, Lago e Oceano                          0.000000           0.000000   \n",
       "\n",
       "                                     4.2. Infraestrutura Urbana  \\\n",
       "1.1. Formação Florestal                                0.000000   \n",
       "1.2. Formação Savânica                                 0.000000   \n",
       "1.3. Mangue                                            0.000000   \n",
       "2.1. Campo Alagado e Área Pantanosa                    0.000000   \n",
       "2.2. Formação Campestre (Campo)                        0.000000   \n",
       "3.1. Pastagem                                          0.002082   \n",
       "3.2. Agricultura                                       0.000000   \n",
       "3.4. Mosaico de Usos                                   0.000000   \n",
       "4.1. Praia e Duna                                      0.000000   \n",
       "4.2. Infraestrutura Urbana                             0.013893   \n",
       "5.1. Rio, Lago e Oceano                                0.000000   \n",
       "\n",
       "                                     5.1. Rio, Lago e Oceano  \n",
       "1.1. Formação Florestal                             0.002781  \n",
       "1.2. Formação Savânica                              0.000000  \n",
       "1.3. Mangue                                         0.000000  \n",
       "2.1. Campo Alagado e Área Pantanosa                 0.000000  \n",
       "2.2. Formação Campestre (Campo)                     0.002073  \n",
       "3.1. Pastagem                                       0.000000  \n",
       "3.2. Agricultura                                    0.000000  \n",
       "3.4. Mosaico de Usos                                0.000000  \n",
       "4.1. Praia e Duna                                   0.000000  \n",
       "4.2. Infraestrutura Urbana                          0.000000  \n",
       "5.1. Rio, Lago e Oceano                             0.032647  "
      ]
     },
     "execution_count": 199,
     "metadata": {},
     "output_type": "execute_result"
    }
   ],
   "source": [
    "df_matriz = pd.DataFrame(matrix_ponderada, columns=class_names, index=class_names)\n",
    "df_matriz"
   ]
  },
  {
   "cell_type": "markdown",
   "metadata": {},
   "source": [
    "### Calculo da acuracia"
   ]
  },
  {
   "cell_type": "code",
   "execution_count": 200,
   "metadata": {},
   "outputs": [],
   "source": [
    "from sklearn.metrics import accuracy_score, precision_score, recall_score, f1_score, confusion_matrix, roc_auc_score"
   ]
  },
  {
   "cell_type": "code",
   "execution_count": 201,
   "metadata": {},
   "outputs": [
    {
     "data": {
      "text/plain": [
       "np.float64(1.0000000000000004)"
      ]
     },
     "execution_count": 201,
     "metadata": {},
     "output_type": "execute_result"
    }
   ],
   "source": [
    "total = df_matriz.sum().sum()\n",
    "total"
   ]
  },
  {
   "cell_type": "code",
   "execution_count": 202,
   "metadata": {},
   "outputs": [
    {
     "data": {
      "text/plain": [
       "array([0.37811666, 0.10284916, 0.0215538 , 0.04032091, 0.00069512,\n",
       "       0.10699694, 0.01945808, 0.01320508, 0.02639694, 0.01389316,\n",
       "       0.03264683])"
      ]
     },
     "execution_count": 202,
     "metadata": {},
     "output_type": "execute_result"
    }
   ],
   "source": [
    "concordancia = np.diag(df_matriz.values)\n",
    "concordancia"
   ]
  },
  {
   "cell_type": "code",
   "execution_count": 203,
   "metadata": {},
   "outputs": [
    {
     "data": {
      "text/plain": [
       "1.1. Formação Florestal                0.466308\n",
       "1.2. Formação Savânica                 0.134104\n",
       "1.3. Mangue                            0.042407\n",
       "2.1. Campo Alagado e Área Pantanosa    0.068820\n",
       "2.2. Formação Campestre (Campo)        0.013893\n",
       "3.1. Pastagem                          0.146622\n",
       "3.2. Agricultura                       0.020153\n",
       "3.4. Mosaico de Usos                   0.023634\n",
       "4.1. Praia e Duna                      0.026397\n",
       "4.2. Infraestrutura Urbana             0.015283\n",
       "5.1. Rio, Lago e Oceano                0.042379\n",
       "dtype: float64"
      ]
     },
     "execution_count": 203,
     "metadata": {},
     "output_type": "execute_result"
    }
   ],
   "source": [
    "total_class= df_matriz.sum(axis=1)\n",
    "total_class"
   ]
  },
  {
   "cell_type": "code",
   "execution_count": 204,
   "metadata": {},
   "outputs": [
    {
     "data": {
      "text/plain": [
       "1.1. Formação Florestal                0.451787\n",
       "1.2. Formação Savânica                 0.170211\n",
       "1.3. Mangue                            0.021607\n",
       "2.1. Campo Alagado e Área Pantanosa    0.050749\n",
       "2.2. Formação Campestre (Campo)        0.025028\n",
       "3.1. Pastagem                          0.167387\n",
       "3.2. Agricultura                       0.020153\n",
       "3.4. Mosaico de Usos                   0.013205\n",
       "4.1. Praia e Duna                      0.026397\n",
       "4.2. Infraestrutura Urbana             0.015975\n",
       "5.1. Rio, Lago e Oceano                0.037501\n",
       "dtype: float64"
      ]
     },
     "execution_count": 204,
     "metadata": {},
     "output_type": "execute_result"
    }
   ],
   "source": [
    "total_ref = df_matriz.sum(axis=0)\n",
    "total_ref"
   ]
  },
  {
   "cell_type": "code",
   "execution_count": 205,
   "metadata": {},
   "outputs": [
    {
     "data": {
      "text/plain": [
       "np.float64(0.756132670516976)"
      ]
     },
     "execution_count": 205,
     "metadata": {},
     "output_type": "execute_result"
    }
   ],
   "source": [
    "total_concordancia  = concordancia.sum()\n",
    "total_concordancia"
   ]
  },
  {
   "cell_type": "markdown",
   "metadata": {},
   "source": [
    "#### Acuracia Global"
   ]
  },
  {
   "cell_type": "code",
   "execution_count": 206,
   "metadata": {},
   "outputs": [
    {
     "data": {
      "text/plain": [
       "np.float64(0.756132670516976)"
      ]
     },
     "execution_count": 206,
     "metadata": {},
     "output_type": "execute_result"
    }
   ],
   "source": [
    "AG = total_concordancia\n",
    "AG"
   ]
  },
  {
   "cell_type": "markdown",
   "metadata": {},
   "source": [
    "#### Erro Global"
   ]
  },
  {
   "cell_type": "code",
   "execution_count": 207,
   "metadata": {},
   "outputs": [
    {
     "data": {
      "text/plain": [
       "np.float64(0.24386732948302403)"
      ]
     },
     "execution_count": 207,
     "metadata": {},
     "output_type": "execute_result"
    }
   ],
   "source": [
    "EG = 1 - AG\n",
    "EG"
   ]
  },
  {
   "cell_type": "markdown",
   "metadata": {},
   "source": [
    "#### Acuracia do consumidor e erros de comissao"
   ]
  },
  {
   "cell_type": "code",
   "execution_count": 208,
   "metadata": {},
   "outputs": [
    {
     "data": {
      "text/plain": [
       "4.1. Praia e Duna                      1.000000\n",
       "3.2. Agricultura                       0.965498\n",
       "4.2. Infraestrutura Urbana             0.909036\n",
       "1.1. Formação Florestal                0.810874\n",
       "5.1. Rio, Lago e Oceano                0.770355\n",
       "1.2. Formação Savânica                 0.766937\n",
       "3.1. Pastagem                          0.729747\n",
       "2.1. Campo Alagado e Área Pantanosa    0.585888\n",
       "3.4. Mosaico de Usos                   0.558725\n",
       "1.3. Mangue                            0.508261\n",
       "2.2. Formação Campestre (Campo)        0.050035\n",
       "dtype: float64"
      ]
     },
     "execution_count": 208,
     "metadata": {},
     "output_type": "execute_result"
    }
   ],
   "source": [
    "AC = concordancia / total_class\n",
    "AC.sort_values(ascending=False)"
   ]
  },
  {
   "cell_type": "markdown",
   "metadata": {},
   "source": [
    "aqui estou fazendo o equivalente ao micro"
   ]
  },
  {
   "cell_type": "code",
   "execution_count": 209,
   "metadata": {},
   "outputs": [
    {
     "data": {
      "text/plain": [
       "np.float64(0.7561326705169756)"
      ]
     },
     "execution_count": 209,
     "metadata": {},
     "output_type": "execute_result"
    }
   ],
   "source": [
    "concordancia.sum() / total_class.sum()"
   ]
  },
  {
   "cell_type": "markdown",
   "metadata": {},
   "source": [
    "Micro: Calcula a métrica globalmente.\n",
    "Macro: Calcula a métrica para cada classe e depois tira a média.\n",
    "Weighted: Calcula a métrica para cada classe e tira a média ponderada pelo suporte de cada classe."
   ]
  },
  {
   "cell_type": "code",
   "execution_count": 210,
   "metadata": {},
   "outputs": [
    {
     "data": {
      "text/plain": [
       "np.float64(0.716030534351145)"
      ]
     },
     "execution_count": 210,
     "metadata": {},
     "output_type": "execute_result"
    }
   ],
   "source": [
    "precision_score(y_true, y_pred, average='micro')"
   ]
  },
  {
   "cell_type": "code",
   "execution_count": 211,
   "metadata": {},
   "outputs": [
    {
     "data": {
      "text/plain": [
       "2.2. Formação Campestre (Campo)        0.949965\n",
       "1.3. Mangue                            0.491739\n",
       "3.4. Mosaico de Usos                   0.441275\n",
       "2.1. Campo Alagado e Área Pantanosa    0.414112\n",
       "3.1. Pastagem                          0.270253\n",
       "1.2. Formação Savânica                 0.233063\n",
       "5.1. Rio, Lago e Oceano                0.229645\n",
       "1.1. Formação Florestal                0.189126\n",
       "4.2. Infraestrutura Urbana             0.090964\n",
       "3.2. Agricultura                       0.034502\n",
       "4.1. Praia e Duna                      0.000000\n",
       "dtype: float64"
      ]
     },
     "execution_count": 211,
     "metadata": {},
     "output_type": "execute_result"
    }
   ],
   "source": [
    "EC = 1 - AC\n",
    "EC.sort_values(ascending=False)"
   ]
  },
  {
   "cell_type": "code",
   "execution_count": 212,
   "metadata": {},
   "outputs": [
    {
     "data": {
      "text/plain": [
       "np.float64(0.24386732948302436)"
      ]
     },
     "execution_count": 212,
     "metadata": {},
     "output_type": "execute_result"
    }
   ],
   "source": [
    "1 - concordancia.sum() / total_class.sum()"
   ]
  },
  {
   "cell_type": "markdown",
   "metadata": {},
   "source": [
    "#### Acuracia do produtor e erros de omissao"
   ]
  },
  {
   "cell_type": "code",
   "execution_count": 213,
   "metadata": {},
   "outputs": [
    {
     "data": {
      "text/plain": [
       "4.1. Praia e Duna                      1.000000\n",
       "3.4. Mosaico de Usos                   1.000000\n",
       "1.3. Mangue                            0.997515\n",
       "3.2. Agricultura                       0.965508\n",
       "5.1. Rio, Lago e Oceano                0.870554\n",
       "4.2. Infraestrutura Urbana             0.869681\n",
       "1.1. Formação Florestal                0.836936\n",
       "2.1. Campo Alagado e Área Pantanosa    0.794519\n",
       "3.1. Pastagem                          0.639219\n",
       "1.2. Formação Savânica                 0.604245\n",
       "2.2. Formação Campestre (Campo)        0.027774\n",
       "dtype: float64"
      ]
     },
     "execution_count": 213,
     "metadata": {},
     "output_type": "execute_result"
    }
   ],
   "source": [
    "AP = concordancia / total_ref\n",
    "AP.sort_values(ascending=False)"
   ]
  },
  {
   "cell_type": "code",
   "execution_count": 214,
   "metadata": {},
   "outputs": [
    {
     "data": {
      "text/plain": [
       "np.float64(0.7561326705169756)"
      ]
     },
     "execution_count": 214,
     "metadata": {},
     "output_type": "execute_result"
    }
   ],
   "source": [
    "concordancia.sum() / total_ref.sum()"
   ]
  },
  {
   "cell_type": "code",
   "execution_count": 215,
   "metadata": {},
   "outputs": [
    {
     "data": {
      "text/plain": [
       "np.float64(0.716030534351145)"
      ]
     },
     "execution_count": 215,
     "metadata": {},
     "output_type": "execute_result"
    }
   ],
   "source": [
    "recall_score(y_true, y_pred, average='micro')"
   ]
  },
  {
   "cell_type": "code",
   "execution_count": 216,
   "metadata": {},
   "outputs": [
    {
     "data": {
      "text/plain": [
       "1.1. Formação Florestal                0.163064\n",
       "1.2. Formação Savânica                 0.395755\n",
       "1.3. Mangue                            0.002485\n",
       "2.1. Campo Alagado e Área Pantanosa    0.205481\n",
       "2.2. Formação Campestre (Campo)        0.972226\n",
       "3.1. Pastagem                          0.360781\n",
       "3.2. Agricultura                       0.034492\n",
       "3.4. Mosaico de Usos                   0.000000\n",
       "4.1. Praia e Duna                      0.000000\n",
       "4.2. Infraestrutura Urbana             0.130319\n",
       "5.1. Rio, Lago e Oceano                0.129446\n",
       "dtype: float64"
      ]
     },
     "execution_count": 216,
     "metadata": {},
     "output_type": "execute_result"
    }
   ],
   "source": [
    "EO = 1 - AP\n",
    "EO"
   ]
  },
  {
   "cell_type": "markdown",
   "metadata": {},
   "source": [
    "#### F1 Score"
   ]
  },
  {
   "cell_type": "code",
   "execution_count": 217,
   "metadata": {},
   "outputs": [
    {
     "data": {
      "text/plain": [
       "np.float64(0.716030534351145)"
      ]
     },
     "execution_count": 217,
     "metadata": {},
     "output_type": "execute_result"
    }
   ],
   "source": [
    "f1_score(y_true, y_pred, average='micro')"
   ]
  },
  {
   "cell_type": "markdown",
   "metadata": {},
   "source": [
    "#### Erro de quantidade (area disagrement)\n",
    "\n"
   ]
  },
  {
   "cell_type": "code",
   "execution_count": 218,
   "metadata": {},
   "outputs": [
    {
     "data": {
      "text/plain": [
       "np.float64(0.06869892775830949)"
      ]
     },
     "execution_count": 218,
     "metadata": {},
     "output_type": "execute_result"
    }
   ],
   "source": [
    "QD = (np.abs(total_ref - total_class)).sum() / 2\n",
    "QD"
   ]
  },
  {
   "cell_type": "markdown",
   "metadata": {},
   "source": [
    "logo erro de alocação é "
   ]
  },
  {
   "cell_type": "code",
   "execution_count": 219,
   "metadata": {},
   "outputs": [
    {
     "data": {
      "text/plain": [
       "np.float64(0.17516840172471454)"
      ]
     },
     "execution_count": 219,
     "metadata": {},
     "output_type": "execute_result"
    }
   ],
   "source": [
    "EG - QD"
   ]
  },
  {
   "cell_type": "code",
   "execution_count": 220,
   "metadata": {},
   "outputs": [
    {
     "data": {
      "text/plain": [
       "1.1. Formação Florestal                0.073670\n",
       "1.2. Formação Savânica                 0.031255\n",
       "1.3. Mangue                            0.000054\n",
       "2.1. Campo Alagado e Área Pantanosa    0.010428\n",
       "2.2. Formação Campestre (Campo)        0.013198\n",
       "3.1. Pastagem                          0.039625\n",
       "3.2. Agricultura                       0.000695\n",
       "3.4. Mosaico de Usos                   0.000000\n",
       "4.1. Praia e Duna                      0.000000\n",
       "4.2. Infraestrutura Urbana             0.001390\n",
       "5.1. Rio, Lago e Oceano                0.004854\n",
       "dtype: float64"
      ]
     },
     "execution_count": 220,
     "metadata": {},
     "output_type": "execute_result"
    }
   ],
   "source": [
    "menor_diferenca = np.minimum((total_class - concordancia), (total_ref - concordancia))\n",
    "menor_diferenca"
   ]
  },
  {
   "cell_type": "code",
   "execution_count": 221,
   "metadata": {},
   "outputs": [
    {
     "data": {
      "text/plain": [
       "np.float64(0.17516840172471496)"
      ]
     },
     "execution_count": 221,
     "metadata": {},
     "output_type": "execute_result"
    }
   ],
   "source": [
    "AD = ((menor_diferenca * 2).sum() / 2) \n",
    "AD"
   ]
  },
  {
   "cell_type": "markdown",
   "metadata": {},
   "source": [
    "### Indice Kappa"
   ]
  },
  {
   "cell_type": "code",
   "execution_count": 222,
   "metadata": {},
   "outputs": [],
   "source": [
    "from sklearn.metrics import cohen_kappa_score"
   ]
  },
  {
   "cell_type": "code",
   "execution_count": 223,
   "metadata": {},
   "outputs": [
    {
     "data": {
      "text/plain": [
       "np.float64(0.622354341545672)"
      ]
     },
     "execution_count": 223,
     "metadata": {},
     "output_type": "execute_result"
    }
   ],
   "source": [
    "kappa = cohen_kappa_score(y_true, y_pred)\n",
    "kappa"
   ]
  },
  {
   "cell_type": "markdown",
   "metadata": {},
   "source": [
    "## Visualização geográfica"
   ]
  },
  {
   "cell_type": "code",
   "execution_count": 224,
   "metadata": {},
   "outputs": [
    {
     "data": {
      "text/plain": [
       "Index(['system:index', 'AMOSTRAS', 'AMOSTRA_AM', 'BioNB', 'CARTA_2',\n",
       "       'CLASS_2022', 'DECLIVIDAD', 'LAT', 'LON', 'NEW_PROB', 'NEW_WEIGHT',\n",
       "       'PESO_VOT', 'PROB_AMOS2', 'StateNB', 'TARGETID', 'VAL_PESO',\n",
       "       'classification', 'reference', 'year', '.geo', 'strata_id', 'pop',\n",
       "       'n_samp'],\n",
       "      dtype='object')"
      ]
     },
     "execution_count": 224,
     "metadata": {},
     "output_type": "execute_result"
    }
   ],
   "source": [
    "df_acc.columns"
   ]
  },
  {
   "cell_type": "code",
   "execution_count": 225,
   "metadata": {},
   "outputs": [],
   "source": [
    "import geopandas as gpd\n",
    "from shapely.geometry import Point"
   ]
  },
  {
   "cell_type": "code",
   "execution_count": 226,
   "metadata": {},
   "outputs": [],
   "source": [
    "geometry = [Point(xy) for xy in zip(df_acc['LON'], df_acc['LAT'])]"
   ]
  },
  {
   "cell_type": "code",
   "execution_count": 227,
   "metadata": {},
   "outputs": [],
   "source": [
    "gdf = gpd.GeoDataFrame(df_acc, geometry=geometry)"
   ]
  },
  {
   "cell_type": "code",
   "execution_count": 228,
   "metadata": {},
   "outputs": [
    {
     "data": {
      "text/html": [
       "<div>\n",
       "<style scoped>\n",
       "    .dataframe tbody tr th:only-of-type {\n",
       "        vertical-align: middle;\n",
       "    }\n",
       "\n",
       "    .dataframe tbody tr th {\n",
       "        vertical-align: top;\n",
       "    }\n",
       "\n",
       "    .dataframe thead th {\n",
       "        text-align: right;\n",
       "    }\n",
       "</style>\n",
       "<table border=\"1\" class=\"dataframe\">\n",
       "  <thead>\n",
       "    <tr style=\"text-align: right;\">\n",
       "      <th></th>\n",
       "      <th>system:index</th>\n",
       "      <th>AMOSTRAS</th>\n",
       "      <th>AMOSTRA_AM</th>\n",
       "      <th>BioNB</th>\n",
       "      <th>CARTA_2</th>\n",
       "      <th>CLASS_2022</th>\n",
       "      <th>DECLIVIDAD</th>\n",
       "      <th>LAT</th>\n",
       "      <th>LON</th>\n",
       "      <th>NEW_PROB</th>\n",
       "      <th>...</th>\n",
       "      <th>TARGETID</th>\n",
       "      <th>VAL_PESO</th>\n",
       "      <th>classification</th>\n",
       "      <th>reference</th>\n",
       "      <th>year</th>\n",
       "      <th>.geo</th>\n",
       "      <th>strata_id</th>\n",
       "      <th>pop</th>\n",
       "      <th>n_samp</th>\n",
       "      <th>geometry</th>\n",
       "    </tr>\n",
       "  </thead>\n",
       "  <tbody>\n",
       "    <tr>\n",
       "      <th>1</th>\n",
       "      <td>00000000000000004b0e_0</td>\n",
       "      <td>NaN</td>\n",
       "      <td>0</td>\n",
       "      <td>Amazônia</td>\n",
       "      <td>SA-23-Z</td>\n",
       "      <td>CAMPO ALAGADO E ÁREA PANTANOSA</td>\n",
       "      <td>D1</td>\n",
       "      <td>-3.951507</td>\n",
       "      <td>-44.961886</td>\n",
       "      <td>0.000012</td>\n",
       "      <td>...</td>\n",
       "      <td>16624</td>\n",
       "      <td>1.000000</td>\n",
       "      <td>11</td>\n",
       "      <td>11</td>\n",
       "      <td>2022</td>\n",
       "      <td>{\"type\":\"MultiPoint\",\"coordinates\":[]}</td>\n",
       "      <td>SA-23-Z_D1</td>\n",
       "      <td>25366123.0</td>\n",
       "      <td>303</td>\n",
       "      <td>POINT (-44.96189 -3.95151)</td>\n",
       "    </tr>\n",
       "    <tr>\n",
       "      <th>3</th>\n",
       "      <td>00000000000000004b1b_0</td>\n",
       "      <td>NaN</td>\n",
       "      <td>0</td>\n",
       "      <td>Amazônia</td>\n",
       "      <td>SA-23-Z</td>\n",
       "      <td>CAMPO ALAGADO E ÁREA PANTANOSA</td>\n",
       "      <td>D1</td>\n",
       "      <td>-2.823672</td>\n",
       "      <td>-44.723653</td>\n",
       "      <td>0.000012</td>\n",
       "      <td>...</td>\n",
       "      <td>16656</td>\n",
       "      <td>1.000000</td>\n",
       "      <td>11</td>\n",
       "      <td>11</td>\n",
       "      <td>2022</td>\n",
       "      <td>{\"type\":\"MultiPoint\",\"coordinates\":[]}</td>\n",
       "      <td>SA-23-Z_D1</td>\n",
       "      <td>25366123.0</td>\n",
       "      <td>303</td>\n",
       "      <td>POINT (-44.72365 -2.82367)</td>\n",
       "    </tr>\n",
       "    <tr>\n",
       "      <th>5</th>\n",
       "      <td>00000000000000004b2f_0</td>\n",
       "      <td>NaN</td>\n",
       "      <td>0</td>\n",
       "      <td>Amazônia</td>\n",
       "      <td>SA-23-Z</td>\n",
       "      <td>CAMPO ALAGADO E ÁREA PANTANOSA</td>\n",
       "      <td>D1</td>\n",
       "      <td>-3.127662</td>\n",
       "      <td>-44.787253</td>\n",
       "      <td>0.000012</td>\n",
       "      <td>...</td>\n",
       "      <td>16709</td>\n",
       "      <td>1.000000</td>\n",
       "      <td>11</td>\n",
       "      <td>11</td>\n",
       "      <td>2022</td>\n",
       "      <td>{\"type\":\"MultiPoint\",\"coordinates\":[]}</td>\n",
       "      <td>SA-23-Z_D1</td>\n",
       "      <td>25366123.0</td>\n",
       "      <td>303</td>\n",
       "      <td>POINT (-44.78725 -3.12766)</td>\n",
       "    </tr>\n",
       "    <tr>\n",
       "      <th>6</th>\n",
       "      <td>00000000000000004b34_0</td>\n",
       "      <td>Treinamento</td>\n",
       "      <td>1</td>\n",
       "      <td>Amazônia</td>\n",
       "      <td>SA-23-Z</td>\n",
       "      <td>CAMPO ALAGADO E ÁREA PANTANOSA</td>\n",
       "      <td>D1</td>\n",
       "      <td>-2.696471</td>\n",
       "      <td>-44.734432</td>\n",
       "      <td>0.000012</td>\n",
       "      <td>...</td>\n",
       "      <td>16717</td>\n",
       "      <td>1.000000</td>\n",
       "      <td>11</td>\n",
       "      <td>11</td>\n",
       "      <td>2022</td>\n",
       "      <td>{\"type\":\"MultiPoint\",\"coordinates\":[]}</td>\n",
       "      <td>SA-23-Z_D1</td>\n",
       "      <td>25366123.0</td>\n",
       "      <td>303</td>\n",
       "      <td>POINT (-44.73443 -2.69647)</td>\n",
       "    </tr>\n",
       "    <tr>\n",
       "      <th>7</th>\n",
       "      <td>00000000000000004b36_0</td>\n",
       "      <td>Treinamento</td>\n",
       "      <td>1</td>\n",
       "      <td>Amazônia</td>\n",
       "      <td>SA-23-Z</td>\n",
       "      <td>CAMPO ALAGADO E ÁREA PANTANOSA</td>\n",
       "      <td>D1</td>\n",
       "      <td>-3.555350</td>\n",
       "      <td>-44.806927</td>\n",
       "      <td>0.000012</td>\n",
       "      <td>...</td>\n",
       "      <td>16720</td>\n",
       "      <td>1.000000</td>\n",
       "      <td>11</td>\n",
       "      <td>11</td>\n",
       "      <td>2022</td>\n",
       "      <td>{\"type\":\"MultiPoint\",\"coordinates\":[]}</td>\n",
       "      <td>SA-23-Z_D1</td>\n",
       "      <td>25366123.0</td>\n",
       "      <td>303</td>\n",
       "      <td>POINT (-44.80693 -3.55535)</td>\n",
       "    </tr>\n",
       "    <tr>\n",
       "      <th>...</th>\n",
       "      <td>...</td>\n",
       "      <td>...</td>\n",
       "      <td>...</td>\n",
       "      <td>...</td>\n",
       "      <td>...</td>\n",
       "      <td>...</td>\n",
       "      <td>...</td>\n",
       "      <td>...</td>\n",
       "      <td>...</td>\n",
       "      <td>...</td>\n",
       "      <td>...</td>\n",
       "      <td>...</td>\n",
       "      <td>...</td>\n",
       "      <td>...</td>\n",
       "      <td>...</td>\n",
       "      <td>...</td>\n",
       "      <td>...</td>\n",
       "      <td>...</td>\n",
       "      <td>...</td>\n",
       "      <td>...</td>\n",
       "      <td>...</td>\n",
       "    </tr>\n",
       "    <tr>\n",
       "      <th>707</th>\n",
       "      <td>000000000000000050b6_0</td>\n",
       "      <td>NaN</td>\n",
       "      <td>0</td>\n",
       "      <td>Cerrado</td>\n",
       "      <td>SA-23-Z</td>\n",
       "      <td>FORMAÇÃO SAVÂNICA</td>\n",
       "      <td>D2</td>\n",
       "      <td>-2.826906</td>\n",
       "      <td>-42.711876</td>\n",
       "      <td>0.000011</td>\n",
       "      <td>...</td>\n",
       "      <td>2407</td>\n",
       "      <td>1.000000</td>\n",
       "      <td>4</td>\n",
       "      <td>4</td>\n",
       "      <td>2022</td>\n",
       "      <td>{\"type\":\"MultiPoint\",\"coordinates\":[]}</td>\n",
       "      <td>SA-23-Z_D2</td>\n",
       "      <td>27861902.0</td>\n",
       "      <td>305</td>\n",
       "      <td>POINT (-42.71188 -2.82691)</td>\n",
       "    </tr>\n",
       "    <tr>\n",
       "      <th>708</th>\n",
       "      <td>00000000000000005101_0</td>\n",
       "      <td>NaN</td>\n",
       "      <td>0</td>\n",
       "      <td>Cerrado</td>\n",
       "      <td>SA-23-Z</td>\n",
       "      <td>PASTAGEM</td>\n",
       "      <td>D2</td>\n",
       "      <td>-3.474232</td>\n",
       "      <td>-43.978770</td>\n",
       "      <td>0.000011</td>\n",
       "      <td>...</td>\n",
       "      <td>17349</td>\n",
       "      <td>1.000000</td>\n",
       "      <td>4</td>\n",
       "      <td>15</td>\n",
       "      <td>2022</td>\n",
       "      <td>{\"type\":\"MultiPoint\",\"coordinates\":[]}</td>\n",
       "      <td>SA-23-Z_D2</td>\n",
       "      <td>27861902.0</td>\n",
       "      <td>305</td>\n",
       "      <td>POINT (-43.97877 -3.47423)</td>\n",
       "    </tr>\n",
       "    <tr>\n",
       "      <th>709</th>\n",
       "      <td>0000000000000000506b_0</td>\n",
       "      <td>NaN</td>\n",
       "      <td>0</td>\n",
       "      <td>Cerrado</td>\n",
       "      <td>SA-23-Z</td>\n",
       "      <td>PRAIA E DUNA</td>\n",
       "      <td>D2</td>\n",
       "      <td>-2.483840</td>\n",
       "      <td>-43.042815</td>\n",
       "      <td>0.000011</td>\n",
       "      <td>...</td>\n",
       "      <td>17080</td>\n",
       "      <td>0.333333</td>\n",
       "      <td>23</td>\n",
       "      <td>23</td>\n",
       "      <td>2022</td>\n",
       "      <td>{\"type\":\"MultiPoint\",\"coordinates\":[]}</td>\n",
       "      <td>SA-23-Z_D2</td>\n",
       "      <td>27861902.0</td>\n",
       "      <td>305</td>\n",
       "      <td>POINT (-43.04281 -2.48384)</td>\n",
       "    </tr>\n",
       "    <tr>\n",
       "      <th>710</th>\n",
       "      <td>00000000000000004b5b_0</td>\n",
       "      <td>Treinamento</td>\n",
       "      <td>1</td>\n",
       "      <td>Amazônia</td>\n",
       "      <td>SA-23-Z</td>\n",
       "      <td>RIO, LAGO E OCEANO</td>\n",
       "      <td>D1</td>\n",
       "      <td>-3.246240</td>\n",
       "      <td>-44.985601</td>\n",
       "      <td>0.000012</td>\n",
       "      <td>...</td>\n",
       "      <td>16800</td>\n",
       "      <td>0.333333</td>\n",
       "      <td>33</td>\n",
       "      <td>33</td>\n",
       "      <td>2022</td>\n",
       "      <td>{\"type\":\"MultiPoint\",\"coordinates\":[]}</td>\n",
       "      <td>SA-23-Z_D1</td>\n",
       "      <td>25366123.0</td>\n",
       "      <td>303</td>\n",
       "      <td>POINT (-44.9856 -3.24624)</td>\n",
       "    </tr>\n",
       "    <tr>\n",
       "      <th>711</th>\n",
       "      <td>00000000000000005aa8_0</td>\n",
       "      <td>NaN</td>\n",
       "      <td>0</td>\n",
       "      <td>Cerrado</td>\n",
       "      <td>SA-23-Z</td>\n",
       "      <td>RIO, LAGO E OCEANO</td>\n",
       "      <td>D1</td>\n",
       "      <td>-3.257828</td>\n",
       "      <td>-42.061585</td>\n",
       "      <td>0.000012</td>\n",
       "      <td>...</td>\n",
       "      <td>16767</td>\n",
       "      <td>0.333333</td>\n",
       "      <td>33</td>\n",
       "      <td>33</td>\n",
       "      <td>2022</td>\n",
       "      <td>{\"type\":\"MultiPoint\",\"coordinates\":[]}</td>\n",
       "      <td>SA-23-Z_D1</td>\n",
       "      <td>25366123.0</td>\n",
       "      <td>303</td>\n",
       "      <td>POINT (-42.06159 -3.25783)</td>\n",
       "    </tr>\n",
       "  </tbody>\n",
       "</table>\n",
       "<p>655 rows × 24 columns</p>\n",
       "</div>"
      ],
      "text/plain": [
       "               system:index     AMOSTRAS  AMOSTRA_AM     BioNB  CARTA_2  \\\n",
       "1    00000000000000004b0e_0          NaN           0  Amazônia  SA-23-Z   \n",
       "3    00000000000000004b1b_0          NaN           0  Amazônia  SA-23-Z   \n",
       "5    00000000000000004b2f_0          NaN           0  Amazônia  SA-23-Z   \n",
       "6    00000000000000004b34_0  Treinamento           1  Amazônia  SA-23-Z   \n",
       "7    00000000000000004b36_0  Treinamento           1  Amazônia  SA-23-Z   \n",
       "..                      ...          ...         ...       ...      ...   \n",
       "707  000000000000000050b6_0          NaN           0   Cerrado  SA-23-Z   \n",
       "708  00000000000000005101_0          NaN           0   Cerrado  SA-23-Z   \n",
       "709  0000000000000000506b_0          NaN           0   Cerrado  SA-23-Z   \n",
       "710  00000000000000004b5b_0  Treinamento           1  Amazônia  SA-23-Z   \n",
       "711  00000000000000005aa8_0          NaN           0   Cerrado  SA-23-Z   \n",
       "\n",
       "                         CLASS_2022 DECLIVIDAD       LAT        LON  NEW_PROB  \\\n",
       "1    CAMPO ALAGADO E ÁREA PANTANOSA         D1 -3.951507 -44.961886  0.000012   \n",
       "3    CAMPO ALAGADO E ÁREA PANTANOSA         D1 -2.823672 -44.723653  0.000012   \n",
       "5    CAMPO ALAGADO E ÁREA PANTANOSA         D1 -3.127662 -44.787253  0.000012   \n",
       "6    CAMPO ALAGADO E ÁREA PANTANOSA         D1 -2.696471 -44.734432  0.000012   \n",
       "7    CAMPO ALAGADO E ÁREA PANTANOSA         D1 -3.555350 -44.806927  0.000012   \n",
       "..                              ...        ...       ...        ...       ...   \n",
       "707               FORMAÇÃO SAVÂNICA         D2 -2.826906 -42.711876  0.000011   \n",
       "708                        PASTAGEM         D2 -3.474232 -43.978770  0.000011   \n",
       "709                    PRAIA E DUNA         D2 -2.483840 -43.042815  0.000011   \n",
       "710              RIO, LAGO E OCEANO         D1 -3.246240 -44.985601  0.000012   \n",
       "711              RIO, LAGO E OCEANO         D1 -3.257828 -42.061585  0.000012   \n",
       "\n",
       "     ...  TARGETID  VAL_PESO  classification  reference  year  \\\n",
       "1    ...     16624  1.000000              11         11  2022   \n",
       "3    ...     16656  1.000000              11         11  2022   \n",
       "5    ...     16709  1.000000              11         11  2022   \n",
       "6    ...     16717  1.000000              11         11  2022   \n",
       "7    ...     16720  1.000000              11         11  2022   \n",
       "..   ...       ...       ...             ...        ...   ...   \n",
       "707  ...      2407  1.000000               4          4  2022   \n",
       "708  ...     17349  1.000000               4         15  2022   \n",
       "709  ...     17080  0.333333              23         23  2022   \n",
       "710  ...     16800  0.333333              33         33  2022   \n",
       "711  ...     16767  0.333333              33         33  2022   \n",
       "\n",
       "                                       .geo   strata_id         pop  n_samp  \\\n",
       "1    {\"type\":\"MultiPoint\",\"coordinates\":[]}  SA-23-Z_D1  25366123.0     303   \n",
       "3    {\"type\":\"MultiPoint\",\"coordinates\":[]}  SA-23-Z_D1  25366123.0     303   \n",
       "5    {\"type\":\"MultiPoint\",\"coordinates\":[]}  SA-23-Z_D1  25366123.0     303   \n",
       "6    {\"type\":\"MultiPoint\",\"coordinates\":[]}  SA-23-Z_D1  25366123.0     303   \n",
       "7    {\"type\":\"MultiPoint\",\"coordinates\":[]}  SA-23-Z_D1  25366123.0     303   \n",
       "..                                      ...         ...         ...     ...   \n",
       "707  {\"type\":\"MultiPoint\",\"coordinates\":[]}  SA-23-Z_D2  27861902.0     305   \n",
       "708  {\"type\":\"MultiPoint\",\"coordinates\":[]}  SA-23-Z_D2  27861902.0     305   \n",
       "709  {\"type\":\"MultiPoint\",\"coordinates\":[]}  SA-23-Z_D2  27861902.0     305   \n",
       "710  {\"type\":\"MultiPoint\",\"coordinates\":[]}  SA-23-Z_D1  25366123.0     303   \n",
       "711  {\"type\":\"MultiPoint\",\"coordinates\":[]}  SA-23-Z_D1  25366123.0     303   \n",
       "\n",
       "                       geometry  \n",
       "1    POINT (-44.96189 -3.95151)  \n",
       "3    POINT (-44.72365 -2.82367)  \n",
       "5    POINT (-44.78725 -3.12766)  \n",
       "6    POINT (-44.73443 -2.69647)  \n",
       "7    POINT (-44.80693 -3.55535)  \n",
       "..                          ...  \n",
       "707  POINT (-42.71188 -2.82691)  \n",
       "708  POINT (-43.97877 -3.47423)  \n",
       "709  POINT (-43.04281 -2.48384)  \n",
       "710   POINT (-44.9856 -3.24624)  \n",
       "711  POINT (-42.06159 -3.25783)  \n",
       "\n",
       "[655 rows x 24 columns]"
      ]
     },
     "execution_count": 228,
     "metadata": {},
     "output_type": "execute_result"
    }
   ],
   "source": [
    "# Definindo o sistema de coordenadas (CRS) - aqui, WGS84 (epsg:4326)\n",
    "gdf.set_crs(epsg=4326, inplace=True)"
   ]
  },
  {
   "cell_type": "code",
   "execution_count": 229,
   "metadata": {},
   "outputs": [
    {
     "data": {
      "text/plain": [
       "(186, 24)"
      ]
     },
     "execution_count": 229,
     "metadata": {},
     "output_type": "execute_result"
    }
   ],
   "source": [
    "gdf_erros = gdf[gdf['classification'] != gdf['reference']]\n",
    "gdf_erros.shape"
   ]
  },
  {
   "cell_type": "code",
   "execution_count": 230,
   "metadata": {},
   "outputs": [
    {
     "name": "stderr",
     "output_type": "stream",
     "text": [
      "/tmp/ipykernel_342941/1721683761.py:1: SettingWithCopyWarning: \n",
      "A value is trying to be set on a copy of a slice from a DataFrame\n",
      "\n",
      "See the caveats in the documentation: https://pandas.pydata.org/pandas-docs/stable/user_guide/indexing.html#returning-a-view-versus-a-copy\n",
      "  gdf_erros.drop('system:index', axis=1, inplace=True)\n"
     ]
    }
   ],
   "source": [
    "gdf_erros.drop('system:index', axis=1, inplace=True)"
   ]
  },
  {
   "cell_type": "code",
   "execution_count": 231,
   "metadata": {},
   "outputs": [
    {
     "name": "stderr",
     "output_type": "stream",
     "text": [
      "/tmp/ipykernel_342941/1334426410.py:1: SettingWithCopyWarning: \n",
      "A value is trying to be set on a copy of a slice from a DataFrame\n",
      "\n",
      "See the caveats in the documentation: https://pandas.pydata.org/pandas-docs/stable/user_guide/indexing.html#returning-a-view-versus-a-copy\n",
      "  gdf_erros.drop('.geo', axis=1, inplace=True)\n"
     ]
    }
   ],
   "source": [
    "gdf_erros.drop('.geo', axis=1, inplace=True)"
   ]
  },
  {
   "cell_type": "code",
   "execution_count": 232,
   "metadata": {},
   "outputs": [
    {
     "data": {
      "text/html": [
       "<div>\n",
       "<style scoped>\n",
       "    .dataframe tbody tr th:only-of-type {\n",
       "        vertical-align: middle;\n",
       "    }\n",
       "\n",
       "    .dataframe tbody tr th {\n",
       "        vertical-align: top;\n",
       "    }\n",
       "\n",
       "    .dataframe thead th {\n",
       "        text-align: right;\n",
       "    }\n",
       "</style>\n",
       "<table border=\"1\" class=\"dataframe\">\n",
       "  <thead>\n",
       "    <tr style=\"text-align: right;\">\n",
       "      <th></th>\n",
       "      <th>AMOSTRAS</th>\n",
       "      <th>AMOSTRA_AM</th>\n",
       "      <th>BioNB</th>\n",
       "      <th>CARTA_2</th>\n",
       "      <th>CLASS_2022</th>\n",
       "      <th>DECLIVIDAD</th>\n",
       "      <th>LAT</th>\n",
       "      <th>LON</th>\n",
       "      <th>NEW_PROB</th>\n",
       "      <th>NEW_WEIGHT</th>\n",
       "      <th>...</th>\n",
       "      <th>StateNB</th>\n",
       "      <th>TARGETID</th>\n",
       "      <th>VAL_PESO</th>\n",
       "      <th>classification</th>\n",
       "      <th>reference</th>\n",
       "      <th>year</th>\n",
       "      <th>strata_id</th>\n",
       "      <th>pop</th>\n",
       "      <th>n_samp</th>\n",
       "      <th>geometry</th>\n",
       "    </tr>\n",
       "  </thead>\n",
       "  <tbody>\n",
       "    <tr>\n",
       "      <th>13</th>\n",
       "      <td>NaN</td>\n",
       "      <td>0</td>\n",
       "      <td>Amazônia</td>\n",
       "      <td>SA-23-Z</td>\n",
       "      <td>CAMPO ALAGADO E ÁREA PANTANOSA</td>\n",
       "      <td>D1</td>\n",
       "      <td>-3.705998</td>\n",
       "      <td>-44.855975</td>\n",
       "      <td>0.000012</td>\n",
       "      <td>60305.967634</td>\n",
       "      <td>...</td>\n",
       "      <td>21.0</td>\n",
       "      <td>16804</td>\n",
       "      <td>1.0</td>\n",
       "      <td>33</td>\n",
       "      <td>11</td>\n",
       "      <td>2022</td>\n",
       "      <td>SA-23-Z_D1</td>\n",
       "      <td>25366123.0</td>\n",
       "      <td>303</td>\n",
       "      <td>POINT (-44.85597 -3.706)</td>\n",
       "    </tr>\n",
       "    <tr>\n",
       "      <th>15</th>\n",
       "      <td>NaN</td>\n",
       "      <td>0</td>\n",
       "      <td>Amazônia</td>\n",
       "      <td>SA-23-Z</td>\n",
       "      <td>CAMPO ALAGADO E ÁREA PANTANOSA</td>\n",
       "      <td>D1</td>\n",
       "      <td>-2.658742</td>\n",
       "      <td>-44.821210</td>\n",
       "      <td>0.000012</td>\n",
       "      <td>60305.967634</td>\n",
       "      <td>...</td>\n",
       "      <td>21.0</td>\n",
       "      <td>16827</td>\n",
       "      <td>1.0</td>\n",
       "      <td>33</td>\n",
       "      <td>11</td>\n",
       "      <td>2022</td>\n",
       "      <td>SA-23-Z_D1</td>\n",
       "      <td>25366123.0</td>\n",
       "      <td>303</td>\n",
       "      <td>POINT (-44.82121 -2.65874)</td>\n",
       "    </tr>\n",
       "    <tr>\n",
       "      <th>23</th>\n",
       "      <td>NaN</td>\n",
       "      <td>0</td>\n",
       "      <td>Cerrado</td>\n",
       "      <td>SA-23-Z</td>\n",
       "      <td>CAMPO ALAGADO E ÁREA PANTANOSA</td>\n",
       "      <td>D2</td>\n",
       "      <td>-3.766364</td>\n",
       "      <td>-44.613968</td>\n",
       "      <td>0.000011</td>\n",
       "      <td>55301.697925</td>\n",
       "      <td>...</td>\n",
       "      <td>21.0</td>\n",
       "      <td>16983</td>\n",
       "      <td>1.0</td>\n",
       "      <td>3</td>\n",
       "      <td>12</td>\n",
       "      <td>2022</td>\n",
       "      <td>SA-23-Z_D2</td>\n",
       "      <td>27861902.0</td>\n",
       "      <td>305</td>\n",
       "      <td>POINT (-44.61397 -3.76636)</td>\n",
       "    </tr>\n",
       "    <tr>\n",
       "      <th>27</th>\n",
       "      <td>NaN</td>\n",
       "      <td>0</td>\n",
       "      <td>Amazônia</td>\n",
       "      <td>SA-23-Z</td>\n",
       "      <td>CAMPO ALAGADO E ÁREA PANTANOSA</td>\n",
       "      <td>D2</td>\n",
       "      <td>-3.800051</td>\n",
       "      <td>-44.672179</td>\n",
       "      <td>0.000011</td>\n",
       "      <td>55301.697925</td>\n",
       "      <td>...</td>\n",
       "      <td>21.0</td>\n",
       "      <td>17354</td>\n",
       "      <td>1.0</td>\n",
       "      <td>15</td>\n",
       "      <td>11</td>\n",
       "      <td>2022</td>\n",
       "      <td>SA-23-Z_D2</td>\n",
       "      <td>27861902.0</td>\n",
       "      <td>305</td>\n",
       "      <td>POINT (-44.67218 -3.80005)</td>\n",
       "    </tr>\n",
       "    <tr>\n",
       "      <th>28</th>\n",
       "      <td>NaN</td>\n",
       "      <td>0</td>\n",
       "      <td>Cerrado</td>\n",
       "      <td>SA-23-Z</td>\n",
       "      <td>CAMPO ALAGADO E ÁREA PANTANOSA</td>\n",
       "      <td>D1</td>\n",
       "      <td>-2.833913</td>\n",
       "      <td>-42.068592</td>\n",
       "      <td>0.000012</td>\n",
       "      <td>60305.967634</td>\n",
       "      <td>...</td>\n",
       "      <td>21.0</td>\n",
       "      <td>2458</td>\n",
       "      <td>1.0</td>\n",
       "      <td>33</td>\n",
       "      <td>12</td>\n",
       "      <td>2022</td>\n",
       "      <td>SA-23-Z_D1</td>\n",
       "      <td>25366123.0</td>\n",
       "      <td>303</td>\n",
       "      <td>POINT (-42.06859 -2.83391)</td>\n",
       "    </tr>\n",
       "    <tr>\n",
       "      <th>...</th>\n",
       "      <td>...</td>\n",
       "      <td>...</td>\n",
       "      <td>...</td>\n",
       "      <td>...</td>\n",
       "      <td>...</td>\n",
       "      <td>...</td>\n",
       "      <td>...</td>\n",
       "      <td>...</td>\n",
       "      <td>...</td>\n",
       "      <td>...</td>\n",
       "      <td>...</td>\n",
       "      <td>...</td>\n",
       "      <td>...</td>\n",
       "      <td>...</td>\n",
       "      <td>...</td>\n",
       "      <td>...</td>\n",
       "      <td>...</td>\n",
       "      <td>...</td>\n",
       "      <td>...</td>\n",
       "      <td>...</td>\n",
       "      <td>...</td>\n",
       "    </tr>\n",
       "    <tr>\n",
       "      <th>688</th>\n",
       "      <td>NaN</td>\n",
       "      <td>0</td>\n",
       "      <td>Cerrado</td>\n",
       "      <td>SA-23-Z</td>\n",
       "      <td>FORMAÇÃO FLORESTAL</td>\n",
       "      <td>D3</td>\n",
       "      <td>-3.599008</td>\n",
       "      <td>-42.008495</td>\n",
       "      <td>0.000011</td>\n",
       "      <td>56646.228228</td>\n",
       "      <td>...</td>\n",
       "      <td>22.0</td>\n",
       "      <td>12166</td>\n",
       "      <td>0.5</td>\n",
       "      <td>4</td>\n",
       "      <td>3</td>\n",
       "      <td>2022</td>\n",
       "      <td>SA-23-Z_D3</td>\n",
       "      <td>7842002.0</td>\n",
       "      <td>89</td>\n",
       "      <td>POINT (-42.00849 -3.59901)</td>\n",
       "    </tr>\n",
       "    <tr>\n",
       "      <th>691</th>\n",
       "      <td>Treinamento</td>\n",
       "      <td>1</td>\n",
       "      <td>Cerrado</td>\n",
       "      <td>SA-23-Z</td>\n",
       "      <td>PASTAGEM</td>\n",
       "      <td>D1</td>\n",
       "      <td>-3.426262</td>\n",
       "      <td>-44.449577</td>\n",
       "      <td>0.000012</td>\n",
       "      <td>60305.967634</td>\n",
       "      <td>...</td>\n",
       "      <td>21.0</td>\n",
       "      <td>16813</td>\n",
       "      <td>0.5</td>\n",
       "      <td>3</td>\n",
       "      <td>15</td>\n",
       "      <td>2022</td>\n",
       "      <td>SA-23-Z_D1</td>\n",
       "      <td>25366123.0</td>\n",
       "      <td>303</td>\n",
       "      <td>POINT (-44.44958 -3.42626)</td>\n",
       "    </tr>\n",
       "    <tr>\n",
       "      <th>692</th>\n",
       "      <td>NaN</td>\n",
       "      <td>0</td>\n",
       "      <td>Cerrado</td>\n",
       "      <td>SA-23-Z</td>\n",
       "      <td>PASTAGEM</td>\n",
       "      <td>D2</td>\n",
       "      <td>-3.681743</td>\n",
       "      <td>-42.160490</td>\n",
       "      <td>0.000011</td>\n",
       "      <td>55301.697925</td>\n",
       "      <td>...</td>\n",
       "      <td>22.0</td>\n",
       "      <td>17032</td>\n",
       "      <td>0.5</td>\n",
       "      <td>4</td>\n",
       "      <td>15</td>\n",
       "      <td>2022</td>\n",
       "      <td>SA-23-Z_D2</td>\n",
       "      <td>27861902.0</td>\n",
       "      <td>305</td>\n",
       "      <td>POINT (-42.16049 -3.68174)</td>\n",
       "    </tr>\n",
       "    <tr>\n",
       "      <th>693</th>\n",
       "      <td>NaN</td>\n",
       "      <td>0</td>\n",
       "      <td>Cerrado</td>\n",
       "      <td>SA-23-Z</td>\n",
       "      <td>RIO, LAGO E OCEANO</td>\n",
       "      <td>D1</td>\n",
       "      <td>-3.620029</td>\n",
       "      <td>-43.614413</td>\n",
       "      <td>0.000012</td>\n",
       "      <td>60305.967634</td>\n",
       "      <td>...</td>\n",
       "      <td>21.0</td>\n",
       "      <td>223</td>\n",
       "      <td>0.5</td>\n",
       "      <td>3</td>\n",
       "      <td>33</td>\n",
       "      <td>2022</td>\n",
       "      <td>SA-23-Z_D1</td>\n",
       "      <td>25366123.0</td>\n",
       "      <td>303</td>\n",
       "      <td>POINT (-43.61441 -3.62003)</td>\n",
       "    </tr>\n",
       "    <tr>\n",
       "      <th>708</th>\n",
       "      <td>NaN</td>\n",
       "      <td>0</td>\n",
       "      <td>Cerrado</td>\n",
       "      <td>SA-23-Z</td>\n",
       "      <td>PASTAGEM</td>\n",
       "      <td>D2</td>\n",
       "      <td>-3.474232</td>\n",
       "      <td>-43.978770</td>\n",
       "      <td>0.000011</td>\n",
       "      <td>55301.697925</td>\n",
       "      <td>...</td>\n",
       "      <td>21.0</td>\n",
       "      <td>17349</td>\n",
       "      <td>1.0</td>\n",
       "      <td>4</td>\n",
       "      <td>15</td>\n",
       "      <td>2022</td>\n",
       "      <td>SA-23-Z_D2</td>\n",
       "      <td>27861902.0</td>\n",
       "      <td>305</td>\n",
       "      <td>POINT (-43.97877 -3.47423)</td>\n",
       "    </tr>\n",
       "  </tbody>\n",
       "</table>\n",
       "<p>186 rows × 22 columns</p>\n",
       "</div>"
      ],
      "text/plain": [
       "        AMOSTRAS  AMOSTRA_AM     BioNB  CARTA_2  \\\n",
       "13           NaN           0  Amazônia  SA-23-Z   \n",
       "15           NaN           0  Amazônia  SA-23-Z   \n",
       "23           NaN           0   Cerrado  SA-23-Z   \n",
       "27           NaN           0  Amazônia  SA-23-Z   \n",
       "28           NaN           0   Cerrado  SA-23-Z   \n",
       "..           ...         ...       ...      ...   \n",
       "688          NaN           0   Cerrado  SA-23-Z   \n",
       "691  Treinamento           1   Cerrado  SA-23-Z   \n",
       "692          NaN           0   Cerrado  SA-23-Z   \n",
       "693          NaN           0   Cerrado  SA-23-Z   \n",
       "708          NaN           0   Cerrado  SA-23-Z   \n",
       "\n",
       "                         CLASS_2022 DECLIVIDAD       LAT        LON  NEW_PROB  \\\n",
       "13   CAMPO ALAGADO E ÁREA PANTANOSA         D1 -3.705998 -44.855975  0.000012   \n",
       "15   CAMPO ALAGADO E ÁREA PANTANOSA         D1 -2.658742 -44.821210  0.000012   \n",
       "23   CAMPO ALAGADO E ÁREA PANTANOSA         D2 -3.766364 -44.613968  0.000011   \n",
       "27   CAMPO ALAGADO E ÁREA PANTANOSA         D2 -3.800051 -44.672179  0.000011   \n",
       "28   CAMPO ALAGADO E ÁREA PANTANOSA         D1 -2.833913 -42.068592  0.000012   \n",
       "..                              ...        ...       ...        ...       ...   \n",
       "688              FORMAÇÃO FLORESTAL         D3 -3.599008 -42.008495  0.000011   \n",
       "691                        PASTAGEM         D1 -3.426262 -44.449577  0.000012   \n",
       "692                        PASTAGEM         D2 -3.681743 -42.160490  0.000011   \n",
       "693              RIO, LAGO E OCEANO         D1 -3.620029 -43.614413  0.000012   \n",
       "708                        PASTAGEM         D2 -3.474232 -43.978770  0.000011   \n",
       "\n",
       "       NEW_WEIGHT  ...  StateNB  TARGETID  VAL_PESO  classification  \\\n",
       "13   60305.967634  ...     21.0     16804       1.0              33   \n",
       "15   60305.967634  ...     21.0     16827       1.0              33   \n",
       "23   55301.697925  ...     21.0     16983       1.0               3   \n",
       "27   55301.697925  ...     21.0     17354       1.0              15   \n",
       "28   60305.967634  ...     21.0      2458       1.0              33   \n",
       "..            ...  ...      ...       ...       ...             ...   \n",
       "688  56646.228228  ...     22.0     12166       0.5               4   \n",
       "691  60305.967634  ...     21.0     16813       0.5               3   \n",
       "692  55301.697925  ...     22.0     17032       0.5               4   \n",
       "693  60305.967634  ...     21.0       223       0.5               3   \n",
       "708  55301.697925  ...     21.0     17349       1.0               4   \n",
       "\n",
       "     reference  year   strata_id         pop n_samp  \\\n",
       "13          11  2022  SA-23-Z_D1  25366123.0    303   \n",
       "15          11  2022  SA-23-Z_D1  25366123.0    303   \n",
       "23          12  2022  SA-23-Z_D2  27861902.0    305   \n",
       "27          11  2022  SA-23-Z_D2  27861902.0    305   \n",
       "28          12  2022  SA-23-Z_D1  25366123.0    303   \n",
       "..         ...   ...         ...         ...    ...   \n",
       "688          3  2022  SA-23-Z_D3   7842002.0     89   \n",
       "691         15  2022  SA-23-Z_D1  25366123.0    303   \n",
       "692         15  2022  SA-23-Z_D2  27861902.0    305   \n",
       "693         33  2022  SA-23-Z_D1  25366123.0    303   \n",
       "708         15  2022  SA-23-Z_D2  27861902.0    305   \n",
       "\n",
       "                       geometry  \n",
       "13     POINT (-44.85597 -3.706)  \n",
       "15   POINT (-44.82121 -2.65874)  \n",
       "23   POINT (-44.61397 -3.76636)  \n",
       "27   POINT (-44.67218 -3.80005)  \n",
       "28   POINT (-42.06859 -2.83391)  \n",
       "..                          ...  \n",
       "688  POINT (-42.00849 -3.59901)  \n",
       "691  POINT (-44.44958 -3.42626)  \n",
       "692  POINT (-42.16049 -3.68174)  \n",
       "693  POINT (-43.61441 -3.62003)  \n",
       "708  POINT (-43.97877 -3.47423)  \n",
       "\n",
       "[186 rows x 22 columns]"
      ]
     },
     "execution_count": 232,
     "metadata": {},
     "output_type": "execute_result"
    }
   ],
   "source": [
    "gdf_erros"
   ]
  },
  {
   "cell_type": "code",
   "execution_count": 233,
   "metadata": {},
   "outputs": [
    {
     "data": {
      "text/plain": [
       "<Axes: >"
      ]
     },
     "execution_count": 233,
     "metadata": {},
     "output_type": "execute_result"
    },
    {
     "data": {
      "image/png": "[encoded data removed]",
      "text/plain": [
       "<Figure size 640x480 with 1 Axes>"
      ]
     },
     "metadata": {},
     "output_type": "display_data"
    }
   ],
   "source": [
    "gdf_erros.plot()"
   ]
  },
  {
   "cell_type": "code",
   "execution_count": 234,
   "metadata": {},
   "outputs": [
    {
     "data": {
      "text/plain": [
       "(186, 22)"
      ]
     },
     "execution_count": 234,
     "metadata": {},
     "output_type": "execute_result"
    }
   ],
   "source": [
    "gdf_erros.shape"
   ]
  },
  {
   "cell_type": "code",
   "execution_count": 239,
   "metadata": {},
   "outputs": [
    {
     "data": {
      "text/html": [
       "<div>\n",
       "<style scoped>\n",
       "    .dataframe tbody tr th:only-of-type {\n",
       "        vertical-align: middle;\n",
       "    }\n",
       "\n",
       "    .dataframe tbody tr th {\n",
       "        vertical-align: top;\n",
       "    }\n",
       "\n",
       "    .dataframe thead th {\n",
       "        text-align: right;\n",
       "    }\n",
       "</style>\n",
       "<table border=\"1\" class=\"dataframe\">\n",
       "  <thead>\n",
       "    <tr style=\"text-align: right;\">\n",
       "      <th></th>\n",
       "      <th>AMOSTRAS</th>\n",
       "      <th>AMOSTRA_AM</th>\n",
       "      <th>BioNB</th>\n",
       "      <th>CARTA_2</th>\n",
       "      <th>CLASS_2022</th>\n",
       "      <th>DECLIVIDAD</th>\n",
       "      <th>LAT</th>\n",
       "      <th>LON</th>\n",
       "      <th>NEW_PROB</th>\n",
       "      <th>NEW_WEIGHT</th>\n",
       "      <th>...</th>\n",
       "      <th>StateNB</th>\n",
       "      <th>TARGETID</th>\n",
       "      <th>VAL_PESO</th>\n",
       "      <th>classification</th>\n",
       "      <th>reference</th>\n",
       "      <th>year</th>\n",
       "      <th>strata_id</th>\n",
       "      <th>pop</th>\n",
       "      <th>n_samp</th>\n",
       "      <th>geometry</th>\n",
       "    </tr>\n",
       "  </thead>\n",
       "  <tbody>\n",
       "    <tr>\n",
       "      <th>13</th>\n",
       "      <td>NaN</td>\n",
       "      <td>0</td>\n",
       "      <td>Amazônia</td>\n",
       "      <td>SA-23-Z</td>\n",
       "      <td>CAMPO ALAGADO E ÁREA PANTANOSA</td>\n",
       "      <td>D1</td>\n",
       "      <td>-3.705998</td>\n",
       "      <td>-44.855975</td>\n",
       "      <td>0.000012</td>\n",
       "      <td>60305.967634</td>\n",
       "      <td>...</td>\n",
       "      <td>21.0</td>\n",
       "      <td>16804</td>\n",
       "      <td>1.0</td>\n",
       "      <td>33</td>\n",
       "      <td>11</td>\n",
       "      <td>2022</td>\n",
       "      <td>SA-23-Z_D1</td>\n",
       "      <td>25366123.0</td>\n",
       "      <td>303</td>\n",
       "      <td>POINT (-44.85597 -3.706)</td>\n",
       "    </tr>\n",
       "    <tr>\n",
       "      <th>15</th>\n",
       "      <td>NaN</td>\n",
       "      <td>0</td>\n",
       "      <td>Amazônia</td>\n",
       "      <td>SA-23-Z</td>\n",
       "      <td>CAMPO ALAGADO E ÁREA PANTANOSA</td>\n",
       "      <td>D1</td>\n",
       "      <td>-2.658742</td>\n",
       "      <td>-44.821210</td>\n",
       "      <td>0.000012</td>\n",
       "      <td>60305.967634</td>\n",
       "      <td>...</td>\n",
       "      <td>21.0</td>\n",
       "      <td>16827</td>\n",
       "      <td>1.0</td>\n",
       "      <td>33</td>\n",
       "      <td>11</td>\n",
       "      <td>2022</td>\n",
       "      <td>SA-23-Z_D1</td>\n",
       "      <td>25366123.0</td>\n",
       "      <td>303</td>\n",
       "      <td>POINT (-44.82121 -2.65874)</td>\n",
       "    </tr>\n",
       "    <tr>\n",
       "      <th>23</th>\n",
       "      <td>NaN</td>\n",
       "      <td>0</td>\n",
       "      <td>Cerrado</td>\n",
       "      <td>SA-23-Z</td>\n",
       "      <td>CAMPO ALAGADO E ÁREA PANTANOSA</td>\n",
       "      <td>D2</td>\n",
       "      <td>-3.766364</td>\n",
       "      <td>-44.613968</td>\n",
       "      <td>0.000011</td>\n",
       "      <td>55301.697925</td>\n",
       "      <td>...</td>\n",
       "      <td>21.0</td>\n",
       "      <td>16983</td>\n",
       "      <td>1.0</td>\n",
       "      <td>3</td>\n",
       "      <td>12</td>\n",
       "      <td>2022</td>\n",
       "      <td>SA-23-Z_D2</td>\n",
       "      <td>27861902.0</td>\n",
       "      <td>305</td>\n",
       "      <td>POINT (-44.61397 -3.76636)</td>\n",
       "    </tr>\n",
       "    <tr>\n",
       "      <th>27</th>\n",
       "      <td>NaN</td>\n",
       "      <td>0</td>\n",
       "      <td>Amazônia</td>\n",
       "      <td>SA-23-Z</td>\n",
       "      <td>CAMPO ALAGADO E ÁREA PANTANOSA</td>\n",
       "      <td>D2</td>\n",
       "      <td>-3.800051</td>\n",
       "      <td>-44.672179</td>\n",
       "      <td>0.000011</td>\n",
       "      <td>55301.697925</td>\n",
       "      <td>...</td>\n",
       "      <td>21.0</td>\n",
       "      <td>17354</td>\n",
       "      <td>1.0</td>\n",
       "      <td>15</td>\n",
       "      <td>11</td>\n",
       "      <td>2022</td>\n",
       "      <td>SA-23-Z_D2</td>\n",
       "      <td>27861902.0</td>\n",
       "      <td>305</td>\n",
       "      <td>POINT (-44.67218 -3.80005)</td>\n",
       "    </tr>\n",
       "    <tr>\n",
       "      <th>28</th>\n",
       "      <td>NaN</td>\n",
       "      <td>0</td>\n",
       "      <td>Cerrado</td>\n",
       "      <td>SA-23-Z</td>\n",
       "      <td>CAMPO ALAGADO E ÁREA PANTANOSA</td>\n",
       "      <td>D1</td>\n",
       "      <td>-2.833913</td>\n",
       "      <td>-42.068592</td>\n",
       "      <td>0.000012</td>\n",
       "      <td>60305.967634</td>\n",
       "      <td>...</td>\n",
       "      <td>21.0</td>\n",
       "      <td>2458</td>\n",
       "      <td>1.0</td>\n",
       "      <td>33</td>\n",
       "      <td>12</td>\n",
       "      <td>2022</td>\n",
       "      <td>SA-23-Z_D1</td>\n",
       "      <td>25366123.0</td>\n",
       "      <td>303</td>\n",
       "      <td>POINT (-42.06859 -2.83391)</td>\n",
       "    </tr>\n",
       "  </tbody>\n",
       "</table>\n",
       "<p>5 rows × 22 columns</p>\n",
       "</div>"
      ],
      "text/plain": [
       "   AMOSTRAS  AMOSTRA_AM     BioNB  CARTA_2                      CLASS_2022  \\\n",
       "13      NaN           0  Amazônia  SA-23-Z  CAMPO ALAGADO E ÁREA PANTANOSA   \n",
       "15      NaN           0  Amazônia  SA-23-Z  CAMPO ALAGADO E ÁREA PANTANOSA   \n",
       "23      NaN           0   Cerrado  SA-23-Z  CAMPO ALAGADO E ÁREA PANTANOSA   \n",
       "27      NaN           0  Amazônia  SA-23-Z  CAMPO ALAGADO E ÁREA PANTANOSA   \n",
       "28      NaN           0   Cerrado  SA-23-Z  CAMPO ALAGADO E ÁREA PANTANOSA   \n",
       "\n",
       "   DECLIVIDAD       LAT        LON  NEW_PROB    NEW_WEIGHT  ...  StateNB  \\\n",
       "13         D1 -3.705998 -44.855975  0.000012  60305.967634  ...     21.0   \n",
       "15         D1 -2.658742 -44.821210  0.000012  60305.967634  ...     21.0   \n",
       "23         D2 -3.766364 -44.613968  0.000011  55301.697925  ...     21.0   \n",
       "27         D2 -3.800051 -44.672179  0.000011  55301.697925  ...     21.0   \n",
       "28         D1 -2.833913 -42.068592  0.000012  60305.967634  ...     21.0   \n",
       "\n",
       "    TARGETID  VAL_PESO  classification  reference  year   strata_id  \\\n",
       "13     16804       1.0              33         11  2022  SA-23-Z_D1   \n",
       "15     16827       1.0              33         11  2022  SA-23-Z_D1   \n",
       "23     16983       1.0               3         12  2022  SA-23-Z_D2   \n",
       "27     17354       1.0              15         11  2022  SA-23-Z_D2   \n",
       "28      2458       1.0              33         12  2022  SA-23-Z_D1   \n",
       "\n",
       "           pop n_samp                    geometry  \n",
       "13  25366123.0    303    POINT (-44.85597 -3.706)  \n",
       "15  25366123.0    303  POINT (-44.82121 -2.65874)  \n",
       "23  27861902.0    305  POINT (-44.61397 -3.76636)  \n",
       "27  27861902.0    305  POINT (-44.67218 -3.80005)  \n",
       "28  25366123.0    303  POINT (-42.06859 -2.83391)  \n",
       "\n",
       "[5 rows x 22 columns]"
      ]
     },
     "execution_count": 239,
     "metadata": {},
     "output_type": "execute_result"
    }
   ],
   "source": [
    "gdf_erros.head()"
   ]
  },
  {
   "cell_type": "code",
   "execution_count": 249,
   "metadata": {},
   "outputs": [
    {
     "data": {
      "text/html": [
       "<div>\n",
       "<style scoped>\n",
       "    .dataframe tbody tr th:only-of-type {\n",
       "        vertical-align: middle;\n",
       "    }\n",
       "\n",
       "    .dataframe tbody tr th {\n",
       "        vertical-align: top;\n",
       "    }\n",
       "\n",
       "    .dataframe thead th {\n",
       "        text-align: right;\n",
       "    }\n",
       "</style>\n",
       "<table border=\"1\" class=\"dataframe\">\n",
       "  <thead>\n",
       "    <tr style=\"text-align: right;\">\n",
       "      <th></th>\n",
       "      <th>AMOSTRAS</th>\n",
       "      <th>AMOSTRA_AM</th>\n",
       "      <th>BioNB</th>\n",
       "      <th>CARTA_2</th>\n",
       "      <th>CLASS_2022</th>\n",
       "      <th>DECLIVIDAD</th>\n",
       "      <th>LAT</th>\n",
       "      <th>LON</th>\n",
       "      <th>NEW_PROB</th>\n",
       "      <th>NEW_WEIGHT</th>\n",
       "      <th>...</th>\n",
       "      <th>StateNB</th>\n",
       "      <th>TARGETID</th>\n",
       "      <th>VAL_PESO</th>\n",
       "      <th>classification</th>\n",
       "      <th>reference</th>\n",
       "      <th>year</th>\n",
       "      <th>strata_id</th>\n",
       "      <th>pop</th>\n",
       "      <th>n_samp</th>\n",
       "      <th>geometry</th>\n",
       "    </tr>\n",
       "  </thead>\n",
       "  <tbody>\n",
       "    <tr>\n",
       "      <th>13</th>\n",
       "      <td>NaN</td>\n",
       "      <td>0</td>\n",
       "      <td>Amazônia</td>\n",
       "      <td>SA-23-Z</td>\n",
       "      <td>CAMPO ALAGADO E ÁREA PANTANOSA</td>\n",
       "      <td>D1</td>\n",
       "      <td>-3.705998</td>\n",
       "      <td>-44.855975</td>\n",
       "      <td>0.000012</td>\n",
       "      <td>60305.967634</td>\n",
       "      <td>...</td>\n",
       "      <td>21.0</td>\n",
       "      <td>16804</td>\n",
       "      <td>1.000000</td>\n",
       "      <td>33</td>\n",
       "      <td>11</td>\n",
       "      <td>2022</td>\n",
       "      <td>SA-23-Z_D1</td>\n",
       "      <td>25366123.0</td>\n",
       "      <td>303</td>\n",
       "      <td>POINT (-44.85597 -3.706)</td>\n",
       "    </tr>\n",
       "    <tr>\n",
       "      <th>15</th>\n",
       "      <td>NaN</td>\n",
       "      <td>0</td>\n",
       "      <td>Amazônia</td>\n",
       "      <td>SA-23-Z</td>\n",
       "      <td>CAMPO ALAGADO E ÁREA PANTANOSA</td>\n",
       "      <td>D1</td>\n",
       "      <td>-2.658742</td>\n",
       "      <td>-44.821210</td>\n",
       "      <td>0.000012</td>\n",
       "      <td>60305.967634</td>\n",
       "      <td>...</td>\n",
       "      <td>21.0</td>\n",
       "      <td>16827</td>\n",
       "      <td>1.000000</td>\n",
       "      <td>33</td>\n",
       "      <td>11</td>\n",
       "      <td>2022</td>\n",
       "      <td>SA-23-Z_D1</td>\n",
       "      <td>25366123.0</td>\n",
       "      <td>303</td>\n",
       "      <td>POINT (-44.82121 -2.65874)</td>\n",
       "    </tr>\n",
       "    <tr>\n",
       "      <th>28</th>\n",
       "      <td>NaN</td>\n",
       "      <td>0</td>\n",
       "      <td>Cerrado</td>\n",
       "      <td>SA-23-Z</td>\n",
       "      <td>CAMPO ALAGADO E ÁREA PANTANOSA</td>\n",
       "      <td>D1</td>\n",
       "      <td>-2.833913</td>\n",
       "      <td>-42.068592</td>\n",
       "      <td>0.000012</td>\n",
       "      <td>60305.967634</td>\n",
       "      <td>...</td>\n",
       "      <td>21.0</td>\n",
       "      <td>2458</td>\n",
       "      <td>1.000000</td>\n",
       "      <td>33</td>\n",
       "      <td>12</td>\n",
       "      <td>2022</td>\n",
       "      <td>SA-23-Z_D1</td>\n",
       "      <td>25366123.0</td>\n",
       "      <td>303</td>\n",
       "      <td>POINT (-42.06859 -2.83391)</td>\n",
       "    </tr>\n",
       "    <tr>\n",
       "      <th>32</th>\n",
       "      <td>NaN</td>\n",
       "      <td>0</td>\n",
       "      <td>Amazônia</td>\n",
       "      <td>SA-23-Z</td>\n",
       "      <td>FLORESTA INUNDÁVEL</td>\n",
       "      <td>D1</td>\n",
       "      <td>-2.894280</td>\n",
       "      <td>-44.577048</td>\n",
       "      <td>0.000012</td>\n",
       "      <td>60305.967634</td>\n",
       "      <td>...</td>\n",
       "      <td>21.0</td>\n",
       "      <td>16768</td>\n",
       "      <td>1.000000</td>\n",
       "      <td>33</td>\n",
       "      <td>3</td>\n",
       "      <td>2022</td>\n",
       "      <td>SA-23-Z_D1</td>\n",
       "      <td>25366123.0</td>\n",
       "      <td>303</td>\n",
       "      <td>POINT (-44.57705 -2.89428)</td>\n",
       "    </tr>\n",
       "    <tr>\n",
       "      <th>45</th>\n",
       "      <td>NaN</td>\n",
       "      <td>0</td>\n",
       "      <td>Cerrado</td>\n",
       "      <td>SA-23-Z</td>\n",
       "      <td>FORMAÇÃO CAMPESTRE</td>\n",
       "      <td>D1</td>\n",
       "      <td>-3.175902</td>\n",
       "      <td>-43.808180</td>\n",
       "      <td>0.000012</td>\n",
       "      <td>60305.967634</td>\n",
       "      <td>...</td>\n",
       "      <td>21.0</td>\n",
       "      <td>11672</td>\n",
       "      <td>1.000000</td>\n",
       "      <td>21</td>\n",
       "      <td>12</td>\n",
       "      <td>2022</td>\n",
       "      <td>SA-23-Z_D1</td>\n",
       "      <td>25366123.0</td>\n",
       "      <td>303</td>\n",
       "      <td>POINT (-43.80818 -3.1759)</td>\n",
       "    </tr>\n",
       "    <tr>\n",
       "      <th>122</th>\n",
       "      <td>NaN</td>\n",
       "      <td>0</td>\n",
       "      <td>Amazônia</td>\n",
       "      <td>SA-23-Z</td>\n",
       "      <td>CAMPO ALAGADO E ÁREA PANTANOSA</td>\n",
       "      <td>D1</td>\n",
       "      <td>-3.286125</td>\n",
       "      <td>-44.661938</td>\n",
       "      <td>0.000012</td>\n",
       "      <td>60305.967634</td>\n",
       "      <td>...</td>\n",
       "      <td>21.0</td>\n",
       "      <td>16773</td>\n",
       "      <td>0.500000</td>\n",
       "      <td>33</td>\n",
       "      <td>11</td>\n",
       "      <td>2022</td>\n",
       "      <td>SA-23-Z_D1</td>\n",
       "      <td>25366123.0</td>\n",
       "      <td>303</td>\n",
       "      <td>POINT (-44.66194 -3.28612)</td>\n",
       "    </tr>\n",
       "    <tr>\n",
       "      <th>123</th>\n",
       "      <td>NaN</td>\n",
       "      <td>0</td>\n",
       "      <td>Amazônia</td>\n",
       "      <td>SA-23-Z</td>\n",
       "      <td>CAMPO ALAGADO E ÁREA PANTANOSA</td>\n",
       "      <td>D1</td>\n",
       "      <td>-2.720186</td>\n",
       "      <td>-44.832529</td>\n",
       "      <td>0.000012</td>\n",
       "      <td>60305.967634</td>\n",
       "      <td>...</td>\n",
       "      <td>21.0</td>\n",
       "      <td>16783</td>\n",
       "      <td>0.500000</td>\n",
       "      <td>33</td>\n",
       "      <td>11</td>\n",
       "      <td>2022</td>\n",
       "      <td>SA-23-Z_D1</td>\n",
       "      <td>25366123.0</td>\n",
       "      <td>303</td>\n",
       "      <td>POINT (-44.83253 -2.72019)</td>\n",
       "    </tr>\n",
       "    <tr>\n",
       "      <th>126</th>\n",
       "      <td>Treinamento</td>\n",
       "      <td>1</td>\n",
       "      <td>Amazônia</td>\n",
       "      <td>SA-23-Z</td>\n",
       "      <td>CAMPO ALAGADO E ÁREA PANTANOSA</td>\n",
       "      <td>D1</td>\n",
       "      <td>-3.412518</td>\n",
       "      <td>-44.705866</td>\n",
       "      <td>0.000012</td>\n",
       "      <td>60305.967634</td>\n",
       "      <td>...</td>\n",
       "      <td>21.0</td>\n",
       "      <td>16854</td>\n",
       "      <td>0.500000</td>\n",
       "      <td>33</td>\n",
       "      <td>11</td>\n",
       "      <td>2022</td>\n",
       "      <td>SA-23-Z_D1</td>\n",
       "      <td>25366123.0</td>\n",
       "      <td>303</td>\n",
       "      <td>POINT (-44.70587 -3.41252)</td>\n",
       "    </tr>\n",
       "    <tr>\n",
       "      <th>138</th>\n",
       "      <td>NaN</td>\n",
       "      <td>0</td>\n",
       "      <td>Amazônia</td>\n",
       "      <td>SA-23-Z</td>\n",
       "      <td>CAMPO ALAGADO E ÁREA PANTANOSA</td>\n",
       "      <td>D2</td>\n",
       "      <td>-2.649309</td>\n",
       "      <td>-44.644960</td>\n",
       "      <td>0.000011</td>\n",
       "      <td>55301.697925</td>\n",
       "      <td>...</td>\n",
       "      <td>21.0</td>\n",
       "      <td>17052</td>\n",
       "      <td>0.500000</td>\n",
       "      <td>33</td>\n",
       "      <td>11</td>\n",
       "      <td>2022</td>\n",
       "      <td>SA-23-Z_D2</td>\n",
       "      <td>27861902.0</td>\n",
       "      <td>305</td>\n",
       "      <td>POINT (-44.64496 -2.64931)</td>\n",
       "    </tr>\n",
       "    <tr>\n",
       "      <th>151</th>\n",
       "      <td>Treinamento</td>\n",
       "      <td>1</td>\n",
       "      <td>Cerrado</td>\n",
       "      <td>SA-23-Z</td>\n",
       "      <td>FORMAÇÃO CAMPESTRE</td>\n",
       "      <td>D2</td>\n",
       "      <td>-3.550499</td>\n",
       "      <td>-43.723289</td>\n",
       "      <td>0.000011</td>\n",
       "      <td>55301.697925</td>\n",
       "      <td>...</td>\n",
       "      <td>21.0</td>\n",
       "      <td>17292</td>\n",
       "      <td>0.500000</td>\n",
       "      <td>21</td>\n",
       "      <td>12</td>\n",
       "      <td>2022</td>\n",
       "      <td>SA-23-Z_D2</td>\n",
       "      <td>27861902.0</td>\n",
       "      <td>305</td>\n",
       "      <td>POINT (-43.72329 -3.5505)</td>\n",
       "    </tr>\n",
       "    <tr>\n",
       "      <th>158</th>\n",
       "      <td>NaN</td>\n",
       "      <td>0</td>\n",
       "      <td>Amazônia</td>\n",
       "      <td>SA-23-Z</td>\n",
       "      <td>FORMAÇÃO FLORESTAL</td>\n",
       "      <td>D1</td>\n",
       "      <td>-2.605651</td>\n",
       "      <td>-44.609118</td>\n",
       "      <td>0.000012</td>\n",
       "      <td>60305.967634</td>\n",
       "      <td>...</td>\n",
       "      <td>21.0</td>\n",
       "      <td>16741</td>\n",
       "      <td>0.500000</td>\n",
       "      <td>33</td>\n",
       "      <td>3</td>\n",
       "      <td>2022</td>\n",
       "      <td>SA-23-Z_D1</td>\n",
       "      <td>25366123.0</td>\n",
       "      <td>303</td>\n",
       "      <td>POINT (-44.60912 -2.60565)</td>\n",
       "    </tr>\n",
       "    <tr>\n",
       "      <th>277</th>\n",
       "      <td>NaN</td>\n",
       "      <td>0</td>\n",
       "      <td>Cerrado</td>\n",
       "      <td>SA-23-Z</td>\n",
       "      <td>FORMAÇÃO SAVÂNICA</td>\n",
       "      <td>D1</td>\n",
       "      <td>-3.772293</td>\n",
       "      <td>-44.060696</td>\n",
       "      <td>0.000012</td>\n",
       "      <td>60305.967634</td>\n",
       "      <td>...</td>\n",
       "      <td>21.0</td>\n",
       "      <td>16834</td>\n",
       "      <td>0.500000</td>\n",
       "      <td>21</td>\n",
       "      <td>4</td>\n",
       "      <td>2022</td>\n",
       "      <td>SA-23-Z_D1</td>\n",
       "      <td>25366123.0</td>\n",
       "      <td>303</td>\n",
       "      <td>POINT (-44.0607 -3.77229)</td>\n",
       "    </tr>\n",
       "    <tr>\n",
       "      <th>301</th>\n",
       "      <td>NaN</td>\n",
       "      <td>0</td>\n",
       "      <td>Cerrado</td>\n",
       "      <td>SA-23-Z</td>\n",
       "      <td>FORMAÇÃO SAVÂNICA</td>\n",
       "      <td>D1</td>\n",
       "      <td>-3.821341</td>\n",
       "      <td>-42.951726</td>\n",
       "      <td>0.000012</td>\n",
       "      <td>60305.967634</td>\n",
       "      <td>...</td>\n",
       "      <td>21.0</td>\n",
       "      <td>16903</td>\n",
       "      <td>1.000000</td>\n",
       "      <td>21</td>\n",
       "      <td>4</td>\n",
       "      <td>2022</td>\n",
       "      <td>SA-23-Z_D1</td>\n",
       "      <td>25366123.0</td>\n",
       "      <td>303</td>\n",
       "      <td>POINT (-42.95173 -3.82134)</td>\n",
       "    </tr>\n",
       "    <tr>\n",
       "      <th>316</th>\n",
       "      <td>NaN</td>\n",
       "      <td>0</td>\n",
       "      <td>Cerrado</td>\n",
       "      <td>SA-23-Z</td>\n",
       "      <td>FORMAÇÃO SAVÂNICA</td>\n",
       "      <td>D2</td>\n",
       "      <td>-2.996149</td>\n",
       "      <td>-43.769642</td>\n",
       "      <td>0.000011</td>\n",
       "      <td>55301.697925</td>\n",
       "      <td>...</td>\n",
       "      <td>21.0</td>\n",
       "      <td>17117</td>\n",
       "      <td>0.500000</td>\n",
       "      <td>21</td>\n",
       "      <td>4</td>\n",
       "      <td>2022</td>\n",
       "      <td>SA-23-Z_D2</td>\n",
       "      <td>27861902.0</td>\n",
       "      <td>305</td>\n",
       "      <td>POINT (-43.76964 -2.99615)</td>\n",
       "    </tr>\n",
       "    <tr>\n",
       "      <th>375</th>\n",
       "      <td>NaN</td>\n",
       "      <td>0</td>\n",
       "      <td>Amazônia</td>\n",
       "      <td>SA-23-Z</td>\n",
       "      <td>PASTAGEM</td>\n",
       "      <td>D1</td>\n",
       "      <td>-2.600261</td>\n",
       "      <td>-44.306475</td>\n",
       "      <td>0.000012</td>\n",
       "      <td>60305.967634</td>\n",
       "      <td>...</td>\n",
       "      <td>21.0</td>\n",
       "      <td>16847</td>\n",
       "      <td>0.500000</td>\n",
       "      <td>24</td>\n",
       "      <td>15</td>\n",
       "      <td>2022</td>\n",
       "      <td>SA-23-Z_D1</td>\n",
       "      <td>25366123.0</td>\n",
       "      <td>303</td>\n",
       "      <td>POINT (-44.30648 -2.60026)</td>\n",
       "    </tr>\n",
       "    <tr>\n",
       "      <th>520</th>\n",
       "      <td>NaN</td>\n",
       "      <td>0</td>\n",
       "      <td>Cerrado</td>\n",
       "      <td>SA-23-Z</td>\n",
       "      <td>FORMAÇÃO FLORESTAL</td>\n",
       "      <td>D2</td>\n",
       "      <td>-3.040076</td>\n",
       "      <td>-43.765599</td>\n",
       "      <td>0.000011</td>\n",
       "      <td>55301.697925</td>\n",
       "      <td>...</td>\n",
       "      <td>21.0</td>\n",
       "      <td>11617</td>\n",
       "      <td>0.333333</td>\n",
       "      <td>21</td>\n",
       "      <td>3</td>\n",
       "      <td>2022</td>\n",
       "      <td>SA-23-Z_D2</td>\n",
       "      <td>27861902.0</td>\n",
       "      <td>305</td>\n",
       "      <td>POINT (-43.7656 -3.04008)</td>\n",
       "    </tr>\n",
       "    <tr>\n",
       "      <th>594</th>\n",
       "      <td>NaN</td>\n",
       "      <td>0</td>\n",
       "      <td>Cerrado</td>\n",
       "      <td>SA-23-Z</td>\n",
       "      <td>FORMAÇÃO SAVÂNICA</td>\n",
       "      <td>D2</td>\n",
       "      <td>-3.020134</td>\n",
       "      <td>-42.327576</td>\n",
       "      <td>0.000011</td>\n",
       "      <td>55301.697925</td>\n",
       "      <td>...</td>\n",
       "      <td>21.0</td>\n",
       "      <td>17344</td>\n",
       "      <td>0.333333</td>\n",
       "      <td>21</td>\n",
       "      <td>4</td>\n",
       "      <td>2022</td>\n",
       "      <td>SA-23-Z_D2</td>\n",
       "      <td>27861902.0</td>\n",
       "      <td>305</td>\n",
       "      <td>POINT (-42.32758 -3.02013)</td>\n",
       "    </tr>\n",
       "    <tr>\n",
       "      <th>678</th>\n",
       "      <td>NaN</td>\n",
       "      <td>0</td>\n",
       "      <td>Cerrado</td>\n",
       "      <td>SA-23-Z</td>\n",
       "      <td>FORMAÇÃO CAMPESTRE</td>\n",
       "      <td>D2</td>\n",
       "      <td>-3.765825</td>\n",
       "      <td>-44.364416</td>\n",
       "      <td>0.000011</td>\n",
       "      <td>55301.697925</td>\n",
       "      <td>...</td>\n",
       "      <td>21.0</td>\n",
       "      <td>17153</td>\n",
       "      <td>1.000000</td>\n",
       "      <td>21</td>\n",
       "      <td>12</td>\n",
       "      <td>2022</td>\n",
       "      <td>SA-23-Z_D2</td>\n",
       "      <td>27861902.0</td>\n",
       "      <td>305</td>\n",
       "      <td>POINT (-44.36442 -3.76583)</td>\n",
       "    </tr>\n",
       "  </tbody>\n",
       "</table>\n",
       "<p>18 rows × 22 columns</p>\n",
       "</div>"
      ],
      "text/plain": [
       "        AMOSTRAS  AMOSTRA_AM     BioNB  CARTA_2  \\\n",
       "13           NaN           0  Amazônia  SA-23-Z   \n",
       "15           NaN           0  Amazônia  SA-23-Z   \n",
       "28           NaN           0   Cerrado  SA-23-Z   \n",
       "32           NaN           0  Amazônia  SA-23-Z   \n",
       "45           NaN           0   Cerrado  SA-23-Z   \n",
       "122          NaN           0  Amazônia  SA-23-Z   \n",
       "123          NaN           0  Amazônia  SA-23-Z   \n",
       "126  Treinamento           1  Amazônia  SA-23-Z   \n",
       "138          NaN           0  Amazônia  SA-23-Z   \n",
       "151  Treinamento           1   Cerrado  SA-23-Z   \n",
       "158          NaN           0  Amazônia  SA-23-Z   \n",
       "277          NaN           0   Cerrado  SA-23-Z   \n",
       "301          NaN           0   Cerrado  SA-23-Z   \n",
       "316          NaN           0   Cerrado  SA-23-Z   \n",
       "375          NaN           0  Amazônia  SA-23-Z   \n",
       "520          NaN           0   Cerrado  SA-23-Z   \n",
       "594          NaN           0   Cerrado  SA-23-Z   \n",
       "678          NaN           0   Cerrado  SA-23-Z   \n",
       "\n",
       "                         CLASS_2022 DECLIVIDAD       LAT        LON  NEW_PROB  \\\n",
       "13   CAMPO ALAGADO E ÁREA PANTANOSA         D1 -3.705998 -44.855975  0.000012   \n",
       "15   CAMPO ALAGADO E ÁREA PANTANOSA         D1 -2.658742 -44.821210  0.000012   \n",
       "28   CAMPO ALAGADO E ÁREA PANTANOSA         D1 -2.833913 -42.068592  0.000012   \n",
       "32               FLORESTA INUNDÁVEL         D1 -2.894280 -44.577048  0.000012   \n",
       "45               FORMAÇÃO CAMPESTRE         D1 -3.175902 -43.808180  0.000012   \n",
       "122  CAMPO ALAGADO E ÁREA PANTANOSA         D1 -3.286125 -44.661938  0.000012   \n",
       "123  CAMPO ALAGADO E ÁREA PANTANOSA         D1 -2.720186 -44.832529  0.000012   \n",
       "126  CAMPO ALAGADO E ÁREA PANTANOSA         D1 -3.412518 -44.705866  0.000012   \n",
       "138  CAMPO ALAGADO E ÁREA PANTANOSA         D2 -2.649309 -44.644960  0.000011   \n",
       "151              FORMAÇÃO CAMPESTRE         D2 -3.550499 -43.723289  0.000011   \n",
       "158              FORMAÇÃO FLORESTAL         D1 -2.605651 -44.609118  0.000012   \n",
       "277               FORMAÇÃO SAVÂNICA         D1 -3.772293 -44.060696  0.000012   \n",
       "301               FORMAÇÃO SAVÂNICA         D1 -3.821341 -42.951726  0.000012   \n",
       "316               FORMAÇÃO SAVÂNICA         D2 -2.996149 -43.769642  0.000011   \n",
       "375                        PASTAGEM         D1 -2.600261 -44.306475  0.000012   \n",
       "520              FORMAÇÃO FLORESTAL         D2 -3.040076 -43.765599  0.000011   \n",
       "594               FORMAÇÃO SAVÂNICA         D2 -3.020134 -42.327576  0.000011   \n",
       "678              FORMAÇÃO CAMPESTRE         D2 -3.765825 -44.364416  0.000011   \n",
       "\n",
       "       NEW_WEIGHT  ...  StateNB  TARGETID  VAL_PESO  classification  \\\n",
       "13   60305.967634  ...     21.0     16804  1.000000              33   \n",
       "15   60305.967634  ...     21.0     16827  1.000000              33   \n",
       "28   60305.967634  ...     21.0      2458  1.000000              33   \n",
       "32   60305.967634  ...     21.0     16768  1.000000              33   \n",
       "45   60305.967634  ...     21.0     11672  1.000000              21   \n",
       "122  60305.967634  ...     21.0     16773  0.500000              33   \n",
       "123  60305.967634  ...     21.0     16783  0.500000              33   \n",
       "126  60305.967634  ...     21.0     16854  0.500000              33   \n",
       "138  55301.697925  ...     21.0     17052  0.500000              33   \n",
       "151  55301.697925  ...     21.0     17292  0.500000              21   \n",
       "158  60305.967634  ...     21.0     16741  0.500000              33   \n",
       "277  60305.967634  ...     21.0     16834  0.500000              21   \n",
       "301  60305.967634  ...     21.0     16903  1.000000              21   \n",
       "316  55301.697925  ...     21.0     17117  0.500000              21   \n",
       "375  60305.967634  ...     21.0     16847  0.500000              24   \n",
       "520  55301.697925  ...     21.0     11617  0.333333              21   \n",
       "594  55301.697925  ...     21.0     17344  0.333333              21   \n",
       "678  55301.697925  ...     21.0     17153  1.000000              21   \n",
       "\n",
       "     reference  year   strata_id         pop n_samp  \\\n",
       "13          11  2022  SA-23-Z_D1  25366123.0    303   \n",
       "15          11  2022  SA-23-Z_D1  25366123.0    303   \n",
       "28          12  2022  SA-23-Z_D1  25366123.0    303   \n",
       "32           3  2022  SA-23-Z_D1  25366123.0    303   \n",
       "45          12  2022  SA-23-Z_D1  25366123.0    303   \n",
       "122         11  2022  SA-23-Z_D1  25366123.0    303   \n",
       "123         11  2022  SA-23-Z_D1  25366123.0    303   \n",
       "126         11  2022  SA-23-Z_D1  25366123.0    303   \n",
       "138         11  2022  SA-23-Z_D2  27861902.0    305   \n",
       "151         12  2022  SA-23-Z_D2  27861902.0    305   \n",
       "158          3  2022  SA-23-Z_D1  25366123.0    303   \n",
       "277          4  2022  SA-23-Z_D1  25366123.0    303   \n",
       "301          4  2022  SA-23-Z_D1  25366123.0    303   \n",
       "316          4  2022  SA-23-Z_D2  27861902.0    305   \n",
       "375         15  2022  SA-23-Z_D1  25366123.0    303   \n",
       "520          3  2022  SA-23-Z_D2  27861902.0    305   \n",
       "594          4  2022  SA-23-Z_D2  27861902.0    305   \n",
       "678         12  2022  SA-23-Z_D2  27861902.0    305   \n",
       "\n",
       "                       geometry  \n",
       "13     POINT (-44.85597 -3.706)  \n",
       "15   POINT (-44.82121 -2.65874)  \n",
       "28   POINT (-42.06859 -2.83391)  \n",
       "32   POINT (-44.57705 -2.89428)  \n",
       "45    POINT (-43.80818 -3.1759)  \n",
       "122  POINT (-44.66194 -3.28612)  \n",
       "123  POINT (-44.83253 -2.72019)  \n",
       "126  POINT (-44.70587 -3.41252)  \n",
       "138  POINT (-44.64496 -2.64931)  \n",
       "151   POINT (-43.72329 -3.5505)  \n",
       "158  POINT (-44.60912 -2.60565)  \n",
       "277   POINT (-44.0607 -3.77229)  \n",
       "301  POINT (-42.95173 -3.82134)  \n",
       "316  POINT (-43.76964 -2.99615)  \n",
       "375  POINT (-44.30648 -2.60026)  \n",
       "520   POINT (-43.7656 -3.04008)  \n",
       "594  POINT (-42.32758 -3.02013)  \n",
       "678  POINT (-44.36442 -3.76583)  \n",
       "\n",
       "[18 rows x 22 columns]"
      ]
     },
     "execution_count": 249,
     "metadata": {},
     "output_type": "execute_result"
    }
   ],
   "source": [
    "gdf_erros.query(\"classification > 20\")"
   ]
  },
  {
   "cell_type": "code",
   "execution_count": 241,
   "metadata": {},
   "outputs": [
    {
     "data": {
      "text/html": [
       "<div>\n",
       "<style scoped>\n",
       "    .dataframe tbody tr th:only-of-type {\n",
       "        vertical-align: middle;\n",
       "    }\n",
       "\n",
       "    .dataframe tbody tr th {\n",
       "        vertical-align: top;\n",
       "    }\n",
       "\n",
       "    .dataframe thead th {\n",
       "        text-align: right;\n",
       "    }\n",
       "</style>\n",
       "<table border=\"1\" class=\"dataframe\">\n",
       "  <thead>\n",
       "    <tr style=\"text-align: right;\">\n",
       "      <th></th>\n",
       "      <th>DECLIVIDAD</th>\n",
       "    </tr>\n",
       "  </thead>\n",
       "  <tbody>\n",
       "    <tr>\n",
       "      <th>13</th>\n",
       "      <td>D1</td>\n",
       "    </tr>\n",
       "    <tr>\n",
       "      <th>15</th>\n",
       "      <td>D1</td>\n",
       "    </tr>\n",
       "    <tr>\n",
       "      <th>23</th>\n",
       "      <td>D2</td>\n",
       "    </tr>\n",
       "    <tr>\n",
       "      <th>27</th>\n",
       "      <td>D2</td>\n",
       "    </tr>\n",
       "    <tr>\n",
       "      <th>28</th>\n",
       "      <td>D1</td>\n",
       "    </tr>\n",
       "    <tr>\n",
       "      <th>...</th>\n",
       "      <td>...</td>\n",
       "    </tr>\n",
       "    <tr>\n",
       "      <th>688</th>\n",
       "      <td>D3</td>\n",
       "    </tr>\n",
       "    <tr>\n",
       "      <th>691</th>\n",
       "      <td>D1</td>\n",
       "    </tr>\n",
       "    <tr>\n",
       "      <th>692</th>\n",
       "      <td>D2</td>\n",
       "    </tr>\n",
       "    <tr>\n",
       "      <th>693</th>\n",
       "      <td>D1</td>\n",
       "    </tr>\n",
       "    <tr>\n",
       "      <th>708</th>\n",
       "      <td>D2</td>\n",
       "    </tr>\n",
       "  </tbody>\n",
       "</table>\n",
       "<p>186 rows × 1 columns</p>\n",
       "</div>"
      ],
      "text/plain": [
       "    DECLIVIDAD\n",
       "13          D1\n",
       "15          D1\n",
       "23          D2\n",
       "27          D2\n",
       "28          D1\n",
       "..         ...\n",
       "688         D3\n",
       "691         D1\n",
       "692         D2\n",
       "693         D1\n",
       "708         D2\n",
       "\n",
       "[186 rows x 1 columns]"
      ]
     },
     "execution_count": 241,
     "metadata": {},
     "output_type": "execute_result"
    }
   ],
   "source": [
    "gdf_erros.filter(['DECLIVIDAD'])"
   ]
  },
  {
   "cell_type": "code",
   "execution_count": 252,
   "metadata": {},
   "outputs": [],
   "source": [
    "a = gdf_erros[\"classification\"].values"
   ]
  },
  {
   "cell_type": "code",
   "execution_count": 253,
   "metadata": {},
   "outputs": [
    {
     "data": {
      "text/plain": [
       "array([1089, 1089,    9,  225, 1089,   25, 1089,   25,   25,  121,  225,\n",
       "         25,  121,  225,  121,  225,  121,  225,    9,  441,   16,   16,\n",
       "          9,   16,  225,   16,   16,  121,   25,  121,   25,   25,   25,\n",
       "         16,  144,  144,    9,  225,  225,    9,    9,  121,    9,    9,\n",
       "          9,   16,  121, 1089, 1089, 1089,  225, 1089,  225,   25,  121,\n",
       "        225,  441,  121,  225,  225, 1089,  225,   25,   25,   25,   25,\n",
       "         25,  121,  225,  121,   25,  225,    9,   16,   16,  225,   16,\n",
       "        225,  225,   16,   25,   16,  225,    9,    9,    9,    9,    9,\n",
       "         16,   16,  441,  225,    9,    9,    9,    9,    9,  225,  441,\n",
       "          9,    9,  144,    9,    9,  441,  144,    9,    9,    9,    9,\n",
       "          9,    9,  144,  225,    9,    9,    9,    9,    9,    9,    9,\n",
       "          9,    9,    9,  225,    9,  121,    9,  576,    9,    9,    9,\n",
       "        144,   16,   16,  324,    9,    9,    9,  121,  121,  121,   25,\n",
       "        121,  225,    9,  225,  225,  225,    9,  225,    9,  225,    9,\n",
       "         16,  441,   16,    9,   25,  121,    9,    9,    9,    9,  144,\n",
       "         16,  441,    9,  121,  121,    9,    9,  121,  225,  144,    9,\n",
       "         16,    9,  144,  441,   16,   16,    9,   16,    9,   16])"
      ]
     },
     "execution_count": 253,
     "metadata": {},
     "output_type": "execute_result"
    }
   ],
   "source": [
    "a * a"
   ]
  },
  {
   "cell_type": "code",
   "execution_count": 260,
   "metadata": {},
   "outputs": [
    {
     "data": {
      "text/plain": [
       "np.int64(26451)"
      ]
     },
     "execution_count": 260,
     "metadata": {},
     "output_type": "execute_result"
    }
   ],
   "source": [
    "a @ a"
   ]
  },
  {
   "cell_type": "code",
   "execution_count": 261,
   "metadata": {},
   "outputs": [
    {
     "data": {
      "text/plain": [
       "np.int64(26451)"
      ]
     },
     "execution_count": 261,
     "metadata": {},
     "output_type": "execute_result"
    }
   ],
   "source": [
    "np.dot(a,a)"
   ]
  },
  {
   "cell_type": "code",
   "execution_count": 247,
   "metadata": {},
   "outputs": [
    {
     "ename": "AttributeError",
     "evalue": "'GeoDataFrame' object has no attribute 'sort_by'",
     "output_type": "error",
     "traceback": [
      "\u001b[0;31m---------------------------------------------------------------------------\u001b[0m",
      "\u001b[0;31mAttributeError\u001b[0m                            Traceback (most recent call last)",
      "\u001b[0;32m/tmp/ipykernel_342941/2339456483.py\u001b[0m in \u001b[0;36m?\u001b[0;34m()\u001b[0m\n\u001b[0;32m----> 1\u001b[0;31m \u001b[0mgdf_erros\u001b[0m\u001b[0;34m.\u001b[0m\u001b[0msort_by\u001b[0m\u001b[0;34m(\u001b[0m\u001b[0;34m)\u001b[0m\u001b[0;34m\u001b[0m\u001b[0;34m\u001b[0m\u001b[0m\n\u001b[0m",
      "\u001b[0;32m~/dev/acuracia_slz/.venv/lib/python3.10/site-packages/pandas/core/generic.py\u001b[0m in \u001b[0;36m?\u001b[0;34m(self, name)\u001b[0m\n\u001b[1;32m   6295\u001b[0m             \u001b[0;32mand\u001b[0m \u001b[0mname\u001b[0m \u001b[0;32mnot\u001b[0m \u001b[0;32min\u001b[0m \u001b[0mself\u001b[0m\u001b[0;34m.\u001b[0m\u001b[0m_accessors\u001b[0m\u001b[0;34m\u001b[0m\u001b[0;34m\u001b[0m\u001b[0m\n\u001b[1;32m   6296\u001b[0m             \u001b[0;32mand\u001b[0m \u001b[0mself\u001b[0m\u001b[0;34m.\u001b[0m\u001b[0m_info_axis\u001b[0m\u001b[0;34m.\u001b[0m\u001b[0m_can_hold_identifiers_and_holds_name\u001b[0m\u001b[0;34m(\u001b[0m\u001b[0mname\u001b[0m\u001b[0;34m)\u001b[0m\u001b[0;34m\u001b[0m\u001b[0;34m\u001b[0m\u001b[0m\n\u001b[1;32m   6297\u001b[0m         ):\n\u001b[1;32m   6298\u001b[0m             \u001b[0;32mreturn\u001b[0m \u001b[0mself\u001b[0m\u001b[0;34m[\u001b[0m\u001b[0mname\u001b[0m\u001b[0;34m]\u001b[0m\u001b[0;34m\u001b[0m\u001b[0;34m\u001b[0m\u001b[0m\n\u001b[0;32m-> 6299\u001b[0;31m         \u001b[0;32mreturn\u001b[0m \u001b[0mobject\u001b[0m\u001b[0;34m.\u001b[0m\u001b[0m__getattribute__\u001b[0m\u001b[0;34m(\u001b[0m\u001b[0mself\u001b[0m\u001b[0;34m,\u001b[0m \u001b[0mname\u001b[0m\u001b[0;34m)\u001b[0m\u001b[0;34m\u001b[0m\u001b[0;34m\u001b[0m\u001b[0m\n\u001b[0m",
      "\u001b[0;31mAttributeError\u001b[0m: 'GeoDataFrame' object has no attribute 'sort_by'"
     ]
    }
   ],
   "source": [
    "gdf_erros.sort_by()"
   ]
  },
  {
   "cell_type": "code",
   "execution_count": 244,
   "metadata": {},
   "outputs": [
    {
     "data": {
      "text/html": [
       "<div>\n",
       "<style scoped>\n",
       "    .dataframe tbody tr th:only-of-type {\n",
       "        vertical-align: middle;\n",
       "    }\n",
       "\n",
       "    .dataframe tbody tr th {\n",
       "        vertical-align: top;\n",
       "    }\n",
       "\n",
       "    .dataframe thead th {\n",
       "        text-align: right;\n",
       "    }\n",
       "</style>\n",
       "<table border=\"1\" class=\"dataframe\">\n",
       "  <thead>\n",
       "    <tr style=\"text-align: right;\">\n",
       "      <th></th>\n",
       "      <th>AMOSTRAS</th>\n",
       "      <th>AMOSTRA_AM</th>\n",
       "      <th>BioNB</th>\n",
       "      <th>CARTA_2</th>\n",
       "      <th>CLASS_2022</th>\n",
       "      <th>DECLIVIDAD</th>\n",
       "      <th>LAT</th>\n",
       "      <th>LON</th>\n",
       "      <th>NEW_PROB</th>\n",
       "      <th>NEW_WEIGHT</th>\n",
       "      <th>...</th>\n",
       "      <th>StateNB</th>\n",
       "      <th>TARGETID</th>\n",
       "      <th>VAL_PESO</th>\n",
       "      <th>classification</th>\n",
       "      <th>reference</th>\n",
       "      <th>year</th>\n",
       "      <th>strata_id</th>\n",
       "      <th>pop</th>\n",
       "      <th>n_samp</th>\n",
       "      <th>geometry</th>\n",
       "    </tr>\n",
       "  </thead>\n",
       "  <tbody>\n",
       "    <tr>\n",
       "      <th>23</th>\n",
       "      <td>NaN</td>\n",
       "      <td>0</td>\n",
       "      <td>Cerrado</td>\n",
       "      <td>SA-23-Z</td>\n",
       "      <td>CAMPO ALAGADO E ÁREA PANTANOSA</td>\n",
       "      <td>D2</td>\n",
       "      <td>-3.766364</td>\n",
       "      <td>-44.613968</td>\n",
       "      <td>0.000011</td>\n",
       "      <td>55301.697925</td>\n",
       "      <td>...</td>\n",
       "      <td>21.0</td>\n",
       "      <td>16983</td>\n",
       "      <td>1.000000</td>\n",
       "      <td>3</td>\n",
       "      <td>12</td>\n",
       "      <td>2022</td>\n",
       "      <td>SA-23-Z_D2</td>\n",
       "      <td>27861902.0</td>\n",
       "      <td>305</td>\n",
       "      <td>POINT (-44.61397 -3.76636)</td>\n",
       "    </tr>\n",
       "    <tr>\n",
       "      <th>27</th>\n",
       "      <td>NaN</td>\n",
       "      <td>0</td>\n",
       "      <td>Amazônia</td>\n",
       "      <td>SA-23-Z</td>\n",
       "      <td>CAMPO ALAGADO E ÁREA PANTANOSA</td>\n",
       "      <td>D2</td>\n",
       "      <td>-3.800051</td>\n",
       "      <td>-44.672179</td>\n",
       "      <td>0.000011</td>\n",
       "      <td>55301.697925</td>\n",
       "      <td>...</td>\n",
       "      <td>21.0</td>\n",
       "      <td>17354</td>\n",
       "      <td>1.000000</td>\n",
       "      <td>15</td>\n",
       "      <td>11</td>\n",
       "      <td>2022</td>\n",
       "      <td>SA-23-Z_D2</td>\n",
       "      <td>27861902.0</td>\n",
       "      <td>305</td>\n",
       "      <td>POINT (-44.67218 -3.80005)</td>\n",
       "    </tr>\n",
       "    <tr>\n",
       "      <th>36</th>\n",
       "      <td>Treinamento</td>\n",
       "      <td>1</td>\n",
       "      <td>Amazônia</td>\n",
       "      <td>SA-23-Z</td>\n",
       "      <td>FLORESTA INUNDÁVEL</td>\n",
       "      <td>D2</td>\n",
       "      <td>-3.042502</td>\n",
       "      <td>-44.055576</td>\n",
       "      <td>0.000011</td>\n",
       "      <td>55301.697925</td>\n",
       "      <td>...</td>\n",
       "      <td>21.0</td>\n",
       "      <td>17221</td>\n",
       "      <td>1.000000</td>\n",
       "      <td>15</td>\n",
       "      <td>3</td>\n",
       "      <td>2022</td>\n",
       "      <td>SA-23-Z_D2</td>\n",
       "      <td>27861902.0</td>\n",
       "      <td>305</td>\n",
       "      <td>POINT (-44.05558 -3.0425)</td>\n",
       "    </tr>\n",
       "    <tr>\n",
       "      <th>37</th>\n",
       "      <td>NaN</td>\n",
       "      <td>0</td>\n",
       "      <td>Amazônia</td>\n",
       "      <td>SA-23-Z</td>\n",
       "      <td>FLORESTA INUNDÁVEL</td>\n",
       "      <td>D2</td>\n",
       "      <td>-2.993454</td>\n",
       "      <td>-44.575970</td>\n",
       "      <td>0.000011</td>\n",
       "      <td>55301.697925</td>\n",
       "      <td>...</td>\n",
       "      <td>21.0</td>\n",
       "      <td>17284</td>\n",
       "      <td>1.000000</td>\n",
       "      <td>5</td>\n",
       "      <td>3</td>\n",
       "      <td>2022</td>\n",
       "      <td>SA-23-Z_D2</td>\n",
       "      <td>27861902.0</td>\n",
       "      <td>305</td>\n",
       "      <td>POINT (-44.57597 -2.99345)</td>\n",
       "    </tr>\n",
       "    <tr>\n",
       "      <th>40</th>\n",
       "      <td>NaN</td>\n",
       "      <td>0</td>\n",
       "      <td>Amazônia</td>\n",
       "      <td>SA-23-Z</td>\n",
       "      <td>FORMAÇÃO CAMPESTRE</td>\n",
       "      <td>D2</td>\n",
       "      <td>-3.953663</td>\n",
       "      <td>-44.746560</td>\n",
       "      <td>0.000011</td>\n",
       "      <td>55301.697925</td>\n",
       "      <td>...</td>\n",
       "      <td>21.0</td>\n",
       "      <td>17066</td>\n",
       "      <td>1.000000</td>\n",
       "      <td>11</td>\n",
       "      <td>12</td>\n",
       "      <td>2022</td>\n",
       "      <td>SA-23-Z_D2</td>\n",
       "      <td>27861902.0</td>\n",
       "      <td>305</td>\n",
       "      <td>POINT (-44.74656 -3.95366)</td>\n",
       "    </tr>\n",
       "    <tr>\n",
       "      <th>...</th>\n",
       "      <td>...</td>\n",
       "      <td>...</td>\n",
       "      <td>...</td>\n",
       "      <td>...</td>\n",
       "      <td>...</td>\n",
       "      <td>...</td>\n",
       "      <td>...</td>\n",
       "      <td>...</td>\n",
       "      <td>...</td>\n",
       "      <td>...</td>\n",
       "      <td>...</td>\n",
       "      <td>...</td>\n",
       "      <td>...</td>\n",
       "      <td>...</td>\n",
       "      <td>...</td>\n",
       "      <td>...</td>\n",
       "      <td>...</td>\n",
       "      <td>...</td>\n",
       "      <td>...</td>\n",
       "      <td>...</td>\n",
       "      <td>...</td>\n",
       "    </tr>\n",
       "    <tr>\n",
       "      <th>646</th>\n",
       "      <td>NaN</td>\n",
       "      <td>0</td>\n",
       "      <td>Cerrado</td>\n",
       "      <td>SA-23-Z</td>\n",
       "      <td>PASTAGEM</td>\n",
       "      <td>D2</td>\n",
       "      <td>-3.924558</td>\n",
       "      <td>-43.994131</td>\n",
       "      <td>0.000011</td>\n",
       "      <td>55301.697925</td>\n",
       "      <td>...</td>\n",
       "      <td>21.0</td>\n",
       "      <td>15414</td>\n",
       "      <td>0.333333</td>\n",
       "      <td>4</td>\n",
       "      <td>15</td>\n",
       "      <td>2022</td>\n",
       "      <td>SA-23-Z_D2</td>\n",
       "      <td>27861902.0</td>\n",
       "      <td>305</td>\n",
       "      <td>POINT (-43.99413 -3.92456)</td>\n",
       "    </tr>\n",
       "    <tr>\n",
       "      <th>678</th>\n",
       "      <td>NaN</td>\n",
       "      <td>0</td>\n",
       "      <td>Cerrado</td>\n",
       "      <td>SA-23-Z</td>\n",
       "      <td>FORMAÇÃO CAMPESTRE</td>\n",
       "      <td>D2</td>\n",
       "      <td>-3.765825</td>\n",
       "      <td>-44.364416</td>\n",
       "      <td>0.000011</td>\n",
       "      <td>55301.697925</td>\n",
       "      <td>...</td>\n",
       "      <td>21.0</td>\n",
       "      <td>17153</td>\n",
       "      <td>1.000000</td>\n",
       "      <td>21</td>\n",
       "      <td>12</td>\n",
       "      <td>2022</td>\n",
       "      <td>SA-23-Z_D2</td>\n",
       "      <td>27861902.0</td>\n",
       "      <td>305</td>\n",
       "      <td>POINT (-44.36442 -3.76583)</td>\n",
       "    </tr>\n",
       "    <tr>\n",
       "      <th>683</th>\n",
       "      <td>NaN</td>\n",
       "      <td>0</td>\n",
       "      <td>Cerrado</td>\n",
       "      <td>SA-23-Z</td>\n",
       "      <td>PASTAGEM</td>\n",
       "      <td>D2</td>\n",
       "      <td>-3.716777</td>\n",
       "      <td>-42.250501</td>\n",
       "      <td>0.000011</td>\n",
       "      <td>55301.697925</td>\n",
       "      <td>...</td>\n",
       "      <td>22.0</td>\n",
       "      <td>17056</td>\n",
       "      <td>0.500000</td>\n",
       "      <td>4</td>\n",
       "      <td>15</td>\n",
       "      <td>2022</td>\n",
       "      <td>SA-23-Z_D2</td>\n",
       "      <td>27861902.0</td>\n",
       "      <td>305</td>\n",
       "      <td>POINT (-42.2505 -3.71678)</td>\n",
       "    </tr>\n",
       "    <tr>\n",
       "      <th>692</th>\n",
       "      <td>NaN</td>\n",
       "      <td>0</td>\n",
       "      <td>Cerrado</td>\n",
       "      <td>SA-23-Z</td>\n",
       "      <td>PASTAGEM</td>\n",
       "      <td>D2</td>\n",
       "      <td>-3.681743</td>\n",
       "      <td>-42.160490</td>\n",
       "      <td>0.000011</td>\n",
       "      <td>55301.697925</td>\n",
       "      <td>...</td>\n",
       "      <td>22.0</td>\n",
       "      <td>17032</td>\n",
       "      <td>0.500000</td>\n",
       "      <td>4</td>\n",
       "      <td>15</td>\n",
       "      <td>2022</td>\n",
       "      <td>SA-23-Z_D2</td>\n",
       "      <td>27861902.0</td>\n",
       "      <td>305</td>\n",
       "      <td>POINT (-42.16049 -3.68174)</td>\n",
       "    </tr>\n",
       "    <tr>\n",
       "      <th>708</th>\n",
       "      <td>NaN</td>\n",
       "      <td>0</td>\n",
       "      <td>Cerrado</td>\n",
       "      <td>SA-23-Z</td>\n",
       "      <td>PASTAGEM</td>\n",
       "      <td>D2</td>\n",
       "      <td>-3.474232</td>\n",
       "      <td>-43.978770</td>\n",
       "      <td>0.000011</td>\n",
       "      <td>55301.697925</td>\n",
       "      <td>...</td>\n",
       "      <td>21.0</td>\n",
       "      <td>17349</td>\n",
       "      <td>1.000000</td>\n",
       "      <td>4</td>\n",
       "      <td>15</td>\n",
       "      <td>2022</td>\n",
       "      <td>SA-23-Z_D2</td>\n",
       "      <td>27861902.0</td>\n",
       "      <td>305</td>\n",
       "      <td>POINT (-43.97877 -3.47423)</td>\n",
       "    </tr>\n",
       "  </tbody>\n",
       "</table>\n",
       "<p>86 rows × 22 columns</p>\n",
       "</div>"
      ],
      "text/plain": [
       "        AMOSTRAS  AMOSTRA_AM     BioNB  CARTA_2  \\\n",
       "23           NaN           0   Cerrado  SA-23-Z   \n",
       "27           NaN           0  Amazônia  SA-23-Z   \n",
       "36   Treinamento           1  Amazônia  SA-23-Z   \n",
       "37           NaN           0  Amazônia  SA-23-Z   \n",
       "40           NaN           0  Amazônia  SA-23-Z   \n",
       "..           ...         ...       ...      ...   \n",
       "646          NaN           0   Cerrado  SA-23-Z   \n",
       "678          NaN           0   Cerrado  SA-23-Z   \n",
       "683          NaN           0   Cerrado  SA-23-Z   \n",
       "692          NaN           0   Cerrado  SA-23-Z   \n",
       "708          NaN           0   Cerrado  SA-23-Z   \n",
       "\n",
       "                         CLASS_2022 DECLIVIDAD       LAT        LON  NEW_PROB  \\\n",
       "23   CAMPO ALAGADO E ÁREA PANTANOSA         D2 -3.766364 -44.613968  0.000011   \n",
       "27   CAMPO ALAGADO E ÁREA PANTANOSA         D2 -3.800051 -44.672179  0.000011   \n",
       "36               FLORESTA INUNDÁVEL         D2 -3.042502 -44.055576  0.000011   \n",
       "37               FLORESTA INUNDÁVEL         D2 -2.993454 -44.575970  0.000011   \n",
       "40               FORMAÇÃO CAMPESTRE         D2 -3.953663 -44.746560  0.000011   \n",
       "..                              ...        ...       ...        ...       ...   \n",
       "646                        PASTAGEM         D2 -3.924558 -43.994131  0.000011   \n",
       "678              FORMAÇÃO CAMPESTRE         D2 -3.765825 -44.364416  0.000011   \n",
       "683                        PASTAGEM         D2 -3.716777 -42.250501  0.000011   \n",
       "692                        PASTAGEM         D2 -3.681743 -42.160490  0.000011   \n",
       "708                        PASTAGEM         D2 -3.474232 -43.978770  0.000011   \n",
       "\n",
       "       NEW_WEIGHT  ...  StateNB  TARGETID  VAL_PESO  classification  \\\n",
       "23   55301.697925  ...     21.0     16983  1.000000               3   \n",
       "27   55301.697925  ...     21.0     17354  1.000000              15   \n",
       "36   55301.697925  ...     21.0     17221  1.000000              15   \n",
       "37   55301.697925  ...     21.0     17284  1.000000               5   \n",
       "40   55301.697925  ...     21.0     17066  1.000000              11   \n",
       "..            ...  ...      ...       ...       ...             ...   \n",
       "646  55301.697925  ...     21.0     15414  0.333333               4   \n",
       "678  55301.697925  ...     21.0     17153  1.000000              21   \n",
       "683  55301.697925  ...     22.0     17056  0.500000               4   \n",
       "692  55301.697925  ...     22.0     17032  0.500000               4   \n",
       "708  55301.697925  ...     21.0     17349  1.000000               4   \n",
       "\n",
       "     reference  year   strata_id         pop n_samp  \\\n",
       "23          12  2022  SA-23-Z_D2  27861902.0    305   \n",
       "27          11  2022  SA-23-Z_D2  27861902.0    305   \n",
       "36           3  2022  SA-23-Z_D2  27861902.0    305   \n",
       "37           3  2022  SA-23-Z_D2  27861902.0    305   \n",
       "40          12  2022  SA-23-Z_D2  27861902.0    305   \n",
       "..         ...   ...         ...         ...    ...   \n",
       "646         15  2022  SA-23-Z_D2  27861902.0    305   \n",
       "678         12  2022  SA-23-Z_D2  27861902.0    305   \n",
       "683         15  2022  SA-23-Z_D2  27861902.0    305   \n",
       "692         15  2022  SA-23-Z_D2  27861902.0    305   \n",
       "708         15  2022  SA-23-Z_D2  27861902.0    305   \n",
       "\n",
       "                       geometry  \n",
       "23   POINT (-44.61397 -3.76636)  \n",
       "27   POINT (-44.67218 -3.80005)  \n",
       "36    POINT (-44.05558 -3.0425)  \n",
       "37   POINT (-44.57597 -2.99345)  \n",
       "40   POINT (-44.74656 -3.95366)  \n",
       "..                          ...  \n",
       "646  POINT (-43.99413 -3.92456)  \n",
       "678  POINT (-44.36442 -3.76583)  \n",
       "683   POINT (-42.2505 -3.71678)  \n",
       "692  POINT (-42.16049 -3.68174)  \n",
       "708  POINT (-43.97877 -3.47423)  \n",
       "\n",
       "[86 rows x 22 columns]"
      ]
     },
     "execution_count": 244,
     "metadata": {},
     "output_type": "execute_result"
    }
   ],
   "source": [
    "gdf_erros.query('DECLIVIDAD == \"D2\"')"
   ]
  },
  {
   "cell_type": "code",
   "execution_count": 235,
   "metadata": {},
   "outputs": [
    {
     "name": "stderr",
     "output_type": "stream",
     "text": [
      "/tmp/ipykernel_342941/652348810.py:1: UserWarning: Column names longer than 10 characters will be truncated when saved to ESRI Shapefile.\n",
      "  gdf_erros.to_file(\"tmp/pontos_amostrais_erro.shp\")\n",
      "/home/scosta/dev/acuracia_slz/.venv/lib/python3.10/site-packages/pyogrio/raw.py:709: RuntimeWarning: Normalized/laundered field name: 'classification' to 'classifica'\n",
      "  ogr_write(\n"
     ]
    }
   ],
   "source": [
    "gdf_erros.to_file(\"tmp/pontos_amostrais_erro.shp\")"
   ]
  }
 ],
 "metadata": {
  "kernelspec": {
   "display_name": ".venv",
   "language": "python",
   "name": "python3"
  },
  "language_info": {
   "codemirror_mode": {
    "name": "ipython",
    "version": 3
   },
   "file_extension": ".py",
   "mimetype": "text/x-python",
   "name": "python",
   "nbconvert_exporter": "python",
   "pygments_lexer": "ipython3",
   "version": "3.10.12"
  }
 },
 "nbformat": 4,
 "nbformat_minor": 2
}
